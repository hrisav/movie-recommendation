{
  "nbformat": 4,
  "nbformat_minor": 0,
  "metadata": {
    "colab": {
      "name": "Movie Recommendation.ipynb",
      "provenance": [],
      "collapsed_sections": [],
      "toc_visible": true
    },
    "kernelspec": {
      "name": "python3",
      "display_name": "Python 3"
    },
    "language_info": {
      "name": "python"
    }
  },
  "cells": [
    {
      "cell_type": "markdown",
      "metadata": {
        "id": "2IdfKzvMjV2i"
      },
      "source": [
        "Dataset contains 100836 ratings and 3683 tag applications across 9742 movies. These data were created by 610 users between March 29, 1996 and September 24, 2018.\n",
        "\n",
        "Download link:  https://grouplens.org/datasets/movielens/latest/"
      ]
    },
    {
      "cell_type": "code",
      "metadata": {
        "id": "p20OwmuJlkBK",
        "colab": {
          "base_uri": "https://localhost:8080/"
        },
        "outputId": "1401c2e4-1c13-4ca8-a93c-a49843d35d11"
      },
      "source": [
        "!pip install surprise"
      ],
      "execution_count": 1,
      "outputs": [
        {
          "output_type": "stream",
          "text": [
            "Requirement already satisfied: surprise in /usr/local/lib/python3.7/dist-packages (0.1)\n",
            "Requirement already satisfied: scikit-surprise in /usr/local/lib/python3.7/dist-packages (from surprise) (1.1.1)\n",
            "Requirement already satisfied: six>=1.10.0 in /usr/local/lib/python3.7/dist-packages (from scikit-surprise->surprise) (1.15.0)\n",
            "Requirement already satisfied: scipy>=1.0.0 in /usr/local/lib/python3.7/dist-packages (from scikit-surprise->surprise) (1.4.1)\n",
            "Requirement already satisfied: numpy>=1.11.2 in /usr/local/lib/python3.7/dist-packages (from scikit-surprise->surprise) (1.19.5)\n",
            "Requirement already satisfied: joblib>=0.11 in /usr/local/lib/python3.7/dist-packages (from scikit-surprise->surprise) (1.0.1)\n"
          ],
          "name": "stdout"
        }
      ]
    },
    {
      "cell_type": "code",
      "metadata": {
        "id": "0Fh-oS0iWR9P"
      },
      "source": [
        "import pandas as pd\n",
        "import numpy as np\n",
        "import seaborn as sns\n",
        "import matplotlib.pyplot as plt\n",
        "%matplotlib inline\n",
        "import re\n",
        "from collections import Counter\n",
        "\n",
        "import warnings\n",
        "warnings.filterwarnings('ignore')"
      ],
      "execution_count": 2,
      "outputs": []
    },
    {
      "cell_type": "code",
      "metadata": {
        "id": "vGApa971_1zJ"
      },
      "source": [
        "from sklearn.feature_extraction.text import TfidfVectorizer\n",
        "from sklearn.metrics.pairwise import cosine_similarity\n",
        "from scipy.sparse import csr_matrix\n",
        "from sklearn.neighbors import NearestNeighbors\n",
        "from sklearn.cluster import KMeans\n",
        "from sklearn.decomposition import TruncatedSVD\n",
        "from surprise import Reader, Dataset, SVD, KNNBasic, NMF, accuracy\n",
        "from surprise.model_selection import cross_validate, train_test_split"
      ],
      "execution_count": 3,
      "outputs": []
    },
    {
      "cell_type": "markdown",
      "metadata": {
        "id": "qqggYeVSTOAY"
      },
      "source": [
        "## Getting Movies"
      ]
    },
    {
      "cell_type": "code",
      "metadata": {
        "colab": {
          "base_uri": "https://localhost:8080/",
          "height": 194
        },
        "id": "Mgm2XG-hb18B",
        "outputId": "08544baa-5e0a-4198-aca3-c782b6d3224a"
      },
      "source": [
        "df_movies = pd.read_csv('movies.csv')\n",
        "df_movies.head()"
      ],
      "execution_count": 4,
      "outputs": [
        {
          "output_type": "execute_result",
          "data": {
            "text/html": [
              "<div>\n",
              "<style scoped>\n",
              "    .dataframe tbody tr th:only-of-type {\n",
              "        vertical-align: middle;\n",
              "    }\n",
              "\n",
              "    .dataframe tbody tr th {\n",
              "        vertical-align: top;\n",
              "    }\n",
              "\n",
              "    .dataframe thead th {\n",
              "        text-align: right;\n",
              "    }\n",
              "</style>\n",
              "<table border=\"1\" class=\"dataframe\">\n",
              "  <thead>\n",
              "    <tr style=\"text-align: right;\">\n",
              "      <th></th>\n",
              "      <th>movieId</th>\n",
              "      <th>title</th>\n",
              "      <th>genres</th>\n",
              "    </tr>\n",
              "  </thead>\n",
              "  <tbody>\n",
              "    <tr>\n",
              "      <th>0</th>\n",
              "      <td>1</td>\n",
              "      <td>Toy Story (1995)</td>\n",
              "      <td>Adventure|Animation|Children|Comedy|Fantasy</td>\n",
              "    </tr>\n",
              "    <tr>\n",
              "      <th>1</th>\n",
              "      <td>2</td>\n",
              "      <td>Jumanji (1995)</td>\n",
              "      <td>Adventure|Children|Fantasy</td>\n",
              "    </tr>\n",
              "    <tr>\n",
              "      <th>2</th>\n",
              "      <td>3</td>\n",
              "      <td>Grumpier Old Men (1995)</td>\n",
              "      <td>Comedy|Romance</td>\n",
              "    </tr>\n",
              "    <tr>\n",
              "      <th>3</th>\n",
              "      <td>4</td>\n",
              "      <td>Waiting to Exhale (1995)</td>\n",
              "      <td>Comedy|Drama|Romance</td>\n",
              "    </tr>\n",
              "    <tr>\n",
              "      <th>4</th>\n",
              "      <td>5</td>\n",
              "      <td>Father of the Bride Part II (1995)</td>\n",
              "      <td>Comedy</td>\n",
              "    </tr>\n",
              "  </tbody>\n",
              "</table>\n",
              "</div>"
            ],
            "text/plain": [
              "   movieId  ...                                       genres\n",
              "0        1  ...  Adventure|Animation|Children|Comedy|Fantasy\n",
              "1        2  ...                   Adventure|Children|Fantasy\n",
              "2        3  ...                               Comedy|Romance\n",
              "3        4  ...                         Comedy|Drama|Romance\n",
              "4        5  ...                                       Comedy\n",
              "\n",
              "[5 rows x 3 columns]"
            ]
          },
          "metadata": {
            "tags": []
          },
          "execution_count": 4
        }
      ]
    },
    {
      "cell_type": "code",
      "metadata": {
        "colab": {
          "base_uri": "https://localhost:8080/"
        },
        "id": "u5vVFSPLcoo9",
        "outputId": "67964cb3-9223-4950-82d7-3dc575082cae"
      },
      "source": [
        "df_movies.shape"
      ],
      "execution_count": 5,
      "outputs": [
        {
          "output_type": "execute_result",
          "data": {
            "text/plain": [
              "(9742, 3)"
            ]
          },
          "metadata": {
            "tags": []
          },
          "execution_count": 5
        }
      ]
    },
    {
      "cell_type": "markdown",
      "metadata": {
        "id": "eI_o-_JnWDNU"
      },
      "source": [
        "### Removing duplicates"
      ]
    },
    {
      "cell_type": "code",
      "metadata": {
        "colab": {
          "base_uri": "https://localhost:8080/"
        },
        "id": "oQpTxzxQ2vG6",
        "outputId": "ec3f40bf-278a-4502-bb91-edfb0a15ad2c"
      },
      "source": [
        "df_movies['movieId'].nunique()"
      ],
      "execution_count": 6,
      "outputs": [
        {
          "output_type": "execute_result",
          "data": {
            "text/plain": [
              "9742"
            ]
          },
          "metadata": {
            "tags": []
          },
          "execution_count": 6
        }
      ]
    },
    {
      "cell_type": "code",
      "metadata": {
        "colab": {
          "base_uri": "https://localhost:8080/"
        },
        "id": "zHMaEIc7PMD4",
        "outputId": "a9338e9e-cc9f-4e0a-8a62-ff998d1a1911"
      },
      "source": [
        "df_movies['title'].nunique()"
      ],
      "execution_count": 7,
      "outputs": [
        {
          "output_type": "execute_result",
          "data": {
            "text/plain": [
              "9737"
            ]
          },
          "metadata": {
            "tags": []
          },
          "execution_count": 7
        }
      ]
    },
    {
      "cell_type": "code",
      "metadata": {
        "colab": {
          "base_uri": "https://localhost:8080/"
        },
        "id": "QeME8JAkP07w",
        "outputId": "1bedb835-cb6c-4e79-9640-07376d4b2c5d"
      },
      "source": [
        "df_movies['title'].duplicated().any()"
      ],
      "execution_count": 8,
      "outputs": [
        {
          "output_type": "execute_result",
          "data": {
            "text/plain": [
              "True"
            ]
          },
          "metadata": {
            "tags": []
          },
          "execution_count": 8
        }
      ]
    },
    {
      "cell_type": "code",
      "metadata": {
        "colab": {
          "base_uri": "https://localhost:8080/"
        },
        "id": "3OUssIe2tyi6",
        "outputId": "5f5dceba-5b29-4146-8494-5a0d90424317"
      },
      "source": [
        "duplicates = df_movies.duplicated(subset=['title'], keep=False)\n",
        "\n",
        "if duplicates.any():\n",
        "  print(df_movies[['title', 'genres']].loc[duplicates])"
      ],
      "execution_count": 9,
      "outputs": [
        {
          "output_type": "stream",
          "text": [
            "                                       title                               genres\n",
            "650                              Emma (1996)                 Comedy|Drama|Romance\n",
            "2141                         Saturn 3 (1980)            Adventure|Sci-Fi|Thriller\n",
            "4169  Confessions of a Dangerous Mind (2002)          Comedy|Crime|Drama|Thriller\n",
            "5601                             Emma (1996)                              Romance\n",
            "5854                             Eros (2004)                                Drama\n",
            "5931                War of the Worlds (2005)     Action|Adventure|Sci-Fi|Thriller\n",
            "6932                War of the Worlds (2005)                        Action|Sci-Fi\n",
            "9106  Confessions of a Dangerous Mind (2002)  Comedy|Crime|Drama|Romance|Thriller\n",
            "9135                             Eros (2004)                        Drama|Romance\n",
            "9468                         Saturn 3 (1980)                      Sci-Fi|Thriller\n"
          ],
          "name": "stdout"
        }
      ]
    },
    {
      "cell_type": "code",
      "metadata": {
        "colab": {
          "base_uri": "https://localhost:8080/"
        },
        "id": "CtorwuTqu2nw",
        "outputId": "cc11cc60-46b4-4e5a-cb01-f4370fd493de"
      },
      "source": [
        "# manually remove index 5601, 9468, 4169, 5854, 6932\n",
        "\n",
        "df_movies = df_movies.drop([5601, 9468, 4169, 5854, 6932])\n",
        "df_movies.shape"
      ],
      "execution_count": 10,
      "outputs": [
        {
          "output_type": "execute_result",
          "data": {
            "text/plain": [
              "(9737, 3)"
            ]
          },
          "metadata": {
            "tags": []
          },
          "execution_count": 10
        }
      ]
    },
    {
      "cell_type": "code",
      "metadata": {
        "colab": {
          "base_uri": "https://localhost:8080/",
          "height": 194
        },
        "id": "o_ml4F5ZzSaK",
        "outputId": "9896fcc4-da80-4da2-d55c-35d13fbbf597"
      },
      "source": [
        "df_movies = df_movies.reset_index(drop=True)\n",
        "df_movies.tail()"
      ],
      "execution_count": 11,
      "outputs": [
        {
          "output_type": "execute_result",
          "data": {
            "text/html": [
              "<div>\n",
              "<style scoped>\n",
              "    .dataframe tbody tr th:only-of-type {\n",
              "        vertical-align: middle;\n",
              "    }\n",
              "\n",
              "    .dataframe tbody tr th {\n",
              "        vertical-align: top;\n",
              "    }\n",
              "\n",
              "    .dataframe thead th {\n",
              "        text-align: right;\n",
              "    }\n",
              "</style>\n",
              "<table border=\"1\" class=\"dataframe\">\n",
              "  <thead>\n",
              "    <tr style=\"text-align: right;\">\n",
              "      <th></th>\n",
              "      <th>movieId</th>\n",
              "      <th>title</th>\n",
              "      <th>genres</th>\n",
              "    </tr>\n",
              "  </thead>\n",
              "  <tbody>\n",
              "    <tr>\n",
              "      <th>9732</th>\n",
              "      <td>193581</td>\n",
              "      <td>Black Butler: Book of the Atlantic (2017)</td>\n",
              "      <td>Action|Animation|Comedy|Fantasy</td>\n",
              "    </tr>\n",
              "    <tr>\n",
              "      <th>9733</th>\n",
              "      <td>193583</td>\n",
              "      <td>No Game No Life: Zero (2017)</td>\n",
              "      <td>Animation|Comedy|Fantasy</td>\n",
              "    </tr>\n",
              "    <tr>\n",
              "      <th>9734</th>\n",
              "      <td>193585</td>\n",
              "      <td>Flint (2017)</td>\n",
              "      <td>Drama</td>\n",
              "    </tr>\n",
              "    <tr>\n",
              "      <th>9735</th>\n",
              "      <td>193587</td>\n",
              "      <td>Bungo Stray Dogs: Dead Apple (2018)</td>\n",
              "      <td>Action|Animation</td>\n",
              "    </tr>\n",
              "    <tr>\n",
              "      <th>9736</th>\n",
              "      <td>193609</td>\n",
              "      <td>Andrew Dice Clay: Dice Rules (1991)</td>\n",
              "      <td>Comedy</td>\n",
              "    </tr>\n",
              "  </tbody>\n",
              "</table>\n",
              "</div>"
            ],
            "text/plain": [
              "      movieId  ...                           genres\n",
              "9732   193581  ...  Action|Animation|Comedy|Fantasy\n",
              "9733   193583  ...         Animation|Comedy|Fantasy\n",
              "9734   193585  ...                            Drama\n",
              "9735   193587  ...                 Action|Animation\n",
              "9736   193609  ...                           Comedy\n",
              "\n",
              "[5 rows x 3 columns]"
            ]
          },
          "metadata": {
            "tags": []
          },
          "execution_count": 11
        }
      ]
    },
    {
      "cell_type": "code",
      "metadata": {
        "colab": {
          "base_uri": "https://localhost:8080/",
          "height": 194
        },
        "id": "-6wEaD2J3L6j",
        "outputId": "77b6055d-de4f-42a7-841f-c73a19335f15"
      },
      "source": [
        "df_movies.columns = df_movies.columns.str.lower()\n",
        "df_movies.head()"
      ],
      "execution_count": 12,
      "outputs": [
        {
          "output_type": "execute_result",
          "data": {
            "text/html": [
              "<div>\n",
              "<style scoped>\n",
              "    .dataframe tbody tr th:only-of-type {\n",
              "        vertical-align: middle;\n",
              "    }\n",
              "\n",
              "    .dataframe tbody tr th {\n",
              "        vertical-align: top;\n",
              "    }\n",
              "\n",
              "    .dataframe thead th {\n",
              "        text-align: right;\n",
              "    }\n",
              "</style>\n",
              "<table border=\"1\" class=\"dataframe\">\n",
              "  <thead>\n",
              "    <tr style=\"text-align: right;\">\n",
              "      <th></th>\n",
              "      <th>movieid</th>\n",
              "      <th>title</th>\n",
              "      <th>genres</th>\n",
              "    </tr>\n",
              "  </thead>\n",
              "  <tbody>\n",
              "    <tr>\n",
              "      <th>0</th>\n",
              "      <td>1</td>\n",
              "      <td>Toy Story (1995)</td>\n",
              "      <td>Adventure|Animation|Children|Comedy|Fantasy</td>\n",
              "    </tr>\n",
              "    <tr>\n",
              "      <th>1</th>\n",
              "      <td>2</td>\n",
              "      <td>Jumanji (1995)</td>\n",
              "      <td>Adventure|Children|Fantasy</td>\n",
              "    </tr>\n",
              "    <tr>\n",
              "      <th>2</th>\n",
              "      <td>3</td>\n",
              "      <td>Grumpier Old Men (1995)</td>\n",
              "      <td>Comedy|Romance</td>\n",
              "    </tr>\n",
              "    <tr>\n",
              "      <th>3</th>\n",
              "      <td>4</td>\n",
              "      <td>Waiting to Exhale (1995)</td>\n",
              "      <td>Comedy|Drama|Romance</td>\n",
              "    </tr>\n",
              "    <tr>\n",
              "      <th>4</th>\n",
              "      <td>5</td>\n",
              "      <td>Father of the Bride Part II (1995)</td>\n",
              "      <td>Comedy</td>\n",
              "    </tr>\n",
              "  </tbody>\n",
              "</table>\n",
              "</div>"
            ],
            "text/plain": [
              "   movieid  ...                                       genres\n",
              "0        1  ...  Adventure|Animation|Children|Comedy|Fantasy\n",
              "1        2  ...                   Adventure|Children|Fantasy\n",
              "2        3  ...                               Comedy|Romance\n",
              "3        4  ...                         Comedy|Drama|Romance\n",
              "4        5  ...                                       Comedy\n",
              "\n",
              "[5 rows x 3 columns]"
            ]
          },
          "metadata": {
            "tags": []
          },
          "execution_count": 12
        }
      ]
    },
    {
      "cell_type": "code",
      "metadata": {
        "id": "Z757MjAR0l5N"
      },
      "source": [
        "df_movies_new = df_movies.copy()"
      ],
      "execution_count": 13,
      "outputs": []
    },
    {
      "cell_type": "code",
      "metadata": {
        "id": "z-qP4v7n3azi"
      },
      "source": [
        "df_movies['genres'] = df_movies['genres'].str.replace('|',' ')"
      ],
      "execution_count": 14,
      "outputs": []
    },
    {
      "cell_type": "markdown",
      "metadata": {
        "id": "ZI_h-_utpA2s"
      },
      "source": [
        "### Extracting genres"
      ]
    },
    {
      "cell_type": "code",
      "metadata": {
        "id": "T1GwTUrtpElf"
      },
      "source": [
        "df_movies_new['genreslist'] = df_movies_new['genres'].apply(lambda x:x.split('|'))"
      ],
      "execution_count": 15,
      "outputs": []
    },
    {
      "cell_type": "code",
      "metadata": {
        "id": "Lk6Q4bLgliUF"
      },
      "source": [
        "df_movies_new['genres'] = df_movies_new['genres'].str.replace('|',' ')"
      ],
      "execution_count": 16,
      "outputs": []
    },
    {
      "cell_type": "code",
      "metadata": {
        "colab": {
          "base_uri": "https://localhost:8080/",
          "height": 194
        },
        "id": "YNx6_OrTxNKp",
        "outputId": "bd3bc406-8365-4f4e-89fd-833a6c38f126"
      },
      "source": [
        "df_movies_new.head()"
      ],
      "execution_count": 17,
      "outputs": [
        {
          "output_type": "execute_result",
          "data": {
            "text/html": [
              "<div>\n",
              "<style scoped>\n",
              "    .dataframe tbody tr th:only-of-type {\n",
              "        vertical-align: middle;\n",
              "    }\n",
              "\n",
              "    .dataframe tbody tr th {\n",
              "        vertical-align: top;\n",
              "    }\n",
              "\n",
              "    .dataframe thead th {\n",
              "        text-align: right;\n",
              "    }\n",
              "</style>\n",
              "<table border=\"1\" class=\"dataframe\">\n",
              "  <thead>\n",
              "    <tr style=\"text-align: right;\">\n",
              "      <th></th>\n",
              "      <th>movieid</th>\n",
              "      <th>title</th>\n",
              "      <th>genres</th>\n",
              "      <th>genreslist</th>\n",
              "    </tr>\n",
              "  </thead>\n",
              "  <tbody>\n",
              "    <tr>\n",
              "      <th>0</th>\n",
              "      <td>1</td>\n",
              "      <td>Toy Story (1995)</td>\n",
              "      <td>Adventure Animation Children Comedy Fantasy</td>\n",
              "      <td>[Adventure, Animation, Children, Comedy, Fantasy]</td>\n",
              "    </tr>\n",
              "    <tr>\n",
              "      <th>1</th>\n",
              "      <td>2</td>\n",
              "      <td>Jumanji (1995)</td>\n",
              "      <td>Adventure Children Fantasy</td>\n",
              "      <td>[Adventure, Children, Fantasy]</td>\n",
              "    </tr>\n",
              "    <tr>\n",
              "      <th>2</th>\n",
              "      <td>3</td>\n",
              "      <td>Grumpier Old Men (1995)</td>\n",
              "      <td>Comedy Romance</td>\n",
              "      <td>[Comedy, Romance]</td>\n",
              "    </tr>\n",
              "    <tr>\n",
              "      <th>3</th>\n",
              "      <td>4</td>\n",
              "      <td>Waiting to Exhale (1995)</td>\n",
              "      <td>Comedy Drama Romance</td>\n",
              "      <td>[Comedy, Drama, Romance]</td>\n",
              "    </tr>\n",
              "    <tr>\n",
              "      <th>4</th>\n",
              "      <td>5</td>\n",
              "      <td>Father of the Bride Part II (1995)</td>\n",
              "      <td>Comedy</td>\n",
              "      <td>[Comedy]</td>\n",
              "    </tr>\n",
              "  </tbody>\n",
              "</table>\n",
              "</div>"
            ],
            "text/plain": [
              "   movieid  ...                                         genreslist\n",
              "0        1  ...  [Adventure, Animation, Children, Comedy, Fantasy]\n",
              "1        2  ...                     [Adventure, Children, Fantasy]\n",
              "2        3  ...                                  [Comedy, Romance]\n",
              "3        4  ...                           [Comedy, Drama, Romance]\n",
              "4        5  ...                                           [Comedy]\n",
              "\n",
              "[5 rows x 4 columns]"
            ]
          },
          "metadata": {
            "tags": []
          },
          "execution_count": 17
        }
      ]
    },
    {
      "cell_type": "code",
      "metadata": {
        "colab": {
          "base_uri": "https://localhost:8080/"
        },
        "id": "SVPRiQQrpEsz",
        "outputId": "532ab07a-ebdf-4733-8c95-ed8fa2f32342"
      },
      "source": [
        "genres = df_movies_new['genreslist'].apply(Counter)\n",
        "genres.head()"
      ],
      "execution_count": 18,
      "outputs": [
        {
          "output_type": "execute_result",
          "data": {
            "text/plain": [
              "0    {'Adventure': 1, 'Animation': 1, 'Children': 1...\n",
              "1        {'Adventure': 1, 'Children': 1, 'Fantasy': 1}\n",
              "2                          {'Comedy': 1, 'Romance': 1}\n",
              "3              {'Comedy': 1, 'Drama': 1, 'Romance': 1}\n",
              "4                                        {'Comedy': 1}\n",
              "Name: genreslist, dtype: object"
            ]
          },
          "metadata": {
            "tags": []
          },
          "execution_count": 18
        }
      ]
    },
    {
      "cell_type": "code",
      "metadata": {
        "colab": {
          "base_uri": "https://localhost:8080/",
          "height": 248
        },
        "id": "xD93LD-uqbWi",
        "outputId": "295b3660-fe5b-425c-840f-0b6753d888f6"
      },
      "source": [
        "genres = pd.DataFrame.from_records(genres).fillna(value=0)\n",
        "genres.head()"
      ],
      "execution_count": 19,
      "outputs": [
        {
          "output_type": "execute_result",
          "data": {
            "text/html": [
              "<div>\n",
              "<style scoped>\n",
              "    .dataframe tbody tr th:only-of-type {\n",
              "        vertical-align: middle;\n",
              "    }\n",
              "\n",
              "    .dataframe tbody tr th {\n",
              "        vertical-align: top;\n",
              "    }\n",
              "\n",
              "    .dataframe thead th {\n",
              "        text-align: right;\n",
              "    }\n",
              "</style>\n",
              "<table border=\"1\" class=\"dataframe\">\n",
              "  <thead>\n",
              "    <tr style=\"text-align: right;\">\n",
              "      <th></th>\n",
              "      <th>Adventure</th>\n",
              "      <th>Animation</th>\n",
              "      <th>Children</th>\n",
              "      <th>Comedy</th>\n",
              "      <th>Fantasy</th>\n",
              "      <th>Romance</th>\n",
              "      <th>Drama</th>\n",
              "      <th>Action</th>\n",
              "      <th>Crime</th>\n",
              "      <th>Thriller</th>\n",
              "      <th>Horror</th>\n",
              "      <th>Mystery</th>\n",
              "      <th>Sci-Fi</th>\n",
              "      <th>War</th>\n",
              "      <th>Musical</th>\n",
              "      <th>Documentary</th>\n",
              "      <th>IMAX</th>\n",
              "      <th>Western</th>\n",
              "      <th>Film-Noir</th>\n",
              "      <th>(no genres listed)</th>\n",
              "    </tr>\n",
              "  </thead>\n",
              "  <tbody>\n",
              "    <tr>\n",
              "      <th>0</th>\n",
              "      <td>1.0</td>\n",
              "      <td>1.0</td>\n",
              "      <td>1.0</td>\n",
              "      <td>1.0</td>\n",
              "      <td>1.0</td>\n",
              "      <td>0.0</td>\n",
              "      <td>0.0</td>\n",
              "      <td>0.0</td>\n",
              "      <td>0.0</td>\n",
              "      <td>0.0</td>\n",
              "      <td>0.0</td>\n",
              "      <td>0.0</td>\n",
              "      <td>0.0</td>\n",
              "      <td>0.0</td>\n",
              "      <td>0.0</td>\n",
              "      <td>0.0</td>\n",
              "      <td>0.0</td>\n",
              "      <td>0.0</td>\n",
              "      <td>0.0</td>\n",
              "      <td>0.0</td>\n",
              "    </tr>\n",
              "    <tr>\n",
              "      <th>1</th>\n",
              "      <td>1.0</td>\n",
              "      <td>0.0</td>\n",
              "      <td>1.0</td>\n",
              "      <td>0.0</td>\n",
              "      <td>1.0</td>\n",
              "      <td>0.0</td>\n",
              "      <td>0.0</td>\n",
              "      <td>0.0</td>\n",
              "      <td>0.0</td>\n",
              "      <td>0.0</td>\n",
              "      <td>0.0</td>\n",
              "      <td>0.0</td>\n",
              "      <td>0.0</td>\n",
              "      <td>0.0</td>\n",
              "      <td>0.0</td>\n",
              "      <td>0.0</td>\n",
              "      <td>0.0</td>\n",
              "      <td>0.0</td>\n",
              "      <td>0.0</td>\n",
              "      <td>0.0</td>\n",
              "    </tr>\n",
              "    <tr>\n",
              "      <th>2</th>\n",
              "      <td>0.0</td>\n",
              "      <td>0.0</td>\n",
              "      <td>0.0</td>\n",
              "      <td>1.0</td>\n",
              "      <td>0.0</td>\n",
              "      <td>1.0</td>\n",
              "      <td>0.0</td>\n",
              "      <td>0.0</td>\n",
              "      <td>0.0</td>\n",
              "      <td>0.0</td>\n",
              "      <td>0.0</td>\n",
              "      <td>0.0</td>\n",
              "      <td>0.0</td>\n",
              "      <td>0.0</td>\n",
              "      <td>0.0</td>\n",
              "      <td>0.0</td>\n",
              "      <td>0.0</td>\n",
              "      <td>0.0</td>\n",
              "      <td>0.0</td>\n",
              "      <td>0.0</td>\n",
              "    </tr>\n",
              "    <tr>\n",
              "      <th>3</th>\n",
              "      <td>0.0</td>\n",
              "      <td>0.0</td>\n",
              "      <td>0.0</td>\n",
              "      <td>1.0</td>\n",
              "      <td>0.0</td>\n",
              "      <td>1.0</td>\n",
              "      <td>1.0</td>\n",
              "      <td>0.0</td>\n",
              "      <td>0.0</td>\n",
              "      <td>0.0</td>\n",
              "      <td>0.0</td>\n",
              "      <td>0.0</td>\n",
              "      <td>0.0</td>\n",
              "      <td>0.0</td>\n",
              "      <td>0.0</td>\n",
              "      <td>0.0</td>\n",
              "      <td>0.0</td>\n",
              "      <td>0.0</td>\n",
              "      <td>0.0</td>\n",
              "      <td>0.0</td>\n",
              "    </tr>\n",
              "    <tr>\n",
              "      <th>4</th>\n",
              "      <td>0.0</td>\n",
              "      <td>0.0</td>\n",
              "      <td>0.0</td>\n",
              "      <td>1.0</td>\n",
              "      <td>0.0</td>\n",
              "      <td>0.0</td>\n",
              "      <td>0.0</td>\n",
              "      <td>0.0</td>\n",
              "      <td>0.0</td>\n",
              "      <td>0.0</td>\n",
              "      <td>0.0</td>\n",
              "      <td>0.0</td>\n",
              "      <td>0.0</td>\n",
              "      <td>0.0</td>\n",
              "      <td>0.0</td>\n",
              "      <td>0.0</td>\n",
              "      <td>0.0</td>\n",
              "      <td>0.0</td>\n",
              "      <td>0.0</td>\n",
              "      <td>0.0</td>\n",
              "    </tr>\n",
              "  </tbody>\n",
              "</table>\n",
              "</div>"
            ],
            "text/plain": [
              "   Adventure  Animation  Children  ...  Western  Film-Noir  (no genres listed)\n",
              "0        1.0        1.0       1.0  ...      0.0        0.0                 0.0\n",
              "1        1.0        0.0       1.0  ...      0.0        0.0                 0.0\n",
              "2        0.0        0.0       0.0  ...      0.0        0.0                 0.0\n",
              "3        0.0        0.0       0.0  ...      0.0        0.0                 0.0\n",
              "4        0.0        0.0       0.0  ...      0.0        0.0                 0.0\n",
              "\n",
              "[5 rows x 20 columns]"
            ]
          },
          "metadata": {
            "tags": []
          },
          "execution_count": 19
        }
      ]
    },
    {
      "cell_type": "code",
      "metadata": {
        "colab": {
          "base_uri": "https://localhost:8080/"
        },
        "id": "cXJpNQUXrg5D",
        "outputId": "66f502b7-181b-420a-8ed5-0eec745f14cb"
      },
      "source": [
        "df_movies_new = df_movies_new.join(genres)\n",
        "df_movies_new.shape"
      ],
      "execution_count": 20,
      "outputs": [
        {
          "output_type": "execute_result",
          "data": {
            "text/plain": [
              "(9737, 24)"
            ]
          },
          "metadata": {
            "tags": []
          },
          "execution_count": 20
        }
      ]
    },
    {
      "cell_type": "code",
      "metadata": {
        "id": "rDlqO-tf0_oN"
      },
      "source": [
        "df_movies_new = df_movies_new.drop(['genreslist'], axis=1)"
      ],
      "execution_count": 21,
      "outputs": []
    },
    {
      "cell_type": "code",
      "metadata": {
        "colab": {
          "base_uri": "https://localhost:8080/",
          "height": 324
        },
        "id": "yCsQ_Hbr0CuZ",
        "outputId": "f66a6e7d-ebaa-46d1-cf11-ef07ce3c1f10"
      },
      "source": [
        "df_movies_new.head(3)"
      ],
      "execution_count": 22,
      "outputs": [
        {
          "output_type": "execute_result",
          "data": {
            "text/html": [
              "<div>\n",
              "<style scoped>\n",
              "    .dataframe tbody tr th:only-of-type {\n",
              "        vertical-align: middle;\n",
              "    }\n",
              "\n",
              "    .dataframe tbody tr th {\n",
              "        vertical-align: top;\n",
              "    }\n",
              "\n",
              "    .dataframe thead th {\n",
              "        text-align: right;\n",
              "    }\n",
              "</style>\n",
              "<table border=\"1\" class=\"dataframe\">\n",
              "  <thead>\n",
              "    <tr style=\"text-align: right;\">\n",
              "      <th></th>\n",
              "      <th>movieid</th>\n",
              "      <th>title</th>\n",
              "      <th>genres</th>\n",
              "      <th>Adventure</th>\n",
              "      <th>Animation</th>\n",
              "      <th>Children</th>\n",
              "      <th>Comedy</th>\n",
              "      <th>Fantasy</th>\n",
              "      <th>Romance</th>\n",
              "      <th>Drama</th>\n",
              "      <th>Action</th>\n",
              "      <th>Crime</th>\n",
              "      <th>Thriller</th>\n",
              "      <th>Horror</th>\n",
              "      <th>Mystery</th>\n",
              "      <th>Sci-Fi</th>\n",
              "      <th>War</th>\n",
              "      <th>Musical</th>\n",
              "      <th>Documentary</th>\n",
              "      <th>IMAX</th>\n",
              "      <th>Western</th>\n",
              "      <th>Film-Noir</th>\n",
              "      <th>(no genres listed)</th>\n",
              "    </tr>\n",
              "  </thead>\n",
              "  <tbody>\n",
              "    <tr>\n",
              "      <th>0</th>\n",
              "      <td>1</td>\n",
              "      <td>Toy Story (1995)</td>\n",
              "      <td>Adventure Animation Children Comedy Fantasy</td>\n",
              "      <td>1.0</td>\n",
              "      <td>1.0</td>\n",
              "      <td>1.0</td>\n",
              "      <td>1.0</td>\n",
              "      <td>1.0</td>\n",
              "      <td>0.0</td>\n",
              "      <td>0.0</td>\n",
              "      <td>0.0</td>\n",
              "      <td>0.0</td>\n",
              "      <td>0.0</td>\n",
              "      <td>0.0</td>\n",
              "      <td>0.0</td>\n",
              "      <td>0.0</td>\n",
              "      <td>0.0</td>\n",
              "      <td>0.0</td>\n",
              "      <td>0.0</td>\n",
              "      <td>0.0</td>\n",
              "      <td>0.0</td>\n",
              "      <td>0.0</td>\n",
              "      <td>0.0</td>\n",
              "    </tr>\n",
              "    <tr>\n",
              "      <th>1</th>\n",
              "      <td>2</td>\n",
              "      <td>Jumanji (1995)</td>\n",
              "      <td>Adventure Children Fantasy</td>\n",
              "      <td>1.0</td>\n",
              "      <td>0.0</td>\n",
              "      <td>1.0</td>\n",
              "      <td>0.0</td>\n",
              "      <td>1.0</td>\n",
              "      <td>0.0</td>\n",
              "      <td>0.0</td>\n",
              "      <td>0.0</td>\n",
              "      <td>0.0</td>\n",
              "      <td>0.0</td>\n",
              "      <td>0.0</td>\n",
              "      <td>0.0</td>\n",
              "      <td>0.0</td>\n",
              "      <td>0.0</td>\n",
              "      <td>0.0</td>\n",
              "      <td>0.0</td>\n",
              "      <td>0.0</td>\n",
              "      <td>0.0</td>\n",
              "      <td>0.0</td>\n",
              "      <td>0.0</td>\n",
              "    </tr>\n",
              "    <tr>\n",
              "      <th>2</th>\n",
              "      <td>3</td>\n",
              "      <td>Grumpier Old Men (1995)</td>\n",
              "      <td>Comedy Romance</td>\n",
              "      <td>0.0</td>\n",
              "      <td>0.0</td>\n",
              "      <td>0.0</td>\n",
              "      <td>1.0</td>\n",
              "      <td>0.0</td>\n",
              "      <td>1.0</td>\n",
              "      <td>0.0</td>\n",
              "      <td>0.0</td>\n",
              "      <td>0.0</td>\n",
              "      <td>0.0</td>\n",
              "      <td>0.0</td>\n",
              "      <td>0.0</td>\n",
              "      <td>0.0</td>\n",
              "      <td>0.0</td>\n",
              "      <td>0.0</td>\n",
              "      <td>0.0</td>\n",
              "      <td>0.0</td>\n",
              "      <td>0.0</td>\n",
              "      <td>0.0</td>\n",
              "      <td>0.0</td>\n",
              "    </tr>\n",
              "  </tbody>\n",
              "</table>\n",
              "</div>"
            ],
            "text/plain": [
              "   movieid                    title  ... Film-Noir  (no genres listed)\n",
              "0        1         Toy Story (1995)  ...       0.0                 0.0\n",
              "1        2           Jumanji (1995)  ...       0.0                 0.0\n",
              "2        3  Grumpier Old Men (1995)  ...       0.0                 0.0\n",
              "\n",
              "[3 rows x 23 columns]"
            ]
          },
          "metadata": {
            "tags": []
          },
          "execution_count": 22
        }
      ]
    },
    {
      "cell_type": "code",
      "metadata": {
        "colab": {
          "base_uri": "https://localhost:8080/"
        },
        "id": "lLwiQfLHzg0i",
        "outputId": "b0c08ee3-252c-4b45-869d-55633e1fc735"
      },
      "source": [
        "df_movies_new.columns"
      ],
      "execution_count": 23,
      "outputs": [
        {
          "output_type": "execute_result",
          "data": {
            "text/plain": [
              "Index(['movieid', 'title', 'genres', 'Adventure', 'Animation', 'Children',\n",
              "       'Comedy', 'Fantasy', 'Romance', 'Drama', 'Action', 'Crime', 'Thriller',\n",
              "       'Horror', 'Mystery', 'Sci-Fi', 'War', 'Musical', 'Documentary', 'IMAX',\n",
              "       'Western', 'Film-Noir', '(no genres listed)'],\n",
              "      dtype='object')"
            ]
          },
          "metadata": {
            "tags": []
          },
          "execution_count": 23
        }
      ]
    },
    {
      "cell_type": "code",
      "metadata": {
        "colab": {
          "base_uri": "https://localhost:8080/",
          "height": 324
        },
        "id": "vfK5mkN8ym-M",
        "outputId": "5d00386a-599b-4cc9-a53c-813eaf08b757"
      },
      "source": [
        "df_movies_new[['Adventure', 'Animation', 'Children',\n",
        "       'Comedy', 'Fantasy', 'Romance', 'Drama', 'Action', 'Crime', 'Thriller',\n",
        "       'Horror', 'Mystery', 'Sci-Fi', 'War', 'Musical', 'Documentary', 'IMAX',\n",
        "       'Western', 'Film-Noir', '(no genres listed)']] = df_movies_new[['Adventure', 'Animation', 'Children',\n",
        "       'Comedy', 'Fantasy', 'Romance', 'Drama', 'Action', 'Crime', 'Thriller',\n",
        "       'Horror', 'Mystery', 'Sci-Fi', 'War', 'Musical', 'Documentary', 'IMAX',\n",
        "       'Western', 'Film-Noir', '(no genres listed)']].apply(pd.to_numeric, downcast='integer')\n",
        "\n",
        "df_movies_new.head(3)"
      ],
      "execution_count": 24,
      "outputs": [
        {
          "output_type": "execute_result",
          "data": {
            "text/html": [
              "<div>\n",
              "<style scoped>\n",
              "    .dataframe tbody tr th:only-of-type {\n",
              "        vertical-align: middle;\n",
              "    }\n",
              "\n",
              "    .dataframe tbody tr th {\n",
              "        vertical-align: top;\n",
              "    }\n",
              "\n",
              "    .dataframe thead th {\n",
              "        text-align: right;\n",
              "    }\n",
              "</style>\n",
              "<table border=\"1\" class=\"dataframe\">\n",
              "  <thead>\n",
              "    <tr style=\"text-align: right;\">\n",
              "      <th></th>\n",
              "      <th>movieid</th>\n",
              "      <th>title</th>\n",
              "      <th>genres</th>\n",
              "      <th>Adventure</th>\n",
              "      <th>Animation</th>\n",
              "      <th>Children</th>\n",
              "      <th>Comedy</th>\n",
              "      <th>Fantasy</th>\n",
              "      <th>Romance</th>\n",
              "      <th>Drama</th>\n",
              "      <th>Action</th>\n",
              "      <th>Crime</th>\n",
              "      <th>Thriller</th>\n",
              "      <th>Horror</th>\n",
              "      <th>Mystery</th>\n",
              "      <th>Sci-Fi</th>\n",
              "      <th>War</th>\n",
              "      <th>Musical</th>\n",
              "      <th>Documentary</th>\n",
              "      <th>IMAX</th>\n",
              "      <th>Western</th>\n",
              "      <th>Film-Noir</th>\n",
              "      <th>(no genres listed)</th>\n",
              "    </tr>\n",
              "  </thead>\n",
              "  <tbody>\n",
              "    <tr>\n",
              "      <th>0</th>\n",
              "      <td>1</td>\n",
              "      <td>Toy Story (1995)</td>\n",
              "      <td>Adventure Animation Children Comedy Fantasy</td>\n",
              "      <td>1</td>\n",
              "      <td>1</td>\n",
              "      <td>1</td>\n",
              "      <td>1</td>\n",
              "      <td>1</td>\n",
              "      <td>0</td>\n",
              "      <td>0</td>\n",
              "      <td>0</td>\n",
              "      <td>0</td>\n",
              "      <td>0</td>\n",
              "      <td>0</td>\n",
              "      <td>0</td>\n",
              "      <td>0</td>\n",
              "      <td>0</td>\n",
              "      <td>0</td>\n",
              "      <td>0</td>\n",
              "      <td>0</td>\n",
              "      <td>0</td>\n",
              "      <td>0</td>\n",
              "      <td>0</td>\n",
              "    </tr>\n",
              "    <tr>\n",
              "      <th>1</th>\n",
              "      <td>2</td>\n",
              "      <td>Jumanji (1995)</td>\n",
              "      <td>Adventure Children Fantasy</td>\n",
              "      <td>1</td>\n",
              "      <td>0</td>\n",
              "      <td>1</td>\n",
              "      <td>0</td>\n",
              "      <td>1</td>\n",
              "      <td>0</td>\n",
              "      <td>0</td>\n",
              "      <td>0</td>\n",
              "      <td>0</td>\n",
              "      <td>0</td>\n",
              "      <td>0</td>\n",
              "      <td>0</td>\n",
              "      <td>0</td>\n",
              "      <td>0</td>\n",
              "      <td>0</td>\n",
              "      <td>0</td>\n",
              "      <td>0</td>\n",
              "      <td>0</td>\n",
              "      <td>0</td>\n",
              "      <td>0</td>\n",
              "    </tr>\n",
              "    <tr>\n",
              "      <th>2</th>\n",
              "      <td>3</td>\n",
              "      <td>Grumpier Old Men (1995)</td>\n",
              "      <td>Comedy Romance</td>\n",
              "      <td>0</td>\n",
              "      <td>0</td>\n",
              "      <td>0</td>\n",
              "      <td>1</td>\n",
              "      <td>0</td>\n",
              "      <td>1</td>\n",
              "      <td>0</td>\n",
              "      <td>0</td>\n",
              "      <td>0</td>\n",
              "      <td>0</td>\n",
              "      <td>0</td>\n",
              "      <td>0</td>\n",
              "      <td>0</td>\n",
              "      <td>0</td>\n",
              "      <td>0</td>\n",
              "      <td>0</td>\n",
              "      <td>0</td>\n",
              "      <td>0</td>\n",
              "      <td>0</td>\n",
              "      <td>0</td>\n",
              "    </tr>\n",
              "  </tbody>\n",
              "</table>\n",
              "</div>"
            ],
            "text/plain": [
              "   movieid                    title  ... Film-Noir  (no genres listed)\n",
              "0        1         Toy Story (1995)  ...         0                   0\n",
              "1        2           Jumanji (1995)  ...         0                   0\n",
              "2        3  Grumpier Old Men (1995)  ...         0                   0\n",
              "\n",
              "[3 rows x 23 columns]"
            ]
          },
          "metadata": {
            "tags": []
          },
          "execution_count": 24
        }
      ]
    },
    {
      "cell_type": "code",
      "metadata": {
        "id": "vhTYs22vz5ns"
      },
      "source": [
        "df_movies_new.rename(columns = {'Sci-Fi':'Sci_Fi', 'Film-Noir':'Film_Noir', '(no genres listed)':'No_Genres'}, inplace=True)\n",
        "df_movies_new.columns = df_movies_new.columns.str.lower()"
      ],
      "execution_count": 25,
      "outputs": []
    },
    {
      "cell_type": "code",
      "metadata": {
        "colab": {
          "base_uri": "https://localhost:8080/",
          "height": 290
        },
        "id": "8RQ9oR7c1mwJ",
        "outputId": "0f16337b-e6dd-4a22-c713-734a9e21edb9"
      },
      "source": [
        "df_movies_new.head(3)"
      ],
      "execution_count": 26,
      "outputs": [
        {
          "output_type": "execute_result",
          "data": {
            "text/html": [
              "<div>\n",
              "<style scoped>\n",
              "    .dataframe tbody tr th:only-of-type {\n",
              "        vertical-align: middle;\n",
              "    }\n",
              "\n",
              "    .dataframe tbody tr th {\n",
              "        vertical-align: top;\n",
              "    }\n",
              "\n",
              "    .dataframe thead th {\n",
              "        text-align: right;\n",
              "    }\n",
              "</style>\n",
              "<table border=\"1\" class=\"dataframe\">\n",
              "  <thead>\n",
              "    <tr style=\"text-align: right;\">\n",
              "      <th></th>\n",
              "      <th>movieid</th>\n",
              "      <th>title</th>\n",
              "      <th>genres</th>\n",
              "      <th>adventure</th>\n",
              "      <th>animation</th>\n",
              "      <th>children</th>\n",
              "      <th>comedy</th>\n",
              "      <th>fantasy</th>\n",
              "      <th>romance</th>\n",
              "      <th>drama</th>\n",
              "      <th>action</th>\n",
              "      <th>crime</th>\n",
              "      <th>thriller</th>\n",
              "      <th>horror</th>\n",
              "      <th>mystery</th>\n",
              "      <th>sci_fi</th>\n",
              "      <th>war</th>\n",
              "      <th>musical</th>\n",
              "      <th>documentary</th>\n",
              "      <th>imax</th>\n",
              "      <th>western</th>\n",
              "      <th>film_noir</th>\n",
              "      <th>no_genres</th>\n",
              "    </tr>\n",
              "  </thead>\n",
              "  <tbody>\n",
              "    <tr>\n",
              "      <th>0</th>\n",
              "      <td>1</td>\n",
              "      <td>Toy Story (1995)</td>\n",
              "      <td>Adventure Animation Children Comedy Fantasy</td>\n",
              "      <td>1</td>\n",
              "      <td>1</td>\n",
              "      <td>1</td>\n",
              "      <td>1</td>\n",
              "      <td>1</td>\n",
              "      <td>0</td>\n",
              "      <td>0</td>\n",
              "      <td>0</td>\n",
              "      <td>0</td>\n",
              "      <td>0</td>\n",
              "      <td>0</td>\n",
              "      <td>0</td>\n",
              "      <td>0</td>\n",
              "      <td>0</td>\n",
              "      <td>0</td>\n",
              "      <td>0</td>\n",
              "      <td>0</td>\n",
              "      <td>0</td>\n",
              "      <td>0</td>\n",
              "      <td>0</td>\n",
              "    </tr>\n",
              "    <tr>\n",
              "      <th>1</th>\n",
              "      <td>2</td>\n",
              "      <td>Jumanji (1995)</td>\n",
              "      <td>Adventure Children Fantasy</td>\n",
              "      <td>1</td>\n",
              "      <td>0</td>\n",
              "      <td>1</td>\n",
              "      <td>0</td>\n",
              "      <td>1</td>\n",
              "      <td>0</td>\n",
              "      <td>0</td>\n",
              "      <td>0</td>\n",
              "      <td>0</td>\n",
              "      <td>0</td>\n",
              "      <td>0</td>\n",
              "      <td>0</td>\n",
              "      <td>0</td>\n",
              "      <td>0</td>\n",
              "      <td>0</td>\n",
              "      <td>0</td>\n",
              "      <td>0</td>\n",
              "      <td>0</td>\n",
              "      <td>0</td>\n",
              "      <td>0</td>\n",
              "    </tr>\n",
              "    <tr>\n",
              "      <th>2</th>\n",
              "      <td>3</td>\n",
              "      <td>Grumpier Old Men (1995)</td>\n",
              "      <td>Comedy Romance</td>\n",
              "      <td>0</td>\n",
              "      <td>0</td>\n",
              "      <td>0</td>\n",
              "      <td>1</td>\n",
              "      <td>0</td>\n",
              "      <td>1</td>\n",
              "      <td>0</td>\n",
              "      <td>0</td>\n",
              "      <td>0</td>\n",
              "      <td>0</td>\n",
              "      <td>0</td>\n",
              "      <td>0</td>\n",
              "      <td>0</td>\n",
              "      <td>0</td>\n",
              "      <td>0</td>\n",
              "      <td>0</td>\n",
              "      <td>0</td>\n",
              "      <td>0</td>\n",
              "      <td>0</td>\n",
              "      <td>0</td>\n",
              "    </tr>\n",
              "  </tbody>\n",
              "</table>\n",
              "</div>"
            ],
            "text/plain": [
              "   movieid                    title  ... film_noir  no_genres\n",
              "0        1         Toy Story (1995)  ...         0          0\n",
              "1        2           Jumanji (1995)  ...         0          0\n",
              "2        3  Grumpier Old Men (1995)  ...         0          0\n",
              "\n",
              "[3 rows x 23 columns]"
            ]
          },
          "metadata": {
            "tags": []
          },
          "execution_count": 26
        }
      ]
    },
    {
      "cell_type": "markdown",
      "metadata": {
        "id": "_HnjRrlFTR2z"
      },
      "source": [
        "## Getting Ratings"
      ]
    },
    {
      "cell_type": "code",
      "metadata": {
        "colab": {
          "base_uri": "https://localhost:8080/",
          "height": 194
        },
        "id": "ZK8o9kNicFQY",
        "outputId": "82f58f59-014e-4286-b1b1-45f8615071a5"
      },
      "source": [
        "df_rating = pd.read_csv('ratings.csv')\n",
        "df_rating.head()"
      ],
      "execution_count": 27,
      "outputs": [
        {
          "output_type": "execute_result",
          "data": {
            "text/html": [
              "<div>\n",
              "<style scoped>\n",
              "    .dataframe tbody tr th:only-of-type {\n",
              "        vertical-align: middle;\n",
              "    }\n",
              "\n",
              "    .dataframe tbody tr th {\n",
              "        vertical-align: top;\n",
              "    }\n",
              "\n",
              "    .dataframe thead th {\n",
              "        text-align: right;\n",
              "    }\n",
              "</style>\n",
              "<table border=\"1\" class=\"dataframe\">\n",
              "  <thead>\n",
              "    <tr style=\"text-align: right;\">\n",
              "      <th></th>\n",
              "      <th>userId</th>\n",
              "      <th>movieId</th>\n",
              "      <th>rating</th>\n",
              "      <th>timestamp</th>\n",
              "    </tr>\n",
              "  </thead>\n",
              "  <tbody>\n",
              "    <tr>\n",
              "      <th>0</th>\n",
              "      <td>1</td>\n",
              "      <td>1</td>\n",
              "      <td>4.0</td>\n",
              "      <td>964982703</td>\n",
              "    </tr>\n",
              "    <tr>\n",
              "      <th>1</th>\n",
              "      <td>1</td>\n",
              "      <td>3</td>\n",
              "      <td>4.0</td>\n",
              "      <td>964981247</td>\n",
              "    </tr>\n",
              "    <tr>\n",
              "      <th>2</th>\n",
              "      <td>1</td>\n",
              "      <td>6</td>\n",
              "      <td>4.0</td>\n",
              "      <td>964982224</td>\n",
              "    </tr>\n",
              "    <tr>\n",
              "      <th>3</th>\n",
              "      <td>1</td>\n",
              "      <td>47</td>\n",
              "      <td>5.0</td>\n",
              "      <td>964983815</td>\n",
              "    </tr>\n",
              "    <tr>\n",
              "      <th>4</th>\n",
              "      <td>1</td>\n",
              "      <td>50</td>\n",
              "      <td>5.0</td>\n",
              "      <td>964982931</td>\n",
              "    </tr>\n",
              "  </tbody>\n",
              "</table>\n",
              "</div>"
            ],
            "text/plain": [
              "   userId  movieId  rating  timestamp\n",
              "0       1        1     4.0  964982703\n",
              "1       1        3     4.0  964981247\n",
              "2       1        6     4.0  964982224\n",
              "3       1       47     5.0  964983815\n",
              "4       1       50     5.0  964982931"
            ]
          },
          "metadata": {
            "tags": []
          },
          "execution_count": 27
        }
      ]
    },
    {
      "cell_type": "code",
      "metadata": {
        "colab": {
          "base_uri": "https://localhost:8080/"
        },
        "id": "C573rxqdcljS",
        "outputId": "1ec7876d-e64e-44ab-9576-0c7c81b3c6dd"
      },
      "source": [
        "df_rating.shape"
      ],
      "execution_count": 28,
      "outputs": [
        {
          "output_type": "execute_result",
          "data": {
            "text/plain": [
              "(100836, 4)"
            ]
          },
          "metadata": {
            "tags": []
          },
          "execution_count": 28
        }
      ]
    },
    {
      "cell_type": "code",
      "metadata": {
        "colab": {
          "base_uri": "https://localhost:8080/"
        },
        "id": "qU_3GDaT24dz",
        "outputId": "3a1850fd-f3bf-486e-f622-232a38b11ab2"
      },
      "source": [
        "df_rating['userId'].nunique()"
      ],
      "execution_count": 29,
      "outputs": [
        {
          "output_type": "execute_result",
          "data": {
            "text/plain": [
              "610"
            ]
          },
          "metadata": {
            "tags": []
          },
          "execution_count": 29
        }
      ]
    },
    {
      "cell_type": "code",
      "metadata": {
        "colab": {
          "base_uri": "https://localhost:8080/"
        },
        "id": "wSMOfGdx2-RT",
        "outputId": "86a6a34f-8cff-4fb1-f70f-3f3443d194dc"
      },
      "source": [
        "df_rating['movieId'].nunique()"
      ],
      "execution_count": 30,
      "outputs": [
        {
          "output_type": "execute_result",
          "data": {
            "text/plain": [
              "9724"
            ]
          },
          "metadata": {
            "tags": []
          },
          "execution_count": 30
        }
      ]
    },
    {
      "cell_type": "code",
      "metadata": {
        "colab": {
          "base_uri": "https://localhost:8080/"
        },
        "id": "oYKbn2iGOsRl",
        "outputId": "529dbded-1f10-47ef-e930-3cae6b01d5e3"
      },
      "source": [
        "df_rating.isnull().sum()"
      ],
      "execution_count": 31,
      "outputs": [
        {
          "output_type": "execute_result",
          "data": {
            "text/plain": [
              "userId       0\n",
              "movieId      0\n",
              "rating       0\n",
              "timestamp    0\n",
              "dtype: int64"
            ]
          },
          "metadata": {
            "tags": []
          },
          "execution_count": 31
        }
      ]
    },
    {
      "cell_type": "code",
      "metadata": {
        "colab": {
          "base_uri": "https://localhost:8080/"
        },
        "id": "p3jbgmiTOkQN",
        "outputId": "5ad90b56-ac18-4b58-e67a-bbb6b75bb553"
      },
      "source": [
        "df_rating['rating'].value_counts()"
      ],
      "execution_count": 32,
      "outputs": [
        {
          "output_type": "execute_result",
          "data": {
            "text/plain": [
              "4.0    26818\n",
              "3.0    20047\n",
              "5.0    13211\n",
              "3.5    13136\n",
              "4.5     8551\n",
              "2.0     7551\n",
              "2.5     5550\n",
              "1.0     2811\n",
              "1.5     1791\n",
              "0.5     1370\n",
              "Name: rating, dtype: int64"
            ]
          },
          "metadata": {
            "tags": []
          },
          "execution_count": 32
        }
      ]
    },
    {
      "cell_type": "code",
      "metadata": {
        "colab": {
          "base_uri": "https://localhost:8080/"
        },
        "id": "2WtxSFA8fjd5",
        "outputId": "848cbad0-3a03-40e0-ff32-b0713b13a46a"
      },
      "source": [
        "df_rating['userId'].value_counts()"
      ],
      "execution_count": 33,
      "outputs": [
        {
          "output_type": "execute_result",
          "data": {
            "text/plain": [
              "414    2698\n",
              "599    2478\n",
              "474    2108\n",
              "448    1864\n",
              "274    1346\n",
              "       ... \n",
              "406      20\n",
              "595      20\n",
              "569      20\n",
              "431      20\n",
              "442      20\n",
              "Name: userId, Length: 610, dtype: int64"
            ]
          },
          "metadata": {
            "tags": []
          },
          "execution_count": 33
        }
      ]
    },
    {
      "cell_type": "code",
      "metadata": {
        "colab": {
          "base_uri": "https://localhost:8080/",
          "height": 194
        },
        "id": "_dSPqCoT2o2o",
        "outputId": "89b25827-590a-4290-d3c6-602ad581b3e3"
      },
      "source": [
        "df_rating.columns = df_rating.columns.str.lower()\n",
        "df_rating.head()"
      ],
      "execution_count": 34,
      "outputs": [
        {
          "output_type": "execute_result",
          "data": {
            "text/html": [
              "<div>\n",
              "<style scoped>\n",
              "    .dataframe tbody tr th:only-of-type {\n",
              "        vertical-align: middle;\n",
              "    }\n",
              "\n",
              "    .dataframe tbody tr th {\n",
              "        vertical-align: top;\n",
              "    }\n",
              "\n",
              "    .dataframe thead th {\n",
              "        text-align: right;\n",
              "    }\n",
              "</style>\n",
              "<table border=\"1\" class=\"dataframe\">\n",
              "  <thead>\n",
              "    <tr style=\"text-align: right;\">\n",
              "      <th></th>\n",
              "      <th>userid</th>\n",
              "      <th>movieid</th>\n",
              "      <th>rating</th>\n",
              "      <th>timestamp</th>\n",
              "    </tr>\n",
              "  </thead>\n",
              "  <tbody>\n",
              "    <tr>\n",
              "      <th>0</th>\n",
              "      <td>1</td>\n",
              "      <td>1</td>\n",
              "      <td>4.0</td>\n",
              "      <td>964982703</td>\n",
              "    </tr>\n",
              "    <tr>\n",
              "      <th>1</th>\n",
              "      <td>1</td>\n",
              "      <td>3</td>\n",
              "      <td>4.0</td>\n",
              "      <td>964981247</td>\n",
              "    </tr>\n",
              "    <tr>\n",
              "      <th>2</th>\n",
              "      <td>1</td>\n",
              "      <td>6</td>\n",
              "      <td>4.0</td>\n",
              "      <td>964982224</td>\n",
              "    </tr>\n",
              "    <tr>\n",
              "      <th>3</th>\n",
              "      <td>1</td>\n",
              "      <td>47</td>\n",
              "      <td>5.0</td>\n",
              "      <td>964983815</td>\n",
              "    </tr>\n",
              "    <tr>\n",
              "      <th>4</th>\n",
              "      <td>1</td>\n",
              "      <td>50</td>\n",
              "      <td>5.0</td>\n",
              "      <td>964982931</td>\n",
              "    </tr>\n",
              "  </tbody>\n",
              "</table>\n",
              "</div>"
            ],
            "text/plain": [
              "   userid  movieid  rating  timestamp\n",
              "0       1        1     4.0  964982703\n",
              "1       1        3     4.0  964981247\n",
              "2       1        6     4.0  964982224\n",
              "3       1       47     5.0  964983815\n",
              "4       1       50     5.0  964982931"
            ]
          },
          "metadata": {
            "tags": []
          },
          "execution_count": 34
        }
      ]
    },
    {
      "cell_type": "markdown",
      "metadata": {
        "id": "hVkkHdg2V6w8"
      },
      "source": [
        "## Getting Tags"
      ]
    },
    {
      "cell_type": "code",
      "metadata": {
        "id": "vPzFfiTLkuOU",
        "colab": {
          "base_uri": "https://localhost:8080/",
          "height": 194
        },
        "outputId": "dce3e370-4feb-4b4f-96d8-7c3658f01c78"
      },
      "source": [
        "df_tags = pd.read_csv('tags.csv')\n",
        "df_tags.head()"
      ],
      "execution_count": 35,
      "outputs": [
        {
          "output_type": "execute_result",
          "data": {
            "text/html": [
              "<div>\n",
              "<style scoped>\n",
              "    .dataframe tbody tr th:only-of-type {\n",
              "        vertical-align: middle;\n",
              "    }\n",
              "\n",
              "    .dataframe tbody tr th {\n",
              "        vertical-align: top;\n",
              "    }\n",
              "\n",
              "    .dataframe thead th {\n",
              "        text-align: right;\n",
              "    }\n",
              "</style>\n",
              "<table border=\"1\" class=\"dataframe\">\n",
              "  <thead>\n",
              "    <tr style=\"text-align: right;\">\n",
              "      <th></th>\n",
              "      <th>userId</th>\n",
              "      <th>movieId</th>\n",
              "      <th>tag</th>\n",
              "      <th>timestamp</th>\n",
              "    </tr>\n",
              "  </thead>\n",
              "  <tbody>\n",
              "    <tr>\n",
              "      <th>0</th>\n",
              "      <td>2</td>\n",
              "      <td>60756</td>\n",
              "      <td>funny</td>\n",
              "      <td>1445714994</td>\n",
              "    </tr>\n",
              "    <tr>\n",
              "      <th>1</th>\n",
              "      <td>2</td>\n",
              "      <td>60756</td>\n",
              "      <td>Highly quotable</td>\n",
              "      <td>1445714996</td>\n",
              "    </tr>\n",
              "    <tr>\n",
              "      <th>2</th>\n",
              "      <td>2</td>\n",
              "      <td>60756</td>\n",
              "      <td>will ferrell</td>\n",
              "      <td>1445714992</td>\n",
              "    </tr>\n",
              "    <tr>\n",
              "      <th>3</th>\n",
              "      <td>2</td>\n",
              "      <td>89774</td>\n",
              "      <td>Boxing story</td>\n",
              "      <td>1445715207</td>\n",
              "    </tr>\n",
              "    <tr>\n",
              "      <th>4</th>\n",
              "      <td>2</td>\n",
              "      <td>89774</td>\n",
              "      <td>MMA</td>\n",
              "      <td>1445715200</td>\n",
              "    </tr>\n",
              "  </tbody>\n",
              "</table>\n",
              "</div>"
            ],
            "text/plain": [
              "   userId  movieId              tag   timestamp\n",
              "0       2    60756            funny  1445714994\n",
              "1       2    60756  Highly quotable  1445714996\n",
              "2       2    60756     will ferrell  1445714992\n",
              "3       2    89774     Boxing story  1445715207\n",
              "4       2    89774              MMA  1445715200"
            ]
          },
          "metadata": {
            "tags": []
          },
          "execution_count": 35
        }
      ]
    },
    {
      "cell_type": "code",
      "metadata": {
        "id": "5L5nEtSbk0b_",
        "colab": {
          "base_uri": "https://localhost:8080/"
        },
        "outputId": "5e4ff0f7-7e44-444a-eace-d51bd9a5e3fb"
      },
      "source": [
        "df_tags.shape"
      ],
      "execution_count": 36,
      "outputs": [
        {
          "output_type": "execute_result",
          "data": {
            "text/plain": [
              "(3683, 4)"
            ]
          },
          "metadata": {
            "tags": []
          },
          "execution_count": 36
        }
      ]
    },
    {
      "cell_type": "code",
      "metadata": {
        "id": "QBIFGUa8YNA8",
        "colab": {
          "base_uri": "https://localhost:8080/"
        },
        "outputId": "bf5b5ded-40ff-4089-b15f-c936c8b1e261"
      },
      "source": [
        "df_tags['userId'].nunique()"
      ],
      "execution_count": 37,
      "outputs": [
        {
          "output_type": "execute_result",
          "data": {
            "text/plain": [
              "58"
            ]
          },
          "metadata": {
            "tags": []
          },
          "execution_count": 37
        }
      ]
    },
    {
      "cell_type": "code",
      "metadata": {
        "id": "wsqIUg2gYRwV",
        "colab": {
          "base_uri": "https://localhost:8080/"
        },
        "outputId": "8e6ad905-210a-4ba5-d566-178c35c079e5"
      },
      "source": [
        "df_tags['movieId'].nunique()"
      ],
      "execution_count": 38,
      "outputs": [
        {
          "output_type": "execute_result",
          "data": {
            "text/plain": [
              "1572"
            ]
          },
          "metadata": {
            "tags": []
          },
          "execution_count": 38
        }
      ]
    },
    {
      "cell_type": "code",
      "metadata": {
        "id": "GxqnIALC24P8",
        "colab": {
          "base_uri": "https://localhost:8080/",
          "height": 194
        },
        "outputId": "f24cf269-d183-434a-9e76-38e406f8cada"
      },
      "source": [
        "df_tags.columns = df_tags.columns.str.lower()\n",
        "df_tags.head()"
      ],
      "execution_count": 39,
      "outputs": [
        {
          "output_type": "execute_result",
          "data": {
            "text/html": [
              "<div>\n",
              "<style scoped>\n",
              "    .dataframe tbody tr th:only-of-type {\n",
              "        vertical-align: middle;\n",
              "    }\n",
              "\n",
              "    .dataframe tbody tr th {\n",
              "        vertical-align: top;\n",
              "    }\n",
              "\n",
              "    .dataframe thead th {\n",
              "        text-align: right;\n",
              "    }\n",
              "</style>\n",
              "<table border=\"1\" class=\"dataframe\">\n",
              "  <thead>\n",
              "    <tr style=\"text-align: right;\">\n",
              "      <th></th>\n",
              "      <th>userid</th>\n",
              "      <th>movieid</th>\n",
              "      <th>tag</th>\n",
              "      <th>timestamp</th>\n",
              "    </tr>\n",
              "  </thead>\n",
              "  <tbody>\n",
              "    <tr>\n",
              "      <th>0</th>\n",
              "      <td>2</td>\n",
              "      <td>60756</td>\n",
              "      <td>funny</td>\n",
              "      <td>1445714994</td>\n",
              "    </tr>\n",
              "    <tr>\n",
              "      <th>1</th>\n",
              "      <td>2</td>\n",
              "      <td>60756</td>\n",
              "      <td>Highly quotable</td>\n",
              "      <td>1445714996</td>\n",
              "    </tr>\n",
              "    <tr>\n",
              "      <th>2</th>\n",
              "      <td>2</td>\n",
              "      <td>60756</td>\n",
              "      <td>will ferrell</td>\n",
              "      <td>1445714992</td>\n",
              "    </tr>\n",
              "    <tr>\n",
              "      <th>3</th>\n",
              "      <td>2</td>\n",
              "      <td>89774</td>\n",
              "      <td>Boxing story</td>\n",
              "      <td>1445715207</td>\n",
              "    </tr>\n",
              "    <tr>\n",
              "      <th>4</th>\n",
              "      <td>2</td>\n",
              "      <td>89774</td>\n",
              "      <td>MMA</td>\n",
              "      <td>1445715200</td>\n",
              "    </tr>\n",
              "  </tbody>\n",
              "</table>\n",
              "</div>"
            ],
            "text/plain": [
              "   userid  movieid              tag   timestamp\n",
              "0       2    60756            funny  1445714994\n",
              "1       2    60756  Highly quotable  1445714996\n",
              "2       2    60756     will ferrell  1445714992\n",
              "3       2    89774     Boxing story  1445715207\n",
              "4       2    89774              MMA  1445715200"
            ]
          },
          "metadata": {
            "tags": []
          },
          "execution_count": 39
        }
      ]
    },
    {
      "cell_type": "markdown",
      "metadata": {
        "id": "h8--yrp91sVO"
      },
      "source": [
        "## Merging"
      ]
    },
    {
      "cell_type": "code",
      "metadata": {
        "colab": {
          "base_uri": "https://localhost:8080/",
          "height": 358
        },
        "id": "IxgDz5YHcKci",
        "outputId": "701fd78e-4fea-4906-9d63-39b79f853807"
      },
      "source": [
        "movie_rating = pd.merge(df_movies_new, df_rating, on='movieid')\n",
        "movie_rating.head(3)"
      ],
      "execution_count": 40,
      "outputs": [
        {
          "output_type": "execute_result",
          "data": {
            "text/html": [
              "<div>\n",
              "<style scoped>\n",
              "    .dataframe tbody tr th:only-of-type {\n",
              "        vertical-align: middle;\n",
              "    }\n",
              "\n",
              "    .dataframe tbody tr th {\n",
              "        vertical-align: top;\n",
              "    }\n",
              "\n",
              "    .dataframe thead th {\n",
              "        text-align: right;\n",
              "    }\n",
              "</style>\n",
              "<table border=\"1\" class=\"dataframe\">\n",
              "  <thead>\n",
              "    <tr style=\"text-align: right;\">\n",
              "      <th></th>\n",
              "      <th>movieid</th>\n",
              "      <th>title</th>\n",
              "      <th>genres</th>\n",
              "      <th>adventure</th>\n",
              "      <th>animation</th>\n",
              "      <th>children</th>\n",
              "      <th>comedy</th>\n",
              "      <th>fantasy</th>\n",
              "      <th>romance</th>\n",
              "      <th>drama</th>\n",
              "      <th>action</th>\n",
              "      <th>crime</th>\n",
              "      <th>thriller</th>\n",
              "      <th>horror</th>\n",
              "      <th>mystery</th>\n",
              "      <th>sci_fi</th>\n",
              "      <th>war</th>\n",
              "      <th>musical</th>\n",
              "      <th>documentary</th>\n",
              "      <th>imax</th>\n",
              "      <th>western</th>\n",
              "      <th>film_noir</th>\n",
              "      <th>no_genres</th>\n",
              "      <th>userid</th>\n",
              "      <th>rating</th>\n",
              "      <th>timestamp</th>\n",
              "    </tr>\n",
              "  </thead>\n",
              "  <tbody>\n",
              "    <tr>\n",
              "      <th>0</th>\n",
              "      <td>1</td>\n",
              "      <td>Toy Story (1995)</td>\n",
              "      <td>Adventure Animation Children Comedy Fantasy</td>\n",
              "      <td>1</td>\n",
              "      <td>1</td>\n",
              "      <td>1</td>\n",
              "      <td>1</td>\n",
              "      <td>1</td>\n",
              "      <td>0</td>\n",
              "      <td>0</td>\n",
              "      <td>0</td>\n",
              "      <td>0</td>\n",
              "      <td>0</td>\n",
              "      <td>0</td>\n",
              "      <td>0</td>\n",
              "      <td>0</td>\n",
              "      <td>0</td>\n",
              "      <td>0</td>\n",
              "      <td>0</td>\n",
              "      <td>0</td>\n",
              "      <td>0</td>\n",
              "      <td>0</td>\n",
              "      <td>0</td>\n",
              "      <td>1</td>\n",
              "      <td>4.0</td>\n",
              "      <td>964982703</td>\n",
              "    </tr>\n",
              "    <tr>\n",
              "      <th>1</th>\n",
              "      <td>1</td>\n",
              "      <td>Toy Story (1995)</td>\n",
              "      <td>Adventure Animation Children Comedy Fantasy</td>\n",
              "      <td>1</td>\n",
              "      <td>1</td>\n",
              "      <td>1</td>\n",
              "      <td>1</td>\n",
              "      <td>1</td>\n",
              "      <td>0</td>\n",
              "      <td>0</td>\n",
              "      <td>0</td>\n",
              "      <td>0</td>\n",
              "      <td>0</td>\n",
              "      <td>0</td>\n",
              "      <td>0</td>\n",
              "      <td>0</td>\n",
              "      <td>0</td>\n",
              "      <td>0</td>\n",
              "      <td>0</td>\n",
              "      <td>0</td>\n",
              "      <td>0</td>\n",
              "      <td>0</td>\n",
              "      <td>0</td>\n",
              "      <td>5</td>\n",
              "      <td>4.0</td>\n",
              "      <td>847434962</td>\n",
              "    </tr>\n",
              "    <tr>\n",
              "      <th>2</th>\n",
              "      <td>1</td>\n",
              "      <td>Toy Story (1995)</td>\n",
              "      <td>Adventure Animation Children Comedy Fantasy</td>\n",
              "      <td>1</td>\n",
              "      <td>1</td>\n",
              "      <td>1</td>\n",
              "      <td>1</td>\n",
              "      <td>1</td>\n",
              "      <td>0</td>\n",
              "      <td>0</td>\n",
              "      <td>0</td>\n",
              "      <td>0</td>\n",
              "      <td>0</td>\n",
              "      <td>0</td>\n",
              "      <td>0</td>\n",
              "      <td>0</td>\n",
              "      <td>0</td>\n",
              "      <td>0</td>\n",
              "      <td>0</td>\n",
              "      <td>0</td>\n",
              "      <td>0</td>\n",
              "      <td>0</td>\n",
              "      <td>0</td>\n",
              "      <td>7</td>\n",
              "      <td>4.5</td>\n",
              "      <td>1106635946</td>\n",
              "    </tr>\n",
              "  </tbody>\n",
              "</table>\n",
              "</div>"
            ],
            "text/plain": [
              "   movieid             title  ... rating   timestamp\n",
              "0        1  Toy Story (1995)  ...    4.0   964982703\n",
              "1        1  Toy Story (1995)  ...    4.0   847434962\n",
              "2        1  Toy Story (1995)  ...    4.5  1106635946\n",
              "\n",
              "[3 rows x 26 columns]"
            ]
          },
          "metadata": {
            "tags": []
          },
          "execution_count": 40
        }
      ]
    },
    {
      "cell_type": "code",
      "metadata": {
        "colab": {
          "base_uri": "https://localhost:8080/"
        },
        "id": "A1l87OHIcdlf",
        "outputId": "93675581-6157-466c-9b14-1158503fb127"
      },
      "source": [
        "movie_rating.shape"
      ],
      "execution_count": 41,
      "outputs": [
        {
          "output_type": "execute_result",
          "data": {
            "text/plain": [
              "(100816, 26)"
            ]
          },
          "metadata": {
            "tags": []
          },
          "execution_count": 41
        }
      ]
    },
    {
      "cell_type": "code",
      "metadata": {
        "colab": {
          "base_uri": "https://localhost:8080/",
          "height": 302
        },
        "id": "VwHZ_jhCcqr7",
        "outputId": "151a7b15-2921-484e-8993-cfcc5b0e3e83"
      },
      "source": [
        "movie_rating.describe()"
      ],
      "execution_count": 42,
      "outputs": [
        {
          "output_type": "execute_result",
          "data": {
            "text/html": [
              "<div>\n",
              "<style scoped>\n",
              "    .dataframe tbody tr th:only-of-type {\n",
              "        vertical-align: middle;\n",
              "    }\n",
              "\n",
              "    .dataframe tbody tr th {\n",
              "        vertical-align: top;\n",
              "    }\n",
              "\n",
              "    .dataframe thead th {\n",
              "        text-align: right;\n",
              "    }\n",
              "</style>\n",
              "<table border=\"1\" class=\"dataframe\">\n",
              "  <thead>\n",
              "    <tr style=\"text-align: right;\">\n",
              "      <th></th>\n",
              "      <th>movieid</th>\n",
              "      <th>adventure</th>\n",
              "      <th>animation</th>\n",
              "      <th>children</th>\n",
              "      <th>comedy</th>\n",
              "      <th>fantasy</th>\n",
              "      <th>romance</th>\n",
              "      <th>drama</th>\n",
              "      <th>action</th>\n",
              "      <th>crime</th>\n",
              "      <th>thriller</th>\n",
              "      <th>horror</th>\n",
              "      <th>mystery</th>\n",
              "      <th>sci_fi</th>\n",
              "      <th>war</th>\n",
              "      <th>musical</th>\n",
              "      <th>documentary</th>\n",
              "      <th>imax</th>\n",
              "      <th>western</th>\n",
              "      <th>film_noir</th>\n",
              "      <th>no_genres</th>\n",
              "      <th>userid</th>\n",
              "      <th>rating</th>\n",
              "      <th>timestamp</th>\n",
              "    </tr>\n",
              "  </thead>\n",
              "  <tbody>\n",
              "    <tr>\n",
              "      <th>count</th>\n",
              "      <td>100816.000000</td>\n",
              "      <td>100816.000000</td>\n",
              "      <td>100816.000000</td>\n",
              "      <td>100816.000000</td>\n",
              "      <td>100816.000000</td>\n",
              "      <td>100816.000000</td>\n",
              "      <td>100816.000000</td>\n",
              "      <td>100816.000000</td>\n",
              "      <td>100816.000000</td>\n",
              "      <td>100816.000000</td>\n",
              "      <td>100816.000000</td>\n",
              "      <td>100816.000000</td>\n",
              "      <td>100816.000000</td>\n",
              "      <td>100816.000000</td>\n",
              "      <td>100816.000000</td>\n",
              "      <td>100816.000000</td>\n",
              "      <td>100816.000000</td>\n",
              "      <td>100816.000000</td>\n",
              "      <td>100816.000000</td>\n",
              "      <td>100816.000000</td>\n",
              "      <td>100816.000000</td>\n",
              "      <td>100816.000000</td>\n",
              "      <td>100816.000000</td>\n",
              "      <td>1.008160e+05</td>\n",
              "    </tr>\n",
              "    <tr>\n",
              "      <th>mean</th>\n",
              "      <td>19434.708023</td>\n",
              "      <td>0.239654</td>\n",
              "      <td>0.069314</td>\n",
              "      <td>0.091335</td>\n",
              "      <td>0.387220</td>\n",
              "      <td>0.117382</td>\n",
              "      <td>0.179763</td>\n",
              "      <td>0.415728</td>\n",
              "      <td>0.303851</td>\n",
              "      <td>0.165311</td>\n",
              "      <td>0.262220</td>\n",
              "      <td>0.072320</td>\n",
              "      <td>0.076119</td>\n",
              "      <td>0.171005</td>\n",
              "      <td>0.048197</td>\n",
              "      <td>0.041045</td>\n",
              "      <td>0.012091</td>\n",
              "      <td>0.041115</td>\n",
              "      <td>0.019144</td>\n",
              "      <td>0.008630</td>\n",
              "      <td>0.000466</td>\n",
              "      <td>326.111699</td>\n",
              "      <td>3.501562</td>\n",
              "      <td>1.205940e+09</td>\n",
              "    </tr>\n",
              "    <tr>\n",
              "      <th>std</th>\n",
              "      <td>35530.426480</td>\n",
              "      <td>0.426875</td>\n",
              "      <td>0.253989</td>\n",
              "      <td>0.288086</td>\n",
              "      <td>0.487117</td>\n",
              "      <td>0.321877</td>\n",
              "      <td>0.383992</td>\n",
              "      <td>0.492849</td>\n",
              "      <td>0.459921</td>\n",
              "      <td>0.371463</td>\n",
              "      <td>0.439844</td>\n",
              "      <td>0.259018</td>\n",
              "      <td>0.265190</td>\n",
              "      <td>0.376515</td>\n",
              "      <td>0.214183</td>\n",
              "      <td>0.198395</td>\n",
              "      <td>0.109294</td>\n",
              "      <td>0.198556</td>\n",
              "      <td>0.137031</td>\n",
              "      <td>0.092494</td>\n",
              "      <td>0.021587</td>\n",
              "      <td>182.612628</td>\n",
              "      <td>1.042605</td>\n",
              "      <td>2.162704e+08</td>\n",
              "    </tr>\n",
              "    <tr>\n",
              "      <th>min</th>\n",
              "      <td>1.000000</td>\n",
              "      <td>0.000000</td>\n",
              "      <td>0.000000</td>\n",
              "      <td>0.000000</td>\n",
              "      <td>0.000000</td>\n",
              "      <td>0.000000</td>\n",
              "      <td>0.000000</td>\n",
              "      <td>0.000000</td>\n",
              "      <td>0.000000</td>\n",
              "      <td>0.000000</td>\n",
              "      <td>0.000000</td>\n",
              "      <td>0.000000</td>\n",
              "      <td>0.000000</td>\n",
              "      <td>0.000000</td>\n",
              "      <td>0.000000</td>\n",
              "      <td>0.000000</td>\n",
              "      <td>0.000000</td>\n",
              "      <td>0.000000</td>\n",
              "      <td>0.000000</td>\n",
              "      <td>0.000000</td>\n",
              "      <td>0.000000</td>\n",
              "      <td>1.000000</td>\n",
              "      <td>0.500000</td>\n",
              "      <td>8.281246e+08</td>\n",
              "    </tr>\n",
              "    <tr>\n",
              "      <th>25%</th>\n",
              "      <td>1199.000000</td>\n",
              "      <td>0.000000</td>\n",
              "      <td>0.000000</td>\n",
              "      <td>0.000000</td>\n",
              "      <td>0.000000</td>\n",
              "      <td>0.000000</td>\n",
              "      <td>0.000000</td>\n",
              "      <td>0.000000</td>\n",
              "      <td>0.000000</td>\n",
              "      <td>0.000000</td>\n",
              "      <td>0.000000</td>\n",
              "      <td>0.000000</td>\n",
              "      <td>0.000000</td>\n",
              "      <td>0.000000</td>\n",
              "      <td>0.000000</td>\n",
              "      <td>0.000000</td>\n",
              "      <td>0.000000</td>\n",
              "      <td>0.000000</td>\n",
              "      <td>0.000000</td>\n",
              "      <td>0.000000</td>\n",
              "      <td>0.000000</td>\n",
              "      <td>177.000000</td>\n",
              "      <td>3.000000</td>\n",
              "      <td>1.018595e+09</td>\n",
              "    </tr>\n",
              "    <tr>\n",
              "      <th>50%</th>\n",
              "      <td>2991.000000</td>\n",
              "      <td>0.000000</td>\n",
              "      <td>0.000000</td>\n",
              "      <td>0.000000</td>\n",
              "      <td>0.000000</td>\n",
              "      <td>0.000000</td>\n",
              "      <td>0.000000</td>\n",
              "      <td>0.000000</td>\n",
              "      <td>0.000000</td>\n",
              "      <td>0.000000</td>\n",
              "      <td>0.000000</td>\n",
              "      <td>0.000000</td>\n",
              "      <td>0.000000</td>\n",
              "      <td>0.000000</td>\n",
              "      <td>0.000000</td>\n",
              "      <td>0.000000</td>\n",
              "      <td>0.000000</td>\n",
              "      <td>0.000000</td>\n",
              "      <td>0.000000</td>\n",
              "      <td>0.000000</td>\n",
              "      <td>0.000000</td>\n",
              "      <td>325.000000</td>\n",
              "      <td>3.500000</td>\n",
              "      <td>1.186087e+09</td>\n",
              "    </tr>\n",
              "    <tr>\n",
              "      <th>75%</th>\n",
              "      <td>8122.000000</td>\n",
              "      <td>0.000000</td>\n",
              "      <td>0.000000</td>\n",
              "      <td>0.000000</td>\n",
              "      <td>1.000000</td>\n",
              "      <td>0.000000</td>\n",
              "      <td>0.000000</td>\n",
              "      <td>1.000000</td>\n",
              "      <td>1.000000</td>\n",
              "      <td>0.000000</td>\n",
              "      <td>1.000000</td>\n",
              "      <td>0.000000</td>\n",
              "      <td>0.000000</td>\n",
              "      <td>0.000000</td>\n",
              "      <td>0.000000</td>\n",
              "      <td>0.000000</td>\n",
              "      <td>0.000000</td>\n",
              "      <td>0.000000</td>\n",
              "      <td>0.000000</td>\n",
              "      <td>0.000000</td>\n",
              "      <td>0.000000</td>\n",
              "      <td>477.000000</td>\n",
              "      <td>4.000000</td>\n",
              "      <td>1.435994e+09</td>\n",
              "    </tr>\n",
              "    <tr>\n",
              "      <th>max</th>\n",
              "      <td>193609.000000</td>\n",
              "      <td>1.000000</td>\n",
              "      <td>1.000000</td>\n",
              "      <td>1.000000</td>\n",
              "      <td>1.000000</td>\n",
              "      <td>1.000000</td>\n",
              "      <td>1.000000</td>\n",
              "      <td>1.000000</td>\n",
              "      <td>1.000000</td>\n",
              "      <td>1.000000</td>\n",
              "      <td>1.000000</td>\n",
              "      <td>1.000000</td>\n",
              "      <td>1.000000</td>\n",
              "      <td>1.000000</td>\n",
              "      <td>1.000000</td>\n",
              "      <td>1.000000</td>\n",
              "      <td>1.000000</td>\n",
              "      <td>1.000000</td>\n",
              "      <td>1.000000</td>\n",
              "      <td>1.000000</td>\n",
              "      <td>1.000000</td>\n",
              "      <td>610.000000</td>\n",
              "      <td>5.000000</td>\n",
              "      <td>1.537799e+09</td>\n",
              "    </tr>\n",
              "  </tbody>\n",
              "</table>\n",
              "</div>"
            ],
            "text/plain": [
              "             movieid      adventure  ...         rating     timestamp\n",
              "count  100816.000000  100816.000000  ...  100816.000000  1.008160e+05\n",
              "mean    19434.708023       0.239654  ...       3.501562  1.205940e+09\n",
              "std     35530.426480       0.426875  ...       1.042605  2.162704e+08\n",
              "min         1.000000       0.000000  ...       0.500000  8.281246e+08\n",
              "25%      1199.000000       0.000000  ...       3.000000  1.018595e+09\n",
              "50%      2991.000000       0.000000  ...       3.500000  1.186087e+09\n",
              "75%      8122.000000       0.000000  ...       4.000000  1.435994e+09\n",
              "max    193609.000000       1.000000  ...       5.000000  1.537799e+09\n",
              "\n",
              "[8 rows x 24 columns]"
            ]
          },
          "metadata": {
            "tags": []
          },
          "execution_count": 42
        }
      ]
    },
    {
      "cell_type": "code",
      "metadata": {
        "colab": {
          "base_uri": "https://localhost:8080/"
        },
        "id": "yTG1dCXIO_sm",
        "outputId": "bf1754b6-386f-46e5-af20-c07e001fedb7"
      },
      "source": [
        "movie_rating['title'].nunique()"
      ],
      "execution_count": 43,
      "outputs": [
        {
          "output_type": "execute_result",
          "data": {
            "text/plain": [
              "9719"
            ]
          },
          "metadata": {
            "tags": []
          },
          "execution_count": 43
        }
      ]
    },
    {
      "cell_type": "code",
      "metadata": {
        "colab": {
          "base_uri": "https://localhost:8080/"
        },
        "id": "_x43AIa1daGu",
        "outputId": "018be1f3-b036-454a-88d2-a0658fbcffae"
      },
      "source": [
        "movie_rating.info()"
      ],
      "execution_count": 44,
      "outputs": [
        {
          "output_type": "stream",
          "text": [
            "<class 'pandas.core.frame.DataFrame'>\n",
            "Int64Index: 100816 entries, 0 to 100815\n",
            "Data columns (total 26 columns):\n",
            " #   Column       Non-Null Count   Dtype  \n",
            "---  ------       --------------   -----  \n",
            " 0   movieid      100816 non-null  int64  \n",
            " 1   title        100816 non-null  object \n",
            " 2   genres       100816 non-null  object \n",
            " 3   adventure    100816 non-null  int8   \n",
            " 4   animation    100816 non-null  int8   \n",
            " 5   children     100816 non-null  int8   \n",
            " 6   comedy       100816 non-null  int8   \n",
            " 7   fantasy      100816 non-null  int8   \n",
            " 8   romance      100816 non-null  int8   \n",
            " 9   drama        100816 non-null  int8   \n",
            " 10  action       100816 non-null  int8   \n",
            " 11  crime        100816 non-null  int8   \n",
            " 12  thriller     100816 non-null  int8   \n",
            " 13  horror       100816 non-null  int8   \n",
            " 14  mystery      100816 non-null  int8   \n",
            " 15  sci_fi       100816 non-null  int8   \n",
            " 16  war          100816 non-null  int8   \n",
            " 17  musical      100816 non-null  int8   \n",
            " 18  documentary  100816 non-null  int8   \n",
            " 19  imax         100816 non-null  int8   \n",
            " 20  western      100816 non-null  int8   \n",
            " 21  film_noir    100816 non-null  int8   \n",
            " 22  no_genres    100816 non-null  int8   \n",
            " 23  userid       100816 non-null  int64  \n",
            " 24  rating       100816 non-null  float64\n",
            " 25  timestamp    100816 non-null  int64  \n",
            "dtypes: float64(1), int64(3), int8(20), object(2)\n",
            "memory usage: 7.3+ MB\n"
          ],
          "name": "stdout"
        }
      ]
    },
    {
      "cell_type": "markdown",
      "metadata": {
        "id": "yWW81IQujPEy"
      },
      "source": [
        "## EDA"
      ]
    },
    {
      "cell_type": "markdown",
      "metadata": {
        "id": "gK8d_4UifMAx"
      },
      "source": [
        "### Understanding Movie Types"
      ]
    },
    {
      "cell_type": "code",
      "metadata": {
        "colab": {
          "base_uri": "https://localhost:8080/",
          "height": 634
        },
        "id": "r_c3Olhn-fmH",
        "outputId": "13535c6b-6b4e-4c6c-a0f4-2d29cd2bbbb3"
      },
      "source": [
        "cols = movie_rating.columns[3:23].values.tolist()\n",
        "movie_type = []\n",
        "type_count = []\n",
        "\n",
        "for col in cols:\n",
        "  movie_type.append(col)\n",
        "  type_count.append(movie_rating[col].value_counts()[1])\n",
        "\n",
        "movie_type_count = pd.DataFrame(list(zip(movie_type, type_count)),\n",
        "               columns =['movie_type', 'type_count'])\n",
        "movie_type_count"
      ],
      "execution_count": 45,
      "outputs": [
        {
          "output_type": "execute_result",
          "data": {
            "text/html": [
              "<div>\n",
              "<style scoped>\n",
              "    .dataframe tbody tr th:only-of-type {\n",
              "        vertical-align: middle;\n",
              "    }\n",
              "\n",
              "    .dataframe tbody tr th {\n",
              "        vertical-align: top;\n",
              "    }\n",
              "\n",
              "    .dataframe thead th {\n",
              "        text-align: right;\n",
              "    }\n",
              "</style>\n",
              "<table border=\"1\" class=\"dataframe\">\n",
              "  <thead>\n",
              "    <tr style=\"text-align: right;\">\n",
              "      <th></th>\n",
              "      <th>movie_type</th>\n",
              "      <th>type_count</th>\n",
              "    </tr>\n",
              "  </thead>\n",
              "  <tbody>\n",
              "    <tr>\n",
              "      <th>0</th>\n",
              "      <td>adventure</td>\n",
              "      <td>24161</td>\n",
              "    </tr>\n",
              "    <tr>\n",
              "      <th>1</th>\n",
              "      <td>animation</td>\n",
              "      <td>6988</td>\n",
              "    </tr>\n",
              "    <tr>\n",
              "      <th>2</th>\n",
              "      <td>children</td>\n",
              "      <td>9208</td>\n",
              "    </tr>\n",
              "    <tr>\n",
              "      <th>3</th>\n",
              "      <td>comedy</td>\n",
              "      <td>39038</td>\n",
              "    </tr>\n",
              "    <tr>\n",
              "      <th>4</th>\n",
              "      <td>fantasy</td>\n",
              "      <td>11834</td>\n",
              "    </tr>\n",
              "    <tr>\n",
              "      <th>5</th>\n",
              "      <td>romance</td>\n",
              "      <td>18123</td>\n",
              "    </tr>\n",
              "    <tr>\n",
              "      <th>6</th>\n",
              "      <td>drama</td>\n",
              "      <td>41912</td>\n",
              "    </tr>\n",
              "    <tr>\n",
              "      <th>7</th>\n",
              "      <td>action</td>\n",
              "      <td>30633</td>\n",
              "    </tr>\n",
              "    <tr>\n",
              "      <th>8</th>\n",
              "      <td>crime</td>\n",
              "      <td>16666</td>\n",
              "    </tr>\n",
              "    <tr>\n",
              "      <th>9</th>\n",
              "      <td>thriller</td>\n",
              "      <td>26436</td>\n",
              "    </tr>\n",
              "    <tr>\n",
              "      <th>10</th>\n",
              "      <td>horror</td>\n",
              "      <td>7291</td>\n",
              "    </tr>\n",
              "    <tr>\n",
              "      <th>11</th>\n",
              "      <td>mystery</td>\n",
              "      <td>7674</td>\n",
              "    </tr>\n",
              "    <tr>\n",
              "      <th>12</th>\n",
              "      <td>sci_fi</td>\n",
              "      <td>17240</td>\n",
              "    </tr>\n",
              "    <tr>\n",
              "      <th>13</th>\n",
              "      <td>war</td>\n",
              "      <td>4859</td>\n",
              "    </tr>\n",
              "    <tr>\n",
              "      <th>14</th>\n",
              "      <td>musical</td>\n",
              "      <td>4138</td>\n",
              "    </tr>\n",
              "    <tr>\n",
              "      <th>15</th>\n",
              "      <td>documentary</td>\n",
              "      <td>1219</td>\n",
              "    </tr>\n",
              "    <tr>\n",
              "      <th>16</th>\n",
              "      <td>imax</td>\n",
              "      <td>4145</td>\n",
              "    </tr>\n",
              "    <tr>\n",
              "      <th>17</th>\n",
              "      <td>western</td>\n",
              "      <td>1930</td>\n",
              "    </tr>\n",
              "    <tr>\n",
              "      <th>18</th>\n",
              "      <td>film_noir</td>\n",
              "      <td>870</td>\n",
              "    </tr>\n",
              "    <tr>\n",
              "      <th>19</th>\n",
              "      <td>no_genres</td>\n",
              "      <td>47</td>\n",
              "    </tr>\n",
              "  </tbody>\n",
              "</table>\n",
              "</div>"
            ],
            "text/plain": [
              "     movie_type  type_count\n",
              "0     adventure       24161\n",
              "1     animation        6988\n",
              "2      children        9208\n",
              "3        comedy       39038\n",
              "4       fantasy       11834\n",
              "5       romance       18123\n",
              "6         drama       41912\n",
              "7        action       30633\n",
              "8         crime       16666\n",
              "9      thriller       26436\n",
              "10       horror        7291\n",
              "11      mystery        7674\n",
              "12       sci_fi       17240\n",
              "13          war        4859\n",
              "14      musical        4138\n",
              "15  documentary        1219\n",
              "16         imax        4145\n",
              "17      western        1930\n",
              "18    film_noir         870\n",
              "19    no_genres          47"
            ]
          },
          "metadata": {
            "tags": []
          },
          "execution_count": 45
        }
      ]
    },
    {
      "cell_type": "code",
      "metadata": {
        "id": "2o7COk31Ce1F"
      },
      "source": [
        "movie_type_count = movie_type_count.sort_values('type_count', ascending = False)"
      ],
      "execution_count": 46,
      "outputs": []
    },
    {
      "cell_type": "code",
      "metadata": {
        "colab": {
          "base_uri": "https://localhost:8080/",
          "height": 532
        },
        "id": "3rbRwaKOCEAX",
        "outputId": "7b738724-2455-4174-f3f7-a971caa0bf08"
      },
      "source": [
        "sns.set(rc={'figure.figsize':(14,7)})\n",
        "sns.barplot(x = 'movie_type', y = 'type_count', data = movie_type_count)\n",
        "plt.xticks(rotation=45)"
      ],
      "execution_count": 47,
      "outputs": [
        {
          "output_type": "execute_result",
          "data": {
            "text/plain": [
              "(array([ 0,  1,  2,  3,  4,  5,  6,  7,  8,  9, 10, 11, 12, 13, 14, 15, 16,\n",
              "        17, 18, 19]), <a list of 20 Text major ticklabel objects>)"
            ]
          },
          "metadata": {
            "tags": []
          },
          "execution_count": 47
        },
        {
          "output_type": "display_data",
          "data": {
            "image/png": "[encoded data removed]",
            "text/plain": [
              "<Figure size 1008x504 with 1 Axes>"
            ]
          },
          "metadata": {
            "tags": []
          }
        }
      ]
    },
    {
      "cell_type": "markdown",
      "metadata": {
        "id": "E31PWkHhAoFh"
      },
      "source": [
        "Top 3 categories in the movie dataset is: Drama, Comedy, Action."
      ]
    },
    {
      "cell_type": "markdown",
      "metadata": {
        "id": "enDB4J4tfRub"
      },
      "source": [
        "### Some more queries"
      ]
    },
    {
      "cell_type": "code",
      "metadata": {
        "colab": {
          "base_uri": "https://localhost:8080/",
          "height": 194
        },
        "id": "B1GZC3jVAXGy",
        "outputId": "c4b64889-c485-4d33-ab64-6ff466b90910"
      },
      "source": [
        "# some of the 5 star rated movies\n",
        "\n",
        "df1 = movie_rating.groupby(['title']).agg({'rating':'mean'}).sort_values(by=['rating'],ascending=False).reset_index()\n",
        "df1.head()"
      ],
      "execution_count": 48,
      "outputs": [
        {
          "output_type": "execute_result",
          "data": {
            "text/html": [
              "<div>\n",
              "<style scoped>\n",
              "    .dataframe tbody tr th:only-of-type {\n",
              "        vertical-align: middle;\n",
              "    }\n",
              "\n",
              "    .dataframe tbody tr th {\n",
              "        vertical-align: top;\n",
              "    }\n",
              "\n",
              "    .dataframe thead th {\n",
              "        text-align: right;\n",
              "    }\n",
              "</style>\n",
              "<table border=\"1\" class=\"dataframe\">\n",
              "  <thead>\n",
              "    <tr style=\"text-align: right;\">\n",
              "      <th></th>\n",
              "      <th>title</th>\n",
              "      <th>rating</th>\n",
              "    </tr>\n",
              "  </thead>\n",
              "  <tbody>\n",
              "    <tr>\n",
              "      <th>0</th>\n",
              "      <td>Vagabond (Sans toit ni loi) (1985)</td>\n",
              "      <td>5.0</td>\n",
              "    </tr>\n",
              "    <tr>\n",
              "      <th>1</th>\n",
              "      <td>World of Glory (1991)</td>\n",
              "      <td>5.0</td>\n",
              "    </tr>\n",
              "    <tr>\n",
              "      <th>2</th>\n",
              "      <td>Colourful (Karafuru) (2010)</td>\n",
              "      <td>5.0</td>\n",
              "    </tr>\n",
              "    <tr>\n",
              "      <th>3</th>\n",
              "      <td>Come and See (Idi i smotri) (1985)</td>\n",
              "      <td>5.0</td>\n",
              "    </tr>\n",
              "    <tr>\n",
              "      <th>4</th>\n",
              "      <td>When Worlds Collide (1951)</td>\n",
              "      <td>5.0</td>\n",
              "    </tr>\n",
              "  </tbody>\n",
              "</table>\n",
              "</div>"
            ],
            "text/plain": [
              "                                title  rating\n",
              "0  Vagabond (Sans toit ni loi) (1985)     5.0\n",
              "1               World of Glory (1991)     5.0\n",
              "2         Colourful (Karafuru) (2010)     5.0\n",
              "3  Come and See (Idi i smotri) (1985)     5.0\n",
              "4          When Worlds Collide (1951)     5.0"
            ]
          },
          "metadata": {
            "tags": []
          },
          "execution_count": 48
        }
      ]
    },
    {
      "cell_type": "code",
      "metadata": {
        "colab": {
          "base_uri": "https://localhost:8080/",
          "height": 194
        },
        "id": "sDcjqrb5kAOD",
        "outputId": "2c68def8-40b7-4709-c569-b80d6b41000f"
      },
      "source": [
        "# most rated movies\n",
        "\n",
        "df2 = movie_rating.groupby(['title']).agg({'rating':'count'}).sort_values(by=['rating'],ascending=False).reset_index()\n",
        "df2.head()"
      ],
      "execution_count": 49,
      "outputs": [
        {
          "output_type": "execute_result",
          "data": {
            "text/html": [
              "<div>\n",
              "<style scoped>\n",
              "    .dataframe tbody tr th:only-of-type {\n",
              "        vertical-align: middle;\n",
              "    }\n",
              "\n",
              "    .dataframe tbody tr th {\n",
              "        vertical-align: top;\n",
              "    }\n",
              "\n",
              "    .dataframe thead th {\n",
              "        text-align: right;\n",
              "    }\n",
              "</style>\n",
              "<table border=\"1\" class=\"dataframe\">\n",
              "  <thead>\n",
              "    <tr style=\"text-align: right;\">\n",
              "      <th></th>\n",
              "      <th>title</th>\n",
              "      <th>rating</th>\n",
              "    </tr>\n",
              "  </thead>\n",
              "  <tbody>\n",
              "    <tr>\n",
              "      <th>0</th>\n",
              "      <td>Forrest Gump (1994)</td>\n",
              "      <td>329</td>\n",
              "    </tr>\n",
              "    <tr>\n",
              "      <th>1</th>\n",
              "      <td>Shawshank Redemption, The (1994)</td>\n",
              "      <td>317</td>\n",
              "    </tr>\n",
              "    <tr>\n",
              "      <th>2</th>\n",
              "      <td>Pulp Fiction (1994)</td>\n",
              "      <td>307</td>\n",
              "    </tr>\n",
              "    <tr>\n",
              "      <th>3</th>\n",
              "      <td>Silence of the Lambs, The (1991)</td>\n",
              "      <td>279</td>\n",
              "    </tr>\n",
              "    <tr>\n",
              "      <th>4</th>\n",
              "      <td>Matrix, The (1999)</td>\n",
              "      <td>278</td>\n",
              "    </tr>\n",
              "  </tbody>\n",
              "</table>\n",
              "</div>"
            ],
            "text/plain": [
              "                              title  rating\n",
              "0               Forrest Gump (1994)     329\n",
              "1  Shawshank Redemption, The (1994)     317\n",
              "2               Pulp Fiction (1994)     307\n",
              "3  Silence of the Lambs, The (1991)     279\n",
              "4                Matrix, The (1999)     278"
            ]
          },
          "metadata": {
            "tags": []
          },
          "execution_count": 49
        }
      ]
    },
    {
      "cell_type": "code",
      "metadata": {
        "colab": {
          "base_uri": "https://localhost:8080/",
          "height": 194
        },
        "id": "aObDuszElJIQ",
        "outputId": "069476ae-d7c0-43ab-c395-60f511e07c24"
      },
      "source": [
        "# users with most number of rating\n",
        "\n",
        "movie_rating.groupby(['userid']).agg({'rating':'count'}).sort_values(by=['rating'],ascending=False).head().reset_index()"
      ],
      "execution_count": 50,
      "outputs": [
        {
          "output_type": "execute_result",
          "data": {
            "text/html": [
              "<div>\n",
              "<style scoped>\n",
              "    .dataframe tbody tr th:only-of-type {\n",
              "        vertical-align: middle;\n",
              "    }\n",
              "\n",
              "    .dataframe tbody tr th {\n",
              "        vertical-align: top;\n",
              "    }\n",
              "\n",
              "    .dataframe thead th {\n",
              "        text-align: right;\n",
              "    }\n",
              "</style>\n",
              "<table border=\"1\" class=\"dataframe\">\n",
              "  <thead>\n",
              "    <tr style=\"text-align: right;\">\n",
              "      <th></th>\n",
              "      <th>userid</th>\n",
              "      <th>rating</th>\n",
              "    </tr>\n",
              "  </thead>\n",
              "  <tbody>\n",
              "    <tr>\n",
              "      <th>0</th>\n",
              "      <td>414</td>\n",
              "      <td>2697</td>\n",
              "    </tr>\n",
              "    <tr>\n",
              "      <th>1</th>\n",
              "      <td>599</td>\n",
              "      <td>2477</td>\n",
              "    </tr>\n",
              "    <tr>\n",
              "      <th>2</th>\n",
              "      <td>474</td>\n",
              "      <td>2107</td>\n",
              "    </tr>\n",
              "    <tr>\n",
              "      <th>3</th>\n",
              "      <td>448</td>\n",
              "      <td>1864</td>\n",
              "    </tr>\n",
              "    <tr>\n",
              "      <th>4</th>\n",
              "      <td>274</td>\n",
              "      <td>1346</td>\n",
              "    </tr>\n",
              "  </tbody>\n",
              "</table>\n",
              "</div>"
            ],
            "text/plain": [
              "   userid  rating\n",
              "0     414    2697\n",
              "1     599    2477\n",
              "2     474    2107\n",
              "3     448    1864\n",
              "4     274    1346"
            ]
          },
          "metadata": {
            "tags": []
          },
          "execution_count": 50
        }
      ]
    },
    {
      "cell_type": "markdown",
      "metadata": {
        "id": "2v5-ZcayfjKQ"
      },
      "source": [
        "### Finding avg rating and num of rating"
      ]
    },
    {
      "cell_type": "code",
      "metadata": {
        "colab": {
          "base_uri": "https://localhost:8080/",
          "height": 194
        },
        "id": "rqipRdYNl9GU",
        "outputId": "b69c841d-6a94-4f65-9798-181d211ce548"
      },
      "source": [
        "df = pd.merge(df1, df2, on='title')\n",
        "df.columns = ['title', 'mean_rating', 'no_of_ratings']\n",
        "df.head()"
      ],
      "execution_count": 51,
      "outputs": [
        {
          "output_type": "execute_result",
          "data": {
            "text/html": [
              "<div>\n",
              "<style scoped>\n",
              "    .dataframe tbody tr th:only-of-type {\n",
              "        vertical-align: middle;\n",
              "    }\n",
              "\n",
              "    .dataframe tbody tr th {\n",
              "        vertical-align: top;\n",
              "    }\n",
              "\n",
              "    .dataframe thead th {\n",
              "        text-align: right;\n",
              "    }\n",
              "</style>\n",
              "<table border=\"1\" class=\"dataframe\">\n",
              "  <thead>\n",
              "    <tr style=\"text-align: right;\">\n",
              "      <th></th>\n",
              "      <th>title</th>\n",
              "      <th>mean_rating</th>\n",
              "      <th>no_of_ratings</th>\n",
              "    </tr>\n",
              "  </thead>\n",
              "  <tbody>\n",
              "    <tr>\n",
              "      <th>0</th>\n",
              "      <td>Vagabond (Sans toit ni loi) (1985)</td>\n",
              "      <td>5.0</td>\n",
              "      <td>1</td>\n",
              "    </tr>\n",
              "    <tr>\n",
              "      <th>1</th>\n",
              "      <td>World of Glory (1991)</td>\n",
              "      <td>5.0</td>\n",
              "      <td>1</td>\n",
              "    </tr>\n",
              "    <tr>\n",
              "      <th>2</th>\n",
              "      <td>Colourful (Karafuru) (2010)</td>\n",
              "      <td>5.0</td>\n",
              "      <td>1</td>\n",
              "    </tr>\n",
              "    <tr>\n",
              "      <th>3</th>\n",
              "      <td>Come and See (Idi i smotri) (1985)</td>\n",
              "      <td>5.0</td>\n",
              "      <td>2</td>\n",
              "    </tr>\n",
              "    <tr>\n",
              "      <th>4</th>\n",
              "      <td>When Worlds Collide (1951)</td>\n",
              "      <td>5.0</td>\n",
              "      <td>1</td>\n",
              "    </tr>\n",
              "  </tbody>\n",
              "</table>\n",
              "</div>"
            ],
            "text/plain": [
              "                                title  mean_rating  no_of_ratings\n",
              "0  Vagabond (Sans toit ni loi) (1985)          5.0              1\n",
              "1               World of Glory (1991)          5.0              1\n",
              "2         Colourful (Karafuru) (2010)          5.0              1\n",
              "3  Come and See (Idi i smotri) (1985)          5.0              2\n",
              "4          When Worlds Collide (1951)          5.0              1"
            ]
          },
          "metadata": {
            "tags": []
          },
          "execution_count": 51
        }
      ]
    },
    {
      "cell_type": "code",
      "metadata": {
        "colab": {
          "base_uri": "https://localhost:8080/"
        },
        "id": "Vgj90xKU-Mhk",
        "outputId": "55cca4bd-7729-4e37-d9a2-a4e271f67fda"
      },
      "source": [
        "df.shape"
      ],
      "execution_count": 52,
      "outputs": [
        {
          "output_type": "execute_result",
          "data": {
            "text/plain": [
              "(9719, 3)"
            ]
          },
          "metadata": {
            "tags": []
          },
          "execution_count": 52
        }
      ]
    },
    {
      "cell_type": "code",
      "metadata": {
        "colab": {
          "base_uri": "https://localhost:8080/",
          "height": 342
        },
        "id": "yFvA87YvBvB3",
        "outputId": "1d7b9d78-7941-4958-b353-e160a1344131"
      },
      "source": [
        "plt.figure(figsize=(10,5))\n",
        "df['mean_rating'].hist(bins=50)"
      ],
      "execution_count": 53,
      "outputs": [
        {
          "output_type": "execute_result",
          "data": {
            "text/plain": [
              "<matplotlib.axes._subplots.AxesSubplot at 0x7f0cdc351f90>"
            ]
          },
          "metadata": {
            "tags": []
          },
          "execution_count": 53
        },
        {
          "output_type": "display_data",
          "data": {
            "image/png": "[encoded data removed]",
            "text/plain": [
              "<Figure size 720x360 with 1 Axes>"
            ]
          },
          "metadata": {
            "tags": []
          }
        }
      ]
    },
    {
      "cell_type": "code",
      "metadata": {
        "colab": {
          "base_uri": "https://localhost:8080/",
          "height": 340
        },
        "id": "ObNEVfvyCU6c",
        "outputId": "5d181ce5-f70f-4c49-c213-16a81db6abcf"
      },
      "source": [
        "plt.figure(figsize=(10,5))\n",
        "df['no_of_ratings'].hist(bins=50)"
      ],
      "execution_count": 54,
      "outputs": [
        {
          "output_type": "execute_result",
          "data": {
            "text/plain": [
              "<matplotlib.axes._subplots.AxesSubplot at 0x7f0cdbd01850>"
            ]
          },
          "metadata": {
            "tags": []
          },
          "execution_count": 54
        },
        {
          "output_type": "display_data",
          "data": {
            "image/png": "[encoded data removed]",
            "text/plain": [
              "<Figure size 720x360 with 1 Axes>"
            ]
          },
          "metadata": {
            "tags": []
          }
        }
      ]
    },
    {
      "cell_type": "markdown",
      "metadata": {
        "id": "NVWjdeKBfBN6"
      },
      "source": [
        "### Finding weighted score"
      ]
    },
    {
      "cell_type": "markdown",
      "metadata": {
        "id": "_IP6TUJCdu_e"
      },
      "source": [
        "![](https://drive.google.com/uc?export=view&id=1rPSNorrcVGZERxfZqBKxFeze80npzQLp)"
      ]
    },
    {
      "cell_type": "markdown",
      "metadata": {
        "id": "75m02_9MHWZN"
      },
      "source": [
        "v = number of ratings for the movie\n",
        "\n",
        "m = minimum number of ratings required to be eligible\n",
        "\n",
        "R = average rating of the movie\n",
        "\n",
        "C = mean rating across whole data"
      ]
    },
    {
      "cell_type": "code",
      "metadata": {
        "colab": {
          "base_uri": "https://localhost:8080/"
        },
        "id": "iIRowkJtEUTH",
        "outputId": "c99d7f30-ef5f-4ab8-bfc0-e65ac1be95cf"
      },
      "source": [
        "C = df['mean_rating'].mean()\n",
        "C"
      ],
      "execution_count": 55,
      "outputs": [
        {
          "output_type": "execute_result",
          "data": {
            "text/plain": [
              "3.2624701125899556"
            ]
          },
          "metadata": {
            "tags": []
          },
          "execution_count": 55
        }
      ]
    },
    {
      "cell_type": "code",
      "metadata": {
        "colab": {
          "base_uri": "https://localhost:8080/"
        },
        "id": "B0XNENvAEUY6",
        "outputId": "9f74bf13-a5d5-42d2-c201-8ef6afaa27e3"
      },
      "source": [
        "m = df['no_of_ratings'].quantile(0.7)\n",
        "m"
      ],
      "execution_count": 56,
      "outputs": [
        {
          "output_type": "execute_result",
          "data": {
            "text/plain": [
              "7.0"
            ]
          },
          "metadata": {
            "tags": []
          },
          "execution_count": 56
        }
      ]
    },
    {
      "cell_type": "code",
      "metadata": {
        "colab": {
          "base_uri": "https://localhost:8080/"
        },
        "id": "1sXdOvKhE0rh",
        "outputId": "6590bcbc-99ad-45a0-ed72-ddf52fc428e9"
      },
      "source": [
        "# considering only those movies eligible which has num of ratings > 70% quantile value\n",
        "\n",
        "eligible = df.loc[df['no_of_ratings'] >= m]\n",
        "eligible.shape"
      ],
      "execution_count": 57,
      "outputs": [
        {
          "output_type": "execute_result",
          "data": {
            "text/plain": [
              "(2948, 3)"
            ]
          },
          "metadata": {
            "tags": []
          },
          "execution_count": 57
        }
      ]
    },
    {
      "cell_type": "code",
      "metadata": {
        "id": "ILtzvVAQETfW"
      },
      "source": [
        "# calculation based on the IMDB formula\n",
        "\n",
        "def weighted_rating(x, m=m, C=C):\n",
        "    v = x['no_of_ratings']\n",
        "    R = x['mean_rating']\n",
        "    score = (v/(v+m) * R) + (m/(m+v) * C)\n",
        "    return score"
      ],
      "execution_count": 58,
      "outputs": []
    },
    {
      "cell_type": "code",
      "metadata": {
        "colab": {
          "base_uri": "https://localhost:8080/",
          "height": 194
        },
        "id": "7D4txY1CFjwx",
        "outputId": "3b1583b4-6284-45bf-87f4-6b5e71ebab9f"
      },
      "source": [
        "eligible['score'] = eligible.apply(weighted_rating, axis=1)\n",
        "eligible.head()"
      ],
      "execution_count": 59,
      "outputs": [
        {
          "output_type": "execute_result",
          "data": {
            "text/html": [
              "<div>\n",
              "<style scoped>\n",
              "    .dataframe tbody tr th:only-of-type {\n",
              "        vertical-align: middle;\n",
              "    }\n",
              "\n",
              "    .dataframe tbody tr th {\n",
              "        vertical-align: top;\n",
              "    }\n",
              "\n",
              "    .dataframe thead th {\n",
              "        text-align: right;\n",
              "    }\n",
              "</style>\n",
              "<table border=\"1\" class=\"dataframe\">\n",
              "  <thead>\n",
              "    <tr style=\"text-align: right;\">\n",
              "      <th></th>\n",
              "      <th>title</th>\n",
              "      <th>mean_rating</th>\n",
              "      <th>no_of_ratings</th>\n",
              "      <th>score</th>\n",
              "    </tr>\n",
              "  </thead>\n",
              "  <tbody>\n",
              "    <tr>\n",
              "      <th>317</th>\n",
              "      <td>Three Billboards Outside Ebbing, Missouri (2017)</td>\n",
              "      <td>4.750000</td>\n",
              "      <td>8</td>\n",
              "      <td>4.055819</td>\n",
              "    </tr>\n",
              "    <tr>\n",
              "      <th>340</th>\n",
              "      <td>Secrets &amp; Lies (1996)</td>\n",
              "      <td>4.590909</td>\n",
              "      <td>11</td>\n",
              "      <td>4.074294</td>\n",
              "    </tr>\n",
              "    <tr>\n",
              "      <th>341</th>\n",
              "      <td>Day of the Doctor, The (2013)</td>\n",
              "      <td>4.571429</td>\n",
              "      <td>7</td>\n",
              "      <td>3.916949</td>\n",
              "    </tr>\n",
              "    <tr>\n",
              "      <th>342</th>\n",
              "      <td>Guess Who's Coming to Dinner (1967)</td>\n",
              "      <td>4.545455</td>\n",
              "      <td>11</td>\n",
              "      <td>4.046516</td>\n",
              "    </tr>\n",
              "    <tr>\n",
              "      <th>343</th>\n",
              "      <td>Paths of Glory (1957)</td>\n",
              "      <td>4.541667</td>\n",
              "      <td>12</td>\n",
              "      <td>4.070384</td>\n",
              "    </tr>\n",
              "  </tbody>\n",
              "</table>\n",
              "</div>"
            ],
            "text/plain": [
              "                                                title  ...     score\n",
              "317  Three Billboards Outside Ebbing, Missouri (2017)  ...  4.055819\n",
              "340                             Secrets & Lies (1996)  ...  4.074294\n",
              "341                     Day of the Doctor, The (2013)  ...  3.916949\n",
              "342               Guess Who's Coming to Dinner (1967)  ...  4.046516\n",
              "343                             Paths of Glory (1957)  ...  4.070384\n",
              "\n",
              "[5 rows x 4 columns]"
            ]
          },
          "metadata": {
            "tags": []
          },
          "execution_count": 59
        }
      ]
    },
    {
      "cell_type": "code",
      "metadata": {
        "id": "lQ-_0yAgJTXE"
      },
      "source": [
        "eligible = eligible.sort_values('score', ascending=False)"
      ],
      "execution_count": 60,
      "outputs": []
    },
    {
      "cell_type": "code",
      "metadata": {
        "colab": {
          "base_uri": "https://localhost:8080/",
          "height": 449
        },
        "id": "sh9bHN2VJcCt",
        "outputId": "0df5abca-4bcd-464b-e6ec-b691b1a41521"
      },
      "source": [
        "plt.gca().invert_yaxis()\n",
        "plt.barh(eligible['title'].head(10), eligible['score'].head(10), align='center')"
      ],
      "execution_count": 61,
      "outputs": [
        {
          "output_type": "execute_result",
          "data": {
            "text/plain": [
              "<BarContainer object of 10 artists>"
            ]
          },
          "metadata": {
            "tags": []
          },
          "execution_count": 61
        },
        {
          "output_type": "display_data",
          "data": {
            "image/png": "[encoded data removed]",
            "text/plain": [
              "<Figure size 1008x504 with 1 Axes>"
            ]
          },
          "metadata": {
            "tags": []
          }
        }
      ]
    },
    {
      "cell_type": "markdown",
      "metadata": {
        "id": "mjAqw9c3e6sb"
      },
      "source": [
        "Shawshank Redemption got the highest weighted score."
      ]
    },
    {
      "cell_type": "markdown",
      "metadata": {
        "id": "xN2xSKXgLDnT"
      },
      "source": [
        "## Genre based Recommendation"
      ]
    },
    {
      "cell_type": "code",
      "metadata": {
        "colab": {
          "base_uri": "https://localhost:8080/"
        },
        "id": "464X2F27LGli",
        "outputId": "06275bde-1bdc-426b-d2a9-67db1c2cd08a"
      },
      "source": [
        "eligible.shape"
      ],
      "execution_count": 62,
      "outputs": [
        {
          "output_type": "execute_result",
          "data": {
            "text/plain": [
              "(2948, 4)"
            ]
          },
          "metadata": {
            "tags": []
          },
          "execution_count": 62
        }
      ]
    },
    {
      "cell_type": "code",
      "metadata": {
        "colab": {
          "base_uri": "https://localhost:8080/"
        },
        "id": "o9Q42QEQMegc",
        "outputId": "dda6e6cd-f0cf-49c2-c83a-1cc7559508d7"
      },
      "source": [
        "df_movies_new.shape"
      ],
      "execution_count": 63,
      "outputs": [
        {
          "output_type": "execute_result",
          "data": {
            "text/plain": [
              "(9737, 23)"
            ]
          },
          "metadata": {
            "tags": []
          },
          "execution_count": 63
        }
      ]
    },
    {
      "cell_type": "code",
      "metadata": {
        "colab": {
          "base_uri": "https://localhost:8080/"
        },
        "id": "WbW91fceLGjC",
        "outputId": "cf347a1d-182d-4a8c-dca7-9359efad533f"
      },
      "source": [
        "eligible_movies_full = pd.merge(df_movies_new, eligible, on='title')\n",
        "eligible_movies_full.shape"
      ],
      "execution_count": 64,
      "outputs": [
        {
          "output_type": "execute_result",
          "data": {
            "text/plain": [
              "(2948, 26)"
            ]
          },
          "metadata": {
            "tags": []
          },
          "execution_count": 64
        }
      ]
    },
    {
      "cell_type": "code",
      "metadata": {
        "colab": {
          "base_uri": "https://localhost:8080/",
          "height": 290
        },
        "id": "lIKBar15NF8_",
        "outputId": "d27a74bc-2c61-4459-fe70-ad541e5abbd6"
      },
      "source": [
        "eligible_movies_full.head(3)"
      ],
      "execution_count": 65,
      "outputs": [
        {
          "output_type": "execute_result",
          "data": {
            "text/html": [
              "<div>\n",
              "<style scoped>\n",
              "    .dataframe tbody tr th:only-of-type {\n",
              "        vertical-align: middle;\n",
              "    }\n",
              "\n",
              "    .dataframe tbody tr th {\n",
              "        vertical-align: top;\n",
              "    }\n",
              "\n",
              "    .dataframe thead th {\n",
              "        text-align: right;\n",
              "    }\n",
              "</style>\n",
              "<table border=\"1\" class=\"dataframe\">\n",
              "  <thead>\n",
              "    <tr style=\"text-align: right;\">\n",
              "      <th></th>\n",
              "      <th>movieid</th>\n",
              "      <th>title</th>\n",
              "      <th>genres</th>\n",
              "      <th>adventure</th>\n",
              "      <th>animation</th>\n",
              "      <th>children</th>\n",
              "      <th>comedy</th>\n",
              "      <th>fantasy</th>\n",
              "      <th>romance</th>\n",
              "      <th>drama</th>\n",
              "      <th>action</th>\n",
              "      <th>crime</th>\n",
              "      <th>thriller</th>\n",
              "      <th>horror</th>\n",
              "      <th>mystery</th>\n",
              "      <th>sci_fi</th>\n",
              "      <th>war</th>\n",
              "      <th>musical</th>\n",
              "      <th>documentary</th>\n",
              "      <th>imax</th>\n",
              "      <th>western</th>\n",
              "      <th>film_noir</th>\n",
              "      <th>no_genres</th>\n",
              "      <th>mean_rating</th>\n",
              "      <th>no_of_ratings</th>\n",
              "      <th>score</th>\n",
              "    </tr>\n",
              "  </thead>\n",
              "  <tbody>\n",
              "    <tr>\n",
              "      <th>0</th>\n",
              "      <td>1</td>\n",
              "      <td>Toy Story (1995)</td>\n",
              "      <td>Adventure Animation Children Comedy Fantasy</td>\n",
              "      <td>1</td>\n",
              "      <td>1</td>\n",
              "      <td>1</td>\n",
              "      <td>1</td>\n",
              "      <td>1</td>\n",
              "      <td>0</td>\n",
              "      <td>0</td>\n",
              "      <td>0</td>\n",
              "      <td>0</td>\n",
              "      <td>0</td>\n",
              "      <td>0</td>\n",
              "      <td>0</td>\n",
              "      <td>0</td>\n",
              "      <td>0</td>\n",
              "      <td>0</td>\n",
              "      <td>0</td>\n",
              "      <td>0</td>\n",
              "      <td>0</td>\n",
              "      <td>0</td>\n",
              "      <td>0</td>\n",
              "      <td>3.920930</td>\n",
              "      <td>215</td>\n",
              "      <td>3.900168</td>\n",
              "    </tr>\n",
              "    <tr>\n",
              "      <th>1</th>\n",
              "      <td>2</td>\n",
              "      <td>Jumanji (1995)</td>\n",
              "      <td>Adventure Children Fantasy</td>\n",
              "      <td>1</td>\n",
              "      <td>0</td>\n",
              "      <td>1</td>\n",
              "      <td>0</td>\n",
              "      <td>1</td>\n",
              "      <td>0</td>\n",
              "      <td>0</td>\n",
              "      <td>0</td>\n",
              "      <td>0</td>\n",
              "      <td>0</td>\n",
              "      <td>0</td>\n",
              "      <td>0</td>\n",
              "      <td>0</td>\n",
              "      <td>0</td>\n",
              "      <td>0</td>\n",
              "      <td>0</td>\n",
              "      <td>0</td>\n",
              "      <td>0</td>\n",
              "      <td>0</td>\n",
              "      <td>0</td>\n",
              "      <td>3.431818</td>\n",
              "      <td>110</td>\n",
              "      <td>3.421686</td>\n",
              "    </tr>\n",
              "    <tr>\n",
              "      <th>2</th>\n",
              "      <td>3</td>\n",
              "      <td>Grumpier Old Men (1995)</td>\n",
              "      <td>Comedy Romance</td>\n",
              "      <td>0</td>\n",
              "      <td>0</td>\n",
              "      <td>0</td>\n",
              "      <td>1</td>\n",
              "      <td>0</td>\n",
              "      <td>1</td>\n",
              "      <td>0</td>\n",
              "      <td>0</td>\n",
              "      <td>0</td>\n",
              "      <td>0</td>\n",
              "      <td>0</td>\n",
              "      <td>0</td>\n",
              "      <td>0</td>\n",
              "      <td>0</td>\n",
              "      <td>0</td>\n",
              "      <td>0</td>\n",
              "      <td>0</td>\n",
              "      <td>0</td>\n",
              "      <td>0</td>\n",
              "      <td>0</td>\n",
              "      <td>3.259615</td>\n",
              "      <td>52</td>\n",
              "      <td>3.259954</td>\n",
              "    </tr>\n",
              "  </tbody>\n",
              "</table>\n",
              "</div>"
            ],
            "text/plain": [
              "   movieid                    title  ... no_of_ratings     score\n",
              "0        1         Toy Story (1995)  ...           215  3.900168\n",
              "1        2           Jumanji (1995)  ...           110  3.421686\n",
              "2        3  Grumpier Old Men (1995)  ...            52  3.259954\n",
              "\n",
              "[3 rows x 26 columns]"
            ]
          },
          "metadata": {
            "tags": []
          },
          "execution_count": 65
        }
      ]
    },
    {
      "cell_type": "code",
      "metadata": {
        "id": "zYl9ywMuOSqO"
      },
      "source": [
        "def genre_wise_movies(genre):\n",
        "  return eligible_movies_full[eligible_movies_full[genre]==1].sort_values('score', ascending=False)[['title', 'genres', 'score']].head()"
      ],
      "execution_count": 66,
      "outputs": []
    },
    {
      "cell_type": "markdown",
      "metadata": {
        "id": "cVkiUN5ogLR1"
      },
      "source": [
        "Following are the recommended movies when genre is selected as 'adventure'."
      ]
    },
    {
      "cell_type": "code",
      "metadata": {
        "colab": {
          "base_uri": "https://localhost:8080/",
          "height": 194
        },
        "id": "JcRzUpcuOq7M",
        "outputId": "26d746d1-e11d-4c0f-f277-8e0f414f6ff0"
      },
      "source": [
        "genre_wise_movies('adventure')"
      ],
      "execution_count": 67,
      "outputs": [
        {
          "output_type": "execute_result",
          "data": {
            "text/html": [
              "<div>\n",
              "<style scoped>\n",
              "    .dataframe tbody tr th:only-of-type {\n",
              "        vertical-align: middle;\n",
              "    }\n",
              "\n",
              "    .dataframe tbody tr th {\n",
              "        vertical-align: top;\n",
              "    }\n",
              "\n",
              "    .dataframe thead th {\n",
              "        text-align: right;\n",
              "    }\n",
              "</style>\n",
              "<table border=\"1\" class=\"dataframe\">\n",
              "  <thead>\n",
              "    <tr style=\"text-align: right;\">\n",
              "      <th></th>\n",
              "      <th>title</th>\n",
              "      <th>genres</th>\n",
              "      <th>score</th>\n",
              "    </tr>\n",
              "  </thead>\n",
              "  <tbody>\n",
              "    <tr>\n",
              "      <th>152</th>\n",
              "      <td>Star Wars: Episode IV - A New Hope (1977)</td>\n",
              "      <td>Action Adventure Sci-Fi</td>\n",
              "      <td>4.204796</td>\n",
              "    </tr>\n",
              "    <tr>\n",
              "      <th>546</th>\n",
              "      <td>Princess Bride, The (1987)</td>\n",
              "      <td>Action Adventure Comedy Fantasy Romance</td>\n",
              "      <td>4.186827</td>\n",
              "    </tr>\n",
              "    <tr>\n",
              "      <th>545</th>\n",
              "      <td>Star Wars: Episode V - The Empire Strikes Back...</td>\n",
              "      <td>Action Adventure Sci-Fi</td>\n",
              "      <td>4.185033</td>\n",
              "    </tr>\n",
              "    <tr>\n",
              "      <th>547</th>\n",
              "      <td>Raiders of the Lost Ark (Indiana Jones and the...</td>\n",
              "      <td>Action Adventure</td>\n",
              "      <td>4.175542</td>\n",
              "    </tr>\n",
              "    <tr>\n",
              "      <th>553</th>\n",
              "      <td>Lawrence of Arabia (1962)</td>\n",
              "      <td>Adventure Drama War</td>\n",
              "      <td>4.160333</td>\n",
              "    </tr>\n",
              "  </tbody>\n",
              "</table>\n",
              "</div>"
            ],
            "text/plain": [
              "                                                 title  ...     score\n",
              "152          Star Wars: Episode IV - A New Hope (1977)  ...  4.204796\n",
              "546                         Princess Bride, The (1987)  ...  4.186827\n",
              "545  Star Wars: Episode V - The Empire Strikes Back...  ...  4.185033\n",
              "547  Raiders of the Lost Ark (Indiana Jones and the...  ...  4.175542\n",
              "553                          Lawrence of Arabia (1962)  ...  4.160333\n",
              "\n",
              "[5 rows x 3 columns]"
            ]
          },
          "metadata": {
            "tags": []
          },
          "execution_count": 67
        }
      ]
    },
    {
      "cell_type": "markdown",
      "metadata": {
        "id": "d5PqLkprgZbD"
      },
      "source": [
        "Following are the recommended movies when genre is selected as 'comedy'."
      ]
    },
    {
      "cell_type": "code",
      "metadata": {
        "colab": {
          "base_uri": "https://localhost:8080/",
          "height": 194
        },
        "id": "lhlPMn0_NNNP",
        "outputId": "b93acf67-2801-444d-f515-07cd937eb153"
      },
      "source": [
        "genre_wise_movies('comedy')"
      ],
      "execution_count": 68,
      "outputs": [
        {
          "output_type": "execute_result",
          "data": {
            "text/html": [
              "<div>\n",
              "<style scoped>\n",
              "    .dataframe tbody tr th:only-of-type {\n",
              "        vertical-align: middle;\n",
              "    }\n",
              "\n",
              "    .dataframe tbody tr th {\n",
              "        vertical-align: top;\n",
              "    }\n",
              "\n",
              "    .dataframe thead th {\n",
              "        text-align: right;\n",
              "    }\n",
              "</style>\n",
              "<table border=\"1\" class=\"dataframe\">\n",
              "  <thead>\n",
              "    <tr style=\"text-align: right;\">\n",
              "      <th></th>\n",
              "      <th>title</th>\n",
              "      <th>genres</th>\n",
              "      <th>score</th>\n",
              "    </tr>\n",
              "  </thead>\n",
              "  <tbody>\n",
              "    <tr>\n",
              "      <th>374</th>\n",
              "      <td>Dr. Strangelove or: How I Learned to Stop Worr...</td>\n",
              "      <td>Comedy War</td>\n",
              "      <td>4.200359</td>\n",
              "    </tr>\n",
              "    <tr>\n",
              "      <th>546</th>\n",
              "      <td>Princess Bride, The (1987)</td>\n",
              "      <td>Action Adventure Comedy Fantasy Romance</td>\n",
              "      <td>4.186827</td>\n",
              "    </tr>\n",
              "    <tr>\n",
              "      <th>171</th>\n",
              "      <td>Pulp Fiction (1994)</td>\n",
              "      <td>Comedy Crime Drama Thriller</td>\n",
              "      <td>4.176233</td>\n",
              "    </tr>\n",
              "    <tr>\n",
              "      <th>204</th>\n",
              "      <td>Forrest Gump (1994)</td>\n",
              "      <td>Comedy Drama Romance War</td>\n",
              "      <td>4.145349</td>\n",
              "    </tr>\n",
              "    <tr>\n",
              "      <th>1769</th>\n",
              "      <td>Amelie (Fabuleux destin d'Amélie Poulain, Le) ...</td>\n",
              "      <td>Comedy Romance</td>\n",
              "      <td>4.132577</td>\n",
              "    </tr>\n",
              "  </tbody>\n",
              "</table>\n",
              "</div>"
            ],
            "text/plain": [
              "                                                  title  ...     score\n",
              "374   Dr. Strangelove or: How I Learned to Stop Worr...  ...  4.200359\n",
              "546                          Princess Bride, The (1987)  ...  4.186827\n",
              "171                                 Pulp Fiction (1994)  ...  4.176233\n",
              "204                                 Forrest Gump (1994)  ...  4.145349\n",
              "1769  Amelie (Fabuleux destin d'Amélie Poulain, Le) ...  ...  4.132577\n",
              "\n",
              "[5 rows x 3 columns]"
            ]
          },
          "metadata": {
            "tags": []
          },
          "execution_count": 68
        }
      ]
    },
    {
      "cell_type": "markdown",
      "metadata": {
        "id": "FyihqyQagcAM"
      },
      "source": [
        "Following are the recommended movies when genre is selected as 'action'."
      ]
    },
    {
      "cell_type": "code",
      "metadata": {
        "colab": {
          "base_uri": "https://localhost:8080/",
          "height": 194
        },
        "id": "iPP6Fl-IO28f",
        "outputId": "9b526942-9fb1-46cf-d92d-70941c9e2932"
      },
      "source": [
        "genre_wise_movies('action')"
      ],
      "execution_count": 69,
      "outputs": [
        {
          "output_type": "execute_result",
          "data": {
            "text/html": [
              "<div>\n",
              "<style scoped>\n",
              "    .dataframe tbody tr th:only-of-type {\n",
              "        vertical-align: middle;\n",
              "    }\n",
              "\n",
              "    .dataframe tbody tr th {\n",
              "        vertical-align: top;\n",
              "    }\n",
              "\n",
              "    .dataframe thead th {\n",
              "        text-align: right;\n",
              "    }\n",
              "</style>\n",
              "<table border=\"1\" class=\"dataframe\">\n",
              "  <thead>\n",
              "    <tr style=\"text-align: right;\">\n",
              "      <th></th>\n",
              "      <th>title</th>\n",
              "      <th>genres</th>\n",
              "      <th>score</th>\n",
              "    </tr>\n",
              "  </thead>\n",
              "  <tbody>\n",
              "    <tr>\n",
              "      <th>1276</th>\n",
              "      <td>Fight Club (1999)</td>\n",
              "      <td>Action Crime Drama Thriller</td>\n",
              "      <td>4.241499</td>\n",
              "    </tr>\n",
              "    <tr>\n",
              "      <th>152</th>\n",
              "      <td>Star Wars: Episode IV - A New Hope (1977)</td>\n",
              "      <td>Action Adventure Sci-Fi</td>\n",
              "      <td>4.204796</td>\n",
              "    </tr>\n",
              "    <tr>\n",
              "      <th>2479</th>\n",
              "      <td>Dark Knight, The (2008)</td>\n",
              "      <td>Action Crime Drama IMAX</td>\n",
              "      <td>4.194470</td>\n",
              "    </tr>\n",
              "    <tr>\n",
              "      <th>546</th>\n",
              "      <td>Princess Bride, The (1987)</td>\n",
              "      <td>Action Adventure Comedy Fantasy Romance</td>\n",
              "      <td>4.186827</td>\n",
              "    </tr>\n",
              "    <tr>\n",
              "      <th>545</th>\n",
              "      <td>Star Wars: Episode V - The Empire Strikes Back...</td>\n",
              "      <td>Action Adventure Sci-Fi</td>\n",
              "      <td>4.185033</td>\n",
              "    </tr>\n",
              "  </tbody>\n",
              "</table>\n",
              "</div>"
            ],
            "text/plain": [
              "                                                  title  ...     score\n",
              "1276                                  Fight Club (1999)  ...  4.241499\n",
              "152           Star Wars: Episode IV - A New Hope (1977)  ...  4.204796\n",
              "2479                            Dark Knight, The (2008)  ...  4.194470\n",
              "546                          Princess Bride, The (1987)  ...  4.186827\n",
              "545   Star Wars: Episode V - The Empire Strikes Back...  ...  4.185033\n",
              "\n",
              "[5 rows x 3 columns]"
            ]
          },
          "metadata": {
            "tags": []
          },
          "execution_count": 69
        }
      ]
    },
    {
      "cell_type": "markdown",
      "metadata": {
        "id": "HBtDhZ4AMMd_"
      },
      "source": [
        "## Item-based Collaborative Filtering"
      ]
    },
    {
      "cell_type": "markdown",
      "metadata": {
        "id": "_cNeeVPVnfj9"
      },
      "source": [
        "### Recommending using Pearson Correlation"
      ]
    },
    {
      "cell_type": "code",
      "metadata": {
        "colab": {
          "base_uri": "https://localhost:8080/",
          "height": 441
        },
        "id": "J3E9UD45niTv",
        "outputId": "dc22014d-e5e6-4160-ccd4-8715d6f58ae4"
      },
      "source": [
        "movie_matrix = movie_rating.pivot_table(index='userid', columns='title', values='rating')\n",
        "movie_matrix.head()"
      ],
      "execution_count": 70,
      "outputs": [
        {
          "output_type": "execute_result",
          "data": {
            "text/html": [
              "<div>\n",
              "<style scoped>\n",
              "    .dataframe tbody tr th:only-of-type {\n",
              "        vertical-align: middle;\n",
              "    }\n",
              "\n",
              "    .dataframe tbody tr th {\n",
              "        vertical-align: top;\n",
              "    }\n",
              "\n",
              "    .dataframe thead th {\n",
              "        text-align: right;\n",
              "    }\n",
              "</style>\n",
              "<table border=\"1\" class=\"dataframe\">\n",
              "  <thead>\n",
              "    <tr style=\"text-align: right;\">\n",
              "      <th>title</th>\n",
              "      <th>'71 (2014)</th>\n",
              "      <th>'Hellboy': The Seeds of Creation (2004)</th>\n",
              "      <th>'Round Midnight (1986)</th>\n",
              "      <th>'Salem's Lot (2004)</th>\n",
              "      <th>'Til There Was You (1997)</th>\n",
              "      <th>'Tis the Season for Love (2015)</th>\n",
              "      <th>'burbs, The (1989)</th>\n",
              "      <th>'night Mother (1986)</th>\n",
              "      <th>(500) Days of Summer (2009)</th>\n",
              "      <th>*batteries not included (1987)</th>\n",
              "      <th>...All the Marbles (1981)</th>\n",
              "      <th>...And Justice for All (1979)</th>\n",
              "      <th>00 Schneider - Jagd auf Nihil Baxter (1994)</th>\n",
              "      <th>1-900 (06) (1994)</th>\n",
              "      <th>10 (1979)</th>\n",
              "      <th>10 Cent Pistol (2015)</th>\n",
              "      <th>10 Cloverfield Lane (2016)</th>\n",
              "      <th>10 Items or Less (2006)</th>\n",
              "      <th>10 Things I Hate About You (1999)</th>\n",
              "      <th>10 Years (2011)</th>\n",
              "      <th>10,000 BC (2008)</th>\n",
              "      <th>100 Girls (2000)</th>\n",
              "      <th>100 Streets (2016)</th>\n",
              "      <th>101 Dalmatians (1996)</th>\n",
              "      <th>101 Dalmatians (One Hundred and One Dalmatians) (1961)</th>\n",
              "      <th>101 Dalmatians II: Patch's London Adventure (2003)</th>\n",
              "      <th>101 Reykjavik (101 Reykjavík) (2000)</th>\n",
              "      <th>102 Dalmatians (2000)</th>\n",
              "      <th>10th &amp; Wolf (2006)</th>\n",
              "      <th>10th Kingdom, The (2000)</th>\n",
              "      <th>10th Victim, The (La decima vittima) (1965)</th>\n",
              "      <th>11'09\"01 - September 11 (2002)</th>\n",
              "      <th>11:14 (2003)</th>\n",
              "      <th>11th Hour, The (2007)</th>\n",
              "      <th>12 Angry Men (1957)</th>\n",
              "      <th>12 Angry Men (1997)</th>\n",
              "      <th>12 Chairs (1971)</th>\n",
              "      <th>12 Chairs (1976)</th>\n",
              "      <th>12 Rounds (2009)</th>\n",
              "      <th>12 Years a Slave (2013)</th>\n",
              "      <th>...</th>\n",
              "      <th>Zathura (2005)</th>\n",
              "      <th>Zatoichi and the Chest of Gold (Zatôichi senryô-kubi) (Zatôichi 6) (1964)</th>\n",
              "      <th>Zazie dans le métro (1960)</th>\n",
              "      <th>Zebraman (2004)</th>\n",
              "      <th>Zed &amp; Two Noughts, A (1985)</th>\n",
              "      <th>Zeitgeist: Addendum (2008)</th>\n",
              "      <th>Zeitgeist: Moving Forward (2011)</th>\n",
              "      <th>Zeitgeist: The Movie (2007)</th>\n",
              "      <th>Zelary (2003)</th>\n",
              "      <th>Zelig (1983)</th>\n",
              "      <th>Zero Dark Thirty (2012)</th>\n",
              "      <th>Zero Effect (1998)</th>\n",
              "      <th>Zero Theorem, The (2013)</th>\n",
              "      <th>Zero de conduite (Zero for Conduct) (Zéro de conduite: Jeunes diables au collège) (1933)</th>\n",
              "      <th>Zeus and Roxanne (1997)</th>\n",
              "      <th>Zipper (2015)</th>\n",
              "      <th>Zodiac (2007)</th>\n",
              "      <th>Zombeavers (2014)</th>\n",
              "      <th>Zombie (a.k.a. Zombie 2: The Dead Are Among Us) (Zombi 2) (1979)</th>\n",
              "      <th>Zombie Strippers! (2008)</th>\n",
              "      <th>Zombieland (2009)</th>\n",
              "      <th>Zone 39 (1997)</th>\n",
              "      <th>Zone, The (La Zona) (2007)</th>\n",
              "      <th>Zookeeper (2011)</th>\n",
              "      <th>Zoolander (2001)</th>\n",
              "      <th>Zoolander 2 (2016)</th>\n",
              "      <th>Zoom (2006)</th>\n",
              "      <th>Zoom (2015)</th>\n",
              "      <th>Zootopia (2016)</th>\n",
              "      <th>Zulu (1964)</th>\n",
              "      <th>Zulu (2013)</th>\n",
              "      <th>[REC] (2007)</th>\n",
              "      <th>[REC]² (2009)</th>\n",
              "      <th>[REC]³ 3 Génesis (2012)</th>\n",
              "      <th>anohana: The Flower We Saw That Day - The Movie (2013)</th>\n",
              "      <th>eXistenZ (1999)</th>\n",
              "      <th>xXx (2002)</th>\n",
              "      <th>xXx: State of the Union (2005)</th>\n",
              "      <th>¡Three Amigos! (1986)</th>\n",
              "      <th>À nous la liberté (Freedom for Us) (1931)</th>\n",
              "    </tr>\n",
              "    <tr>\n",
              "      <th>userid</th>\n",
              "      <th></th>\n",
              "      <th></th>\n",
              "      <th></th>\n",
              "      <th></th>\n",
              "      <th></th>\n",
              "      <th></th>\n",
              "      <th></th>\n",
              "      <th></th>\n",
              "      <th></th>\n",
              "      <th></th>\n",
              "      <th></th>\n",
              "      <th></th>\n",
              "      <th></th>\n",
              "      <th></th>\n",
              "      <th></th>\n",
              "      <th></th>\n",
              "      <th></th>\n",
              "      <th></th>\n",
              "      <th></th>\n",
              "      <th></th>\n",
              "      <th></th>\n",
              "      <th></th>\n",
              "      <th></th>\n",
              "      <th></th>\n",
              "      <th></th>\n",
              "      <th></th>\n",
              "      <th></th>\n",
              "      <th></th>\n",
              "      <th></th>\n",
              "      <th></th>\n",
              "      <th></th>\n",
              "      <th></th>\n",
              "      <th></th>\n",
              "      <th></th>\n",
              "      <th></th>\n",
              "      <th></th>\n",
              "      <th></th>\n",
              "      <th></th>\n",
              "      <th></th>\n",
              "      <th></th>\n",
              "      <th></th>\n",
              "      <th></th>\n",
              "      <th></th>\n",
              "      <th></th>\n",
              "      <th></th>\n",
              "      <th></th>\n",
              "      <th></th>\n",
              "      <th></th>\n",
              "      <th></th>\n",
              "      <th></th>\n",
              "      <th></th>\n",
              "      <th></th>\n",
              "      <th></th>\n",
              "      <th></th>\n",
              "      <th></th>\n",
              "      <th></th>\n",
              "      <th></th>\n",
              "      <th></th>\n",
              "      <th></th>\n",
              "      <th></th>\n",
              "      <th></th>\n",
              "      <th></th>\n",
              "      <th></th>\n",
              "      <th></th>\n",
              "      <th></th>\n",
              "      <th></th>\n",
              "      <th></th>\n",
              "      <th></th>\n",
              "      <th></th>\n",
              "      <th></th>\n",
              "      <th></th>\n",
              "      <th></th>\n",
              "      <th></th>\n",
              "      <th></th>\n",
              "      <th></th>\n",
              "      <th></th>\n",
              "      <th></th>\n",
              "      <th></th>\n",
              "      <th></th>\n",
              "      <th></th>\n",
              "      <th></th>\n",
              "    </tr>\n",
              "  </thead>\n",
              "  <tbody>\n",
              "    <tr>\n",
              "      <th>1</th>\n",
              "      <td>NaN</td>\n",
              "      <td>NaN</td>\n",
              "      <td>NaN</td>\n",
              "      <td>NaN</td>\n",
              "      <td>NaN</td>\n",
              "      <td>NaN</td>\n",
              "      <td>NaN</td>\n",
              "      <td>NaN</td>\n",
              "      <td>NaN</td>\n",
              "      <td>NaN</td>\n",
              "      <td>NaN</td>\n",
              "      <td>NaN</td>\n",
              "      <td>NaN</td>\n",
              "      <td>NaN</td>\n",
              "      <td>NaN</td>\n",
              "      <td>NaN</td>\n",
              "      <td>NaN</td>\n",
              "      <td>NaN</td>\n",
              "      <td>NaN</td>\n",
              "      <td>NaN</td>\n",
              "      <td>NaN</td>\n",
              "      <td>NaN</td>\n",
              "      <td>NaN</td>\n",
              "      <td>NaN</td>\n",
              "      <td>NaN</td>\n",
              "      <td>NaN</td>\n",
              "      <td>NaN</td>\n",
              "      <td>NaN</td>\n",
              "      <td>NaN</td>\n",
              "      <td>NaN</td>\n",
              "      <td>NaN</td>\n",
              "      <td>NaN</td>\n",
              "      <td>NaN</td>\n",
              "      <td>NaN</td>\n",
              "      <td>NaN</td>\n",
              "      <td>NaN</td>\n",
              "      <td>NaN</td>\n",
              "      <td>NaN</td>\n",
              "      <td>NaN</td>\n",
              "      <td>NaN</td>\n",
              "      <td>...</td>\n",
              "      <td>NaN</td>\n",
              "      <td>NaN</td>\n",
              "      <td>NaN</td>\n",
              "      <td>NaN</td>\n",
              "      <td>NaN</td>\n",
              "      <td>NaN</td>\n",
              "      <td>NaN</td>\n",
              "      <td>NaN</td>\n",
              "      <td>NaN</td>\n",
              "      <td>NaN</td>\n",
              "      <td>NaN</td>\n",
              "      <td>NaN</td>\n",
              "      <td>NaN</td>\n",
              "      <td>NaN</td>\n",
              "      <td>NaN</td>\n",
              "      <td>NaN</td>\n",
              "      <td>NaN</td>\n",
              "      <td>NaN</td>\n",
              "      <td>NaN</td>\n",
              "      <td>NaN</td>\n",
              "      <td>NaN</td>\n",
              "      <td>NaN</td>\n",
              "      <td>NaN</td>\n",
              "      <td>NaN</td>\n",
              "      <td>NaN</td>\n",
              "      <td>NaN</td>\n",
              "      <td>NaN</td>\n",
              "      <td>NaN</td>\n",
              "      <td>NaN</td>\n",
              "      <td>NaN</td>\n",
              "      <td>NaN</td>\n",
              "      <td>NaN</td>\n",
              "      <td>NaN</td>\n",
              "      <td>NaN</td>\n",
              "      <td>NaN</td>\n",
              "      <td>NaN</td>\n",
              "      <td>NaN</td>\n",
              "      <td>NaN</td>\n",
              "      <td>4.0</td>\n",
              "      <td>NaN</td>\n",
              "    </tr>\n",
              "    <tr>\n",
              "      <th>2</th>\n",
              "      <td>NaN</td>\n",
              "      <td>NaN</td>\n",
              "      <td>NaN</td>\n",
              "      <td>NaN</td>\n",
              "      <td>NaN</td>\n",
              "      <td>NaN</td>\n",
              "      <td>NaN</td>\n",
              "      <td>NaN</td>\n",
              "      <td>NaN</td>\n",
              "      <td>NaN</td>\n",
              "      <td>NaN</td>\n",
              "      <td>NaN</td>\n",
              "      <td>NaN</td>\n",
              "      <td>NaN</td>\n",
              "      <td>NaN</td>\n",
              "      <td>NaN</td>\n",
              "      <td>NaN</td>\n",
              "      <td>NaN</td>\n",
              "      <td>NaN</td>\n",
              "      <td>NaN</td>\n",
              "      <td>NaN</td>\n",
              "      <td>NaN</td>\n",
              "      <td>NaN</td>\n",
              "      <td>NaN</td>\n",
              "      <td>NaN</td>\n",
              "      <td>NaN</td>\n",
              "      <td>NaN</td>\n",
              "      <td>NaN</td>\n",
              "      <td>NaN</td>\n",
              "      <td>NaN</td>\n",
              "      <td>NaN</td>\n",
              "      <td>NaN</td>\n",
              "      <td>NaN</td>\n",
              "      <td>NaN</td>\n",
              "      <td>NaN</td>\n",
              "      <td>NaN</td>\n",
              "      <td>NaN</td>\n",
              "      <td>NaN</td>\n",
              "      <td>NaN</td>\n",
              "      <td>NaN</td>\n",
              "      <td>...</td>\n",
              "      <td>NaN</td>\n",
              "      <td>NaN</td>\n",
              "      <td>NaN</td>\n",
              "      <td>NaN</td>\n",
              "      <td>NaN</td>\n",
              "      <td>NaN</td>\n",
              "      <td>NaN</td>\n",
              "      <td>NaN</td>\n",
              "      <td>NaN</td>\n",
              "      <td>NaN</td>\n",
              "      <td>NaN</td>\n",
              "      <td>NaN</td>\n",
              "      <td>NaN</td>\n",
              "      <td>NaN</td>\n",
              "      <td>NaN</td>\n",
              "      <td>NaN</td>\n",
              "      <td>NaN</td>\n",
              "      <td>NaN</td>\n",
              "      <td>NaN</td>\n",
              "      <td>NaN</td>\n",
              "      <td>3.0</td>\n",
              "      <td>NaN</td>\n",
              "      <td>NaN</td>\n",
              "      <td>NaN</td>\n",
              "      <td>NaN</td>\n",
              "      <td>NaN</td>\n",
              "      <td>NaN</td>\n",
              "      <td>NaN</td>\n",
              "      <td>NaN</td>\n",
              "      <td>NaN</td>\n",
              "      <td>NaN</td>\n",
              "      <td>NaN</td>\n",
              "      <td>NaN</td>\n",
              "      <td>NaN</td>\n",
              "      <td>NaN</td>\n",
              "      <td>NaN</td>\n",
              "      <td>NaN</td>\n",
              "      <td>NaN</td>\n",
              "      <td>NaN</td>\n",
              "      <td>NaN</td>\n",
              "    </tr>\n",
              "    <tr>\n",
              "      <th>3</th>\n",
              "      <td>NaN</td>\n",
              "      <td>NaN</td>\n",
              "      <td>NaN</td>\n",
              "      <td>NaN</td>\n",
              "      <td>NaN</td>\n",
              "      <td>NaN</td>\n",
              "      <td>NaN</td>\n",
              "      <td>NaN</td>\n",
              "      <td>NaN</td>\n",
              "      <td>NaN</td>\n",
              "      <td>NaN</td>\n",
              "      <td>NaN</td>\n",
              "      <td>NaN</td>\n",
              "      <td>NaN</td>\n",
              "      <td>NaN</td>\n",
              "      <td>NaN</td>\n",
              "      <td>NaN</td>\n",
              "      <td>NaN</td>\n",
              "      <td>NaN</td>\n",
              "      <td>NaN</td>\n",
              "      <td>NaN</td>\n",
              "      <td>NaN</td>\n",
              "      <td>NaN</td>\n",
              "      <td>NaN</td>\n",
              "      <td>NaN</td>\n",
              "      <td>NaN</td>\n",
              "      <td>NaN</td>\n",
              "      <td>NaN</td>\n",
              "      <td>NaN</td>\n",
              "      <td>NaN</td>\n",
              "      <td>NaN</td>\n",
              "      <td>NaN</td>\n",
              "      <td>NaN</td>\n",
              "      <td>NaN</td>\n",
              "      <td>NaN</td>\n",
              "      <td>NaN</td>\n",
              "      <td>NaN</td>\n",
              "      <td>NaN</td>\n",
              "      <td>NaN</td>\n",
              "      <td>NaN</td>\n",
              "      <td>...</td>\n",
              "      <td>NaN</td>\n",
              "      <td>NaN</td>\n",
              "      <td>NaN</td>\n",
              "      <td>NaN</td>\n",
              "      <td>NaN</td>\n",
              "      <td>NaN</td>\n",
              "      <td>NaN</td>\n",
              "      <td>NaN</td>\n",
              "      <td>NaN</td>\n",
              "      <td>NaN</td>\n",
              "      <td>NaN</td>\n",
              "      <td>NaN</td>\n",
              "      <td>NaN</td>\n",
              "      <td>NaN</td>\n",
              "      <td>NaN</td>\n",
              "      <td>NaN</td>\n",
              "      <td>NaN</td>\n",
              "      <td>NaN</td>\n",
              "      <td>NaN</td>\n",
              "      <td>NaN</td>\n",
              "      <td>NaN</td>\n",
              "      <td>NaN</td>\n",
              "      <td>NaN</td>\n",
              "      <td>NaN</td>\n",
              "      <td>NaN</td>\n",
              "      <td>NaN</td>\n",
              "      <td>NaN</td>\n",
              "      <td>NaN</td>\n",
              "      <td>NaN</td>\n",
              "      <td>NaN</td>\n",
              "      <td>NaN</td>\n",
              "      <td>NaN</td>\n",
              "      <td>NaN</td>\n",
              "      <td>NaN</td>\n",
              "      <td>NaN</td>\n",
              "      <td>NaN</td>\n",
              "      <td>NaN</td>\n",
              "      <td>NaN</td>\n",
              "      <td>NaN</td>\n",
              "      <td>NaN</td>\n",
              "    </tr>\n",
              "    <tr>\n",
              "      <th>4</th>\n",
              "      <td>NaN</td>\n",
              "      <td>NaN</td>\n",
              "      <td>NaN</td>\n",
              "      <td>NaN</td>\n",
              "      <td>NaN</td>\n",
              "      <td>NaN</td>\n",
              "      <td>NaN</td>\n",
              "      <td>NaN</td>\n",
              "      <td>NaN</td>\n",
              "      <td>NaN</td>\n",
              "      <td>NaN</td>\n",
              "      <td>NaN</td>\n",
              "      <td>NaN</td>\n",
              "      <td>NaN</td>\n",
              "      <td>NaN</td>\n",
              "      <td>NaN</td>\n",
              "      <td>NaN</td>\n",
              "      <td>NaN</td>\n",
              "      <td>NaN</td>\n",
              "      <td>NaN</td>\n",
              "      <td>NaN</td>\n",
              "      <td>NaN</td>\n",
              "      <td>NaN</td>\n",
              "      <td>NaN</td>\n",
              "      <td>NaN</td>\n",
              "      <td>NaN</td>\n",
              "      <td>NaN</td>\n",
              "      <td>NaN</td>\n",
              "      <td>NaN</td>\n",
              "      <td>NaN</td>\n",
              "      <td>NaN</td>\n",
              "      <td>NaN</td>\n",
              "      <td>NaN</td>\n",
              "      <td>NaN</td>\n",
              "      <td>5.0</td>\n",
              "      <td>NaN</td>\n",
              "      <td>NaN</td>\n",
              "      <td>NaN</td>\n",
              "      <td>NaN</td>\n",
              "      <td>NaN</td>\n",
              "      <td>...</td>\n",
              "      <td>NaN</td>\n",
              "      <td>NaN</td>\n",
              "      <td>NaN</td>\n",
              "      <td>NaN</td>\n",
              "      <td>NaN</td>\n",
              "      <td>NaN</td>\n",
              "      <td>NaN</td>\n",
              "      <td>NaN</td>\n",
              "      <td>NaN</td>\n",
              "      <td>NaN</td>\n",
              "      <td>NaN</td>\n",
              "      <td>NaN</td>\n",
              "      <td>NaN</td>\n",
              "      <td>NaN</td>\n",
              "      <td>NaN</td>\n",
              "      <td>NaN</td>\n",
              "      <td>NaN</td>\n",
              "      <td>NaN</td>\n",
              "      <td>NaN</td>\n",
              "      <td>NaN</td>\n",
              "      <td>NaN</td>\n",
              "      <td>NaN</td>\n",
              "      <td>NaN</td>\n",
              "      <td>NaN</td>\n",
              "      <td>NaN</td>\n",
              "      <td>NaN</td>\n",
              "      <td>NaN</td>\n",
              "      <td>NaN</td>\n",
              "      <td>NaN</td>\n",
              "      <td>NaN</td>\n",
              "      <td>NaN</td>\n",
              "      <td>NaN</td>\n",
              "      <td>NaN</td>\n",
              "      <td>NaN</td>\n",
              "      <td>NaN</td>\n",
              "      <td>NaN</td>\n",
              "      <td>NaN</td>\n",
              "      <td>NaN</td>\n",
              "      <td>NaN</td>\n",
              "      <td>NaN</td>\n",
              "    </tr>\n",
              "    <tr>\n",
              "      <th>5</th>\n",
              "      <td>NaN</td>\n",
              "      <td>NaN</td>\n",
              "      <td>NaN</td>\n",
              "      <td>NaN</td>\n",
              "      <td>NaN</td>\n",
              "      <td>NaN</td>\n",
              "      <td>NaN</td>\n",
              "      <td>NaN</td>\n",
              "      <td>NaN</td>\n",
              "      <td>NaN</td>\n",
              "      <td>NaN</td>\n",
              "      <td>NaN</td>\n",
              "      <td>NaN</td>\n",
              "      <td>NaN</td>\n",
              "      <td>NaN</td>\n",
              "      <td>NaN</td>\n",
              "      <td>NaN</td>\n",
              "      <td>NaN</td>\n",
              "      <td>NaN</td>\n",
              "      <td>NaN</td>\n",
              "      <td>NaN</td>\n",
              "      <td>NaN</td>\n",
              "      <td>NaN</td>\n",
              "      <td>NaN</td>\n",
              "      <td>NaN</td>\n",
              "      <td>NaN</td>\n",
              "      <td>NaN</td>\n",
              "      <td>NaN</td>\n",
              "      <td>NaN</td>\n",
              "      <td>NaN</td>\n",
              "      <td>NaN</td>\n",
              "      <td>NaN</td>\n",
              "      <td>NaN</td>\n",
              "      <td>NaN</td>\n",
              "      <td>NaN</td>\n",
              "      <td>NaN</td>\n",
              "      <td>NaN</td>\n",
              "      <td>NaN</td>\n",
              "      <td>NaN</td>\n",
              "      <td>NaN</td>\n",
              "      <td>...</td>\n",
              "      <td>NaN</td>\n",
              "      <td>NaN</td>\n",
              "      <td>NaN</td>\n",
              "      <td>NaN</td>\n",
              "      <td>NaN</td>\n",
              "      <td>NaN</td>\n",
              "      <td>NaN</td>\n",
              "      <td>NaN</td>\n",
              "      <td>NaN</td>\n",
              "      <td>NaN</td>\n",
              "      <td>NaN</td>\n",
              "      <td>NaN</td>\n",
              "      <td>NaN</td>\n",
              "      <td>NaN</td>\n",
              "      <td>NaN</td>\n",
              "      <td>NaN</td>\n",
              "      <td>NaN</td>\n",
              "      <td>NaN</td>\n",
              "      <td>NaN</td>\n",
              "      <td>NaN</td>\n",
              "      <td>NaN</td>\n",
              "      <td>NaN</td>\n",
              "      <td>NaN</td>\n",
              "      <td>NaN</td>\n",
              "      <td>NaN</td>\n",
              "      <td>NaN</td>\n",
              "      <td>NaN</td>\n",
              "      <td>NaN</td>\n",
              "      <td>NaN</td>\n",
              "      <td>NaN</td>\n",
              "      <td>NaN</td>\n",
              "      <td>NaN</td>\n",
              "      <td>NaN</td>\n",
              "      <td>NaN</td>\n",
              "      <td>NaN</td>\n",
              "      <td>NaN</td>\n",
              "      <td>NaN</td>\n",
              "      <td>NaN</td>\n",
              "      <td>NaN</td>\n",
              "      <td>NaN</td>\n",
              "    </tr>\n",
              "  </tbody>\n",
              "</table>\n",
              "<p>5 rows × 9719 columns</p>\n",
              "</div>"
            ],
            "text/plain": [
              "title   '71 (2014)  ...  À nous la liberté (Freedom for Us) (1931)\n",
              "userid              ...                                           \n",
              "1              NaN  ...                                        NaN\n",
              "2              NaN  ...                                        NaN\n",
              "3              NaN  ...                                        NaN\n",
              "4              NaN  ...                                        NaN\n",
              "5              NaN  ...                                        NaN\n",
              "\n",
              "[5 rows x 9719 columns]"
            ]
          },
          "metadata": {
            "tags": []
          },
          "execution_count": 70
        }
      ]
    },
    {
      "cell_type": "code",
      "metadata": {
        "colab": {
          "base_uri": "https://localhost:8080/"
        },
        "id": "daXDZgboORCb",
        "outputId": "a783c020-04c7-4a3e-fff8-2f15a7ded375"
      },
      "source": [
        "movie_matrix.shape"
      ],
      "execution_count": 71,
      "outputs": [
        {
          "output_type": "execute_result",
          "data": {
            "text/plain": [
              "(610, 9719)"
            ]
          },
          "metadata": {
            "tags": []
          },
          "execution_count": 71
        }
      ]
    },
    {
      "cell_type": "code",
      "metadata": {
        "colab": {
          "base_uri": "https://localhost:8080/"
        },
        "id": "_GQ8c8ZIo64E",
        "outputId": "4c672229-551c-440c-a952-9ad6872d4c2b"
      },
      "source": [
        "movie_matrix['Titanic (1997)'].tail()"
      ],
      "execution_count": 72,
      "outputs": [
        {
          "output_type": "execute_result",
          "data": {
            "text/plain": [
              "userid\n",
              "606    4.0\n",
              "607    NaN\n",
              "608    2.0\n",
              "609    NaN\n",
              "610    3.0\n",
              "Name: Titanic (1997), dtype: float64"
            ]
          },
          "metadata": {
            "tags": []
          },
          "execution_count": 72
        }
      ]
    },
    {
      "cell_type": "code",
      "metadata": {
        "colab": {
          "base_uri": "https://localhost:8080/"
        },
        "id": "qGNriqMq8aao",
        "outputId": "67944d9f-04bb-4437-9705-b8b37876c4a6"
      },
      "source": [
        "movie_matrix.corrwith(movie_matrix['Titanic (1997)']).sort_values(ascending=False).head()"
      ],
      "execution_count": 73,
      "outputs": [
        {
          "output_type": "execute_result",
          "data": {
            "text/plain": [
              "title\n",
              "Gossip (2000)                1.0\n",
              "White Man's Burden (1995)    1.0\n",
              "Rapid Fire (1992)            1.0\n",
              "Imaginary Heroes (2004)      1.0\n",
              "Killer Elite (2011)          1.0\n",
              "dtype: float64"
            ]
          },
          "metadata": {
            "tags": []
          },
          "execution_count": 73
        }
      ]
    },
    {
      "cell_type": "markdown",
      "metadata": {
        "id": "FbgrgqtuhP2w"
      },
      "source": [
        "Above are the top correlated/recommended movies with Titanic."
      ]
    },
    {
      "cell_type": "markdown",
      "metadata": {
        "id": "s6A3Fm-nB34F"
      },
      "source": [
        "### Recommending using Cosine Similarity"
      ]
    },
    {
      "cell_type": "code",
      "metadata": {
        "colab": {
          "base_uri": "https://localhost:8080/",
          "height": 484
        },
        "id": "b8JEfmKZ1Efp",
        "outputId": "c41606f5-21fd-4dbe-ae2c-67d457f3d710"
      },
      "source": [
        "eligible_movies_full.tail()"
      ],
      "execution_count": 74,
      "outputs": [
        {
          "output_type": "execute_result",
          "data": {
            "text/html": [
              "<div>\n",
              "<style scoped>\n",
              "    .dataframe tbody tr th:only-of-type {\n",
              "        vertical-align: middle;\n",
              "    }\n",
              "\n",
              "    .dataframe tbody tr th {\n",
              "        vertical-align: top;\n",
              "    }\n",
              "\n",
              "    .dataframe thead th {\n",
              "        text-align: right;\n",
              "    }\n",
              "</style>\n",
              "<table border=\"1\" class=\"dataframe\">\n",
              "  <thead>\n",
              "    <tr style=\"text-align: right;\">\n",
              "      <th></th>\n",
              "      <th>movieid</th>\n",
              "      <th>title</th>\n",
              "      <th>genres</th>\n",
              "      <th>adventure</th>\n",
              "      <th>animation</th>\n",
              "      <th>children</th>\n",
              "      <th>comedy</th>\n",
              "      <th>fantasy</th>\n",
              "      <th>romance</th>\n",
              "      <th>drama</th>\n",
              "      <th>action</th>\n",
              "      <th>crime</th>\n",
              "      <th>thriller</th>\n",
              "      <th>horror</th>\n",
              "      <th>mystery</th>\n",
              "      <th>sci_fi</th>\n",
              "      <th>war</th>\n",
              "      <th>musical</th>\n",
              "      <th>documentary</th>\n",
              "      <th>imax</th>\n",
              "      <th>western</th>\n",
              "      <th>film_noir</th>\n",
              "      <th>no_genres</th>\n",
              "      <th>mean_rating</th>\n",
              "      <th>no_of_ratings</th>\n",
              "      <th>score</th>\n",
              "    </tr>\n",
              "  </thead>\n",
              "  <tbody>\n",
              "    <tr>\n",
              "      <th>2943</th>\n",
              "      <td>177593</td>\n",
              "      <td>Three Billboards Outside Ebbing, Missouri (2017)</td>\n",
              "      <td>Crime Drama</td>\n",
              "      <td>0</td>\n",
              "      <td>0</td>\n",
              "      <td>0</td>\n",
              "      <td>0</td>\n",
              "      <td>0</td>\n",
              "      <td>0</td>\n",
              "      <td>1</td>\n",
              "      <td>0</td>\n",
              "      <td>1</td>\n",
              "      <td>0</td>\n",
              "      <td>0</td>\n",
              "      <td>0</td>\n",
              "      <td>0</td>\n",
              "      <td>0</td>\n",
              "      <td>0</td>\n",
              "      <td>0</td>\n",
              "      <td>0</td>\n",
              "      <td>0</td>\n",
              "      <td>0</td>\n",
              "      <td>0</td>\n",
              "      <td>4.750000</td>\n",
              "      <td>8</td>\n",
              "      <td>4.055819</td>\n",
              "    </tr>\n",
              "    <tr>\n",
              "      <th>2944</th>\n",
              "      <td>177765</td>\n",
              "      <td>Coco (2017)</td>\n",
              "      <td>Adventure Animation Children</td>\n",
              "      <td>1</td>\n",
              "      <td>1</td>\n",
              "      <td>1</td>\n",
              "      <td>0</td>\n",
              "      <td>0</td>\n",
              "      <td>0</td>\n",
              "      <td>0</td>\n",
              "      <td>0</td>\n",
              "      <td>0</td>\n",
              "      <td>0</td>\n",
              "      <td>0</td>\n",
              "      <td>0</td>\n",
              "      <td>0</td>\n",
              "      <td>0</td>\n",
              "      <td>0</td>\n",
              "      <td>0</td>\n",
              "      <td>0</td>\n",
              "      <td>0</td>\n",
              "      <td>0</td>\n",
              "      <td>0</td>\n",
              "      <td>3.538462</td>\n",
              "      <td>13</td>\n",
              "      <td>3.441865</td>\n",
              "    </tr>\n",
              "    <tr>\n",
              "      <th>2945</th>\n",
              "      <td>179819</td>\n",
              "      <td>Star Wars: The Last Jedi (2017)</td>\n",
              "      <td>Action Adventure Fantasy Sci-Fi</td>\n",
              "      <td>1</td>\n",
              "      <td>0</td>\n",
              "      <td>0</td>\n",
              "      <td>0</td>\n",
              "      <td>1</td>\n",
              "      <td>0</td>\n",
              "      <td>0</td>\n",
              "      <td>1</td>\n",
              "      <td>0</td>\n",
              "      <td>0</td>\n",
              "      <td>0</td>\n",
              "      <td>0</td>\n",
              "      <td>1</td>\n",
              "      <td>0</td>\n",
              "      <td>0</td>\n",
              "      <td>0</td>\n",
              "      <td>0</td>\n",
              "      <td>0</td>\n",
              "      <td>0</td>\n",
              "      <td>0</td>\n",
              "      <td>3.125000</td>\n",
              "      <td>12</td>\n",
              "      <td>3.175647</td>\n",
              "    </tr>\n",
              "    <tr>\n",
              "      <th>2946</th>\n",
              "      <td>180031</td>\n",
              "      <td>The Shape of Water (2017)</td>\n",
              "      <td>Adventure Drama Fantasy</td>\n",
              "      <td>1</td>\n",
              "      <td>0</td>\n",
              "      <td>0</td>\n",
              "      <td>0</td>\n",
              "      <td>1</td>\n",
              "      <td>0</td>\n",
              "      <td>1</td>\n",
              "      <td>0</td>\n",
              "      <td>0</td>\n",
              "      <td>0</td>\n",
              "      <td>0</td>\n",
              "      <td>0</td>\n",
              "      <td>0</td>\n",
              "      <td>0</td>\n",
              "      <td>0</td>\n",
              "      <td>0</td>\n",
              "      <td>0</td>\n",
              "      <td>0</td>\n",
              "      <td>0</td>\n",
              "      <td>0</td>\n",
              "      <td>3.687500</td>\n",
              "      <td>8</td>\n",
              "      <td>3.489153</td>\n",
              "    </tr>\n",
              "    <tr>\n",
              "      <th>2947</th>\n",
              "      <td>187593</td>\n",
              "      <td>Deadpool 2 (2018)</td>\n",
              "      <td>Action Comedy Sci-Fi</td>\n",
              "      <td>0</td>\n",
              "      <td>0</td>\n",
              "      <td>0</td>\n",
              "      <td>1</td>\n",
              "      <td>0</td>\n",
              "      <td>0</td>\n",
              "      <td>0</td>\n",
              "      <td>1</td>\n",
              "      <td>0</td>\n",
              "      <td>0</td>\n",
              "      <td>0</td>\n",
              "      <td>0</td>\n",
              "      <td>1</td>\n",
              "      <td>0</td>\n",
              "      <td>0</td>\n",
              "      <td>0</td>\n",
              "      <td>0</td>\n",
              "      <td>0</td>\n",
              "      <td>0</td>\n",
              "      <td>0</td>\n",
              "      <td>3.875000</td>\n",
              "      <td>12</td>\n",
              "      <td>3.649331</td>\n",
              "    </tr>\n",
              "  </tbody>\n",
              "</table>\n",
              "</div>"
            ],
            "text/plain": [
              "      movieid  ...     score\n",
              "2943   177593  ...  4.055819\n",
              "2944   177765  ...  3.441865\n",
              "2945   179819  ...  3.175647\n",
              "2946   180031  ...  3.489153\n",
              "2947   187593  ...  3.649331\n",
              "\n",
              "[5 rows x 26 columns]"
            ]
          },
          "metadata": {
            "tags": []
          },
          "execution_count": 74
        }
      ]
    },
    {
      "cell_type": "code",
      "metadata": {
        "id": "CN2maflC1rGh"
      },
      "source": [
        "eligible_movies_full['indexcol'] = eligible_movies_full.index"
      ],
      "execution_count": 75,
      "outputs": []
    },
    {
      "cell_type": "code",
      "metadata": {
        "colab": {
          "base_uri": "https://localhost:8080/",
          "height": 307
        },
        "id": "hFgOlFoX11Ko",
        "outputId": "3c8ad8f4-b6b9-4f2c-a3bb-f3729a3f6564"
      },
      "source": [
        "eligible_movies_full.tail(3)"
      ],
      "execution_count": 76,
      "outputs": [
        {
          "output_type": "execute_result",
          "data": {
            "text/html": [
              "<div>\n",
              "<style scoped>\n",
              "    .dataframe tbody tr th:only-of-type {\n",
              "        vertical-align: middle;\n",
              "    }\n",
              "\n",
              "    .dataframe tbody tr th {\n",
              "        vertical-align: top;\n",
              "    }\n",
              "\n",
              "    .dataframe thead th {\n",
              "        text-align: right;\n",
              "    }\n",
              "</style>\n",
              "<table border=\"1\" class=\"dataframe\">\n",
              "  <thead>\n",
              "    <tr style=\"text-align: right;\">\n",
              "      <th></th>\n",
              "      <th>movieid</th>\n",
              "      <th>title</th>\n",
              "      <th>genres</th>\n",
              "      <th>adventure</th>\n",
              "      <th>animation</th>\n",
              "      <th>children</th>\n",
              "      <th>comedy</th>\n",
              "      <th>fantasy</th>\n",
              "      <th>romance</th>\n",
              "      <th>drama</th>\n",
              "      <th>action</th>\n",
              "      <th>crime</th>\n",
              "      <th>thriller</th>\n",
              "      <th>horror</th>\n",
              "      <th>mystery</th>\n",
              "      <th>sci_fi</th>\n",
              "      <th>war</th>\n",
              "      <th>musical</th>\n",
              "      <th>documentary</th>\n",
              "      <th>imax</th>\n",
              "      <th>western</th>\n",
              "      <th>film_noir</th>\n",
              "      <th>no_genres</th>\n",
              "      <th>mean_rating</th>\n",
              "      <th>no_of_ratings</th>\n",
              "      <th>score</th>\n",
              "      <th>indexcol</th>\n",
              "    </tr>\n",
              "  </thead>\n",
              "  <tbody>\n",
              "    <tr>\n",
              "      <th>2945</th>\n",
              "      <td>179819</td>\n",
              "      <td>Star Wars: The Last Jedi (2017)</td>\n",
              "      <td>Action Adventure Fantasy Sci-Fi</td>\n",
              "      <td>1</td>\n",
              "      <td>0</td>\n",
              "      <td>0</td>\n",
              "      <td>0</td>\n",
              "      <td>1</td>\n",
              "      <td>0</td>\n",
              "      <td>0</td>\n",
              "      <td>1</td>\n",
              "      <td>0</td>\n",
              "      <td>0</td>\n",
              "      <td>0</td>\n",
              "      <td>0</td>\n",
              "      <td>1</td>\n",
              "      <td>0</td>\n",
              "      <td>0</td>\n",
              "      <td>0</td>\n",
              "      <td>0</td>\n",
              "      <td>0</td>\n",
              "      <td>0</td>\n",
              "      <td>0</td>\n",
              "      <td>3.1250</td>\n",
              "      <td>12</td>\n",
              "      <td>3.175647</td>\n",
              "      <td>2945</td>\n",
              "    </tr>\n",
              "    <tr>\n",
              "      <th>2946</th>\n",
              "      <td>180031</td>\n",
              "      <td>The Shape of Water (2017)</td>\n",
              "      <td>Adventure Drama Fantasy</td>\n",
              "      <td>1</td>\n",
              "      <td>0</td>\n",
              "      <td>0</td>\n",
              "      <td>0</td>\n",
              "      <td>1</td>\n",
              "      <td>0</td>\n",
              "      <td>1</td>\n",
              "      <td>0</td>\n",
              "      <td>0</td>\n",
              "      <td>0</td>\n",
              "      <td>0</td>\n",
              "      <td>0</td>\n",
              "      <td>0</td>\n",
              "      <td>0</td>\n",
              "      <td>0</td>\n",
              "      <td>0</td>\n",
              "      <td>0</td>\n",
              "      <td>0</td>\n",
              "      <td>0</td>\n",
              "      <td>0</td>\n",
              "      <td>3.6875</td>\n",
              "      <td>8</td>\n",
              "      <td>3.489153</td>\n",
              "      <td>2946</td>\n",
              "    </tr>\n",
              "    <tr>\n",
              "      <th>2947</th>\n",
              "      <td>187593</td>\n",
              "      <td>Deadpool 2 (2018)</td>\n",
              "      <td>Action Comedy Sci-Fi</td>\n",
              "      <td>0</td>\n",
              "      <td>0</td>\n",
              "      <td>0</td>\n",
              "      <td>1</td>\n",
              "      <td>0</td>\n",
              "      <td>0</td>\n",
              "      <td>0</td>\n",
              "      <td>1</td>\n",
              "      <td>0</td>\n",
              "      <td>0</td>\n",
              "      <td>0</td>\n",
              "      <td>0</td>\n",
              "      <td>1</td>\n",
              "      <td>0</td>\n",
              "      <td>0</td>\n",
              "      <td>0</td>\n",
              "      <td>0</td>\n",
              "      <td>0</td>\n",
              "      <td>0</td>\n",
              "      <td>0</td>\n",
              "      <td>3.8750</td>\n",
              "      <td>12</td>\n",
              "      <td>3.649331</td>\n",
              "      <td>2947</td>\n",
              "    </tr>\n",
              "  </tbody>\n",
              "</table>\n",
              "</div>"
            ],
            "text/plain": [
              "      movieid                            title  ...     score  indexcol\n",
              "2945   179819  Star Wars: The Last Jedi (2017)  ...  3.175647      2945\n",
              "2946   180031        The Shape of Water (2017)  ...  3.489153      2946\n",
              "2947   187593                Deadpool 2 (2018)  ...  3.649331      2947\n",
              "\n",
              "[3 rows x 27 columns]"
            ]
          },
          "metadata": {
            "tags": []
          },
          "execution_count": 76
        }
      ]
    },
    {
      "cell_type": "code",
      "metadata": {
        "id": "9qd4X7bWCuBr"
      },
      "source": [
        "# getting the count matrix\n",
        "\n",
        "tf = TfidfVectorizer()\n",
        "count_matrix = tf.fit_transform(eligible_movies_full['genres'])"
      ],
      "execution_count": 77,
      "outputs": []
    },
    {
      "cell_type": "code",
      "metadata": {
        "colab": {
          "base_uri": "https://localhost:8080/"
        },
        "id": "8fP2XpD9DAWw",
        "outputId": "c48ceded-b0e4-432b-84d7-a78fe39eabbe"
      },
      "source": [
        "count_matrix.shape"
      ],
      "execution_count": 78,
      "outputs": [
        {
          "output_type": "execute_result",
          "data": {
            "text/plain": [
              "(2948, 24)"
            ]
          },
          "metadata": {
            "tags": []
          },
          "execution_count": 78
        }
      ]
    },
    {
      "cell_type": "code",
      "metadata": {
        "colab": {
          "base_uri": "https://localhost:8080/"
        },
        "id": "705shwViiw_R",
        "outputId": "a2aff0e0-7e93-4e2c-9797-7feb00e15329"
      },
      "source": [
        "print(count_matrix[:5])"
      ],
      "execution_count": 79,
      "outputs": [
        {
          "output_type": "stream",
          "text": [
            "  (0, 8)\t0.47391857950291805\n",
            "  (0, 4)\t0.2792181929787865\n",
            "  (0, 3)\t0.5015993194953707\n",
            "  (0, 2)\t0.5465762988762775\n",
            "  (0, 1)\t0.3835242533401098\n",
            "  (1, 8)\t0.6002858627265061\n",
            "  (1, 3)\t0.6353474906219688\n",
            "  (1, 1)\t0.4857884819250674\n",
            "  (2, 19)\t0.8174255256798652\n",
            "  (2, 4)\t0.5760342958253407\n",
            "  (3, 7)\t0.4884830239900367\n",
            "  (3, 19)\t0.7132637687306668\n",
            "  (3, 4)\t0.5026322029970574\n",
            "  (4, 4)\t1.0\n"
          ],
          "name": "stdout"
        }
      ]
    },
    {
      "cell_type": "code",
      "metadata": {
        "id": "U0nU00YPCuFW"
      },
      "source": [
        "# cosine similarity matrix from the count matrix\n",
        "\n",
        "cosine_sim = cosine_similarity(count_matrix)"
      ],
      "execution_count": 80,
      "outputs": []
    },
    {
      "cell_type": "code",
      "metadata": {
        "colab": {
          "base_uri": "https://localhost:8080/"
        },
        "id": "psKv9UD14oSr",
        "outputId": "40f99efe-41a5-4f2d-c55e-243c70535e16"
      },
      "source": [
        "cosine_sim.shape"
      ],
      "execution_count": 81,
      "outputs": [
        {
          "output_type": "execute_result",
          "data": {
            "text/plain": [
              "(2948, 2948)"
            ]
          },
          "metadata": {
            "tags": []
          },
          "execution_count": 81
        }
      ]
    },
    {
      "cell_type": "code",
      "metadata": {
        "colab": {
          "base_uri": "https://localhost:8080/"
        },
        "id": "PkZ2M0K121z9",
        "outputId": "91434389-44df-4b9c-d1c6-c3f123abb8e4"
      },
      "source": [
        "cosine_sim[0]       # checking similarity values of movie at 1st index"
      ],
      "execution_count": 82,
      "outputs": [
        {
          "output_type": "execute_result",
          "data": {
            "text/plain": [
              "array([1.        , 0.78948816, 0.16083926, ..., 0.40112971, 0.55698307,\n",
              "       0.10373173])"
            ]
          },
          "metadata": {
            "tags": []
          },
          "execution_count": 82
        }
      ]
    },
    {
      "cell_type": "code",
      "metadata": {
        "colab": {
          "base_uri": "https://localhost:8080/"
        },
        "id": "NQMDd7-n3GIE",
        "outputId": "a2f7e197-a0a8-4783-d5a8-6f9d413d56eb"
      },
      "source": [
        "list(enumerate(cosine_sim[0]))[0:5]    # just enumerating above values"
      ],
      "execution_count": 83,
      "outputs": [
        {
          "output_type": "execute_result",
          "data": {
            "text/plain": [
              "[(0, 1.0),\n",
              " (1, 0.7894881571096374),\n",
              " (2, 0.16083925517415937),\n",
              " (3, 0.14034405545378498),\n",
              " (4, 0.2792181929787865)]"
            ]
          },
          "metadata": {
            "tags": []
          },
          "execution_count": 83
        }
      ]
    },
    {
      "cell_type": "markdown",
      "metadata": {
        "id": "G1TFnElf4tq7"
      },
      "source": [
        "Finding top 5 similar movies to Titanic"
      ]
    },
    {
      "cell_type": "code",
      "metadata": {
        "id": "heFkqRP2HY-_"
      },
      "source": [
        "movie_name = 'Titanic (1997)'"
      ],
      "execution_count": 84,
      "outputs": []
    },
    {
      "cell_type": "code",
      "metadata": {
        "colab": {
          "base_uri": "https://localhost:8080/"
        },
        "id": "0iZwBlfMJNYd",
        "outputId": "b7cd1ccd-2097-4f95-de1b-a6922a7b10f9"
      },
      "source": [
        "# finding index id for Titanic\n",
        "\n",
        "eligible_movies_full[eligible_movies_full['title'] == movie_name]['indexcol']"
      ],
      "execution_count": 85,
      "outputs": [
        {
          "output_type": "execute_result",
          "data": {
            "text/plain": [
              "783    783\n",
              "Name: indexcol, dtype: int64"
            ]
          },
          "metadata": {
            "tags": []
          },
          "execution_count": 85
        }
      ]
    },
    {
      "cell_type": "code",
      "metadata": {
        "colab": {
          "base_uri": "https://localhost:8080/"
        },
        "id": "jpPK5f4xwwt7",
        "outputId": "7a156c06-31ba-4dc0-91ec-69d9c924b4b9"
      },
      "source": [
        "eligible_movies_full[eligible_movies_full['title'] == movie_name]['indexcol'].values[0]"
      ],
      "execution_count": 86,
      "outputs": [
        {
          "output_type": "execute_result",
          "data": {
            "text/plain": [
              "783"
            ]
          },
          "metadata": {
            "tags": []
          },
          "execution_count": 86
        }
      ]
    },
    {
      "cell_type": "code",
      "metadata": {
        "id": "q-m5ibQCCuJJ"
      },
      "source": [
        "# getting titanic index from data frame by passing movie name and then finding its similarity values with rest of the movies\n",
        "\n",
        "indexcol_value = eligible_movies_full[eligible_movies_full['title'] == movie_name]['indexcol'].values[0]\n",
        "similar_movies = list(enumerate(cosine_sim[indexcol_value]))"
      ],
      "execution_count": 87,
      "outputs": []
    },
    {
      "cell_type": "code",
      "metadata": {
        "colab": {
          "base_uri": "https://localhost:8080/"
        },
        "id": "N-AVf1JE0q6H",
        "outputId": "9bacd648-e186-4a17-a0bd-3fe1ca9efae4"
      },
      "source": [
        "len(similar_movies)"
      ],
      "execution_count": 88,
      "outputs": [
        {
          "output_type": "execute_result",
          "data": {
            "text/plain": [
              "2948"
            ]
          },
          "metadata": {
            "tags": []
          },
          "execution_count": 88
        }
      ]
    },
    {
      "cell_type": "code",
      "metadata": {
        "colab": {
          "base_uri": "https://localhost:8080/"
        },
        "id": "RR_nl_HPIcj2",
        "outputId": "f75d5c05-6805-4f3c-bb8b-b6a8c9ac219e"
      },
      "source": [
        "similar_movies[0:10]    # indexcol, cosine similarity"
      ],
      "execution_count": 89,
      "outputs": [
        {
          "output_type": "execute_result",
          "data": {
            "text/plain": [
              "[(0, 0.0),\n",
              " (1, 0.0),\n",
              " (2, 0.6744242566144796),\n",
              " (3, 0.8645003577271237),\n",
              " (4, 0.0),\n",
              " (5, 0.0),\n",
              " (6, 0.6744242566144796),\n",
              " (7, 0.0),\n",
              " (8, 0.0),\n",
              " (9, 0.0)]"
            ]
          },
          "metadata": {
            "tags": []
          },
          "execution_count": 89
        }
      ]
    },
    {
      "cell_type": "code",
      "metadata": {
        "id": "6C-KgQggCuM9"
      },
      "source": [
        "# sorting in descending order of cosine similarity\n",
        "# discard the first element after sorting the movies as its similarity with itself\n",
        "\n",
        "sorted_similar_movies = sorted(similar_movies, key=lambda x:x[1], reverse=True)[1:]"
      ],
      "execution_count": 90,
      "outputs": []
    },
    {
      "cell_type": "code",
      "metadata": {
        "colab": {
          "base_uri": "https://localhost:8080/"
        },
        "id": "Y24-eubYIO5L",
        "outputId": "7d286930-0721-42ad-dae2-005aa072cba4"
      },
      "source": [
        "sorted_similar_movies[0:10]"
      ],
      "execution_count": 91,
      "outputs": [
        {
          "output_type": "execute_result",
          "data": {
            "text/plain": [
              "[(24, 1.0),\n",
              " (27, 1.0),\n",
              " (39, 1.0),\n",
              " (55, 1.0),\n",
              " (60, 1.0),\n",
              " (73, 1.0),\n",
              " (82, 1.0),\n",
              " (122, 1.0),\n",
              " (124, 1.0),\n",
              " (127, 1.0)]"
            ]
          },
          "metadata": {
            "tags": []
          },
          "execution_count": 91
        }
      ]
    },
    {
      "cell_type": "code",
      "metadata": {
        "colab": {
          "base_uri": "https://localhost:8080/"
        },
        "id": "boKf6jbiHkDb",
        "outputId": "f7bef96a-63c8-4bf3-82f6-fd404efed4e7"
      },
      "source": [
        "# getting top 5 similar movie names by passing above indexes\n",
        "\n",
        "i=0\n",
        "print('Top 5 similar movies to '+ movie_name +' are:\\n')\n",
        "for element in sorted_similar_movies:\n",
        "    print(eligible_movies_full[eligible_movies_full['indexcol'] == element[0]]['title'].values[0])\n",
        "    i=i+1\n",
        "    if i>4:\n",
        "        break"
      ],
      "execution_count": 92,
      "outputs": [
        {
          "output_type": "stream",
          "text": [
            "Top 5 similar movies to Titanic (1997) are:\n",
            "\n",
            "Leaving Las Vegas (1995)\n",
            "Persuasion (1995)\n",
            "How to Make an American Quilt (1995)\n",
            "Bed of Roses (1996)\n",
            "Angels and Insects (1995)\n"
          ],
          "name": "stdout"
        }
      ]
    },
    {
      "cell_type": "markdown",
      "metadata": {
        "id": "m7rTssdKO88A"
      },
      "source": [
        "### Recommending using KNN algorithm (with Cosine distance metric)"
      ]
    },
    {
      "cell_type": "code",
      "metadata": {
        "colab": {
          "base_uri": "https://localhost:8080/",
          "height": 332
        },
        "id": "vBehV0BRM2cQ",
        "outputId": "12bc0013-140d-461f-80fb-4ee41d95aa98"
      },
      "source": [
        "rating_matrix = movie_rating.pivot_table(index='title', columns='userid', values='rating')\n",
        "rating_matrix.head(3)"
      ],
      "execution_count": 93,
      "outputs": [
        {
          "output_type": "execute_result",
          "data": {
            "text/html": [
              "<div>\n",
              "<style scoped>\n",
              "    .dataframe tbody tr th:only-of-type {\n",
              "        vertical-align: middle;\n",
              "    }\n",
              "\n",
              "    .dataframe tbody tr th {\n",
              "        vertical-align: top;\n",
              "    }\n",
              "\n",
              "    .dataframe thead th {\n",
              "        text-align: right;\n",
              "    }\n",
              "</style>\n",
              "<table border=\"1\" class=\"dataframe\">\n",
              "  <thead>\n",
              "    <tr style=\"text-align: right;\">\n",
              "      <th>userid</th>\n",
              "      <th>1</th>\n",
              "      <th>2</th>\n",
              "      <th>3</th>\n",
              "      <th>4</th>\n",
              "      <th>5</th>\n",
              "      <th>6</th>\n",
              "      <th>7</th>\n",
              "      <th>8</th>\n",
              "      <th>9</th>\n",
              "      <th>10</th>\n",
              "      <th>11</th>\n",
              "      <th>12</th>\n",
              "      <th>13</th>\n",
              "      <th>14</th>\n",
              "      <th>15</th>\n",
              "      <th>16</th>\n",
              "      <th>17</th>\n",
              "      <th>18</th>\n",
              "      <th>19</th>\n",
              "      <th>20</th>\n",
              "      <th>21</th>\n",
              "      <th>22</th>\n",
              "      <th>23</th>\n",
              "      <th>24</th>\n",
              "      <th>25</th>\n",
              "      <th>26</th>\n",
              "      <th>27</th>\n",
              "      <th>28</th>\n",
              "      <th>29</th>\n",
              "      <th>30</th>\n",
              "      <th>31</th>\n",
              "      <th>32</th>\n",
              "      <th>33</th>\n",
              "      <th>34</th>\n",
              "      <th>35</th>\n",
              "      <th>36</th>\n",
              "      <th>37</th>\n",
              "      <th>38</th>\n",
              "      <th>39</th>\n",
              "      <th>40</th>\n",
              "      <th>...</th>\n",
              "      <th>571</th>\n",
              "      <th>572</th>\n",
              "      <th>573</th>\n",
              "      <th>574</th>\n",
              "      <th>575</th>\n",
              "      <th>576</th>\n",
              "      <th>577</th>\n",
              "      <th>578</th>\n",
              "      <th>579</th>\n",
              "      <th>580</th>\n",
              "      <th>581</th>\n",
              "      <th>582</th>\n",
              "      <th>583</th>\n",
              "      <th>584</th>\n",
              "      <th>585</th>\n",
              "      <th>586</th>\n",
              "      <th>587</th>\n",
              "      <th>588</th>\n",
              "      <th>589</th>\n",
              "      <th>590</th>\n",
              "      <th>591</th>\n",
              "      <th>592</th>\n",
              "      <th>593</th>\n",
              "      <th>594</th>\n",
              "      <th>595</th>\n",
              "      <th>596</th>\n",
              "      <th>597</th>\n",
              "      <th>598</th>\n",
              "      <th>599</th>\n",
              "      <th>600</th>\n",
              "      <th>601</th>\n",
              "      <th>602</th>\n",
              "      <th>603</th>\n",
              "      <th>604</th>\n",
              "      <th>605</th>\n",
              "      <th>606</th>\n",
              "      <th>607</th>\n",
              "      <th>608</th>\n",
              "      <th>609</th>\n",
              "      <th>610</th>\n",
              "    </tr>\n",
              "    <tr>\n",
              "      <th>title</th>\n",
              "      <th></th>\n",
              "      <th></th>\n",
              "      <th></th>\n",
              "      <th></th>\n",
              "      <th></th>\n",
              "      <th></th>\n",
              "      <th></th>\n",
              "      <th></th>\n",
              "      <th></th>\n",
              "      <th></th>\n",
              "      <th></th>\n",
              "      <th></th>\n",
              "      <th></th>\n",
              "      <th></th>\n",
              "      <th></th>\n",
              "      <th></th>\n",
              "      <th></th>\n",
              "      <th></th>\n",
              "      <th></th>\n",
              "      <th></th>\n",
              "      <th></th>\n",
              "      <th></th>\n",
              "      <th></th>\n",
              "      <th></th>\n",
              "      <th></th>\n",
              "      <th></th>\n",
              "      <th></th>\n",
              "      <th></th>\n",
              "      <th></th>\n",
              "      <th></th>\n",
              "      <th></th>\n",
              "      <th></th>\n",
              "      <th></th>\n",
              "      <th></th>\n",
              "      <th></th>\n",
              "      <th></th>\n",
              "      <th></th>\n",
              "      <th></th>\n",
              "      <th></th>\n",
              "      <th></th>\n",
              "      <th></th>\n",
              "      <th></th>\n",
              "      <th></th>\n",
              "      <th></th>\n",
              "      <th></th>\n",
              "      <th></th>\n",
              "      <th></th>\n",
              "      <th></th>\n",
              "      <th></th>\n",
              "      <th></th>\n",
              "      <th></th>\n",
              "      <th></th>\n",
              "      <th></th>\n",
              "      <th></th>\n",
              "      <th></th>\n",
              "      <th></th>\n",
              "      <th></th>\n",
              "      <th></th>\n",
              "      <th></th>\n",
              "      <th></th>\n",
              "      <th></th>\n",
              "      <th></th>\n",
              "      <th></th>\n",
              "      <th></th>\n",
              "      <th></th>\n",
              "      <th></th>\n",
              "      <th></th>\n",
              "      <th></th>\n",
              "      <th></th>\n",
              "      <th></th>\n",
              "      <th></th>\n",
              "      <th></th>\n",
              "      <th></th>\n",
              "      <th></th>\n",
              "      <th></th>\n",
              "      <th></th>\n",
              "      <th></th>\n",
              "      <th></th>\n",
              "      <th></th>\n",
              "      <th></th>\n",
              "      <th></th>\n",
              "    </tr>\n",
              "  </thead>\n",
              "  <tbody>\n",
              "    <tr>\n",
              "      <th>'71 (2014)</th>\n",
              "      <td>NaN</td>\n",
              "      <td>NaN</td>\n",
              "      <td>NaN</td>\n",
              "      <td>NaN</td>\n",
              "      <td>NaN</td>\n",
              "      <td>NaN</td>\n",
              "      <td>NaN</td>\n",
              "      <td>NaN</td>\n",
              "      <td>NaN</td>\n",
              "      <td>NaN</td>\n",
              "      <td>NaN</td>\n",
              "      <td>NaN</td>\n",
              "      <td>NaN</td>\n",
              "      <td>NaN</td>\n",
              "      <td>NaN</td>\n",
              "      <td>NaN</td>\n",
              "      <td>NaN</td>\n",
              "      <td>NaN</td>\n",
              "      <td>NaN</td>\n",
              "      <td>NaN</td>\n",
              "      <td>NaN</td>\n",
              "      <td>NaN</td>\n",
              "      <td>NaN</td>\n",
              "      <td>NaN</td>\n",
              "      <td>NaN</td>\n",
              "      <td>NaN</td>\n",
              "      <td>NaN</td>\n",
              "      <td>NaN</td>\n",
              "      <td>NaN</td>\n",
              "      <td>NaN</td>\n",
              "      <td>NaN</td>\n",
              "      <td>NaN</td>\n",
              "      <td>NaN</td>\n",
              "      <td>NaN</td>\n",
              "      <td>NaN</td>\n",
              "      <td>NaN</td>\n",
              "      <td>NaN</td>\n",
              "      <td>NaN</td>\n",
              "      <td>NaN</td>\n",
              "      <td>NaN</td>\n",
              "      <td>...</td>\n",
              "      <td>NaN</td>\n",
              "      <td>NaN</td>\n",
              "      <td>NaN</td>\n",
              "      <td>NaN</td>\n",
              "      <td>NaN</td>\n",
              "      <td>NaN</td>\n",
              "      <td>NaN</td>\n",
              "      <td>NaN</td>\n",
              "      <td>NaN</td>\n",
              "      <td>NaN</td>\n",
              "      <td>NaN</td>\n",
              "      <td>NaN</td>\n",
              "      <td>NaN</td>\n",
              "      <td>NaN</td>\n",
              "      <td>NaN</td>\n",
              "      <td>NaN</td>\n",
              "      <td>NaN</td>\n",
              "      <td>NaN</td>\n",
              "      <td>NaN</td>\n",
              "      <td>NaN</td>\n",
              "      <td>NaN</td>\n",
              "      <td>NaN</td>\n",
              "      <td>NaN</td>\n",
              "      <td>NaN</td>\n",
              "      <td>NaN</td>\n",
              "      <td>NaN</td>\n",
              "      <td>NaN</td>\n",
              "      <td>NaN</td>\n",
              "      <td>NaN</td>\n",
              "      <td>NaN</td>\n",
              "      <td>NaN</td>\n",
              "      <td>NaN</td>\n",
              "      <td>NaN</td>\n",
              "      <td>NaN</td>\n",
              "      <td>NaN</td>\n",
              "      <td>NaN</td>\n",
              "      <td>NaN</td>\n",
              "      <td>NaN</td>\n",
              "      <td>NaN</td>\n",
              "      <td>4.0</td>\n",
              "    </tr>\n",
              "    <tr>\n",
              "      <th>'Hellboy': The Seeds of Creation (2004)</th>\n",
              "      <td>NaN</td>\n",
              "      <td>NaN</td>\n",
              "      <td>NaN</td>\n",
              "      <td>NaN</td>\n",
              "      <td>NaN</td>\n",
              "      <td>NaN</td>\n",
              "      <td>NaN</td>\n",
              "      <td>NaN</td>\n",
              "      <td>NaN</td>\n",
              "      <td>NaN</td>\n",
              "      <td>NaN</td>\n",
              "      <td>NaN</td>\n",
              "      <td>NaN</td>\n",
              "      <td>NaN</td>\n",
              "      <td>NaN</td>\n",
              "      <td>NaN</td>\n",
              "      <td>NaN</td>\n",
              "      <td>NaN</td>\n",
              "      <td>NaN</td>\n",
              "      <td>NaN</td>\n",
              "      <td>NaN</td>\n",
              "      <td>NaN</td>\n",
              "      <td>NaN</td>\n",
              "      <td>NaN</td>\n",
              "      <td>NaN</td>\n",
              "      <td>NaN</td>\n",
              "      <td>NaN</td>\n",
              "      <td>NaN</td>\n",
              "      <td>NaN</td>\n",
              "      <td>NaN</td>\n",
              "      <td>NaN</td>\n",
              "      <td>NaN</td>\n",
              "      <td>NaN</td>\n",
              "      <td>NaN</td>\n",
              "      <td>NaN</td>\n",
              "      <td>NaN</td>\n",
              "      <td>NaN</td>\n",
              "      <td>NaN</td>\n",
              "      <td>NaN</td>\n",
              "      <td>NaN</td>\n",
              "      <td>...</td>\n",
              "      <td>NaN</td>\n",
              "      <td>NaN</td>\n",
              "      <td>NaN</td>\n",
              "      <td>NaN</td>\n",
              "      <td>NaN</td>\n",
              "      <td>NaN</td>\n",
              "      <td>NaN</td>\n",
              "      <td>NaN</td>\n",
              "      <td>NaN</td>\n",
              "      <td>NaN</td>\n",
              "      <td>NaN</td>\n",
              "      <td>NaN</td>\n",
              "      <td>NaN</td>\n",
              "      <td>NaN</td>\n",
              "      <td>NaN</td>\n",
              "      <td>NaN</td>\n",
              "      <td>NaN</td>\n",
              "      <td>NaN</td>\n",
              "      <td>NaN</td>\n",
              "      <td>NaN</td>\n",
              "      <td>NaN</td>\n",
              "      <td>NaN</td>\n",
              "      <td>NaN</td>\n",
              "      <td>NaN</td>\n",
              "      <td>NaN</td>\n",
              "      <td>NaN</td>\n",
              "      <td>NaN</td>\n",
              "      <td>NaN</td>\n",
              "      <td>NaN</td>\n",
              "      <td>NaN</td>\n",
              "      <td>NaN</td>\n",
              "      <td>NaN</td>\n",
              "      <td>NaN</td>\n",
              "      <td>NaN</td>\n",
              "      <td>NaN</td>\n",
              "      <td>NaN</td>\n",
              "      <td>NaN</td>\n",
              "      <td>NaN</td>\n",
              "      <td>NaN</td>\n",
              "      <td>NaN</td>\n",
              "    </tr>\n",
              "    <tr>\n",
              "      <th>'Round Midnight (1986)</th>\n",
              "      <td>NaN</td>\n",
              "      <td>NaN</td>\n",
              "      <td>NaN</td>\n",
              "      <td>NaN</td>\n",
              "      <td>NaN</td>\n",
              "      <td>NaN</td>\n",
              "      <td>NaN</td>\n",
              "      <td>NaN</td>\n",
              "      <td>NaN</td>\n",
              "      <td>NaN</td>\n",
              "      <td>NaN</td>\n",
              "      <td>NaN</td>\n",
              "      <td>NaN</td>\n",
              "      <td>NaN</td>\n",
              "      <td>NaN</td>\n",
              "      <td>NaN</td>\n",
              "      <td>NaN</td>\n",
              "      <td>NaN</td>\n",
              "      <td>NaN</td>\n",
              "      <td>NaN</td>\n",
              "      <td>NaN</td>\n",
              "      <td>NaN</td>\n",
              "      <td>NaN</td>\n",
              "      <td>NaN</td>\n",
              "      <td>NaN</td>\n",
              "      <td>NaN</td>\n",
              "      <td>NaN</td>\n",
              "      <td>NaN</td>\n",
              "      <td>NaN</td>\n",
              "      <td>NaN</td>\n",
              "      <td>NaN</td>\n",
              "      <td>NaN</td>\n",
              "      <td>NaN</td>\n",
              "      <td>NaN</td>\n",
              "      <td>NaN</td>\n",
              "      <td>NaN</td>\n",
              "      <td>NaN</td>\n",
              "      <td>NaN</td>\n",
              "      <td>NaN</td>\n",
              "      <td>NaN</td>\n",
              "      <td>...</td>\n",
              "      <td>NaN</td>\n",
              "      <td>NaN</td>\n",
              "      <td>NaN</td>\n",
              "      <td>NaN</td>\n",
              "      <td>NaN</td>\n",
              "      <td>NaN</td>\n",
              "      <td>NaN</td>\n",
              "      <td>NaN</td>\n",
              "      <td>NaN</td>\n",
              "      <td>NaN</td>\n",
              "      <td>NaN</td>\n",
              "      <td>NaN</td>\n",
              "      <td>NaN</td>\n",
              "      <td>NaN</td>\n",
              "      <td>NaN</td>\n",
              "      <td>NaN</td>\n",
              "      <td>NaN</td>\n",
              "      <td>NaN</td>\n",
              "      <td>NaN</td>\n",
              "      <td>NaN</td>\n",
              "      <td>NaN</td>\n",
              "      <td>NaN</td>\n",
              "      <td>NaN</td>\n",
              "      <td>NaN</td>\n",
              "      <td>NaN</td>\n",
              "      <td>NaN</td>\n",
              "      <td>NaN</td>\n",
              "      <td>NaN</td>\n",
              "      <td>NaN</td>\n",
              "      <td>NaN</td>\n",
              "      <td>NaN</td>\n",
              "      <td>NaN</td>\n",
              "      <td>NaN</td>\n",
              "      <td>NaN</td>\n",
              "      <td>NaN</td>\n",
              "      <td>NaN</td>\n",
              "      <td>NaN</td>\n",
              "      <td>NaN</td>\n",
              "      <td>NaN</td>\n",
              "      <td>NaN</td>\n",
              "    </tr>\n",
              "  </tbody>\n",
              "</table>\n",
              "<p>3 rows × 610 columns</p>\n",
              "</div>"
            ],
            "text/plain": [
              "userid                                   1    2    3    4    ...  607  608  609  610\n",
              "title                                                        ...                    \n",
              "'71 (2014)                               NaN  NaN  NaN  NaN  ...  NaN  NaN  NaN  4.0\n",
              "'Hellboy': The Seeds of Creation (2004)  NaN  NaN  NaN  NaN  ...  NaN  NaN  NaN  NaN\n",
              "'Round Midnight (1986)                   NaN  NaN  NaN  NaN  ...  NaN  NaN  NaN  NaN\n",
              "\n",
              "[3 rows x 610 columns]"
            ]
          },
          "metadata": {
            "tags": []
          },
          "execution_count": 93
        }
      ]
    },
    {
      "cell_type": "code",
      "metadata": {
        "colab": {
          "base_uri": "https://localhost:8080/"
        },
        "id": "9ziTFQwyM2gB",
        "outputId": "8e91e0b6-98ae-4cb1-c042-965b358ea854"
      },
      "source": [
        "rating_matrix.shape"
      ],
      "execution_count": 94,
      "outputs": [
        {
          "output_type": "execute_result",
          "data": {
            "text/plain": [
              "(9719, 610)"
            ]
          },
          "metadata": {
            "tags": []
          },
          "execution_count": 94
        }
      ]
    },
    {
      "cell_type": "code",
      "metadata": {
        "colab": {
          "base_uri": "https://localhost:8080/",
          "height": 332
        },
        "id": "yDT8JhGvM2ki",
        "outputId": "940f0c10-fe61-489f-f1c4-4f0579ca14cf"
      },
      "source": [
        "rating_matrix.fillna(0, inplace=True)\n",
        "rating_matrix.head(3)"
      ],
      "execution_count": 95,
      "outputs": [
        {
          "output_type": "execute_result",
          "data": {
            "text/html": [
              "<div>\n",
              "<style scoped>\n",
              "    .dataframe tbody tr th:only-of-type {\n",
              "        vertical-align: middle;\n",
              "    }\n",
              "\n",
              "    .dataframe tbody tr th {\n",
              "        vertical-align: top;\n",
              "    }\n",
              "\n",
              "    .dataframe thead th {\n",
              "        text-align: right;\n",
              "    }\n",
              "</style>\n",
              "<table border=\"1\" class=\"dataframe\">\n",
              "  <thead>\n",
              "    <tr style=\"text-align: right;\">\n",
              "      <th>userid</th>\n",
              "      <th>1</th>\n",
              "      <th>2</th>\n",
              "      <th>3</th>\n",
              "      <th>4</th>\n",
              "      <th>5</th>\n",
              "      <th>6</th>\n",
              "      <th>7</th>\n",
              "      <th>8</th>\n",
              "      <th>9</th>\n",
              "      <th>10</th>\n",
              "      <th>11</th>\n",
              "      <th>12</th>\n",
              "      <th>13</th>\n",
              "      <th>14</th>\n",
              "      <th>15</th>\n",
              "      <th>16</th>\n",
              "      <th>17</th>\n",
              "      <th>18</th>\n",
              "      <th>19</th>\n",
              "      <th>20</th>\n",
              "      <th>21</th>\n",
              "      <th>22</th>\n",
              "      <th>23</th>\n",
              "      <th>24</th>\n",
              "      <th>25</th>\n",
              "      <th>26</th>\n",
              "      <th>27</th>\n",
              "      <th>28</th>\n",
              "      <th>29</th>\n",
              "      <th>30</th>\n",
              "      <th>31</th>\n",
              "      <th>32</th>\n",
              "      <th>33</th>\n",
              "      <th>34</th>\n",
              "      <th>35</th>\n",
              "      <th>36</th>\n",
              "      <th>37</th>\n",
              "      <th>38</th>\n",
              "      <th>39</th>\n",
              "      <th>40</th>\n",
              "      <th>...</th>\n",
              "      <th>571</th>\n",
              "      <th>572</th>\n",
              "      <th>573</th>\n",
              "      <th>574</th>\n",
              "      <th>575</th>\n",
              "      <th>576</th>\n",
              "      <th>577</th>\n",
              "      <th>578</th>\n",
              "      <th>579</th>\n",
              "      <th>580</th>\n",
              "      <th>581</th>\n",
              "      <th>582</th>\n",
              "      <th>583</th>\n",
              "      <th>584</th>\n",
              "      <th>585</th>\n",
              "      <th>586</th>\n",
              "      <th>587</th>\n",
              "      <th>588</th>\n",
              "      <th>589</th>\n",
              "      <th>590</th>\n",
              "      <th>591</th>\n",
              "      <th>592</th>\n",
              "      <th>593</th>\n",
              "      <th>594</th>\n",
              "      <th>595</th>\n",
              "      <th>596</th>\n",
              "      <th>597</th>\n",
              "      <th>598</th>\n",
              "      <th>599</th>\n",
              "      <th>600</th>\n",
              "      <th>601</th>\n",
              "      <th>602</th>\n",
              "      <th>603</th>\n",
              "      <th>604</th>\n",
              "      <th>605</th>\n",
              "      <th>606</th>\n",
              "      <th>607</th>\n",
              "      <th>608</th>\n",
              "      <th>609</th>\n",
              "      <th>610</th>\n",
              "    </tr>\n",
              "    <tr>\n",
              "      <th>title</th>\n",
              "      <th></th>\n",
              "      <th></th>\n",
              "      <th></th>\n",
              "      <th></th>\n",
              "      <th></th>\n",
              "      <th></th>\n",
              "      <th></th>\n",
              "      <th></th>\n",
              "      <th></th>\n",
              "      <th></th>\n",
              "      <th></th>\n",
              "      <th></th>\n",
              "      <th></th>\n",
              "      <th></th>\n",
              "      <th></th>\n",
              "      <th></th>\n",
              "      <th></th>\n",
              "      <th></th>\n",
              "      <th></th>\n",
              "      <th></th>\n",
              "      <th></th>\n",
              "      <th></th>\n",
              "      <th></th>\n",
              "      <th></th>\n",
              "      <th></th>\n",
              "      <th></th>\n",
              "      <th></th>\n",
              "      <th></th>\n",
              "      <th></th>\n",
              "      <th></th>\n",
              "      <th></th>\n",
              "      <th></th>\n",
              "      <th></th>\n",
              "      <th></th>\n",
              "      <th></th>\n",
              "      <th></th>\n",
              "      <th></th>\n",
              "      <th></th>\n",
              "      <th></th>\n",
              "      <th></th>\n",
              "      <th></th>\n",
              "      <th></th>\n",
              "      <th></th>\n",
              "      <th></th>\n",
              "      <th></th>\n",
              "      <th></th>\n",
              "      <th></th>\n",
              "      <th></th>\n",
              "      <th></th>\n",
              "      <th></th>\n",
              "      <th></th>\n",
              "      <th></th>\n",
              "      <th></th>\n",
              "      <th></th>\n",
              "      <th></th>\n",
              "      <th></th>\n",
              "      <th></th>\n",
              "      <th></th>\n",
              "      <th></th>\n",
              "      <th></th>\n",
              "      <th></th>\n",
              "      <th></th>\n",
              "      <th></th>\n",
              "      <th></th>\n",
              "      <th></th>\n",
              "      <th></th>\n",
              "      <th></th>\n",
              "      <th></th>\n",
              "      <th></th>\n",
              "      <th></th>\n",
              "      <th></th>\n",
              "      <th></th>\n",
              "      <th></th>\n",
              "      <th></th>\n",
              "      <th></th>\n",
              "      <th></th>\n",
              "      <th></th>\n",
              "      <th></th>\n",
              "      <th></th>\n",
              "      <th></th>\n",
              "      <th></th>\n",
              "    </tr>\n",
              "  </thead>\n",
              "  <tbody>\n",
              "    <tr>\n",
              "      <th>'71 (2014)</th>\n",
              "      <td>0.0</td>\n",
              "      <td>0.0</td>\n",
              "      <td>0.0</td>\n",
              "      <td>0.0</td>\n",
              "      <td>0.0</td>\n",
              "      <td>0.0</td>\n",
              "      <td>0.0</td>\n",
              "      <td>0.0</td>\n",
              "      <td>0.0</td>\n",
              "      <td>0.0</td>\n",
              "      <td>0.0</td>\n",
              "      <td>0.0</td>\n",
              "      <td>0.0</td>\n",
              "      <td>0.0</td>\n",
              "      <td>0.0</td>\n",
              "      <td>0.0</td>\n",
              "      <td>0.0</td>\n",
              "      <td>0.0</td>\n",
              "      <td>0.0</td>\n",
              "      <td>0.0</td>\n",
              "      <td>0.0</td>\n",
              "      <td>0.0</td>\n",
              "      <td>0.0</td>\n",
              "      <td>0.0</td>\n",
              "      <td>0.0</td>\n",
              "      <td>0.0</td>\n",
              "      <td>0.0</td>\n",
              "      <td>0.0</td>\n",
              "      <td>0.0</td>\n",
              "      <td>0.0</td>\n",
              "      <td>0.0</td>\n",
              "      <td>0.0</td>\n",
              "      <td>0.0</td>\n",
              "      <td>0.0</td>\n",
              "      <td>0.0</td>\n",
              "      <td>0.0</td>\n",
              "      <td>0.0</td>\n",
              "      <td>0.0</td>\n",
              "      <td>0.0</td>\n",
              "      <td>0.0</td>\n",
              "      <td>...</td>\n",
              "      <td>0.0</td>\n",
              "      <td>0.0</td>\n",
              "      <td>0.0</td>\n",
              "      <td>0.0</td>\n",
              "      <td>0.0</td>\n",
              "      <td>0.0</td>\n",
              "      <td>0.0</td>\n",
              "      <td>0.0</td>\n",
              "      <td>0.0</td>\n",
              "      <td>0.0</td>\n",
              "      <td>0.0</td>\n",
              "      <td>0.0</td>\n",
              "      <td>0.0</td>\n",
              "      <td>0.0</td>\n",
              "      <td>0.0</td>\n",
              "      <td>0.0</td>\n",
              "      <td>0.0</td>\n",
              "      <td>0.0</td>\n",
              "      <td>0.0</td>\n",
              "      <td>0.0</td>\n",
              "      <td>0.0</td>\n",
              "      <td>0.0</td>\n",
              "      <td>0.0</td>\n",
              "      <td>0.0</td>\n",
              "      <td>0.0</td>\n",
              "      <td>0.0</td>\n",
              "      <td>0.0</td>\n",
              "      <td>0.0</td>\n",
              "      <td>0.0</td>\n",
              "      <td>0.0</td>\n",
              "      <td>0.0</td>\n",
              "      <td>0.0</td>\n",
              "      <td>0.0</td>\n",
              "      <td>0.0</td>\n",
              "      <td>0.0</td>\n",
              "      <td>0.0</td>\n",
              "      <td>0.0</td>\n",
              "      <td>0.0</td>\n",
              "      <td>0.0</td>\n",
              "      <td>4.0</td>\n",
              "    </tr>\n",
              "    <tr>\n",
              "      <th>'Hellboy': The Seeds of Creation (2004)</th>\n",
              "      <td>0.0</td>\n",
              "      <td>0.0</td>\n",
              "      <td>0.0</td>\n",
              "      <td>0.0</td>\n",
              "      <td>0.0</td>\n",
              "      <td>0.0</td>\n",
              "      <td>0.0</td>\n",
              "      <td>0.0</td>\n",
              "      <td>0.0</td>\n",
              "      <td>0.0</td>\n",
              "      <td>0.0</td>\n",
              "      <td>0.0</td>\n",
              "      <td>0.0</td>\n",
              "      <td>0.0</td>\n",
              "      <td>0.0</td>\n",
              "      <td>0.0</td>\n",
              "      <td>0.0</td>\n",
              "      <td>0.0</td>\n",
              "      <td>0.0</td>\n",
              "      <td>0.0</td>\n",
              "      <td>0.0</td>\n",
              "      <td>0.0</td>\n",
              "      <td>0.0</td>\n",
              "      <td>0.0</td>\n",
              "      <td>0.0</td>\n",
              "      <td>0.0</td>\n",
              "      <td>0.0</td>\n",
              "      <td>0.0</td>\n",
              "      <td>0.0</td>\n",
              "      <td>0.0</td>\n",
              "      <td>0.0</td>\n",
              "      <td>0.0</td>\n",
              "      <td>0.0</td>\n",
              "      <td>0.0</td>\n",
              "      <td>0.0</td>\n",
              "      <td>0.0</td>\n",
              "      <td>0.0</td>\n",
              "      <td>0.0</td>\n",
              "      <td>0.0</td>\n",
              "      <td>0.0</td>\n",
              "      <td>...</td>\n",
              "      <td>0.0</td>\n",
              "      <td>0.0</td>\n",
              "      <td>0.0</td>\n",
              "      <td>0.0</td>\n",
              "      <td>0.0</td>\n",
              "      <td>0.0</td>\n",
              "      <td>0.0</td>\n",
              "      <td>0.0</td>\n",
              "      <td>0.0</td>\n",
              "      <td>0.0</td>\n",
              "      <td>0.0</td>\n",
              "      <td>0.0</td>\n",
              "      <td>0.0</td>\n",
              "      <td>0.0</td>\n",
              "      <td>0.0</td>\n",
              "      <td>0.0</td>\n",
              "      <td>0.0</td>\n",
              "      <td>0.0</td>\n",
              "      <td>0.0</td>\n",
              "      <td>0.0</td>\n",
              "      <td>0.0</td>\n",
              "      <td>0.0</td>\n",
              "      <td>0.0</td>\n",
              "      <td>0.0</td>\n",
              "      <td>0.0</td>\n",
              "      <td>0.0</td>\n",
              "      <td>0.0</td>\n",
              "      <td>0.0</td>\n",
              "      <td>0.0</td>\n",
              "      <td>0.0</td>\n",
              "      <td>0.0</td>\n",
              "      <td>0.0</td>\n",
              "      <td>0.0</td>\n",
              "      <td>0.0</td>\n",
              "      <td>0.0</td>\n",
              "      <td>0.0</td>\n",
              "      <td>0.0</td>\n",
              "      <td>0.0</td>\n",
              "      <td>0.0</td>\n",
              "      <td>0.0</td>\n",
              "    </tr>\n",
              "    <tr>\n",
              "      <th>'Round Midnight (1986)</th>\n",
              "      <td>0.0</td>\n",
              "      <td>0.0</td>\n",
              "      <td>0.0</td>\n",
              "      <td>0.0</td>\n",
              "      <td>0.0</td>\n",
              "      <td>0.0</td>\n",
              "      <td>0.0</td>\n",
              "      <td>0.0</td>\n",
              "      <td>0.0</td>\n",
              "      <td>0.0</td>\n",
              "      <td>0.0</td>\n",
              "      <td>0.0</td>\n",
              "      <td>0.0</td>\n",
              "      <td>0.0</td>\n",
              "      <td>0.0</td>\n",
              "      <td>0.0</td>\n",
              "      <td>0.0</td>\n",
              "      <td>0.0</td>\n",
              "      <td>0.0</td>\n",
              "      <td>0.0</td>\n",
              "      <td>0.0</td>\n",
              "      <td>0.0</td>\n",
              "      <td>0.0</td>\n",
              "      <td>0.0</td>\n",
              "      <td>0.0</td>\n",
              "      <td>0.0</td>\n",
              "      <td>0.0</td>\n",
              "      <td>0.0</td>\n",
              "      <td>0.0</td>\n",
              "      <td>0.0</td>\n",
              "      <td>0.0</td>\n",
              "      <td>0.0</td>\n",
              "      <td>0.0</td>\n",
              "      <td>0.0</td>\n",
              "      <td>0.0</td>\n",
              "      <td>0.0</td>\n",
              "      <td>0.0</td>\n",
              "      <td>0.0</td>\n",
              "      <td>0.0</td>\n",
              "      <td>0.0</td>\n",
              "      <td>...</td>\n",
              "      <td>0.0</td>\n",
              "      <td>0.0</td>\n",
              "      <td>0.0</td>\n",
              "      <td>0.0</td>\n",
              "      <td>0.0</td>\n",
              "      <td>0.0</td>\n",
              "      <td>0.0</td>\n",
              "      <td>0.0</td>\n",
              "      <td>0.0</td>\n",
              "      <td>0.0</td>\n",
              "      <td>0.0</td>\n",
              "      <td>0.0</td>\n",
              "      <td>0.0</td>\n",
              "      <td>0.0</td>\n",
              "      <td>0.0</td>\n",
              "      <td>0.0</td>\n",
              "      <td>0.0</td>\n",
              "      <td>0.0</td>\n",
              "      <td>0.0</td>\n",
              "      <td>0.0</td>\n",
              "      <td>0.0</td>\n",
              "      <td>0.0</td>\n",
              "      <td>0.0</td>\n",
              "      <td>0.0</td>\n",
              "      <td>0.0</td>\n",
              "      <td>0.0</td>\n",
              "      <td>0.0</td>\n",
              "      <td>0.0</td>\n",
              "      <td>0.0</td>\n",
              "      <td>0.0</td>\n",
              "      <td>0.0</td>\n",
              "      <td>0.0</td>\n",
              "      <td>0.0</td>\n",
              "      <td>0.0</td>\n",
              "      <td>0.0</td>\n",
              "      <td>0.0</td>\n",
              "      <td>0.0</td>\n",
              "      <td>0.0</td>\n",
              "      <td>0.0</td>\n",
              "      <td>0.0</td>\n",
              "    </tr>\n",
              "  </tbody>\n",
              "</table>\n",
              "<p>3 rows × 610 columns</p>\n",
              "</div>"
            ],
            "text/plain": [
              "userid                                   1    2    3    4    ...  607  608  609  610\n",
              "title                                                        ...                    \n",
              "'71 (2014)                               0.0  0.0  0.0  0.0  ...  0.0  0.0  0.0  4.0\n",
              "'Hellboy': The Seeds of Creation (2004)  0.0  0.0  0.0  0.0  ...  0.0  0.0  0.0  0.0\n",
              "'Round Midnight (1986)                   0.0  0.0  0.0  0.0  ...  0.0  0.0  0.0  0.0\n",
              "\n",
              "[3 rows x 610 columns]"
            ]
          },
          "metadata": {
            "tags": []
          },
          "execution_count": 95
        }
      ]
    },
    {
      "cell_type": "code",
      "metadata": {
        "id": "SLkmfpuA-rhj"
      },
      "source": [
        "# converting to array matrix\n",
        "\n",
        "rating_matrix_new = csr_matrix(rating_matrix.values)"
      ],
      "execution_count": 96,
      "outputs": []
    },
    {
      "cell_type": "code",
      "metadata": {
        "colab": {
          "base_uri": "https://localhost:8080/"
        },
        "id": "mK0USVUty2tW",
        "outputId": "672f00d8-b865-42b7-d91b-5a6fa309dbe3"
      },
      "source": [
        "rating_matrix_new.shape"
      ],
      "execution_count": 97,
      "outputs": [
        {
          "output_type": "execute_result",
          "data": {
            "text/plain": [
              "(9719, 610)"
            ]
          },
          "metadata": {
            "tags": []
          },
          "execution_count": 97
        }
      ]
    },
    {
      "cell_type": "code",
      "metadata": {
        "colab": {
          "base_uri": "https://localhost:8080/"
        },
        "id": "HCdW5ilEy2nt",
        "outputId": "8a141116-cc4a-4fd1-e689-9e444f562e6c"
      },
      "source": [
        "print(rating_matrix_new[:5])"
      ],
      "execution_count": 98,
      "outputs": [
        {
          "output_type": "stream",
          "text": [
            "  (0, 609)\t4.0\n",
            "  (1, 331)\t4.0\n",
            "  (2, 331)\t3.5\n",
            "  (2, 376)\t3.5\n",
            "  (3, 344)\t5.0\n",
            "  (4, 112)\t3.0\n",
            "  (4, 344)\t5.0\n"
          ],
          "name": "stdout"
        }
      ]
    },
    {
      "cell_type": "code",
      "metadata": {
        "colab": {
          "base_uri": "https://localhost:8080/"
        },
        "id": "RHaHygz3y2zc",
        "outputId": "54ce6347-817c-447c-8736-e4cca49ad517"
      },
      "source": [
        "model_knn = NearestNeighbors(metric = 'cosine', algorithm = 'brute')\n",
        "model_knn.fit(rating_matrix_new)"
      ],
      "execution_count": 99,
      "outputs": [
        {
          "output_type": "execute_result",
          "data": {
            "text/plain": [
              "NearestNeighbors(algorithm='brute', leaf_size=30, metric='cosine',\n",
              "                 metric_params=None, n_jobs=None, n_neighbors=5, p=2,\n",
              "                 radius=1.0)"
            ]
          },
          "metadata": {
            "tags": []
          },
          "execution_count": 99
        }
      ]
    },
    {
      "cell_type": "code",
      "metadata": {
        "id": "JhOzVqROzoap"
      },
      "source": [
        "query_index = 5617          # passing a random index num\n",
        "\n",
        "distances, indices = model_knn.kneighbors(rating_matrix.iloc[query_index,:].values.reshape(1, -1), n_neighbors = 6)"
      ],
      "execution_count": 100,
      "outputs": []
    },
    {
      "cell_type": "code",
      "metadata": {
        "colab": {
          "base_uri": "https://localhost:8080/"
        },
        "id": "duDzNy981tm1",
        "outputId": "d39e597e-12c9-4b1f-b565-afa689ef9eb2"
      },
      "source": [
        "distances, indices"
      ],
      "execution_count": 101,
      "outputs": [
        {
          "output_type": "execute_result",
          "data": {
            "text/plain": [
              "(array([[0., 0., 0., 0., 0., 0.]]),\n",
              " array([[7748, 3692, 3784, 6992, 8580, 4070]]))"
            ]
          },
          "metadata": {
            "tags": []
          },
          "execution_count": 101
        }
      ]
    },
    {
      "cell_type": "code",
      "metadata": {
        "colab": {
          "base_uri": "https://localhost:8080/"
        },
        "id": "jT3xVmPB2Xjd",
        "outputId": "56b2f6d4-2fe9-42dd-d64c-5bd9c2097e93"
      },
      "source": [
        "rating_matrix.index[:5]"
      ],
      "execution_count": 102,
      "outputs": [
        {
          "output_type": "execute_result",
          "data": {
            "text/plain": [
              "Index([''71 (2014)', ''Hellboy': The Seeds of Creation (2004)',\n",
              "       ''Round Midnight (1986)', ''Salem's Lot (2004)',\n",
              "       ''Til There Was You (1997)'],\n",
              "      dtype='object', name='title')"
            ]
          },
          "metadata": {
            "tags": []
          },
          "execution_count": 102
        }
      ]
    },
    {
      "cell_type": "code",
      "metadata": {
        "colab": {
          "base_uri": "https://localhost:8080/"
        },
        "id": "686zxWWk1tsA",
        "outputId": "bb726ee5-fbfd-4c8b-d9cc-bf24ca1d44bc"
      },
      "source": [
        "for i in range(len(distances[0])):\n",
        "    if i == 0:\n",
        "        print('Recommendations for {0}:\\n'.format(rating_matrix.index[query_index]))\n",
        "    else:\n",
        "        print('{0}: {1}'.format(i, rating_matrix.index[indices[0][i]]))"
      ],
      "execution_count": 103,
      "outputs": [
        {
          "output_type": "stream",
          "text": [
            "Recommendations for Mezzo Forte (1998):\n",
            "\n",
            "1: Guyver: Dark Hero (1994)\n",
            "2: Harrison Bergeron (1995)\n",
            "3: Real Life (1979)\n",
            "4: The Punisher: Dirty Laundry (2012)\n",
            "5: House of Cards (1993)\n"
          ],
          "name": "stdout"
        }
      ]
    },
    {
      "cell_type": "markdown",
      "metadata": {
        "id": "15IT3gR9LQZK"
      },
      "source": [
        "## Clustering of movies"
      ]
    },
    {
      "cell_type": "code",
      "metadata": {
        "colab": {
          "base_uri": "https://localhost:8080/"
        },
        "id": "wXemya7DB6WO",
        "outputId": "4ba08ddb-4891-485f-cc60-82108db271b1"
      },
      "source": [
        "count_matrix.shape"
      ],
      "execution_count": 104,
      "outputs": [
        {
          "output_type": "execute_result",
          "data": {
            "text/plain": [
              "(2948, 24)"
            ]
          },
          "metadata": {
            "tags": []
          },
          "execution_count": 104
        }
      ]
    },
    {
      "cell_type": "code",
      "metadata": {
        "colab": {
          "base_uri": "https://localhost:8080/"
        },
        "id": "36X92fCBB7ql",
        "outputId": "c94513ae-666b-400d-d708-760ac7a39974"
      },
      "source": [
        "print(count_matrix[:5])"
      ],
      "execution_count": 105,
      "outputs": [
        {
          "output_type": "stream",
          "text": [
            "  (0, 8)\t0.47391857950291805\n",
            "  (0, 4)\t0.2792181929787865\n",
            "  (0, 3)\t0.5015993194953707\n",
            "  (0, 2)\t0.5465762988762775\n",
            "  (0, 1)\t0.3835242533401098\n",
            "  (1, 8)\t0.6002858627265061\n",
            "  (1, 3)\t0.6353474906219688\n",
            "  (1, 1)\t0.4857884819250674\n",
            "  (2, 19)\t0.8174255256798652\n",
            "  (2, 4)\t0.5760342958253407\n",
            "  (3, 7)\t0.4884830239900367\n",
            "  (3, 19)\t0.7132637687306668\n",
            "  (3, 4)\t0.5026322029970574\n",
            "  (4, 4)\t1.0\n"
          ],
          "name": "stdout"
        }
      ]
    },
    {
      "cell_type": "code",
      "metadata": {
        "colab": {
          "base_uri": "https://localhost:8080/"
        },
        "id": "PcMNqEpzBUhH",
        "outputId": "4b498d49-4876-468b-c13d-10a591ae585b"
      },
      "source": [
        "inertia = []\n",
        "\n",
        "for n_clusters in range(1, 10):\n",
        "    kmeans = KMeans(n_clusters=n_clusters, random_state=0).fit(count_matrix)\n",
        "    inertia.append(kmeans.inertia_ / n_clusters)\n",
        "    print(\"Cluster:\", n_clusters,\"  \",\"Intertia:\", kmeans.inertia_)"
      ],
      "execution_count": 106,
      "outputs": [
        {
          "output_type": "stream",
          "text": [
            "Cluster: 1    Intertia: 2333.9727047891106\n",
            "Cluster: 2    Intertia: 2009.248574750803\n",
            "Cluster: 3    Intertia: 1782.8741962883407\n",
            "Cluster: 4    Intertia: 1623.319458419672\n",
            "Cluster: 5    Intertia: 1472.156575278802\n",
            "Cluster: 6    Intertia: 1328.9781105141105\n",
            "Cluster: 7    Intertia: 1225.94064489346\n",
            "Cluster: 8    Intertia: 1136.3807474166204\n",
            "Cluster: 9    Intertia: 1060.73401812569\n"
          ],
          "name": "stdout"
        }
      ]
    },
    {
      "cell_type": "code",
      "metadata": {
        "id": "-diBeQ9mBUlh"
      },
      "source": [
        "# create a KMeans object with 6 clusters\n",
        "km = KMeans(n_clusters=6)\n",
        "\n",
        "# fit the k-means object with tfidf_matrix\n",
        "km.fit(count_matrix)\n",
        "\n",
        "clusters = km.labels_.tolist()"
      ],
      "execution_count": 107,
      "outputs": []
    },
    {
      "cell_type": "code",
      "metadata": {
        "colab": {
          "base_uri": "https://localhost:8080/"
        },
        "id": "U3L8ymxWDE9p",
        "outputId": "b3667fee-b46c-4cbb-a44f-7e60fe2cca87"
      },
      "source": [
        "len(clusters)"
      ],
      "execution_count": 108,
      "outputs": [
        {
          "output_type": "execute_result",
          "data": {
            "text/plain": [
              "2948"
            ]
          },
          "metadata": {
            "tags": []
          },
          "execution_count": 108
        }
      ]
    },
    {
      "cell_type": "code",
      "metadata": {
        "colab": {
          "base_uri": "https://localhost:8080/"
        },
        "id": "siFMCCLoDkSS",
        "outputId": "ecdf2ab1-59cd-4acb-c5e7-d2433eb09247"
      },
      "source": [
        "eligible_movies_full.shape"
      ],
      "execution_count": 109,
      "outputs": [
        {
          "output_type": "execute_result",
          "data": {
            "text/plain": [
              "(2948, 27)"
            ]
          },
          "metadata": {
            "tags": []
          },
          "execution_count": 109
        }
      ]
    },
    {
      "cell_type": "code",
      "metadata": {
        "colab": {
          "base_uri": "https://localhost:8080/",
          "height": 307
        },
        "id": "nkV9ImxvDfFT",
        "outputId": "aae1641d-5a3a-41e0-d172-e0b1bfc8f150"
      },
      "source": [
        "eligible_movies_full.tail(3)"
      ],
      "execution_count": 110,
      "outputs": [
        {
          "output_type": "execute_result",
          "data": {
            "text/html": [
              "<div>\n",
              "<style scoped>\n",
              "    .dataframe tbody tr th:only-of-type {\n",
              "        vertical-align: middle;\n",
              "    }\n",
              "\n",
              "    .dataframe tbody tr th {\n",
              "        vertical-align: top;\n",
              "    }\n",
              "\n",
              "    .dataframe thead th {\n",
              "        text-align: right;\n",
              "    }\n",
              "</style>\n",
              "<table border=\"1\" class=\"dataframe\">\n",
              "  <thead>\n",
              "    <tr style=\"text-align: right;\">\n",
              "      <th></th>\n",
              "      <th>movieid</th>\n",
              "      <th>title</th>\n",
              "      <th>genres</th>\n",
              "      <th>adventure</th>\n",
              "      <th>animation</th>\n",
              "      <th>children</th>\n",
              "      <th>comedy</th>\n",
              "      <th>fantasy</th>\n",
              "      <th>romance</th>\n",
              "      <th>drama</th>\n",
              "      <th>action</th>\n",
              "      <th>crime</th>\n",
              "      <th>thriller</th>\n",
              "      <th>horror</th>\n",
              "      <th>mystery</th>\n",
              "      <th>sci_fi</th>\n",
              "      <th>war</th>\n",
              "      <th>musical</th>\n",
              "      <th>documentary</th>\n",
              "      <th>imax</th>\n",
              "      <th>western</th>\n",
              "      <th>film_noir</th>\n",
              "      <th>no_genres</th>\n",
              "      <th>mean_rating</th>\n",
              "      <th>no_of_ratings</th>\n",
              "      <th>score</th>\n",
              "      <th>indexcol</th>\n",
              "    </tr>\n",
              "  </thead>\n",
              "  <tbody>\n",
              "    <tr>\n",
              "      <th>2945</th>\n",
              "      <td>179819</td>\n",
              "      <td>Star Wars: The Last Jedi (2017)</td>\n",
              "      <td>Action Adventure Fantasy Sci-Fi</td>\n",
              "      <td>1</td>\n",
              "      <td>0</td>\n",
              "      <td>0</td>\n",
              "      <td>0</td>\n",
              "      <td>1</td>\n",
              "      <td>0</td>\n",
              "      <td>0</td>\n",
              "      <td>1</td>\n",
              "      <td>0</td>\n",
              "      <td>0</td>\n",
              "      <td>0</td>\n",
              "      <td>0</td>\n",
              "      <td>1</td>\n",
              "      <td>0</td>\n",
              "      <td>0</td>\n",
              "      <td>0</td>\n",
              "      <td>0</td>\n",
              "      <td>0</td>\n",
              "      <td>0</td>\n",
              "      <td>0</td>\n",
              "      <td>3.1250</td>\n",
              "      <td>12</td>\n",
              "      <td>3.175647</td>\n",
              "      <td>2945</td>\n",
              "    </tr>\n",
              "    <tr>\n",
              "      <th>2946</th>\n",
              "      <td>180031</td>\n",
              "      <td>The Shape of Water (2017)</td>\n",
              "      <td>Adventure Drama Fantasy</td>\n",
              "      <td>1</td>\n",
              "      <td>0</td>\n",
              "      <td>0</td>\n",
              "      <td>0</td>\n",
              "      <td>1</td>\n",
              "      <td>0</td>\n",
              "      <td>1</td>\n",
              "      <td>0</td>\n",
              "      <td>0</td>\n",
              "      <td>0</td>\n",
              "      <td>0</td>\n",
              "      <td>0</td>\n",
              "      <td>0</td>\n",
              "      <td>0</td>\n",
              "      <td>0</td>\n",
              "      <td>0</td>\n",
              "      <td>0</td>\n",
              "      <td>0</td>\n",
              "      <td>0</td>\n",
              "      <td>0</td>\n",
              "      <td>3.6875</td>\n",
              "      <td>8</td>\n",
              "      <td>3.489153</td>\n",
              "      <td>2946</td>\n",
              "    </tr>\n",
              "    <tr>\n",
              "      <th>2947</th>\n",
              "      <td>187593</td>\n",
              "      <td>Deadpool 2 (2018)</td>\n",
              "      <td>Action Comedy Sci-Fi</td>\n",
              "      <td>0</td>\n",
              "      <td>0</td>\n",
              "      <td>0</td>\n",
              "      <td>1</td>\n",
              "      <td>0</td>\n",
              "      <td>0</td>\n",
              "      <td>0</td>\n",
              "      <td>1</td>\n",
              "      <td>0</td>\n",
              "      <td>0</td>\n",
              "      <td>0</td>\n",
              "      <td>0</td>\n",
              "      <td>1</td>\n",
              "      <td>0</td>\n",
              "      <td>0</td>\n",
              "      <td>0</td>\n",
              "      <td>0</td>\n",
              "      <td>0</td>\n",
              "      <td>0</td>\n",
              "      <td>0</td>\n",
              "      <td>3.8750</td>\n",
              "      <td>12</td>\n",
              "      <td>3.649331</td>\n",
              "      <td>2947</td>\n",
              "    </tr>\n",
              "  </tbody>\n",
              "</table>\n",
              "</div>"
            ],
            "text/plain": [
              "      movieid                            title  ...     score  indexcol\n",
              "2945   179819  Star Wars: The Last Jedi (2017)  ...  3.175647      2945\n",
              "2946   180031        The Shape of Water (2017)  ...  3.489153      2946\n",
              "2947   187593                Deadpool 2 (2018)  ...  3.649331      2947\n",
              "\n",
              "[3 rows x 27 columns]"
            ]
          },
          "metadata": {
            "tags": []
          },
          "execution_count": 110
        }
      ]
    },
    {
      "cell_type": "code",
      "metadata": {
        "id": "hZukB8-oETh0"
      },
      "source": [
        "eligible_movies_upd = eligible_movies_full[['movieid', 'title', 'genres', 'mean_rating', 'no_of_ratings', 'score']]"
      ],
      "execution_count": 111,
      "outputs": []
    },
    {
      "cell_type": "code",
      "metadata": {
        "colab": {
          "base_uri": "https://localhost:8080/",
          "height": 194
        },
        "id": "EbXnzn7CBUqw",
        "outputId": "8dfd8999-5dd8-4ba8-a57c-afd5b093b3e0"
      },
      "source": [
        "# adding a column 'cluster' showing which movie belong to which cluster\n",
        "\n",
        "eligible_movies_upd['cluster'] = clusters\n",
        "eligible_movies_upd.head()"
      ],
      "execution_count": 112,
      "outputs": [
        {
          "output_type": "execute_result",
          "data": {
            "text/html": [
              "<div>\n",
              "<style scoped>\n",
              "    .dataframe tbody tr th:only-of-type {\n",
              "        vertical-align: middle;\n",
              "    }\n",
              "\n",
              "    .dataframe tbody tr th {\n",
              "        vertical-align: top;\n",
              "    }\n",
              "\n",
              "    .dataframe thead th {\n",
              "        text-align: right;\n",
              "    }\n",
              "</style>\n",
              "<table border=\"1\" class=\"dataframe\">\n",
              "  <thead>\n",
              "    <tr style=\"text-align: right;\">\n",
              "      <th></th>\n",
              "      <th>movieid</th>\n",
              "      <th>title</th>\n",
              "      <th>genres</th>\n",
              "      <th>mean_rating</th>\n",
              "      <th>no_of_ratings</th>\n",
              "      <th>score</th>\n",
              "      <th>cluster</th>\n",
              "    </tr>\n",
              "  </thead>\n",
              "  <tbody>\n",
              "    <tr>\n",
              "      <th>0</th>\n",
              "      <td>1</td>\n",
              "      <td>Toy Story (1995)</td>\n",
              "      <td>Adventure Animation Children Comedy Fantasy</td>\n",
              "      <td>3.920930</td>\n",
              "      <td>215</td>\n",
              "      <td>3.900168</td>\n",
              "      <td>3</td>\n",
              "    </tr>\n",
              "    <tr>\n",
              "      <th>1</th>\n",
              "      <td>2</td>\n",
              "      <td>Jumanji (1995)</td>\n",
              "      <td>Adventure Children Fantasy</td>\n",
              "      <td>3.431818</td>\n",
              "      <td>110</td>\n",
              "      <td>3.421686</td>\n",
              "      <td>3</td>\n",
              "    </tr>\n",
              "    <tr>\n",
              "      <th>2</th>\n",
              "      <td>3</td>\n",
              "      <td>Grumpier Old Men (1995)</td>\n",
              "      <td>Comedy Romance</td>\n",
              "      <td>3.259615</td>\n",
              "      <td>52</td>\n",
              "      <td>3.259954</td>\n",
              "      <td>0</td>\n",
              "    </tr>\n",
              "    <tr>\n",
              "      <th>3</th>\n",
              "      <td>4</td>\n",
              "      <td>Waiting to Exhale (1995)</td>\n",
              "      <td>Comedy Drama Romance</td>\n",
              "      <td>2.357143</td>\n",
              "      <td>7</td>\n",
              "      <td>2.809806</td>\n",
              "      <td>0</td>\n",
              "    </tr>\n",
              "    <tr>\n",
              "      <th>4</th>\n",
              "      <td>5</td>\n",
              "      <td>Father of the Bride Part II (1995)</td>\n",
              "      <td>Comedy</td>\n",
              "      <td>3.071429</td>\n",
              "      <td>49</td>\n",
              "      <td>3.095309</td>\n",
              "      <td>5</td>\n",
              "    </tr>\n",
              "  </tbody>\n",
              "</table>\n",
              "</div>"
            ],
            "text/plain": [
              "   movieid                               title  ...     score  cluster\n",
              "0        1                    Toy Story (1995)  ...  3.900168        3\n",
              "1        2                      Jumanji (1995)  ...  3.421686        3\n",
              "2        3             Grumpier Old Men (1995)  ...  3.259954        0\n",
              "3        4            Waiting to Exhale (1995)  ...  2.809806        0\n",
              "4        5  Father of the Bride Part II (1995)  ...  3.095309        5\n",
              "\n",
              "[5 rows x 7 columns]"
            ]
          },
          "metadata": {
            "tags": []
          },
          "execution_count": 112
        }
      ]
    },
    {
      "cell_type": "code",
      "metadata": {
        "colab": {
          "base_uri": "https://localhost:8080/"
        },
        "id": "vSReKvs-BUwr",
        "outputId": "8d2e00c6-5c26-4448-f22b-1f618cce166b"
      },
      "source": [
        "# Display number of films per cluster (clusters from 0 to 4)\n",
        "eligible_movies_upd['cluster'].value_counts()"
      ],
      "execution_count": 113,
      "outputs": [
        {
          "output_type": "execute_result",
          "data": {
            "text/plain": [
              "4    742\n",
              "3    527\n",
              "5    455\n",
              "0    436\n",
              "2    417\n",
              "1    371\n",
              "Name: cluster, dtype: int64"
            ]
          },
          "metadata": {
            "tags": []
          },
          "execution_count": 113
        }
      ]
    },
    {
      "cell_type": "code",
      "metadata": {
        "id": "VkEirFwSJgPN"
      },
      "source": [
        "# storing movie names in respective clusters\n",
        "\n",
        "cluster0 = []\n",
        "cluster1 = []\n",
        "cluster2 = []\n",
        "cluster3 = []\n",
        "cluster4 = []\n",
        "cluster5 = []\n",
        "\n",
        "for row in range(len(eligible_movies_upd)):\n",
        "\n",
        "  if eligible_movies_upd['cluster'].iloc[row]==0:\n",
        "    cluster0.append(eligible_movies_upd['title'].iloc[row])\n",
        "\n",
        "  elif eligible_movies_upd[\"cluster\"].iloc[row]==1:\n",
        "    cluster1.append(eligible_movies_upd['title'].iloc[row])\n",
        "\n",
        "  elif eligible_movies_upd[\"cluster\"].iloc[row]==2:\n",
        "    cluster2.append(eligible_movies_upd['title'].iloc[row])\n",
        "\n",
        "  elif eligible_movies_upd[\"cluster\"].iloc[row]==3:\n",
        "    cluster3.append(eligible_movies_upd['title'].iloc[row])\n",
        "\n",
        "  elif eligible_movies_upd[\"cluster\"].iloc[row]==4:\n",
        "    cluster4.append(eligible_movies_upd['title'].iloc[row])\n",
        "    \n",
        "  else:\n",
        "    cluster5.append(eligible_movies_upd['title'].iloc[row])"
      ],
      "execution_count": 114,
      "outputs": []
    },
    {
      "cell_type": "code",
      "metadata": {
        "colab": {
          "base_uri": "https://localhost:8080/"
        },
        "id": "LIA_9ikLJgT9",
        "outputId": "b572ae5b-ec5b-4a26-a151-adc3d19086c4"
      },
      "source": [
        "print(\"First 5 movies in Cluster 0:\")\n",
        "i=0\n",
        "\n",
        "for element in cluster0:\n",
        "  print(element)\n",
        "  i=i+1\n",
        "  if i>4:\n",
        "    break"
      ],
      "execution_count": 115,
      "outputs": [
        {
          "output_type": "stream",
          "text": [
            "First 5 movies in Cluster 0:\n",
            "Grumpier Old Men (1995)\n",
            "Waiting to Exhale (1995)\n",
            "Sabrina (1995)\n",
            "American President, The (1995)\n",
            "Cutthroat Island (1995)\n"
          ],
          "name": "stdout"
        }
      ]
    },
    {
      "cell_type": "code",
      "metadata": {
        "colab": {
          "base_uri": "https://localhost:8080/"
        },
        "id": "EvTlpZIZ-rrN",
        "outputId": "8e8a40ce-6174-43cb-fb01-75b6ffafc480"
      },
      "source": [
        "print(\"First 5 movies in Cluster 3:\")\n",
        "i=0\n",
        "\n",
        "for element in cluster3:\n",
        "  print(element)\n",
        "  i=i+1\n",
        "  if i>4:\n",
        "    break"
      ],
      "execution_count": 116,
      "outputs": [
        {
          "output_type": "stream",
          "text": [
            "First 5 movies in Cluster 3:\n",
            "Toy Story (1995)\n",
            "Jumanji (1995)\n",
            "Tom and Huck (1995)\n",
            "Balto (1995)\n",
            "Now and Then (1995)\n"
          ],
          "name": "stdout"
        }
      ]
    },
    {
      "cell_type": "markdown",
      "metadata": {
        "id": "-bZUSgnm9QWW"
      },
      "source": [
        "## Content latent matrix using TFIDF & SVD"
      ]
    },
    {
      "cell_type": "code",
      "metadata": {
        "id": "IuAJmn-jLL9v",
        "colab": {
          "base_uri": "https://localhost:8080/",
          "height": 194
        },
        "outputId": "088f19d7-76c0-4064-8752-e211bb961116"
      },
      "source": [
        "df_tags.head()"
      ],
      "execution_count": 117,
      "outputs": [
        {
          "output_type": "execute_result",
          "data": {
            "text/html": [
              "<div>\n",
              "<style scoped>\n",
              "    .dataframe tbody tr th:only-of-type {\n",
              "        vertical-align: middle;\n",
              "    }\n",
              "\n",
              "    .dataframe tbody tr th {\n",
              "        vertical-align: top;\n",
              "    }\n",
              "\n",
              "    .dataframe thead th {\n",
              "        text-align: right;\n",
              "    }\n",
              "</style>\n",
              "<table border=\"1\" class=\"dataframe\">\n",
              "  <thead>\n",
              "    <tr style=\"text-align: right;\">\n",
              "      <th></th>\n",
              "      <th>userid</th>\n",
              "      <th>movieid</th>\n",
              "      <th>tag</th>\n",
              "      <th>timestamp</th>\n",
              "    </tr>\n",
              "  </thead>\n",
              "  <tbody>\n",
              "    <tr>\n",
              "      <th>0</th>\n",
              "      <td>2</td>\n",
              "      <td>60756</td>\n",
              "      <td>funny</td>\n",
              "      <td>1445714994</td>\n",
              "    </tr>\n",
              "    <tr>\n",
              "      <th>1</th>\n",
              "      <td>2</td>\n",
              "      <td>60756</td>\n",
              "      <td>Highly quotable</td>\n",
              "      <td>1445714996</td>\n",
              "    </tr>\n",
              "    <tr>\n",
              "      <th>2</th>\n",
              "      <td>2</td>\n",
              "      <td>60756</td>\n",
              "      <td>will ferrell</td>\n",
              "      <td>1445714992</td>\n",
              "    </tr>\n",
              "    <tr>\n",
              "      <th>3</th>\n",
              "      <td>2</td>\n",
              "      <td>89774</td>\n",
              "      <td>Boxing story</td>\n",
              "      <td>1445715207</td>\n",
              "    </tr>\n",
              "    <tr>\n",
              "      <th>4</th>\n",
              "      <td>2</td>\n",
              "      <td>89774</td>\n",
              "      <td>MMA</td>\n",
              "      <td>1445715200</td>\n",
              "    </tr>\n",
              "  </tbody>\n",
              "</table>\n",
              "</div>"
            ],
            "text/plain": [
              "   userid  movieid              tag   timestamp\n",
              "0       2    60756            funny  1445714994\n",
              "1       2    60756  Highly quotable  1445714996\n",
              "2       2    60756     will ferrell  1445714992\n",
              "3       2    89774     Boxing story  1445715207\n",
              "4       2    89774              MMA  1445715200"
            ]
          },
          "metadata": {
            "tags": []
          },
          "execution_count": 117
        }
      ]
    },
    {
      "cell_type": "code",
      "metadata": {
        "id": "Fn3FoqZdLMCz",
        "colab": {
          "base_uri": "https://localhost:8080/"
        },
        "outputId": "86fa989d-6346-4dda-a580-f1956db4d9d1"
      },
      "source": [
        "df_movies.shape"
      ],
      "execution_count": 118,
      "outputs": [
        {
          "output_type": "execute_result",
          "data": {
            "text/plain": [
              "(9737, 3)"
            ]
          },
          "metadata": {
            "tags": []
          },
          "execution_count": 118
        }
      ]
    },
    {
      "cell_type": "code",
      "metadata": {
        "id": "JAvmRpscO9Iz"
      },
      "source": [
        "df_tags.drop(['timestamp'],1, inplace=True)"
      ],
      "execution_count": 119,
      "outputs": []
    },
    {
      "cell_type": "code",
      "metadata": {
        "colab": {
          "base_uri": "https://localhost:8080/"
        },
        "id": "CeLw5goL6Abs",
        "outputId": "b588046e-88e9-497c-86ac-7a7f9fbdd02a"
      },
      "source": [
        "df_tags.shape"
      ],
      "execution_count": 120,
      "outputs": [
        {
          "output_type": "execute_result",
          "data": {
            "text/plain": [
              "(3683, 3)"
            ]
          },
          "metadata": {
            "tags": []
          },
          "execution_count": 120
        }
      ]
    },
    {
      "cell_type": "code",
      "metadata": {
        "colab": {
          "base_uri": "https://localhost:8080/",
          "height": 194
        },
        "id": "r6lxzFx7O9Lp",
        "outputId": "954117ba-1d51-4eb2-ff46-b66a90fd5d78"
      },
      "source": [
        "movie_tags = pd.merge(df_movies, df_tags, on='movieid', how='left')\n",
        "movie_tags.head()"
      ],
      "execution_count": 121,
      "outputs": [
        {
          "output_type": "execute_result",
          "data": {
            "text/html": [
              "<div>\n",
              "<style scoped>\n",
              "    .dataframe tbody tr th:only-of-type {\n",
              "        vertical-align: middle;\n",
              "    }\n",
              "\n",
              "    .dataframe tbody tr th {\n",
              "        vertical-align: top;\n",
              "    }\n",
              "\n",
              "    .dataframe thead th {\n",
              "        text-align: right;\n",
              "    }\n",
              "</style>\n",
              "<table border=\"1\" class=\"dataframe\">\n",
              "  <thead>\n",
              "    <tr style=\"text-align: right;\">\n",
              "      <th></th>\n",
              "      <th>movieid</th>\n",
              "      <th>title</th>\n",
              "      <th>genres</th>\n",
              "      <th>userid</th>\n",
              "      <th>tag</th>\n",
              "    </tr>\n",
              "  </thead>\n",
              "  <tbody>\n",
              "    <tr>\n",
              "      <th>0</th>\n",
              "      <td>1</td>\n",
              "      <td>Toy Story (1995)</td>\n",
              "      <td>Adventure Animation Children Comedy Fantasy</td>\n",
              "      <td>336.0</td>\n",
              "      <td>pixar</td>\n",
              "    </tr>\n",
              "    <tr>\n",
              "      <th>1</th>\n",
              "      <td>1</td>\n",
              "      <td>Toy Story (1995)</td>\n",
              "      <td>Adventure Animation Children Comedy Fantasy</td>\n",
              "      <td>474.0</td>\n",
              "      <td>pixar</td>\n",
              "    </tr>\n",
              "    <tr>\n",
              "      <th>2</th>\n",
              "      <td>1</td>\n",
              "      <td>Toy Story (1995)</td>\n",
              "      <td>Adventure Animation Children Comedy Fantasy</td>\n",
              "      <td>567.0</td>\n",
              "      <td>fun</td>\n",
              "    </tr>\n",
              "    <tr>\n",
              "      <th>3</th>\n",
              "      <td>2</td>\n",
              "      <td>Jumanji (1995)</td>\n",
              "      <td>Adventure Children Fantasy</td>\n",
              "      <td>62.0</td>\n",
              "      <td>fantasy</td>\n",
              "    </tr>\n",
              "    <tr>\n",
              "      <th>4</th>\n",
              "      <td>2</td>\n",
              "      <td>Jumanji (1995)</td>\n",
              "      <td>Adventure Children Fantasy</td>\n",
              "      <td>62.0</td>\n",
              "      <td>magic board game</td>\n",
              "    </tr>\n",
              "  </tbody>\n",
              "</table>\n",
              "</div>"
            ],
            "text/plain": [
              "   movieid             title  ... userid               tag\n",
              "0        1  Toy Story (1995)  ...  336.0             pixar\n",
              "1        1  Toy Story (1995)  ...  474.0             pixar\n",
              "2        1  Toy Story (1995)  ...  567.0               fun\n",
              "3        2    Jumanji (1995)  ...   62.0           fantasy\n",
              "4        2    Jumanji (1995)  ...   62.0  magic board game\n",
              "\n",
              "[5 rows x 5 columns]"
            ]
          },
          "metadata": {
            "tags": []
          },
          "execution_count": 121
        }
      ]
    },
    {
      "cell_type": "code",
      "metadata": {
        "colab": {
          "base_uri": "https://localhost:8080/"
        },
        "id": "Ycrh_lS86f8X",
        "outputId": "e1ea5a17-2954-486a-9f05-58ff86593769"
      },
      "source": [
        "movie_tags.shape"
      ],
      "execution_count": 122,
      "outputs": [
        {
          "output_type": "execute_result",
          "data": {
            "text/plain": [
              "(11848, 5)"
            ]
          },
          "metadata": {
            "tags": []
          },
          "execution_count": 122
        }
      ]
    },
    {
      "cell_type": "code",
      "metadata": {
        "colab": {
          "base_uri": "https://localhost:8080/"
        },
        "id": "1ZR4KnUdO9PB",
        "outputId": "7b0a61cf-987f-4415-e203-cb2eba189ef3"
      },
      "source": [
        "movie_tags.isnull().sum()"
      ],
      "execution_count": 123,
      "outputs": [
        {
          "output_type": "execute_result",
          "data": {
            "text/plain": [
              "movieid       0\n",
              "title         0\n",
              "genres        0\n",
              "userid     8166\n",
              "tag        8166\n",
              "dtype: int64"
            ]
          },
          "metadata": {
            "tags": []
          },
          "execution_count": 123
        }
      ]
    },
    {
      "cell_type": "code",
      "metadata": {
        "id": "jCdwkOKfO9mF"
      },
      "source": [
        "movie_tags.fillna('', inplace=True)"
      ],
      "execution_count": 124,
      "outputs": []
    },
    {
      "cell_type": "code",
      "metadata": {
        "id": "pfEuArQa7xWf"
      },
      "source": [
        "movie_tags['tag'] = movie_tags.groupby(['title'])['tag'].transform(lambda x : ' '.join(x))"
      ],
      "execution_count": 125,
      "outputs": []
    },
    {
      "cell_type": "code",
      "metadata": {
        "id": "sJnC4SUb8_bS"
      },
      "source": [
        "movie_tags = movie_tags[['movieid', 'title', 'genres', 'tag']]"
      ],
      "execution_count": 126,
      "outputs": []
    },
    {
      "cell_type": "code",
      "metadata": {
        "colab": {
          "base_uri": "https://localhost:8080/",
          "height": 194
        },
        "id": "PodBctrD_Dc1",
        "outputId": "29788cc0-1db8-4051-92fc-7dbc4f722d9e"
      },
      "source": [
        "movie_tags.head(5)"
      ],
      "execution_count": 127,
      "outputs": [
        {
          "output_type": "execute_result",
          "data": {
            "text/html": [
              "<div>\n",
              "<style scoped>\n",
              "    .dataframe tbody tr th:only-of-type {\n",
              "        vertical-align: middle;\n",
              "    }\n",
              "\n",
              "    .dataframe tbody tr th {\n",
              "        vertical-align: top;\n",
              "    }\n",
              "\n",
              "    .dataframe thead th {\n",
              "        text-align: right;\n",
              "    }\n",
              "</style>\n",
              "<table border=\"1\" class=\"dataframe\">\n",
              "  <thead>\n",
              "    <tr style=\"text-align: right;\">\n",
              "      <th></th>\n",
              "      <th>movieid</th>\n",
              "      <th>title</th>\n",
              "      <th>genres</th>\n",
              "      <th>tag</th>\n",
              "    </tr>\n",
              "  </thead>\n",
              "  <tbody>\n",
              "    <tr>\n",
              "      <th>0</th>\n",
              "      <td>1</td>\n",
              "      <td>Toy Story (1995)</td>\n",
              "      <td>Adventure Animation Children Comedy Fantasy</td>\n",
              "      <td>pixar pixar fun</td>\n",
              "    </tr>\n",
              "    <tr>\n",
              "      <th>1</th>\n",
              "      <td>1</td>\n",
              "      <td>Toy Story (1995)</td>\n",
              "      <td>Adventure Animation Children Comedy Fantasy</td>\n",
              "      <td>pixar pixar fun</td>\n",
              "    </tr>\n",
              "    <tr>\n",
              "      <th>2</th>\n",
              "      <td>1</td>\n",
              "      <td>Toy Story (1995)</td>\n",
              "      <td>Adventure Animation Children Comedy Fantasy</td>\n",
              "      <td>pixar pixar fun</td>\n",
              "    </tr>\n",
              "    <tr>\n",
              "      <th>3</th>\n",
              "      <td>2</td>\n",
              "      <td>Jumanji (1995)</td>\n",
              "      <td>Adventure Children Fantasy</td>\n",
              "      <td>fantasy magic board game Robin Williams game</td>\n",
              "    </tr>\n",
              "    <tr>\n",
              "      <th>4</th>\n",
              "      <td>2</td>\n",
              "      <td>Jumanji (1995)</td>\n",
              "      <td>Adventure Children Fantasy</td>\n",
              "      <td>fantasy magic board game Robin Williams game</td>\n",
              "    </tr>\n",
              "  </tbody>\n",
              "</table>\n",
              "</div>"
            ],
            "text/plain": [
              "   movieid  ...                                           tag\n",
              "0        1  ...                               pixar pixar fun\n",
              "1        1  ...                               pixar pixar fun\n",
              "2        1  ...                               pixar pixar fun\n",
              "3        2  ...  fantasy magic board game Robin Williams game\n",
              "4        2  ...  fantasy magic board game Robin Williams game\n",
              "\n",
              "[5 rows x 4 columns]"
            ]
          },
          "metadata": {
            "tags": []
          },
          "execution_count": 127
        }
      ]
    },
    {
      "cell_type": "code",
      "metadata": {
        "id": "vM1x-ngP9JNC"
      },
      "source": [
        "movie_tags = movie_tags.drop_duplicates().reset_index(drop=True)"
      ],
      "execution_count": 128,
      "outputs": []
    },
    {
      "cell_type": "code",
      "metadata": {
        "colab": {
          "base_uri": "https://localhost:8080/",
          "height": 194
        },
        "id": "_w-gf4Yo9Lz3",
        "outputId": "b6f96b82-8068-4289-81c6-8b957dc86cda"
      },
      "source": [
        "movie_tags.sample(5, random_state=15)"
      ],
      "execution_count": 129,
      "outputs": [
        {
          "output_type": "execute_result",
          "data": {
            "text/html": [
              "<div>\n",
              "<style scoped>\n",
              "    .dataframe tbody tr th:only-of-type {\n",
              "        vertical-align: middle;\n",
              "    }\n",
              "\n",
              "    .dataframe tbody tr th {\n",
              "        vertical-align: top;\n",
              "    }\n",
              "\n",
              "    .dataframe thead th {\n",
              "        text-align: right;\n",
              "    }\n",
              "</style>\n",
              "<table border=\"1\" class=\"dataframe\">\n",
              "  <thead>\n",
              "    <tr style=\"text-align: right;\">\n",
              "      <th></th>\n",
              "      <th>movieid</th>\n",
              "      <th>title</th>\n",
              "      <th>genres</th>\n",
              "      <th>tag</th>\n",
              "    </tr>\n",
              "  </thead>\n",
              "  <tbody>\n",
              "    <tr>\n",
              "      <th>8795</th>\n",
              "      <td>130444</td>\n",
              "      <td>Ruby Red (2013)</td>\n",
              "      <td>Adventure Children Fantasy Sci-Fi</td>\n",
              "      <td></td>\n",
              "    </tr>\n",
              "    <tr>\n",
              "      <th>767</th>\n",
              "      <td>1009</td>\n",
              "      <td>Escape to Witch Mountain (1975)</td>\n",
              "      <td>Adventure Children Fantasy</td>\n",
              "      <td></td>\n",
              "    </tr>\n",
              "    <tr>\n",
              "      <th>4405</th>\n",
              "      <td>6484</td>\n",
              "      <td>Hollywood Homicide (2003)</td>\n",
              "      <td>Action Crime Drama</td>\n",
              "      <td></td>\n",
              "    </tr>\n",
              "    <tr>\n",
              "      <th>4996</th>\n",
              "      <td>7714</td>\n",
              "      <td>Camelot (1967)</td>\n",
              "      <td>Drama Musical Romance</td>\n",
              "      <td>King Arthur</td>\n",
              "    </tr>\n",
              "    <tr>\n",
              "      <th>4101</th>\n",
              "      <td>5878</td>\n",
              "      <td>Talk to Her (Hable con Ella) (2002)</td>\n",
              "      <td>Drama Romance</td>\n",
              "      <td>coma</td>\n",
              "    </tr>\n",
              "  </tbody>\n",
              "</table>\n",
              "</div>"
            ],
            "text/plain": [
              "      movieid  ...          tag\n",
              "8795   130444  ...             \n",
              "767      1009  ...             \n",
              "4405     6484  ...             \n",
              "4996     7714  ...  King Arthur\n",
              "4101     5878  ...         coma\n",
              "\n",
              "[5 rows x 4 columns]"
            ]
          },
          "metadata": {
            "tags": []
          },
          "execution_count": 129
        }
      ]
    },
    {
      "cell_type": "code",
      "metadata": {
        "colab": {
          "base_uri": "https://localhost:8080/"
        },
        "id": "TE1vNik29SqQ",
        "outputId": "632e60cd-c0df-41dd-ef60-911be0f2e7f0"
      },
      "source": [
        "movie_tags.shape"
      ],
      "execution_count": 130,
      "outputs": [
        {
          "output_type": "execute_result",
          "data": {
            "text/plain": [
              "(9737, 4)"
            ]
          },
          "metadata": {
            "tags": []
          },
          "execution_count": 130
        }
      ]
    },
    {
      "cell_type": "markdown",
      "metadata": {
        "id": "NCqhA8_YrgtS"
      },
      "source": [
        "'metadata' will have collection of genres, tags, movie names."
      ]
    },
    {
      "cell_type": "code",
      "metadata": {
        "id": "aJRacrYo9SuV"
      },
      "source": [
        "movie_tags['metadata'] = movie_tags[['tag', 'genres']].apply(lambda x: ' '.join(x), axis = 1)\n",
        "movie_tags = movie_tags[['movieid','title','metadata']]"
      ],
      "execution_count": 131,
      "outputs": []
    },
    {
      "cell_type": "code",
      "metadata": {
        "colab": {
          "base_uri": "https://localhost:8080/",
          "height": 194
        },
        "id": "rBFfR5Ig9TMs",
        "outputId": "ff29f048-9773-4de3-cbd5-4fe4ef8eb6a2"
      },
      "source": [
        "movie_tags.head()"
      ],
      "execution_count": 132,
      "outputs": [
        {
          "output_type": "execute_result",
          "data": {
            "text/html": [
              "<div>\n",
              "<style scoped>\n",
              "    .dataframe tbody tr th:only-of-type {\n",
              "        vertical-align: middle;\n",
              "    }\n",
              "\n",
              "    .dataframe tbody tr th {\n",
              "        vertical-align: top;\n",
              "    }\n",
              "\n",
              "    .dataframe thead th {\n",
              "        text-align: right;\n",
              "    }\n",
              "</style>\n",
              "<table border=\"1\" class=\"dataframe\">\n",
              "  <thead>\n",
              "    <tr style=\"text-align: right;\">\n",
              "      <th></th>\n",
              "      <th>movieid</th>\n",
              "      <th>title</th>\n",
              "      <th>metadata</th>\n",
              "    </tr>\n",
              "  </thead>\n",
              "  <tbody>\n",
              "    <tr>\n",
              "      <th>0</th>\n",
              "      <td>1</td>\n",
              "      <td>Toy Story (1995)</td>\n",
              "      <td>pixar pixar fun Adventure Animation Children C...</td>\n",
              "    </tr>\n",
              "    <tr>\n",
              "      <th>1</th>\n",
              "      <td>2</td>\n",
              "      <td>Jumanji (1995)</td>\n",
              "      <td>fantasy magic board game Robin Williams game A...</td>\n",
              "    </tr>\n",
              "    <tr>\n",
              "      <th>2</th>\n",
              "      <td>3</td>\n",
              "      <td>Grumpier Old Men (1995)</td>\n",
              "      <td>moldy old Comedy Romance</td>\n",
              "    </tr>\n",
              "    <tr>\n",
              "      <th>3</th>\n",
              "      <td>4</td>\n",
              "      <td>Waiting to Exhale (1995)</td>\n",
              "      <td>Comedy Drama Romance</td>\n",
              "    </tr>\n",
              "    <tr>\n",
              "      <th>4</th>\n",
              "      <td>5</td>\n",
              "      <td>Father of the Bride Part II (1995)</td>\n",
              "      <td>pregnancy remake Comedy</td>\n",
              "    </tr>\n",
              "  </tbody>\n",
              "</table>\n",
              "</div>"
            ],
            "text/plain": [
              "   movieid  ...                                           metadata\n",
              "0        1  ...  pixar pixar fun Adventure Animation Children C...\n",
              "1        2  ...  fantasy magic board game Robin Williams game A...\n",
              "2        3  ...                           moldy old Comedy Romance\n",
              "3        4  ...                               Comedy Drama Romance\n",
              "4        5  ...                            pregnancy remake Comedy\n",
              "\n",
              "[5 rows x 3 columns]"
            ]
          },
          "metadata": {
            "tags": []
          },
          "execution_count": 132
        }
      ]
    },
    {
      "cell_type": "code",
      "metadata": {
        "id": "FR-ektGls_Ca"
      },
      "source": [
        "def clean(review):\n",
        "    review = re.sub('[^a-zA-Z]', ' ', review)\n",
        "    review = review.lower()\n",
        "    return review\n",
        "\n",
        "movie_tags['title2'] = pd.DataFrame(movie_tags['title'].apply(lambda x: clean(x)))"
      ],
      "execution_count": 133,
      "outputs": []
    },
    {
      "cell_type": "code",
      "metadata": {
        "colab": {
          "base_uri": "https://localhost:8080/",
          "height": 194
        },
        "id": "KR3M3Pisyl_k",
        "outputId": "f1173697-2a49-4bea-c962-5250f4411b00"
      },
      "source": [
        "movie_tags.head()"
      ],
      "execution_count": 134,
      "outputs": [
        {
          "output_type": "execute_result",
          "data": {
            "text/html": [
              "<div>\n",
              "<style scoped>\n",
              "    .dataframe tbody tr th:only-of-type {\n",
              "        vertical-align: middle;\n",
              "    }\n",
              "\n",
              "    .dataframe tbody tr th {\n",
              "        vertical-align: top;\n",
              "    }\n",
              "\n",
              "    .dataframe thead th {\n",
              "        text-align: right;\n",
              "    }\n",
              "</style>\n",
              "<table border=\"1\" class=\"dataframe\">\n",
              "  <thead>\n",
              "    <tr style=\"text-align: right;\">\n",
              "      <th></th>\n",
              "      <th>movieid</th>\n",
              "      <th>title</th>\n",
              "      <th>metadata</th>\n",
              "      <th>title2</th>\n",
              "    </tr>\n",
              "  </thead>\n",
              "  <tbody>\n",
              "    <tr>\n",
              "      <th>0</th>\n",
              "      <td>1</td>\n",
              "      <td>Toy Story (1995)</td>\n",
              "      <td>pixar pixar fun Adventure Animation Children C...</td>\n",
              "      <td>toy story</td>\n",
              "    </tr>\n",
              "    <tr>\n",
              "      <th>1</th>\n",
              "      <td>2</td>\n",
              "      <td>Jumanji (1995)</td>\n",
              "      <td>fantasy magic board game Robin Williams game A...</td>\n",
              "      <td>jumanji</td>\n",
              "    </tr>\n",
              "    <tr>\n",
              "      <th>2</th>\n",
              "      <td>3</td>\n",
              "      <td>Grumpier Old Men (1995)</td>\n",
              "      <td>moldy old Comedy Romance</td>\n",
              "      <td>grumpier old men</td>\n",
              "    </tr>\n",
              "    <tr>\n",
              "      <th>3</th>\n",
              "      <td>4</td>\n",
              "      <td>Waiting to Exhale (1995)</td>\n",
              "      <td>Comedy Drama Romance</td>\n",
              "      <td>waiting to exhale</td>\n",
              "    </tr>\n",
              "    <tr>\n",
              "      <th>4</th>\n",
              "      <td>5</td>\n",
              "      <td>Father of the Bride Part II (1995)</td>\n",
              "      <td>pregnancy remake Comedy</td>\n",
              "      <td>father of the bride part ii</td>\n",
              "    </tr>\n",
              "  </tbody>\n",
              "</table>\n",
              "</div>"
            ],
            "text/plain": [
              "   movieid  ...                              title2\n",
              "0        1  ...                    toy story       \n",
              "1        2  ...                      jumanji       \n",
              "2        3  ...             grumpier old men       \n",
              "3        4  ...            waiting to exhale       \n",
              "4        5  ...  father of the bride part ii       \n",
              "\n",
              "[5 rows x 4 columns]"
            ]
          },
          "metadata": {
            "tags": []
          },
          "execution_count": 134
        }
      ]
    },
    {
      "cell_type": "code",
      "metadata": {
        "id": "cxWYkCyRyvoN"
      },
      "source": [
        "movie_tags['metadata'] = movie_tags['metadata'] + ' ' + movie_tags['title2']\n",
        "movie_tags = movie_tags[['movieid', 'title', 'metadata']]"
      ],
      "execution_count": 135,
      "outputs": []
    },
    {
      "cell_type": "code",
      "metadata": {
        "colab": {
          "base_uri": "https://localhost:8080/",
          "height": 194
        },
        "id": "dMNsrlToy7kx",
        "outputId": "8e356752-07c8-49bb-adc8-f4b4c30ad588"
      },
      "source": [
        "movie_tags.head()"
      ],
      "execution_count": 136,
      "outputs": [
        {
          "output_type": "execute_result",
          "data": {
            "text/html": [
              "<div>\n",
              "<style scoped>\n",
              "    .dataframe tbody tr th:only-of-type {\n",
              "        vertical-align: middle;\n",
              "    }\n",
              "\n",
              "    .dataframe tbody tr th {\n",
              "        vertical-align: top;\n",
              "    }\n",
              "\n",
              "    .dataframe thead th {\n",
              "        text-align: right;\n",
              "    }\n",
              "</style>\n",
              "<table border=\"1\" class=\"dataframe\">\n",
              "  <thead>\n",
              "    <tr style=\"text-align: right;\">\n",
              "      <th></th>\n",
              "      <th>movieid</th>\n",
              "      <th>title</th>\n",
              "      <th>metadata</th>\n",
              "    </tr>\n",
              "  </thead>\n",
              "  <tbody>\n",
              "    <tr>\n",
              "      <th>0</th>\n",
              "      <td>1</td>\n",
              "      <td>Toy Story (1995)</td>\n",
              "      <td>pixar pixar fun Adventure Animation Children C...</td>\n",
              "    </tr>\n",
              "    <tr>\n",
              "      <th>1</th>\n",
              "      <td>2</td>\n",
              "      <td>Jumanji (1995)</td>\n",
              "      <td>fantasy magic board game Robin Williams game A...</td>\n",
              "    </tr>\n",
              "    <tr>\n",
              "      <th>2</th>\n",
              "      <td>3</td>\n",
              "      <td>Grumpier Old Men (1995)</td>\n",
              "      <td>moldy old Comedy Romance grumpier old men</td>\n",
              "    </tr>\n",
              "    <tr>\n",
              "      <th>3</th>\n",
              "      <td>4</td>\n",
              "      <td>Waiting to Exhale (1995)</td>\n",
              "      <td>Comedy Drama Romance waiting to exhale</td>\n",
              "    </tr>\n",
              "    <tr>\n",
              "      <th>4</th>\n",
              "      <td>5</td>\n",
              "      <td>Father of the Bride Part II (1995)</td>\n",
              "      <td>pregnancy remake Comedy father of the bride pa...</td>\n",
              "    </tr>\n",
              "  </tbody>\n",
              "</table>\n",
              "</div>"
            ],
            "text/plain": [
              "   movieid  ...                                           metadata\n",
              "0        1  ...  pixar pixar fun Adventure Animation Children C...\n",
              "1        2  ...  fantasy magic board game Robin Williams game A...\n",
              "2        3  ...   moldy old Comedy Romance grumpier old men       \n",
              "3        4  ...      Comedy Drama Romance waiting to exhale       \n",
              "4        5  ...  pregnancy remake Comedy father of the bride pa...\n",
              "\n",
              "[5 rows x 3 columns]"
            ]
          },
          "metadata": {
            "tags": []
          },
          "execution_count": 136
        }
      ]
    },
    {
      "cell_type": "markdown",
      "metadata": {
        "id": "1DecRl9WrxVC"
      },
      "source": [
        "Aligning (filtering and sorting) movie_tags same as the rows of rating_matrix."
      ]
    },
    {
      "cell_type": "code",
      "metadata": {
        "id": "7DLse_qEQj4X"
      },
      "source": [
        "movie_list = list(rating_matrix.index)"
      ],
      "execution_count": 137,
      "outputs": []
    },
    {
      "cell_type": "code",
      "metadata": {
        "id": "dSF9KZqfqLcL"
      },
      "source": [
        "# dictionary has the order for sorting\n",
        "\n",
        "movie_list_index = dict(zip(movie_list, range(len(movie_list))))"
      ],
      "execution_count": 138,
      "outputs": []
    },
    {
      "cell_type": "code",
      "metadata": {
        "id": "OvHls0loRF3F",
        "colab": {
          "base_uri": "https://localhost:8080/",
          "height": 194
        },
        "outputId": "b93f044a-8c56-4aaf-d25b-30a2d83296e5"
      },
      "source": [
        "# first filtering the movies which are present in rating_matrix\n",
        "\n",
        "movie_tags_new = movie_tags[movie_tags['title'].isin(movie_list)]\n",
        "movie_tags_new.head()"
      ],
      "execution_count": 139,
      "outputs": [
        {
          "output_type": "execute_result",
          "data": {
            "text/html": [
              "<div>\n",
              "<style scoped>\n",
              "    .dataframe tbody tr th:only-of-type {\n",
              "        vertical-align: middle;\n",
              "    }\n",
              "\n",
              "    .dataframe tbody tr th {\n",
              "        vertical-align: top;\n",
              "    }\n",
              "\n",
              "    .dataframe thead th {\n",
              "        text-align: right;\n",
              "    }\n",
              "</style>\n",
              "<table border=\"1\" class=\"dataframe\">\n",
              "  <thead>\n",
              "    <tr style=\"text-align: right;\">\n",
              "      <th></th>\n",
              "      <th>movieid</th>\n",
              "      <th>title</th>\n",
              "      <th>metadata</th>\n",
              "    </tr>\n",
              "  </thead>\n",
              "  <tbody>\n",
              "    <tr>\n",
              "      <th>0</th>\n",
              "      <td>1</td>\n",
              "      <td>Toy Story (1995)</td>\n",
              "      <td>pixar pixar fun Adventure Animation Children C...</td>\n",
              "    </tr>\n",
              "    <tr>\n",
              "      <th>1</th>\n",
              "      <td>2</td>\n",
              "      <td>Jumanji (1995)</td>\n",
              "      <td>fantasy magic board game Robin Williams game A...</td>\n",
              "    </tr>\n",
              "    <tr>\n",
              "      <th>2</th>\n",
              "      <td>3</td>\n",
              "      <td>Grumpier Old Men (1995)</td>\n",
              "      <td>moldy old Comedy Romance grumpier old men</td>\n",
              "    </tr>\n",
              "    <tr>\n",
              "      <th>3</th>\n",
              "      <td>4</td>\n",
              "      <td>Waiting to Exhale (1995)</td>\n",
              "      <td>Comedy Drama Romance waiting to exhale</td>\n",
              "    </tr>\n",
              "    <tr>\n",
              "      <th>4</th>\n",
              "      <td>5</td>\n",
              "      <td>Father of the Bride Part II (1995)</td>\n",
              "      <td>pregnancy remake Comedy father of the bride pa...</td>\n",
              "    </tr>\n",
              "  </tbody>\n",
              "</table>\n",
              "</div>"
            ],
            "text/plain": [
              "   movieid  ...                                           metadata\n",
              "0        1  ...  pixar pixar fun Adventure Animation Children C...\n",
              "1        2  ...  fantasy magic board game Robin Williams game A...\n",
              "2        3  ...   moldy old Comedy Romance grumpier old men       \n",
              "3        4  ...      Comedy Drama Romance waiting to exhale       \n",
              "4        5  ...  pregnancy remake Comedy father of the bride pa...\n",
              "\n",
              "[5 rows x 3 columns]"
            ]
          },
          "metadata": {
            "tags": []
          },
          "execution_count": 139
        }
      ]
    },
    {
      "cell_type": "code",
      "metadata": {
        "id": "1utJnQA_qJLJ"
      },
      "source": [
        "# titleorder has the ordering of movies just like it is in rating_matrix\n",
        "\n",
        "movie_tags_new['titleorder'] = movie_tags_new['title'].map(movie_list_index)"
      ],
      "execution_count": 140,
      "outputs": []
    },
    {
      "cell_type": "code",
      "metadata": {
        "id": "iLC1Gc2zRF8T",
        "colab": {
          "base_uri": "https://localhost:8080/",
          "height": 194
        },
        "outputId": "21ceb7df-7eb6-4132-a044-bc6a941ad5c8"
      },
      "source": [
        "movie_tags_new.head()"
      ],
      "execution_count": 141,
      "outputs": [
        {
          "output_type": "execute_result",
          "data": {
            "text/html": [
              "<div>\n",
              "<style scoped>\n",
              "    .dataframe tbody tr th:only-of-type {\n",
              "        vertical-align: middle;\n",
              "    }\n",
              "\n",
              "    .dataframe tbody tr th {\n",
              "        vertical-align: top;\n",
              "    }\n",
              "\n",
              "    .dataframe thead th {\n",
              "        text-align: right;\n",
              "    }\n",
              "</style>\n",
              "<table border=\"1\" class=\"dataframe\">\n",
              "  <thead>\n",
              "    <tr style=\"text-align: right;\">\n",
              "      <th></th>\n",
              "      <th>movieid</th>\n",
              "      <th>title</th>\n",
              "      <th>metadata</th>\n",
              "      <th>titleorder</th>\n",
              "    </tr>\n",
              "  </thead>\n",
              "  <tbody>\n",
              "    <tr>\n",
              "      <th>0</th>\n",
              "      <td>1</td>\n",
              "      <td>Toy Story (1995)</td>\n",
              "      <td>pixar pixar fun Adventure Animation Children C...</td>\n",
              "      <td>8871</td>\n",
              "    </tr>\n",
              "    <tr>\n",
              "      <th>1</th>\n",
              "      <td>2</td>\n",
              "      <td>Jumanji (1995)</td>\n",
              "      <td>fantasy magic board game Robin Williams game A...</td>\n",
              "      <td>4645</td>\n",
              "    </tr>\n",
              "    <tr>\n",
              "      <th>2</th>\n",
              "      <td>3</td>\n",
              "      <td>Grumpier Old Men (1995)</td>\n",
              "      <td>moldy old Comedy Romance grumpier old men</td>\n",
              "      <td>3661</td>\n",
              "    </tr>\n",
              "    <tr>\n",
              "      <th>3</th>\n",
              "      <td>4</td>\n",
              "      <td>Waiting to Exhale (1995)</td>\n",
              "      <td>Comedy Drama Romance waiting to exhale</td>\n",
              "      <td>9225</td>\n",
              "    </tr>\n",
              "    <tr>\n",
              "      <th>4</th>\n",
              "      <td>5</td>\n",
              "      <td>Father of the Bride Part II (1995)</td>\n",
              "      <td>pregnancy remake Comedy father of the bride pa...</td>\n",
              "      <td>2967</td>\n",
              "    </tr>\n",
              "  </tbody>\n",
              "</table>\n",
              "</div>"
            ],
            "text/plain": [
              "   movieid  ... titleorder\n",
              "0        1  ...       8871\n",
              "1        2  ...       4645\n",
              "2        3  ...       3661\n",
              "3        4  ...       9225\n",
              "4        5  ...       2967\n",
              "\n",
              "[5 rows x 4 columns]"
            ]
          },
          "metadata": {
            "tags": []
          },
          "execution_count": 141
        }
      ]
    },
    {
      "cell_type": "code",
      "metadata": {
        "id": "Rg4QoJwpRGCG"
      },
      "source": [
        "# sorting movies to align with rating_matrix\n",
        "\n",
        "movie_tags_new.sort_values(['titleorder'], inplace=True)\n",
        "movie_tags_new.drop(['titleorder'], axis = 1, inplace=True)"
      ],
      "execution_count": 142,
      "outputs": []
    },
    {
      "cell_type": "code",
      "metadata": {
        "colab": {
          "base_uri": "https://localhost:8080/",
          "height": 194
        },
        "id": "krS34A3LsVlW",
        "outputId": "efb7aad4-bc16-4948-a848-95700aa2c173"
      },
      "source": [
        "movie_tags_new.head(5)"
      ],
      "execution_count": 143,
      "outputs": [
        {
          "output_type": "execute_result",
          "data": {
            "text/html": [
              "<div>\n",
              "<style scoped>\n",
              "    .dataframe tbody tr th:only-of-type {\n",
              "        vertical-align: middle;\n",
              "    }\n",
              "\n",
              "    .dataframe tbody tr th {\n",
              "        vertical-align: top;\n",
              "    }\n",
              "\n",
              "    .dataframe thead th {\n",
              "        text-align: right;\n",
              "    }\n",
              "</style>\n",
              "<table border=\"1\" class=\"dataframe\">\n",
              "  <thead>\n",
              "    <tr style=\"text-align: right;\">\n",
              "      <th></th>\n",
              "      <th>movieid</th>\n",
              "      <th>title</th>\n",
              "      <th>metadata</th>\n",
              "    </tr>\n",
              "  </thead>\n",
              "  <tbody>\n",
              "    <tr>\n",
              "      <th>8596</th>\n",
              "      <td>117867</td>\n",
              "      <td>'71 (2014)</td>\n",
              "      <td>Action Drama Thriller War</td>\n",
              "    </tr>\n",
              "    <tr>\n",
              "      <th>8010</th>\n",
              "      <td>97757</td>\n",
              "      <td>'Hellboy': The Seeds of Creation (2004)</td>\n",
              "      <td>Action Adventure Comedy Documentary Fantasy  ...</td>\n",
              "    </tr>\n",
              "    <tr>\n",
              "      <th>5527</th>\n",
              "      <td>26564</td>\n",
              "      <td>'Round Midnight (1986)</td>\n",
              "      <td>Drama Musical  round midnight</td>\n",
              "    </tr>\n",
              "    <tr>\n",
              "      <th>5688</th>\n",
              "      <td>27751</td>\n",
              "      <td>'Salem's Lot (2004)</td>\n",
              "      <td>Drama Horror Mystery Thriller  salem s lot   ...</td>\n",
              "    </tr>\n",
              "    <tr>\n",
              "      <th>614</th>\n",
              "      <td>779</td>\n",
              "      <td>'Til There Was You (1997)</td>\n",
              "      <td>Drama Romance  til there was you</td>\n",
              "    </tr>\n",
              "  </tbody>\n",
              "</table>\n",
              "</div>"
            ],
            "text/plain": [
              "      movieid  ...                                           metadata\n",
              "8596   117867  ...               Action Drama Thriller War           \n",
              "8010    97757  ...   Action Adventure Comedy Documentary Fantasy  ...\n",
              "5527    26564  ...               Drama Musical  round midnight       \n",
              "5688    27751  ...   Drama Horror Mystery Thriller  salem s lot   ...\n",
              "614       779  ...            Drama Romance  til there was you       \n",
              "\n",
              "[5 rows x 3 columns]"
            ]
          },
          "metadata": {
            "tags": []
          },
          "execution_count": 143
        }
      ]
    },
    {
      "cell_type": "code",
      "metadata": {
        "id": "QOpBbFdSqxg6"
      },
      "source": [
        "# apply tf-idf on metadata column\n",
        "\n",
        "tfidf = TfidfVectorizer(stop_words='english')\n",
        "tfidf_matrix = tfidf.fit_transform(movie_tags_new['metadata'])"
      ],
      "execution_count": 144,
      "outputs": []
    },
    {
      "cell_type": "code",
      "metadata": {
        "colab": {
          "base_uri": "https://localhost:8080/"
        },
        "id": "HEntUP58Akbc",
        "outputId": "04a90ca8-8e6e-4717-d06e-df7c5cce4f7b"
      },
      "source": [
        "tfidf_matrix.shape"
      ],
      "execution_count": 145,
      "outputs": [
        {
          "output_type": "execute_result",
          "data": {
            "text/plain": [
              "(9719, 9658)"
            ]
          },
          "metadata": {
            "tags": []
          },
          "execution_count": 145
        }
      ]
    },
    {
      "cell_type": "code",
      "metadata": {
        "colab": {
          "base_uri": "https://localhost:8080/"
        },
        "id": "VPjJiRTyAwnE",
        "outputId": "a3719fd0-c772-427c-8c35-c07c25640178"
      },
      "source": [
        "print(tfidf_matrix[:5])"
      ],
      "execution_count": 146,
      "outputs": [
        {
          "output_type": "stream",
          "text": [
            "  (0, 9281)\t0.7067204360584505\n",
            "  (0, 8594)\t0.4482517819092638\n",
            "  (0, 2465)\t0.30658473642686146\n",
            "  (0, 54)\t0.4534560228540306\n",
            "  (1, 1924)\t0.5128805555593192\n",
            "  (1, 7521)\t0.5532984724891767\n",
            "  (1, 3858)\t0.5128805555593192\n",
            "  (1, 2907)\t0.20548291618657\n",
            "  (1, 2378)\t0.2389247971935921\n",
            "  (1, 1715)\t0.1137078242917728\n",
            "  (1, 87)\t0.1769828985139924\n",
            "  (1, 54)\t0.155586530809556\n",
            "  (2, 5531)\t0.5834863472497289\n",
            "  (2, 7243)\t0.7268724872027492\n",
            "  (2, 5807)\t0.3348175007721707\n",
            "  (2, 2465)\t0.13819302116074966\n",
            "  (3, 5120)\t0.6412905155546056\n",
            "  (3, 7342)\t0.6412905155546056\n",
            "  (3, 5820)\t0.2692541675995737\n",
            "  (3, 4015)\t0.23258654166042889\n",
            "  (3, 8594)\t0.1862173629554721\n",
            "  (3, 2465)\t0.12736458268305373\n",
            "  (4, 8632)\t0.9433970737079742\n",
            "  (4, 7199)\t0.2789846308885248\n",
            "  (4, 2465)\t0.17935868266472238\n"
          ],
          "name": "stdout"
        }
      ]
    },
    {
      "cell_type": "code",
      "metadata": {
        "colab": {
          "base_uri": "https://localhost:8080/"
        },
        "id": "2HckWWihA5LB",
        "outputId": "7019a6c4-0a82-4cc6-a025-e4466f601bb0"
      },
      "source": [
        "tfidf_matrix.toarray()"
      ],
      "execution_count": 147,
      "outputs": [
        {
          "output_type": "execute_result",
          "data": {
            "text/plain": [
              "array([[0., 0., 0., ..., 0., 0., 0.],\n",
              "       [0., 0., 0., ..., 0., 0., 0.],\n",
              "       [0., 0., 0., ..., 0., 0., 0.],\n",
              "       ...,\n",
              "       [0., 0., 0., ..., 0., 0., 0.],\n",
              "       [0., 0., 0., ..., 0., 0., 0.],\n",
              "       [0., 0., 0., ..., 0., 0., 0.]])"
            ]
          },
          "metadata": {
            "tags": []
          },
          "execution_count": 147
        }
      ]
    },
    {
      "cell_type": "code",
      "metadata": {
        "colab": {
          "base_uri": "https://localhost:8080/"
        },
        "id": "UnXBrycXAfDq",
        "outputId": "c27b27af-eba0-4d0d-881a-a00c7c93cb55"
      },
      "source": [
        "tfidf_df = pd.DataFrame(tfidf_matrix.toarray(), index = movie_tags_new.index.tolist())\n",
        "tfidf_df.shape"
      ],
      "execution_count": 148,
      "outputs": [
        {
          "output_type": "execute_result",
          "data": {
            "text/plain": [
              "(9719, 9658)"
            ]
          },
          "metadata": {
            "tags": []
          },
          "execution_count": 148
        }
      ]
    },
    {
      "cell_type": "code",
      "metadata": {
        "colab": {
          "base_uri": "https://localhost:8080/",
          "height": 243
        },
        "id": "9OVBl2wYul-3",
        "outputId": "46a3f70f-275b-49e9-8ca7-73632c6c397a"
      },
      "source": [
        "tfidf_df.head()"
      ],
      "execution_count": 149,
      "outputs": [
        {
          "output_type": "execute_result",
          "data": {
            "text/html": [
              "<div>\n",
              "<style scoped>\n",
              "    .dataframe tbody tr th:only-of-type {\n",
              "        vertical-align: middle;\n",
              "    }\n",
              "\n",
              "    .dataframe tbody tr th {\n",
              "        vertical-align: top;\n",
              "    }\n",
              "\n",
              "    .dataframe thead th {\n",
              "        text-align: right;\n",
              "    }\n",
              "</style>\n",
              "<table border=\"1\" class=\"dataframe\">\n",
              "  <thead>\n",
              "    <tr style=\"text-align: right;\">\n",
              "      <th></th>\n",
              "      <th>0</th>\n",
              "      <th>1</th>\n",
              "      <th>2</th>\n",
              "      <th>3</th>\n",
              "      <th>4</th>\n",
              "      <th>5</th>\n",
              "      <th>6</th>\n",
              "      <th>7</th>\n",
              "      <th>8</th>\n",
              "      <th>9</th>\n",
              "      <th>10</th>\n",
              "      <th>11</th>\n",
              "      <th>12</th>\n",
              "      <th>13</th>\n",
              "      <th>14</th>\n",
              "      <th>15</th>\n",
              "      <th>16</th>\n",
              "      <th>17</th>\n",
              "      <th>18</th>\n",
              "      <th>19</th>\n",
              "      <th>20</th>\n",
              "      <th>21</th>\n",
              "      <th>22</th>\n",
              "      <th>23</th>\n",
              "      <th>24</th>\n",
              "      <th>25</th>\n",
              "      <th>26</th>\n",
              "      <th>27</th>\n",
              "      <th>28</th>\n",
              "      <th>29</th>\n",
              "      <th>30</th>\n",
              "      <th>31</th>\n",
              "      <th>32</th>\n",
              "      <th>33</th>\n",
              "      <th>34</th>\n",
              "      <th>35</th>\n",
              "      <th>36</th>\n",
              "      <th>37</th>\n",
              "      <th>38</th>\n",
              "      <th>39</th>\n",
              "      <th>...</th>\n",
              "      <th>9618</th>\n",
              "      <th>9619</th>\n",
              "      <th>9620</th>\n",
              "      <th>9621</th>\n",
              "      <th>9622</th>\n",
              "      <th>9623</th>\n",
              "      <th>9624</th>\n",
              "      <th>9625</th>\n",
              "      <th>9626</th>\n",
              "      <th>9627</th>\n",
              "      <th>9628</th>\n",
              "      <th>9629</th>\n",
              "      <th>9630</th>\n",
              "      <th>9631</th>\n",
              "      <th>9632</th>\n",
              "      <th>9633</th>\n",
              "      <th>9634</th>\n",
              "      <th>9635</th>\n",
              "      <th>9636</th>\n",
              "      <th>9637</th>\n",
              "      <th>9638</th>\n",
              "      <th>9639</th>\n",
              "      <th>9640</th>\n",
              "      <th>9641</th>\n",
              "      <th>9642</th>\n",
              "      <th>9643</th>\n",
              "      <th>9644</th>\n",
              "      <th>9645</th>\n",
              "      <th>9646</th>\n",
              "      <th>9647</th>\n",
              "      <th>9648</th>\n",
              "      <th>9649</th>\n",
              "      <th>9650</th>\n",
              "      <th>9651</th>\n",
              "      <th>9652</th>\n",
              "      <th>9653</th>\n",
              "      <th>9654</th>\n",
              "      <th>9655</th>\n",
              "      <th>9656</th>\n",
              "      <th>9657</th>\n",
              "    </tr>\n",
              "  </thead>\n",
              "  <tbody>\n",
              "    <tr>\n",
              "      <th>8596</th>\n",
              "      <td>0.0</td>\n",
              "      <td>0.0</td>\n",
              "      <td>0.0</td>\n",
              "      <td>0.0</td>\n",
              "      <td>0.0</td>\n",
              "      <td>0.0</td>\n",
              "      <td>0.0</td>\n",
              "      <td>0.0</td>\n",
              "      <td>0.0</td>\n",
              "      <td>0.0</td>\n",
              "      <td>0.0</td>\n",
              "      <td>0.0</td>\n",
              "      <td>0.0</td>\n",
              "      <td>0.0</td>\n",
              "      <td>0.0</td>\n",
              "      <td>0.0</td>\n",
              "      <td>0.0</td>\n",
              "      <td>0.0</td>\n",
              "      <td>0.0</td>\n",
              "      <td>0.0</td>\n",
              "      <td>0.0</td>\n",
              "      <td>0.0</td>\n",
              "      <td>0.0</td>\n",
              "      <td>0.0</td>\n",
              "      <td>0.0</td>\n",
              "      <td>0.0</td>\n",
              "      <td>0.0</td>\n",
              "      <td>0.0</td>\n",
              "      <td>0.0</td>\n",
              "      <td>0.0</td>\n",
              "      <td>0.0</td>\n",
              "      <td>0.0</td>\n",
              "      <td>0.0</td>\n",
              "      <td>0.0</td>\n",
              "      <td>0.0</td>\n",
              "      <td>0.0</td>\n",
              "      <td>0.0</td>\n",
              "      <td>0.0</td>\n",
              "      <td>0.0</td>\n",
              "      <td>0.0</td>\n",
              "      <td>...</td>\n",
              "      <td>0.0</td>\n",
              "      <td>0.0</td>\n",
              "      <td>0.0</td>\n",
              "      <td>0.0</td>\n",
              "      <td>0.0</td>\n",
              "      <td>0.0</td>\n",
              "      <td>0.0</td>\n",
              "      <td>0.0</td>\n",
              "      <td>0.0</td>\n",
              "      <td>0.0</td>\n",
              "      <td>0.0</td>\n",
              "      <td>0.0</td>\n",
              "      <td>0.0</td>\n",
              "      <td>0.0</td>\n",
              "      <td>0.0</td>\n",
              "      <td>0.0</td>\n",
              "      <td>0.0</td>\n",
              "      <td>0.0</td>\n",
              "      <td>0.0</td>\n",
              "      <td>0.0</td>\n",
              "      <td>0.0</td>\n",
              "      <td>0.0</td>\n",
              "      <td>0.0</td>\n",
              "      <td>0.0</td>\n",
              "      <td>0.0</td>\n",
              "      <td>0.0</td>\n",
              "      <td>0.0</td>\n",
              "      <td>0.0</td>\n",
              "      <td>0.0</td>\n",
              "      <td>0.0</td>\n",
              "      <td>0.0</td>\n",
              "      <td>0.0</td>\n",
              "      <td>0.0</td>\n",
              "      <td>0.0</td>\n",
              "      <td>0.0</td>\n",
              "      <td>0.0</td>\n",
              "      <td>0.0</td>\n",
              "      <td>0.0</td>\n",
              "      <td>0.0</td>\n",
              "      <td>0.0</td>\n",
              "    </tr>\n",
              "    <tr>\n",
              "      <th>8010</th>\n",
              "      <td>0.0</td>\n",
              "      <td>0.0</td>\n",
              "      <td>0.0</td>\n",
              "      <td>0.0</td>\n",
              "      <td>0.0</td>\n",
              "      <td>0.0</td>\n",
              "      <td>0.0</td>\n",
              "      <td>0.0</td>\n",
              "      <td>0.0</td>\n",
              "      <td>0.0</td>\n",
              "      <td>0.0</td>\n",
              "      <td>0.0</td>\n",
              "      <td>0.0</td>\n",
              "      <td>0.0</td>\n",
              "      <td>0.0</td>\n",
              "      <td>0.0</td>\n",
              "      <td>0.0</td>\n",
              "      <td>0.0</td>\n",
              "      <td>0.0</td>\n",
              "      <td>0.0</td>\n",
              "      <td>0.0</td>\n",
              "      <td>0.0</td>\n",
              "      <td>0.0</td>\n",
              "      <td>0.0</td>\n",
              "      <td>0.0</td>\n",
              "      <td>0.0</td>\n",
              "      <td>0.0</td>\n",
              "      <td>0.0</td>\n",
              "      <td>0.0</td>\n",
              "      <td>0.0</td>\n",
              "      <td>0.0</td>\n",
              "      <td>0.0</td>\n",
              "      <td>0.0</td>\n",
              "      <td>0.0</td>\n",
              "      <td>0.0</td>\n",
              "      <td>0.0</td>\n",
              "      <td>0.0</td>\n",
              "      <td>0.0</td>\n",
              "      <td>0.0</td>\n",
              "      <td>0.0</td>\n",
              "      <td>...</td>\n",
              "      <td>0.0</td>\n",
              "      <td>0.0</td>\n",
              "      <td>0.0</td>\n",
              "      <td>0.0</td>\n",
              "      <td>0.0</td>\n",
              "      <td>0.0</td>\n",
              "      <td>0.0</td>\n",
              "      <td>0.0</td>\n",
              "      <td>0.0</td>\n",
              "      <td>0.0</td>\n",
              "      <td>0.0</td>\n",
              "      <td>0.0</td>\n",
              "      <td>0.0</td>\n",
              "      <td>0.0</td>\n",
              "      <td>0.0</td>\n",
              "      <td>0.0</td>\n",
              "      <td>0.0</td>\n",
              "      <td>0.0</td>\n",
              "      <td>0.0</td>\n",
              "      <td>0.0</td>\n",
              "      <td>0.0</td>\n",
              "      <td>0.0</td>\n",
              "      <td>0.0</td>\n",
              "      <td>0.0</td>\n",
              "      <td>0.0</td>\n",
              "      <td>0.0</td>\n",
              "      <td>0.0</td>\n",
              "      <td>0.0</td>\n",
              "      <td>0.0</td>\n",
              "      <td>0.0</td>\n",
              "      <td>0.0</td>\n",
              "      <td>0.0</td>\n",
              "      <td>0.0</td>\n",
              "      <td>0.0</td>\n",
              "      <td>0.0</td>\n",
              "      <td>0.0</td>\n",
              "      <td>0.0</td>\n",
              "      <td>0.0</td>\n",
              "      <td>0.0</td>\n",
              "      <td>0.0</td>\n",
              "    </tr>\n",
              "    <tr>\n",
              "      <th>5527</th>\n",
              "      <td>0.0</td>\n",
              "      <td>0.0</td>\n",
              "      <td>0.0</td>\n",
              "      <td>0.0</td>\n",
              "      <td>0.0</td>\n",
              "      <td>0.0</td>\n",
              "      <td>0.0</td>\n",
              "      <td>0.0</td>\n",
              "      <td>0.0</td>\n",
              "      <td>0.0</td>\n",
              "      <td>0.0</td>\n",
              "      <td>0.0</td>\n",
              "      <td>0.0</td>\n",
              "      <td>0.0</td>\n",
              "      <td>0.0</td>\n",
              "      <td>0.0</td>\n",
              "      <td>0.0</td>\n",
              "      <td>0.0</td>\n",
              "      <td>0.0</td>\n",
              "      <td>0.0</td>\n",
              "      <td>0.0</td>\n",
              "      <td>0.0</td>\n",
              "      <td>0.0</td>\n",
              "      <td>0.0</td>\n",
              "      <td>0.0</td>\n",
              "      <td>0.0</td>\n",
              "      <td>0.0</td>\n",
              "      <td>0.0</td>\n",
              "      <td>0.0</td>\n",
              "      <td>0.0</td>\n",
              "      <td>0.0</td>\n",
              "      <td>0.0</td>\n",
              "      <td>0.0</td>\n",
              "      <td>0.0</td>\n",
              "      <td>0.0</td>\n",
              "      <td>0.0</td>\n",
              "      <td>0.0</td>\n",
              "      <td>0.0</td>\n",
              "      <td>0.0</td>\n",
              "      <td>0.0</td>\n",
              "      <td>...</td>\n",
              "      <td>0.0</td>\n",
              "      <td>0.0</td>\n",
              "      <td>0.0</td>\n",
              "      <td>0.0</td>\n",
              "      <td>0.0</td>\n",
              "      <td>0.0</td>\n",
              "      <td>0.0</td>\n",
              "      <td>0.0</td>\n",
              "      <td>0.0</td>\n",
              "      <td>0.0</td>\n",
              "      <td>0.0</td>\n",
              "      <td>0.0</td>\n",
              "      <td>0.0</td>\n",
              "      <td>0.0</td>\n",
              "      <td>0.0</td>\n",
              "      <td>0.0</td>\n",
              "      <td>0.0</td>\n",
              "      <td>0.0</td>\n",
              "      <td>0.0</td>\n",
              "      <td>0.0</td>\n",
              "      <td>0.0</td>\n",
              "      <td>0.0</td>\n",
              "      <td>0.0</td>\n",
              "      <td>0.0</td>\n",
              "      <td>0.0</td>\n",
              "      <td>0.0</td>\n",
              "      <td>0.0</td>\n",
              "      <td>0.0</td>\n",
              "      <td>0.0</td>\n",
              "      <td>0.0</td>\n",
              "      <td>0.0</td>\n",
              "      <td>0.0</td>\n",
              "      <td>0.0</td>\n",
              "      <td>0.0</td>\n",
              "      <td>0.0</td>\n",
              "      <td>0.0</td>\n",
              "      <td>0.0</td>\n",
              "      <td>0.0</td>\n",
              "      <td>0.0</td>\n",
              "      <td>0.0</td>\n",
              "    </tr>\n",
              "    <tr>\n",
              "      <th>5688</th>\n",
              "      <td>0.0</td>\n",
              "      <td>0.0</td>\n",
              "      <td>0.0</td>\n",
              "      <td>0.0</td>\n",
              "      <td>0.0</td>\n",
              "      <td>0.0</td>\n",
              "      <td>0.0</td>\n",
              "      <td>0.0</td>\n",
              "      <td>0.0</td>\n",
              "      <td>0.0</td>\n",
              "      <td>0.0</td>\n",
              "      <td>0.0</td>\n",
              "      <td>0.0</td>\n",
              "      <td>0.0</td>\n",
              "      <td>0.0</td>\n",
              "      <td>0.0</td>\n",
              "      <td>0.0</td>\n",
              "      <td>0.0</td>\n",
              "      <td>0.0</td>\n",
              "      <td>0.0</td>\n",
              "      <td>0.0</td>\n",
              "      <td>0.0</td>\n",
              "      <td>0.0</td>\n",
              "      <td>0.0</td>\n",
              "      <td>0.0</td>\n",
              "      <td>0.0</td>\n",
              "      <td>0.0</td>\n",
              "      <td>0.0</td>\n",
              "      <td>0.0</td>\n",
              "      <td>0.0</td>\n",
              "      <td>0.0</td>\n",
              "      <td>0.0</td>\n",
              "      <td>0.0</td>\n",
              "      <td>0.0</td>\n",
              "      <td>0.0</td>\n",
              "      <td>0.0</td>\n",
              "      <td>0.0</td>\n",
              "      <td>0.0</td>\n",
              "      <td>0.0</td>\n",
              "      <td>0.0</td>\n",
              "      <td>...</td>\n",
              "      <td>0.0</td>\n",
              "      <td>0.0</td>\n",
              "      <td>0.0</td>\n",
              "      <td>0.0</td>\n",
              "      <td>0.0</td>\n",
              "      <td>0.0</td>\n",
              "      <td>0.0</td>\n",
              "      <td>0.0</td>\n",
              "      <td>0.0</td>\n",
              "      <td>0.0</td>\n",
              "      <td>0.0</td>\n",
              "      <td>0.0</td>\n",
              "      <td>0.0</td>\n",
              "      <td>0.0</td>\n",
              "      <td>0.0</td>\n",
              "      <td>0.0</td>\n",
              "      <td>0.0</td>\n",
              "      <td>0.0</td>\n",
              "      <td>0.0</td>\n",
              "      <td>0.0</td>\n",
              "      <td>0.0</td>\n",
              "      <td>0.0</td>\n",
              "      <td>0.0</td>\n",
              "      <td>0.0</td>\n",
              "      <td>0.0</td>\n",
              "      <td>0.0</td>\n",
              "      <td>0.0</td>\n",
              "      <td>0.0</td>\n",
              "      <td>0.0</td>\n",
              "      <td>0.0</td>\n",
              "      <td>0.0</td>\n",
              "      <td>0.0</td>\n",
              "      <td>0.0</td>\n",
              "      <td>0.0</td>\n",
              "      <td>0.0</td>\n",
              "      <td>0.0</td>\n",
              "      <td>0.0</td>\n",
              "      <td>0.0</td>\n",
              "      <td>0.0</td>\n",
              "      <td>0.0</td>\n",
              "    </tr>\n",
              "    <tr>\n",
              "      <th>614</th>\n",
              "      <td>0.0</td>\n",
              "      <td>0.0</td>\n",
              "      <td>0.0</td>\n",
              "      <td>0.0</td>\n",
              "      <td>0.0</td>\n",
              "      <td>0.0</td>\n",
              "      <td>0.0</td>\n",
              "      <td>0.0</td>\n",
              "      <td>0.0</td>\n",
              "      <td>0.0</td>\n",
              "      <td>0.0</td>\n",
              "      <td>0.0</td>\n",
              "      <td>0.0</td>\n",
              "      <td>0.0</td>\n",
              "      <td>0.0</td>\n",
              "      <td>0.0</td>\n",
              "      <td>0.0</td>\n",
              "      <td>0.0</td>\n",
              "      <td>0.0</td>\n",
              "      <td>0.0</td>\n",
              "      <td>0.0</td>\n",
              "      <td>0.0</td>\n",
              "      <td>0.0</td>\n",
              "      <td>0.0</td>\n",
              "      <td>0.0</td>\n",
              "      <td>0.0</td>\n",
              "      <td>0.0</td>\n",
              "      <td>0.0</td>\n",
              "      <td>0.0</td>\n",
              "      <td>0.0</td>\n",
              "      <td>0.0</td>\n",
              "      <td>0.0</td>\n",
              "      <td>0.0</td>\n",
              "      <td>0.0</td>\n",
              "      <td>0.0</td>\n",
              "      <td>0.0</td>\n",
              "      <td>0.0</td>\n",
              "      <td>0.0</td>\n",
              "      <td>0.0</td>\n",
              "      <td>0.0</td>\n",
              "      <td>...</td>\n",
              "      <td>0.0</td>\n",
              "      <td>0.0</td>\n",
              "      <td>0.0</td>\n",
              "      <td>0.0</td>\n",
              "      <td>0.0</td>\n",
              "      <td>0.0</td>\n",
              "      <td>0.0</td>\n",
              "      <td>0.0</td>\n",
              "      <td>0.0</td>\n",
              "      <td>0.0</td>\n",
              "      <td>0.0</td>\n",
              "      <td>0.0</td>\n",
              "      <td>0.0</td>\n",
              "      <td>0.0</td>\n",
              "      <td>0.0</td>\n",
              "      <td>0.0</td>\n",
              "      <td>0.0</td>\n",
              "      <td>0.0</td>\n",
              "      <td>0.0</td>\n",
              "      <td>0.0</td>\n",
              "      <td>0.0</td>\n",
              "      <td>0.0</td>\n",
              "      <td>0.0</td>\n",
              "      <td>0.0</td>\n",
              "      <td>0.0</td>\n",
              "      <td>0.0</td>\n",
              "      <td>0.0</td>\n",
              "      <td>0.0</td>\n",
              "      <td>0.0</td>\n",
              "      <td>0.0</td>\n",
              "      <td>0.0</td>\n",
              "      <td>0.0</td>\n",
              "      <td>0.0</td>\n",
              "      <td>0.0</td>\n",
              "      <td>0.0</td>\n",
              "      <td>0.0</td>\n",
              "      <td>0.0</td>\n",
              "      <td>0.0</td>\n",
              "      <td>0.0</td>\n",
              "      <td>0.0</td>\n",
              "    </tr>\n",
              "  </tbody>\n",
              "</table>\n",
              "<p>5 rows × 9658 columns</p>\n",
              "</div>"
            ],
            "text/plain": [
              "      0     1     2     3     4     5     ...  9652  9653  9654  9655  9656  9657\n",
              "8596   0.0   0.0   0.0   0.0   0.0   0.0  ...   0.0   0.0   0.0   0.0   0.0   0.0\n",
              "8010   0.0   0.0   0.0   0.0   0.0   0.0  ...   0.0   0.0   0.0   0.0   0.0   0.0\n",
              "5527   0.0   0.0   0.0   0.0   0.0   0.0  ...   0.0   0.0   0.0   0.0   0.0   0.0\n",
              "5688   0.0   0.0   0.0   0.0   0.0   0.0  ...   0.0   0.0   0.0   0.0   0.0   0.0\n",
              "614    0.0   0.0   0.0   0.0   0.0   0.0  ...   0.0   0.0   0.0   0.0   0.0   0.0\n",
              "\n",
              "[5 rows x 9658 columns]"
            ]
          },
          "metadata": {
            "tags": []
          },
          "execution_count": 149
        }
      ]
    },
    {
      "cell_type": "code",
      "metadata": {
        "id": "roAPwgyourtH"
      },
      "source": [
        "# compress to 1000 components with SVD\n",
        "\n",
        "svd = TruncatedSVD(n_components=1000)\n",
        "latent_matrix1 = svd.fit_transform(tfidf_df)"
      ],
      "execution_count": 150,
      "outputs": []
    },
    {
      "cell_type": "code",
      "metadata": {
        "colab": {
          "base_uri": "https://localhost:8080/"
        },
        "id": "9caAO_V6u_is",
        "outputId": "f7009341-c1a1-4813-a4c0-9f3007a86097"
      },
      "source": [
        "# our content latent matrix\n",
        "\n",
        "latent_matrix1.shape"
      ],
      "execution_count": 151,
      "outputs": [
        {
          "output_type": "execute_result",
          "data": {
            "text/plain": [
              "(9719, 1000)"
            ]
          },
          "metadata": {
            "tags": []
          },
          "execution_count": 151
        }
      ]
    },
    {
      "cell_type": "code",
      "metadata": {
        "colab": {
          "base_uri": "https://localhost:8080/",
          "height": 448
        },
        "id": "uqu8JIfdBVxf",
        "outputId": "466e56dd-d078-47ed-96fc-9fa7ac7c1ee3"
      },
      "source": [
        "# plot var expalined to see what latent dimensions to use\n",
        "\n",
        "explained = svd.explained_variance_ratio_.cumsum()\n",
        "plt.plot(explained, '.-', ms = 16, color='red')\n",
        "plt.xlabel('Singular value components', fontsize= 12)\n",
        "plt.ylabel('Cumulative % of variance', fontsize=12)        \n",
        "plt.show()"
      ],
      "execution_count": 152,
      "outputs": [
        {
          "output_type": "display_data",
          "data": {
            "image/png": "[encoded data removed]",
            "text/plain": [
              "<Figure size 1008x504 with 1 Axes>"
            ]
          },
          "metadata": {
            "tags": []
          }
        }
      ]
    },
    {
      "cell_type": "code",
      "metadata": {
        "id": "rPjGYSzbu_fh",
        "colab": {
          "base_uri": "https://localhost:8080/"
        },
        "outputId": "4565bd10-7544-4853-c61d-ae95fdaba1ca"
      },
      "source": [
        "# number of latent dimensions to keep\n",
        "\n",
        "n = 1000 \n",
        "latent_matrix1_df = pd.DataFrame(latent_matrix1[:,0:n], index=movie_tags_new['title'].tolist())\n",
        "latent_matrix1_df.shape"
      ],
      "execution_count": 153,
      "outputs": [
        {
          "output_type": "execute_result",
          "data": {
            "text/plain": [
              "(9719, 1000)"
            ]
          },
          "metadata": {
            "tags": []
          },
          "execution_count": 153
        }
      ]
    },
    {
      "cell_type": "code",
      "metadata": {
        "id": "1nCzKCYau_nD",
        "colab": {
          "base_uri": "https://localhost:8080/",
          "height": 429
        },
        "outputId": "aa2ca3e0-e23f-4052-e3d6-91e9a0328e0b"
      },
      "source": [
        "latent_matrix1_df.head()"
      ],
      "execution_count": 154,
      "outputs": [
        {
          "output_type": "execute_result",
          "data": {
            "text/html": [
              "<div>\n",
              "<style scoped>\n",
              "    .dataframe tbody tr th:only-of-type {\n",
              "        vertical-align: middle;\n",
              "    }\n",
              "\n",
              "    .dataframe tbody tr th {\n",
              "        vertical-align: top;\n",
              "    }\n",
              "\n",
              "    .dataframe thead th {\n",
              "        text-align: right;\n",
              "    }\n",
              "</style>\n",
              "<table border=\"1\" class=\"dataframe\">\n",
              "  <thead>\n",
              "    <tr style=\"text-align: right;\">\n",
              "      <th></th>\n",
              "      <th>0</th>\n",
              "      <th>1</th>\n",
              "      <th>2</th>\n",
              "      <th>3</th>\n",
              "      <th>4</th>\n",
              "      <th>5</th>\n",
              "      <th>6</th>\n",
              "      <th>7</th>\n",
              "      <th>8</th>\n",
              "      <th>9</th>\n",
              "      <th>10</th>\n",
              "      <th>11</th>\n",
              "      <th>12</th>\n",
              "      <th>13</th>\n",
              "      <th>14</th>\n",
              "      <th>15</th>\n",
              "      <th>16</th>\n",
              "      <th>17</th>\n",
              "      <th>18</th>\n",
              "      <th>19</th>\n",
              "      <th>20</th>\n",
              "      <th>21</th>\n",
              "      <th>22</th>\n",
              "      <th>23</th>\n",
              "      <th>24</th>\n",
              "      <th>25</th>\n",
              "      <th>26</th>\n",
              "      <th>27</th>\n",
              "      <th>28</th>\n",
              "      <th>29</th>\n",
              "      <th>30</th>\n",
              "      <th>31</th>\n",
              "      <th>32</th>\n",
              "      <th>33</th>\n",
              "      <th>34</th>\n",
              "      <th>35</th>\n",
              "      <th>36</th>\n",
              "      <th>37</th>\n",
              "      <th>38</th>\n",
              "      <th>39</th>\n",
              "      <th>...</th>\n",
              "      <th>960</th>\n",
              "      <th>961</th>\n",
              "      <th>962</th>\n",
              "      <th>963</th>\n",
              "      <th>964</th>\n",
              "      <th>965</th>\n",
              "      <th>966</th>\n",
              "      <th>967</th>\n",
              "      <th>968</th>\n",
              "      <th>969</th>\n",
              "      <th>970</th>\n",
              "      <th>971</th>\n",
              "      <th>972</th>\n",
              "      <th>973</th>\n",
              "      <th>974</th>\n",
              "      <th>975</th>\n",
              "      <th>976</th>\n",
              "      <th>977</th>\n",
              "      <th>978</th>\n",
              "      <th>979</th>\n",
              "      <th>980</th>\n",
              "      <th>981</th>\n",
              "      <th>982</th>\n",
              "      <th>983</th>\n",
              "      <th>984</th>\n",
              "      <th>985</th>\n",
              "      <th>986</th>\n",
              "      <th>987</th>\n",
              "      <th>988</th>\n",
              "      <th>989</th>\n",
              "      <th>990</th>\n",
              "      <th>991</th>\n",
              "      <th>992</th>\n",
              "      <th>993</th>\n",
              "      <th>994</th>\n",
              "      <th>995</th>\n",
              "      <th>996</th>\n",
              "      <th>997</th>\n",
              "      <th>998</th>\n",
              "      <th>999</th>\n",
              "    </tr>\n",
              "  </thead>\n",
              "  <tbody>\n",
              "    <tr>\n",
              "      <th>'71 (2014)</th>\n",
              "      <td>0.497114</td>\n",
              "      <td>-0.140048</td>\n",
              "      <td>-0.319958</td>\n",
              "      <td>-0.182239</td>\n",
              "      <td>-0.244774</td>\n",
              "      <td>0.008523</td>\n",
              "      <td>0.072336</td>\n",
              "      <td>0.480542</td>\n",
              "      <td>0.048773</td>\n",
              "      <td>0.247268</td>\n",
              "      <td>-0.219581</td>\n",
              "      <td>0.331481</td>\n",
              "      <td>0.229775</td>\n",
              "      <td>-0.070111</td>\n",
              "      <td>-0.023963</td>\n",
              "      <td>0.017764</td>\n",
              "      <td>0.014939</td>\n",
              "      <td>0.024363</td>\n",
              "      <td>0.004536</td>\n",
              "      <td>0.005559</td>\n",
              "      <td>-0.029731</td>\n",
              "      <td>-0.005535</td>\n",
              "      <td>-0.024425</td>\n",
              "      <td>-0.007289</td>\n",
              "      <td>-0.038752</td>\n",
              "      <td>-0.004892</td>\n",
              "      <td>0.007655</td>\n",
              "      <td>-0.007184</td>\n",
              "      <td>-0.002214</td>\n",
              "      <td>-0.013163</td>\n",
              "      <td>-0.003496</td>\n",
              "      <td>-0.010571</td>\n",
              "      <td>0.000160</td>\n",
              "      <td>-0.002102</td>\n",
              "      <td>-0.006615</td>\n",
              "      <td>0.012240</td>\n",
              "      <td>0.002426</td>\n",
              "      <td>-0.005698</td>\n",
              "      <td>0.005964</td>\n",
              "      <td>0.011133</td>\n",
              "      <td>...</td>\n",
              "      <td>-0.003007</td>\n",
              "      <td>0.002128</td>\n",
              "      <td>0.000697</td>\n",
              "      <td>-0.000385</td>\n",
              "      <td>-0.001724</td>\n",
              "      <td>-0.002923</td>\n",
              "      <td>-0.000191</td>\n",
              "      <td>-0.000325</td>\n",
              "      <td>0.000715</td>\n",
              "      <td>-0.001906</td>\n",
              "      <td>0.003144</td>\n",
              "      <td>0.000185</td>\n",
              "      <td>-0.000347</td>\n",
              "      <td>0.000862</td>\n",
              "      <td>0.000722</td>\n",
              "      <td>0.000514</td>\n",
              "      <td>-0.000447</td>\n",
              "      <td>0.001495</td>\n",
              "      <td>-0.000763</td>\n",
              "      <td>-0.002558</td>\n",
              "      <td>0.000154</td>\n",
              "      <td>-0.001339</td>\n",
              "      <td>0.000854</td>\n",
              "      <td>-0.000386</td>\n",
              "      <td>-0.000216</td>\n",
              "      <td>0.000239</td>\n",
              "      <td>-0.001997</td>\n",
              "      <td>0.001220</td>\n",
              "      <td>0.002801</td>\n",
              "      <td>-0.001541</td>\n",
              "      <td>0.003656</td>\n",
              "      <td>0.001119</td>\n",
              "      <td>-0.001473</td>\n",
              "      <td>0.001376</td>\n",
              "      <td>0.000052</td>\n",
              "      <td>-0.000212</td>\n",
              "      <td>0.000236</td>\n",
              "      <td>-0.001296</td>\n",
              "      <td>-0.000845</td>\n",
              "      <td>0.001940</td>\n",
              "    </tr>\n",
              "    <tr>\n",
              "      <th>'Hellboy': The Seeds of Creation (2004)</th>\n",
              "      <td>0.170655</td>\n",
              "      <td>-0.001997</td>\n",
              "      <td>0.131311</td>\n",
              "      <td>-0.158214</td>\n",
              "      <td>0.015641</td>\n",
              "      <td>-0.009119</td>\n",
              "      <td>0.064896</td>\n",
              "      <td>0.106466</td>\n",
              "      <td>0.200518</td>\n",
              "      <td>-0.065109</td>\n",
              "      <td>0.183938</td>\n",
              "      <td>-0.037213</td>\n",
              "      <td>0.005918</td>\n",
              "      <td>-0.022225</td>\n",
              "      <td>0.010565</td>\n",
              "      <td>-0.019907</td>\n",
              "      <td>-0.033014</td>\n",
              "      <td>-0.005247</td>\n",
              "      <td>-0.000574</td>\n",
              "      <td>-0.001274</td>\n",
              "      <td>-0.013632</td>\n",
              "      <td>-0.003252</td>\n",
              "      <td>-0.026050</td>\n",
              "      <td>-0.006492</td>\n",
              "      <td>-0.010951</td>\n",
              "      <td>-0.011694</td>\n",
              "      <td>0.008361</td>\n",
              "      <td>-0.002883</td>\n",
              "      <td>-0.007962</td>\n",
              "      <td>-0.013429</td>\n",
              "      <td>-0.008610</td>\n",
              "      <td>-0.005031</td>\n",
              "      <td>-0.007109</td>\n",
              "      <td>0.000255</td>\n",
              "      <td>0.001437</td>\n",
              "      <td>0.008878</td>\n",
              "      <td>-0.003206</td>\n",
              "      <td>-0.002099</td>\n",
              "      <td>-0.000420</td>\n",
              "      <td>0.009092</td>\n",
              "      <td>...</td>\n",
              "      <td>0.023612</td>\n",
              "      <td>0.015382</td>\n",
              "      <td>0.004616</td>\n",
              "      <td>-0.035099</td>\n",
              "      <td>0.020680</td>\n",
              "      <td>0.005159</td>\n",
              "      <td>0.006349</td>\n",
              "      <td>0.004112</td>\n",
              "      <td>-0.006848</td>\n",
              "      <td>0.012348</td>\n",
              "      <td>0.045306</td>\n",
              "      <td>0.022063</td>\n",
              "      <td>0.008257</td>\n",
              "      <td>-0.021309</td>\n",
              "      <td>-0.058907</td>\n",
              "      <td>-0.022801</td>\n",
              "      <td>0.037236</td>\n",
              "      <td>0.014803</td>\n",
              "      <td>-0.044144</td>\n",
              "      <td>-0.017154</td>\n",
              "      <td>-0.009809</td>\n",
              "      <td>0.004346</td>\n",
              "      <td>0.031753</td>\n",
              "      <td>-0.006970</td>\n",
              "      <td>-0.022702</td>\n",
              "      <td>-0.017473</td>\n",
              "      <td>-0.000595</td>\n",
              "      <td>-0.001041</td>\n",
              "      <td>0.013123</td>\n",
              "      <td>-0.027056</td>\n",
              "      <td>-0.008353</td>\n",
              "      <td>-0.027073</td>\n",
              "      <td>-0.008790</td>\n",
              "      <td>0.011256</td>\n",
              "      <td>-0.014369</td>\n",
              "      <td>0.056057</td>\n",
              "      <td>-0.014043</td>\n",
              "      <td>-0.039401</td>\n",
              "      <td>-0.044627</td>\n",
              "      <td>0.015768</td>\n",
              "    </tr>\n",
              "    <tr>\n",
              "      <th>'Round Midnight (1986)</th>\n",
              "      <td>0.080702</td>\n",
              "      <td>0.065151</td>\n",
              "      <td>-0.027310</td>\n",
              "      <td>0.006792</td>\n",
              "      <td>-0.071945</td>\n",
              "      <td>-0.075577</td>\n",
              "      <td>-0.063840</td>\n",
              "      <td>-0.018240</td>\n",
              "      <td>0.014362</td>\n",
              "      <td>-0.029044</td>\n",
              "      <td>-0.056438</td>\n",
              "      <td>-0.034464</td>\n",
              "      <td>0.096899</td>\n",
              "      <td>0.140854</td>\n",
              "      <td>0.263576</td>\n",
              "      <td>-0.014758</td>\n",
              "      <td>-0.013070</td>\n",
              "      <td>-0.014987</td>\n",
              "      <td>0.006088</td>\n",
              "      <td>-0.011045</td>\n",
              "      <td>-0.033221</td>\n",
              "      <td>-0.002453</td>\n",
              "      <td>-0.006829</td>\n",
              "      <td>0.002091</td>\n",
              "      <td>-0.003629</td>\n",
              "      <td>0.005026</td>\n",
              "      <td>0.008377</td>\n",
              "      <td>-0.010195</td>\n",
              "      <td>0.008141</td>\n",
              "      <td>-0.011615</td>\n",
              "      <td>-0.010869</td>\n",
              "      <td>0.001064</td>\n",
              "      <td>-0.005302</td>\n",
              "      <td>0.005578</td>\n",
              "      <td>-0.006022</td>\n",
              "      <td>0.004599</td>\n",
              "      <td>-0.004546</td>\n",
              "      <td>-0.005013</td>\n",
              "      <td>0.003329</td>\n",
              "      <td>0.005832</td>\n",
              "      <td>...</td>\n",
              "      <td>-0.000257</td>\n",
              "      <td>-0.000384</td>\n",
              "      <td>-0.001009</td>\n",
              "      <td>-0.005334</td>\n",
              "      <td>-0.004491</td>\n",
              "      <td>-0.006304</td>\n",
              "      <td>0.001578</td>\n",
              "      <td>-0.005793</td>\n",
              "      <td>-0.002548</td>\n",
              "      <td>0.003033</td>\n",
              "      <td>0.005678</td>\n",
              "      <td>-0.001725</td>\n",
              "      <td>0.000844</td>\n",
              "      <td>0.005400</td>\n",
              "      <td>-0.002023</td>\n",
              "      <td>-0.002492</td>\n",
              "      <td>-0.004591</td>\n",
              "      <td>0.004690</td>\n",
              "      <td>-0.004575</td>\n",
              "      <td>0.000294</td>\n",
              "      <td>-0.005038</td>\n",
              "      <td>0.002246</td>\n",
              "      <td>0.002380</td>\n",
              "      <td>-0.000809</td>\n",
              "      <td>0.000487</td>\n",
              "      <td>0.000442</td>\n",
              "      <td>0.000798</td>\n",
              "      <td>0.001597</td>\n",
              "      <td>0.003097</td>\n",
              "      <td>0.001002</td>\n",
              "      <td>0.002721</td>\n",
              "      <td>-0.002492</td>\n",
              "      <td>0.005028</td>\n",
              "      <td>-0.002547</td>\n",
              "      <td>0.002008</td>\n",
              "      <td>0.003640</td>\n",
              "      <td>0.003795</td>\n",
              "      <td>0.006792</td>\n",
              "      <td>-0.001348</td>\n",
              "      <td>0.000803</td>\n",
              "    </tr>\n",
              "    <tr>\n",
              "      <th>'Salem's Lot (2004)</th>\n",
              "      <td>0.198755</td>\n",
              "      <td>-0.087827</td>\n",
              "      <td>-0.193392</td>\n",
              "      <td>0.096691</td>\n",
              "      <td>0.127276</td>\n",
              "      <td>-0.190616</td>\n",
              "      <td>-0.010038</td>\n",
              "      <td>0.006956</td>\n",
              "      <td>0.007045</td>\n",
              "      <td>0.114044</td>\n",
              "      <td>0.053937</td>\n",
              "      <td>0.011556</td>\n",
              "      <td>-0.076990</td>\n",
              "      <td>0.087755</td>\n",
              "      <td>-0.012072</td>\n",
              "      <td>-0.014132</td>\n",
              "      <td>-0.022609</td>\n",
              "      <td>-0.003556</td>\n",
              "      <td>0.002262</td>\n",
              "      <td>-0.025417</td>\n",
              "      <td>0.000585</td>\n",
              "      <td>-0.013720</td>\n",
              "      <td>0.004306</td>\n",
              "      <td>0.001560</td>\n",
              "      <td>-0.009448</td>\n",
              "      <td>-0.012563</td>\n",
              "      <td>-0.000597</td>\n",
              "      <td>-0.005431</td>\n",
              "      <td>-0.001701</td>\n",
              "      <td>-0.009874</td>\n",
              "      <td>0.001495</td>\n",
              "      <td>-0.007959</td>\n",
              "      <td>-0.002210</td>\n",
              "      <td>0.000686</td>\n",
              "      <td>-0.002124</td>\n",
              "      <td>0.000452</td>\n",
              "      <td>0.005456</td>\n",
              "      <td>0.006720</td>\n",
              "      <td>0.003843</td>\n",
              "      <td>-0.001141</td>\n",
              "      <td>...</td>\n",
              "      <td>0.018656</td>\n",
              "      <td>0.007352</td>\n",
              "      <td>0.009192</td>\n",
              "      <td>0.010887</td>\n",
              "      <td>-0.017049</td>\n",
              "      <td>-0.001721</td>\n",
              "      <td>0.001316</td>\n",
              "      <td>-0.007227</td>\n",
              "      <td>-0.002959</td>\n",
              "      <td>0.011719</td>\n",
              "      <td>0.004106</td>\n",
              "      <td>-0.002079</td>\n",
              "      <td>-0.030410</td>\n",
              "      <td>-0.049692</td>\n",
              "      <td>0.000049</td>\n",
              "      <td>-0.008435</td>\n",
              "      <td>0.005870</td>\n",
              "      <td>0.005542</td>\n",
              "      <td>0.015152</td>\n",
              "      <td>0.004678</td>\n",
              "      <td>0.029798</td>\n",
              "      <td>-0.014205</td>\n",
              "      <td>-0.029189</td>\n",
              "      <td>-0.013461</td>\n",
              "      <td>-0.016957</td>\n",
              "      <td>-0.013584</td>\n",
              "      <td>0.001884</td>\n",
              "      <td>-0.002499</td>\n",
              "      <td>-0.015080</td>\n",
              "      <td>0.008219</td>\n",
              "      <td>-0.012482</td>\n",
              "      <td>-0.015907</td>\n",
              "      <td>-0.008587</td>\n",
              "      <td>-0.019994</td>\n",
              "      <td>0.013867</td>\n",
              "      <td>0.002177</td>\n",
              "      <td>-0.005462</td>\n",
              "      <td>-0.001269</td>\n",
              "      <td>0.007321</td>\n",
              "      <td>0.002782</td>\n",
              "    </tr>\n",
              "    <tr>\n",
              "      <th>'Til There Was You (1997)</th>\n",
              "      <td>0.153776</td>\n",
              "      <td>0.172139</td>\n",
              "      <td>-0.046148</td>\n",
              "      <td>0.116651</td>\n",
              "      <td>-0.128690</td>\n",
              "      <td>-0.041730</td>\n",
              "      <td>0.124823</td>\n",
              "      <td>-0.046495</td>\n",
              "      <td>0.003138</td>\n",
              "      <td>-0.031991</td>\n",
              "      <td>-0.035559</td>\n",
              "      <td>-0.017294</td>\n",
              "      <td>-0.015127</td>\n",
              "      <td>0.012586</td>\n",
              "      <td>-0.035325</td>\n",
              "      <td>-0.002545</td>\n",
              "      <td>-0.007489</td>\n",
              "      <td>0.011861</td>\n",
              "      <td>-0.027959</td>\n",
              "      <td>0.003050</td>\n",
              "      <td>-0.000613</td>\n",
              "      <td>-0.008141</td>\n",
              "      <td>0.000819</td>\n",
              "      <td>0.004008</td>\n",
              "      <td>-0.000430</td>\n",
              "      <td>0.000254</td>\n",
              "      <td>-0.000777</td>\n",
              "      <td>0.003751</td>\n",
              "      <td>-0.003155</td>\n",
              "      <td>-0.001967</td>\n",
              "      <td>-0.002946</td>\n",
              "      <td>-0.004493</td>\n",
              "      <td>-0.006373</td>\n",
              "      <td>0.003366</td>\n",
              "      <td>-0.002130</td>\n",
              "      <td>-0.005917</td>\n",
              "      <td>-0.003599</td>\n",
              "      <td>-0.003254</td>\n",
              "      <td>-0.002370</td>\n",
              "      <td>-0.000489</td>\n",
              "      <td>...</td>\n",
              "      <td>0.001109</td>\n",
              "      <td>0.000975</td>\n",
              "      <td>-0.000347</td>\n",
              "      <td>-0.000267</td>\n",
              "      <td>0.003478</td>\n",
              "      <td>-0.001759</td>\n",
              "      <td>-0.001346</td>\n",
              "      <td>-0.002216</td>\n",
              "      <td>-0.000008</td>\n",
              "      <td>-0.000557</td>\n",
              "      <td>-0.002865</td>\n",
              "      <td>-0.001933</td>\n",
              "      <td>-0.000693</td>\n",
              "      <td>-0.001027</td>\n",
              "      <td>0.000539</td>\n",
              "      <td>0.001665</td>\n",
              "      <td>-0.000361</td>\n",
              "      <td>-0.000350</td>\n",
              "      <td>-0.000047</td>\n",
              "      <td>-0.002717</td>\n",
              "      <td>0.002451</td>\n",
              "      <td>-0.003189</td>\n",
              "      <td>0.001677</td>\n",
              "      <td>-0.000173</td>\n",
              "      <td>-0.000083</td>\n",
              "      <td>0.001777</td>\n",
              "      <td>-0.000369</td>\n",
              "      <td>-0.001911</td>\n",
              "      <td>-0.001773</td>\n",
              "      <td>-0.000475</td>\n",
              "      <td>-0.002166</td>\n",
              "      <td>-0.001846</td>\n",
              "      <td>-0.002194</td>\n",
              "      <td>0.001276</td>\n",
              "      <td>0.001315</td>\n",
              "      <td>0.000469</td>\n",
              "      <td>0.001796</td>\n",
              "      <td>-0.002516</td>\n",
              "      <td>0.003033</td>\n",
              "      <td>-0.000149</td>\n",
              "    </tr>\n",
              "  </tbody>\n",
              "</table>\n",
              "<p>5 rows × 1000 columns</p>\n",
              "</div>"
            ],
            "text/plain": [
              "                                              0         1    ...       998       999\n",
              "'71 (2014)                               0.497114 -0.140048  ... -0.000845  0.001940\n",
              "'Hellboy': The Seeds of Creation (2004)  0.170655 -0.001997  ... -0.044627  0.015768\n",
              "'Round Midnight (1986)                   0.080702  0.065151  ... -0.001348  0.000803\n",
              "'Salem's Lot (2004)                      0.198755 -0.087827  ...  0.007321  0.002782\n",
              "'Til There Was You (1997)                0.153776  0.172139  ...  0.003033 -0.000149\n",
              "\n",
              "[5 rows x 1000 columns]"
            ]
          },
          "metadata": {
            "tags": []
          },
          "execution_count": 154
        }
      ]
    },
    {
      "cell_type": "markdown",
      "metadata": {
        "id": "4owIySVP9mD1"
      },
      "source": [
        "## Collaborative latent matrix using TFIDF & SVD"
      ]
    },
    {
      "cell_type": "code",
      "metadata": {
        "colab": {
          "base_uri": "https://localhost:8080/",
          "height": 332
        },
        "id": "hY0Bf3FhE4jD",
        "outputId": "94a66462-6ef2-4a5a-dfea-26c130373326"
      },
      "source": [
        "rating_matrix.head(3)"
      ],
      "execution_count": 155,
      "outputs": [
        {
          "output_type": "execute_result",
          "data": {
            "text/html": [
              "<div>\n",
              "<style scoped>\n",
              "    .dataframe tbody tr th:only-of-type {\n",
              "        vertical-align: middle;\n",
              "    }\n",
              "\n",
              "    .dataframe tbody tr th {\n",
              "        vertical-align: top;\n",
              "    }\n",
              "\n",
              "    .dataframe thead th {\n",
              "        text-align: right;\n",
              "    }\n",
              "</style>\n",
              "<table border=\"1\" class=\"dataframe\">\n",
              "  <thead>\n",
              "    <tr style=\"text-align: right;\">\n",
              "      <th>userid</th>\n",
              "      <th>1</th>\n",
              "      <th>2</th>\n",
              "      <th>3</th>\n",
              "      <th>4</th>\n",
              "      <th>5</th>\n",
              "      <th>6</th>\n",
              "      <th>7</th>\n",
              "      <th>8</th>\n",
              "      <th>9</th>\n",
              "      <th>10</th>\n",
              "      <th>11</th>\n",
              "      <th>12</th>\n",
              "      <th>13</th>\n",
              "      <th>14</th>\n",
              "      <th>15</th>\n",
              "      <th>16</th>\n",
              "      <th>17</th>\n",
              "      <th>18</th>\n",
              "      <th>19</th>\n",
              "      <th>20</th>\n",
              "      <th>21</th>\n",
              "      <th>22</th>\n",
              "      <th>23</th>\n",
              "      <th>24</th>\n",
              "      <th>25</th>\n",
              "      <th>26</th>\n",
              "      <th>27</th>\n",
              "      <th>28</th>\n",
              "      <th>29</th>\n",
              "      <th>30</th>\n",
              "      <th>31</th>\n",
              "      <th>32</th>\n",
              "      <th>33</th>\n",
              "      <th>34</th>\n",
              "      <th>35</th>\n",
              "      <th>36</th>\n",
              "      <th>37</th>\n",
              "      <th>38</th>\n",
              "      <th>39</th>\n",
              "      <th>40</th>\n",
              "      <th>...</th>\n",
              "      <th>571</th>\n",
              "      <th>572</th>\n",
              "      <th>573</th>\n",
              "      <th>574</th>\n",
              "      <th>575</th>\n",
              "      <th>576</th>\n",
              "      <th>577</th>\n",
              "      <th>578</th>\n",
              "      <th>579</th>\n",
              "      <th>580</th>\n",
              "      <th>581</th>\n",
              "      <th>582</th>\n",
              "      <th>583</th>\n",
              "      <th>584</th>\n",
              "      <th>585</th>\n",
              "      <th>586</th>\n",
              "      <th>587</th>\n",
              "      <th>588</th>\n",
              "      <th>589</th>\n",
              "      <th>590</th>\n",
              "      <th>591</th>\n",
              "      <th>592</th>\n",
              "      <th>593</th>\n",
              "      <th>594</th>\n",
              "      <th>595</th>\n",
              "      <th>596</th>\n",
              "      <th>597</th>\n",
              "      <th>598</th>\n",
              "      <th>599</th>\n",
              "      <th>600</th>\n",
              "      <th>601</th>\n",
              "      <th>602</th>\n",
              "      <th>603</th>\n",
              "      <th>604</th>\n",
              "      <th>605</th>\n",
              "      <th>606</th>\n",
              "      <th>607</th>\n",
              "      <th>608</th>\n",
              "      <th>609</th>\n",
              "      <th>610</th>\n",
              "    </tr>\n",
              "    <tr>\n",
              "      <th>title</th>\n",
              "      <th></th>\n",
              "      <th></th>\n",
              "      <th></th>\n",
              "      <th></th>\n",
              "      <th></th>\n",
              "      <th></th>\n",
              "      <th></th>\n",
              "      <th></th>\n",
              "      <th></th>\n",
              "      <th></th>\n",
              "      <th></th>\n",
              "      <th></th>\n",
              "      <th></th>\n",
              "      <th></th>\n",
              "      <th></th>\n",
              "      <th></th>\n",
              "      <th></th>\n",
              "      <th></th>\n",
              "      <th></th>\n",
              "      <th></th>\n",
              "      <th></th>\n",
              "      <th></th>\n",
              "      <th></th>\n",
              "      <th></th>\n",
              "      <th></th>\n",
              "      <th></th>\n",
              "      <th></th>\n",
              "      <th></th>\n",
              "      <th></th>\n",
              "      <th></th>\n",
              "      <th></th>\n",
              "      <th></th>\n",
              "      <th></th>\n",
              "      <th></th>\n",
              "      <th></th>\n",
              "      <th></th>\n",
              "      <th></th>\n",
              "      <th></th>\n",
              "      <th></th>\n",
              "      <th></th>\n",
              "      <th></th>\n",
              "      <th></th>\n",
              "      <th></th>\n",
              "      <th></th>\n",
              "      <th></th>\n",
              "      <th></th>\n",
              "      <th></th>\n",
              "      <th></th>\n",
              "      <th></th>\n",
              "      <th></th>\n",
              "      <th></th>\n",
              "      <th></th>\n",
              "      <th></th>\n",
              "      <th></th>\n",
              "      <th></th>\n",
              "      <th></th>\n",
              "      <th></th>\n",
              "      <th></th>\n",
              "      <th></th>\n",
              "      <th></th>\n",
              "      <th></th>\n",
              "      <th></th>\n",
              "      <th></th>\n",
              "      <th></th>\n",
              "      <th></th>\n",
              "      <th></th>\n",
              "      <th></th>\n",
              "      <th></th>\n",
              "      <th></th>\n",
              "      <th></th>\n",
              "      <th></th>\n",
              "      <th></th>\n",
              "      <th></th>\n",
              "      <th></th>\n",
              "      <th></th>\n",
              "      <th></th>\n",
              "      <th></th>\n",
              "      <th></th>\n",
              "      <th></th>\n",
              "      <th></th>\n",
              "      <th></th>\n",
              "    </tr>\n",
              "  </thead>\n",
              "  <tbody>\n",
              "    <tr>\n",
              "      <th>'71 (2014)</th>\n",
              "      <td>0.0</td>\n",
              "      <td>0.0</td>\n",
              "      <td>0.0</td>\n",
              "      <td>0.0</td>\n",
              "      <td>0.0</td>\n",
              "      <td>0.0</td>\n",
              "      <td>0.0</td>\n",
              "      <td>0.0</td>\n",
              "      <td>0.0</td>\n",
              "      <td>0.0</td>\n",
              "      <td>0.0</td>\n",
              "      <td>0.0</td>\n",
              "      <td>0.0</td>\n",
              "      <td>0.0</td>\n",
              "      <td>0.0</td>\n",
              "      <td>0.0</td>\n",
              "      <td>0.0</td>\n",
              "      <td>0.0</td>\n",
              "      <td>0.0</td>\n",
              "      <td>0.0</td>\n",
              "      <td>0.0</td>\n",
              "      <td>0.0</td>\n",
              "      <td>0.0</td>\n",
              "      <td>0.0</td>\n",
              "      <td>0.0</td>\n",
              "      <td>0.0</td>\n",
              "      <td>0.0</td>\n",
              "      <td>0.0</td>\n",
              "      <td>0.0</td>\n",
              "      <td>0.0</td>\n",
              "      <td>0.0</td>\n",
              "      <td>0.0</td>\n",
              "      <td>0.0</td>\n",
              "      <td>0.0</td>\n",
              "      <td>0.0</td>\n",
              "      <td>0.0</td>\n",
              "      <td>0.0</td>\n",
              "      <td>0.0</td>\n",
              "      <td>0.0</td>\n",
              "      <td>0.0</td>\n",
              "      <td>...</td>\n",
              "      <td>0.0</td>\n",
              "      <td>0.0</td>\n",
              "      <td>0.0</td>\n",
              "      <td>0.0</td>\n",
              "      <td>0.0</td>\n",
              "      <td>0.0</td>\n",
              "      <td>0.0</td>\n",
              "      <td>0.0</td>\n",
              "      <td>0.0</td>\n",
              "      <td>0.0</td>\n",
              "      <td>0.0</td>\n",
              "      <td>0.0</td>\n",
              "      <td>0.0</td>\n",
              "      <td>0.0</td>\n",
              "      <td>0.0</td>\n",
              "      <td>0.0</td>\n",
              "      <td>0.0</td>\n",
              "      <td>0.0</td>\n",
              "      <td>0.0</td>\n",
              "      <td>0.0</td>\n",
              "      <td>0.0</td>\n",
              "      <td>0.0</td>\n",
              "      <td>0.0</td>\n",
              "      <td>0.0</td>\n",
              "      <td>0.0</td>\n",
              "      <td>0.0</td>\n",
              "      <td>0.0</td>\n",
              "      <td>0.0</td>\n",
              "      <td>0.0</td>\n",
              "      <td>0.0</td>\n",
              "      <td>0.0</td>\n",
              "      <td>0.0</td>\n",
              "      <td>0.0</td>\n",
              "      <td>0.0</td>\n",
              "      <td>0.0</td>\n",
              "      <td>0.0</td>\n",
              "      <td>0.0</td>\n",
              "      <td>0.0</td>\n",
              "      <td>0.0</td>\n",
              "      <td>4.0</td>\n",
              "    </tr>\n",
              "    <tr>\n",
              "      <th>'Hellboy': The Seeds of Creation (2004)</th>\n",
              "      <td>0.0</td>\n",
              "      <td>0.0</td>\n",
              "      <td>0.0</td>\n",
              "      <td>0.0</td>\n",
              "      <td>0.0</td>\n",
              "      <td>0.0</td>\n",
              "      <td>0.0</td>\n",
              "      <td>0.0</td>\n",
              "      <td>0.0</td>\n",
              "      <td>0.0</td>\n",
              "      <td>0.0</td>\n",
              "      <td>0.0</td>\n",
              "      <td>0.0</td>\n",
              "      <td>0.0</td>\n",
              "      <td>0.0</td>\n",
              "      <td>0.0</td>\n",
              "      <td>0.0</td>\n",
              "      <td>0.0</td>\n",
              "      <td>0.0</td>\n",
              "      <td>0.0</td>\n",
              "      <td>0.0</td>\n",
              "      <td>0.0</td>\n",
              "      <td>0.0</td>\n",
              "      <td>0.0</td>\n",
              "      <td>0.0</td>\n",
              "      <td>0.0</td>\n",
              "      <td>0.0</td>\n",
              "      <td>0.0</td>\n",
              "      <td>0.0</td>\n",
              "      <td>0.0</td>\n",
              "      <td>0.0</td>\n",
              "      <td>0.0</td>\n",
              "      <td>0.0</td>\n",
              "      <td>0.0</td>\n",
              "      <td>0.0</td>\n",
              "      <td>0.0</td>\n",
              "      <td>0.0</td>\n",
              "      <td>0.0</td>\n",
              "      <td>0.0</td>\n",
              "      <td>0.0</td>\n",
              "      <td>...</td>\n",
              "      <td>0.0</td>\n",
              "      <td>0.0</td>\n",
              "      <td>0.0</td>\n",
              "      <td>0.0</td>\n",
              "      <td>0.0</td>\n",
              "      <td>0.0</td>\n",
              "      <td>0.0</td>\n",
              "      <td>0.0</td>\n",
              "      <td>0.0</td>\n",
              "      <td>0.0</td>\n",
              "      <td>0.0</td>\n",
              "      <td>0.0</td>\n",
              "      <td>0.0</td>\n",
              "      <td>0.0</td>\n",
              "      <td>0.0</td>\n",
              "      <td>0.0</td>\n",
              "      <td>0.0</td>\n",
              "      <td>0.0</td>\n",
              "      <td>0.0</td>\n",
              "      <td>0.0</td>\n",
              "      <td>0.0</td>\n",
              "      <td>0.0</td>\n",
              "      <td>0.0</td>\n",
              "      <td>0.0</td>\n",
              "      <td>0.0</td>\n",
              "      <td>0.0</td>\n",
              "      <td>0.0</td>\n",
              "      <td>0.0</td>\n",
              "      <td>0.0</td>\n",
              "      <td>0.0</td>\n",
              "      <td>0.0</td>\n",
              "      <td>0.0</td>\n",
              "      <td>0.0</td>\n",
              "      <td>0.0</td>\n",
              "      <td>0.0</td>\n",
              "      <td>0.0</td>\n",
              "      <td>0.0</td>\n",
              "      <td>0.0</td>\n",
              "      <td>0.0</td>\n",
              "      <td>0.0</td>\n",
              "    </tr>\n",
              "    <tr>\n",
              "      <th>'Round Midnight (1986)</th>\n",
              "      <td>0.0</td>\n",
              "      <td>0.0</td>\n",
              "      <td>0.0</td>\n",
              "      <td>0.0</td>\n",
              "      <td>0.0</td>\n",
              "      <td>0.0</td>\n",
              "      <td>0.0</td>\n",
              "      <td>0.0</td>\n",
              "      <td>0.0</td>\n",
              "      <td>0.0</td>\n",
              "      <td>0.0</td>\n",
              "      <td>0.0</td>\n",
              "      <td>0.0</td>\n",
              "      <td>0.0</td>\n",
              "      <td>0.0</td>\n",
              "      <td>0.0</td>\n",
              "      <td>0.0</td>\n",
              "      <td>0.0</td>\n",
              "      <td>0.0</td>\n",
              "      <td>0.0</td>\n",
              "      <td>0.0</td>\n",
              "      <td>0.0</td>\n",
              "      <td>0.0</td>\n",
              "      <td>0.0</td>\n",
              "      <td>0.0</td>\n",
              "      <td>0.0</td>\n",
              "      <td>0.0</td>\n",
              "      <td>0.0</td>\n",
              "      <td>0.0</td>\n",
              "      <td>0.0</td>\n",
              "      <td>0.0</td>\n",
              "      <td>0.0</td>\n",
              "      <td>0.0</td>\n",
              "      <td>0.0</td>\n",
              "      <td>0.0</td>\n",
              "      <td>0.0</td>\n",
              "      <td>0.0</td>\n",
              "      <td>0.0</td>\n",
              "      <td>0.0</td>\n",
              "      <td>0.0</td>\n",
              "      <td>...</td>\n",
              "      <td>0.0</td>\n",
              "      <td>0.0</td>\n",
              "      <td>0.0</td>\n",
              "      <td>0.0</td>\n",
              "      <td>0.0</td>\n",
              "      <td>0.0</td>\n",
              "      <td>0.0</td>\n",
              "      <td>0.0</td>\n",
              "      <td>0.0</td>\n",
              "      <td>0.0</td>\n",
              "      <td>0.0</td>\n",
              "      <td>0.0</td>\n",
              "      <td>0.0</td>\n",
              "      <td>0.0</td>\n",
              "      <td>0.0</td>\n",
              "      <td>0.0</td>\n",
              "      <td>0.0</td>\n",
              "      <td>0.0</td>\n",
              "      <td>0.0</td>\n",
              "      <td>0.0</td>\n",
              "      <td>0.0</td>\n",
              "      <td>0.0</td>\n",
              "      <td>0.0</td>\n",
              "      <td>0.0</td>\n",
              "      <td>0.0</td>\n",
              "      <td>0.0</td>\n",
              "      <td>0.0</td>\n",
              "      <td>0.0</td>\n",
              "      <td>0.0</td>\n",
              "      <td>0.0</td>\n",
              "      <td>0.0</td>\n",
              "      <td>0.0</td>\n",
              "      <td>0.0</td>\n",
              "      <td>0.0</td>\n",
              "      <td>0.0</td>\n",
              "      <td>0.0</td>\n",
              "      <td>0.0</td>\n",
              "      <td>0.0</td>\n",
              "      <td>0.0</td>\n",
              "      <td>0.0</td>\n",
              "    </tr>\n",
              "  </tbody>\n",
              "</table>\n",
              "<p>3 rows × 610 columns</p>\n",
              "</div>"
            ],
            "text/plain": [
              "userid                                   1    2    3    4    ...  607  608  609  610\n",
              "title                                                        ...                    \n",
              "'71 (2014)                               0.0  0.0  0.0  0.0  ...  0.0  0.0  0.0  4.0\n",
              "'Hellboy': The Seeds of Creation (2004)  0.0  0.0  0.0  0.0  ...  0.0  0.0  0.0  0.0\n",
              "'Round Midnight (1986)                   0.0  0.0  0.0  0.0  ...  0.0  0.0  0.0  0.0\n",
              "\n",
              "[3 rows x 610 columns]"
            ]
          },
          "metadata": {
            "tags": []
          },
          "execution_count": 155
        }
      ]
    },
    {
      "cell_type": "code",
      "metadata": {
        "colab": {
          "base_uri": "https://localhost:8080/"
        },
        "id": "WZGsJbmUE4pC",
        "outputId": "a04985bc-496b-4ba0-926b-17b69263d96f"
      },
      "source": [
        "rating_matrix.shape"
      ],
      "execution_count": 156,
      "outputs": [
        {
          "output_type": "execute_result",
          "data": {
            "text/plain": [
              "(9719, 610)"
            ]
          },
          "metadata": {
            "tags": []
          },
          "execution_count": 156
        }
      ]
    },
    {
      "cell_type": "code",
      "metadata": {
        "id": "_DHBLaESE4uZ"
      },
      "source": [
        "svd = TruncatedSVD(n_components=100)\n",
        "latent_matrix2 = svd.fit_transform(rating_matrix)"
      ],
      "execution_count": 157,
      "outputs": []
    },
    {
      "cell_type": "code",
      "metadata": {
        "colab": {
          "base_uri": "https://localhost:8080/"
        },
        "id": "aX9EBWDZLVS1",
        "outputId": "368e0af2-bf96-4f96-8e99-59a5b52f4ac1"
      },
      "source": [
        "latent_matrix2.shape"
      ],
      "execution_count": 158,
      "outputs": [
        {
          "output_type": "execute_result",
          "data": {
            "text/plain": [
              "(9719, 100)"
            ]
          },
          "metadata": {
            "tags": []
          },
          "execution_count": 158
        }
      ]
    },
    {
      "cell_type": "code",
      "metadata": {
        "colab": {
          "base_uri": "https://localhost:8080/",
          "height": 448
        },
        "id": "vpbj9VlmLfwl",
        "outputId": "a0b59d60-7d62-4b27-f6c1-2c03048d984e"
      },
      "source": [
        "# plot var expalined to see what latent dimensions to use\n",
        "\n",
        "explained = svd.explained_variance_ratio_.cumsum()\n",
        "plt.plot(explained, '.-', ms = 16, color='red')\n",
        "plt.xlabel('Singular value components', fontsize= 12)\n",
        "plt.ylabel('Cumulative % of variance', fontsize=12)        \n",
        "plt.show()"
      ],
      "execution_count": 159,
      "outputs": [
        {
          "output_type": "display_data",
          "data": {
            "image/png": "[encoded data removed]",
            "text/plain": [
              "<Figure size 1008x504 with 1 Axes>"
            ]
          },
          "metadata": {
            "tags": []
          }
        }
      ]
    },
    {
      "cell_type": "code",
      "metadata": {
        "colab": {
          "base_uri": "https://localhost:8080/"
        },
        "id": "N3P8V5xjLI_w",
        "outputId": "0f0231fb-b0a2-4b49-fac4-9dabf8ab9ac7"
      },
      "source": [
        "# number of latent dimensions to keep\n",
        "n = 100 \n",
        "latent_matrix2_df = pd.DataFrame(latent_matrix2[:,0:n], index=rating_matrix.index.tolist())\n",
        "latent_matrix2_df.shape"
      ],
      "execution_count": 160,
      "outputs": [
        {
          "output_type": "execute_result",
          "data": {
            "text/plain": [
              "(9719, 100)"
            ]
          },
          "metadata": {
            "tags": []
          },
          "execution_count": 160
        }
      ]
    },
    {
      "cell_type": "code",
      "metadata": {
        "colab": {
          "base_uri": "https://localhost:8080/",
          "height": 429
        },
        "id": "xrwcSagDMBIS",
        "outputId": "3f5115e4-157a-4e65-8175-93f6a1290cff"
      },
      "source": [
        "latent_matrix2_df.head()"
      ],
      "execution_count": 161,
      "outputs": [
        {
          "output_type": "execute_result",
          "data": {
            "text/html": [
              "<div>\n",
              "<style scoped>\n",
              "    .dataframe tbody tr th:only-of-type {\n",
              "        vertical-align: middle;\n",
              "    }\n",
              "\n",
              "    .dataframe tbody tr th {\n",
              "        vertical-align: top;\n",
              "    }\n",
              "\n",
              "    .dataframe thead th {\n",
              "        text-align: right;\n",
              "    }\n",
              "</style>\n",
              "<table border=\"1\" class=\"dataframe\">\n",
              "  <thead>\n",
              "    <tr style=\"text-align: right;\">\n",
              "      <th></th>\n",
              "      <th>0</th>\n",
              "      <th>1</th>\n",
              "      <th>2</th>\n",
              "      <th>3</th>\n",
              "      <th>4</th>\n",
              "      <th>5</th>\n",
              "      <th>6</th>\n",
              "      <th>7</th>\n",
              "      <th>8</th>\n",
              "      <th>9</th>\n",
              "      <th>10</th>\n",
              "      <th>11</th>\n",
              "      <th>12</th>\n",
              "      <th>13</th>\n",
              "      <th>14</th>\n",
              "      <th>15</th>\n",
              "      <th>16</th>\n",
              "      <th>17</th>\n",
              "      <th>18</th>\n",
              "      <th>19</th>\n",
              "      <th>20</th>\n",
              "      <th>21</th>\n",
              "      <th>22</th>\n",
              "      <th>23</th>\n",
              "      <th>24</th>\n",
              "      <th>25</th>\n",
              "      <th>26</th>\n",
              "      <th>27</th>\n",
              "      <th>28</th>\n",
              "      <th>29</th>\n",
              "      <th>30</th>\n",
              "      <th>31</th>\n",
              "      <th>32</th>\n",
              "      <th>33</th>\n",
              "      <th>34</th>\n",
              "      <th>35</th>\n",
              "      <th>36</th>\n",
              "      <th>37</th>\n",
              "      <th>38</th>\n",
              "      <th>39</th>\n",
              "      <th>...</th>\n",
              "      <th>60</th>\n",
              "      <th>61</th>\n",
              "      <th>62</th>\n",
              "      <th>63</th>\n",
              "      <th>64</th>\n",
              "      <th>65</th>\n",
              "      <th>66</th>\n",
              "      <th>67</th>\n",
              "      <th>68</th>\n",
              "      <th>69</th>\n",
              "      <th>70</th>\n",
              "      <th>71</th>\n",
              "      <th>72</th>\n",
              "      <th>73</th>\n",
              "      <th>74</th>\n",
              "      <th>75</th>\n",
              "      <th>76</th>\n",
              "      <th>77</th>\n",
              "      <th>78</th>\n",
              "      <th>79</th>\n",
              "      <th>80</th>\n",
              "      <th>81</th>\n",
              "      <th>82</th>\n",
              "      <th>83</th>\n",
              "      <th>84</th>\n",
              "      <th>85</th>\n",
              "      <th>86</th>\n",
              "      <th>87</th>\n",
              "      <th>88</th>\n",
              "      <th>89</th>\n",
              "      <th>90</th>\n",
              "      <th>91</th>\n",
              "      <th>92</th>\n",
              "      <th>93</th>\n",
              "      <th>94</th>\n",
              "      <th>95</th>\n",
              "      <th>96</th>\n",
              "      <th>97</th>\n",
              "      <th>98</th>\n",
              "      <th>99</th>\n",
              "    </tr>\n",
              "  </thead>\n",
              "  <tbody>\n",
              "    <tr>\n",
              "      <th>'71 (2014)</th>\n",
              "      <td>0.555182</td>\n",
              "      <td>0.809224</td>\n",
              "      <td>-0.368421</td>\n",
              "      <td>-0.065335</td>\n",
              "      <td>0.632935</td>\n",
              "      <td>-1.006284</td>\n",
              "      <td>-0.251455</td>\n",
              "      <td>-0.833242</td>\n",
              "      <td>-0.779591</td>\n",
              "      <td>0.291680</td>\n",
              "      <td>-0.551788</td>\n",
              "      <td>0.645901</td>\n",
              "      <td>-2.196321</td>\n",
              "      <td>0.478061</td>\n",
              "      <td>1.338492</td>\n",
              "      <td>1.097908</td>\n",
              "      <td>0.093073</td>\n",
              "      <td>-1.030581</td>\n",
              "      <td>0.577889</td>\n",
              "      <td>-0.359046</td>\n",
              "      <td>0.104496</td>\n",
              "      <td>0.127445</td>\n",
              "      <td>0.313516</td>\n",
              "      <td>0.417036</td>\n",
              "      <td>0.123814</td>\n",
              "      <td>0.138000</td>\n",
              "      <td>0.138952</td>\n",
              "      <td>0.192676</td>\n",
              "      <td>0.155638</td>\n",
              "      <td>0.342268</td>\n",
              "      <td>-0.011344</td>\n",
              "      <td>-0.301856</td>\n",
              "      <td>-0.343207</td>\n",
              "      <td>-0.105745</td>\n",
              "      <td>0.173906</td>\n",
              "      <td>0.359745</td>\n",
              "      <td>-0.122429</td>\n",
              "      <td>0.088962</td>\n",
              "      <td>-0.188540</td>\n",
              "      <td>0.357025</td>\n",
              "      <td>...</td>\n",
              "      <td>0.057192</td>\n",
              "      <td>0.098875</td>\n",
              "      <td>-0.019467</td>\n",
              "      <td>-0.048362</td>\n",
              "      <td>-0.093537</td>\n",
              "      <td>-0.054470</td>\n",
              "      <td>0.051604</td>\n",
              "      <td>-0.006253</td>\n",
              "      <td>0.121878</td>\n",
              "      <td>-0.031674</td>\n",
              "      <td>0.023997</td>\n",
              "      <td>0.032585</td>\n",
              "      <td>-0.082133</td>\n",
              "      <td>-0.034980</td>\n",
              "      <td>0.029962</td>\n",
              "      <td>-0.066533</td>\n",
              "      <td>0.083742</td>\n",
              "      <td>-0.009373</td>\n",
              "      <td>0.043331</td>\n",
              "      <td>0.104062</td>\n",
              "      <td>0.113528</td>\n",
              "      <td>-0.064796</td>\n",
              "      <td>0.011333</td>\n",
              "      <td>0.047373</td>\n",
              "      <td>-0.150327</td>\n",
              "      <td>-0.010384</td>\n",
              "      <td>0.049195</td>\n",
              "      <td>-0.015085</td>\n",
              "      <td>-0.030454</td>\n",
              "      <td>0.023118</td>\n",
              "      <td>-0.001174</td>\n",
              "      <td>0.099542</td>\n",
              "      <td>0.020150</td>\n",
              "      <td>-0.057001</td>\n",
              "      <td>0.009203</td>\n",
              "      <td>0.079153</td>\n",
              "      <td>-0.061046</td>\n",
              "      <td>0.002646</td>\n",
              "      <td>0.028259</td>\n",
              "      <td>0.060969</td>\n",
              "    </tr>\n",
              "    <tr>\n",
              "      <th>'Hellboy': The Seeds of Creation (2004)</th>\n",
              "      <td>0.234890</td>\n",
              "      <td>0.048631</td>\n",
              "      <td>0.027846</td>\n",
              "      <td>0.324393</td>\n",
              "      <td>0.026639</td>\n",
              "      <td>0.039636</td>\n",
              "      <td>-0.101671</td>\n",
              "      <td>0.047931</td>\n",
              "      <td>-0.100758</td>\n",
              "      <td>-0.029999</td>\n",
              "      <td>0.065367</td>\n",
              "      <td>0.008069</td>\n",
              "      <td>0.040219</td>\n",
              "      <td>-0.045120</td>\n",
              "      <td>0.058872</td>\n",
              "      <td>-0.073596</td>\n",
              "      <td>-0.057198</td>\n",
              "      <td>0.114352</td>\n",
              "      <td>0.056375</td>\n",
              "      <td>0.050134</td>\n",
              "      <td>-0.099178</td>\n",
              "      <td>0.116361</td>\n",
              "      <td>-0.039300</td>\n",
              "      <td>0.034225</td>\n",
              "      <td>-0.029532</td>\n",
              "      <td>0.064893</td>\n",
              "      <td>-0.274361</td>\n",
              "      <td>-0.190168</td>\n",
              "      <td>0.056972</td>\n",
              "      <td>-0.022610</td>\n",
              "      <td>0.072720</td>\n",
              "      <td>-0.124328</td>\n",
              "      <td>0.044548</td>\n",
              "      <td>-0.036932</td>\n",
              "      <td>0.090242</td>\n",
              "      <td>-0.036808</td>\n",
              "      <td>0.088119</td>\n",
              "      <td>0.179587</td>\n",
              "      <td>-0.284047</td>\n",
              "      <td>-0.269475</td>\n",
              "      <td>...</td>\n",
              "      <td>-0.126514</td>\n",
              "      <td>0.080123</td>\n",
              "      <td>-0.101536</td>\n",
              "      <td>-0.460701</td>\n",
              "      <td>0.124983</td>\n",
              "      <td>0.481433</td>\n",
              "      <td>0.198961</td>\n",
              "      <td>-0.133499</td>\n",
              "      <td>0.001754</td>\n",
              "      <td>-0.302357</td>\n",
              "      <td>0.325153</td>\n",
              "      <td>0.005128</td>\n",
              "      <td>0.007900</td>\n",
              "      <td>-0.069445</td>\n",
              "      <td>0.317489</td>\n",
              "      <td>-0.713709</td>\n",
              "      <td>-0.281659</td>\n",
              "      <td>-0.049549</td>\n",
              "      <td>0.129029</td>\n",
              "      <td>0.595007</td>\n",
              "      <td>-0.016002</td>\n",
              "      <td>-0.138418</td>\n",
              "      <td>-0.115631</td>\n",
              "      <td>-0.079814</td>\n",
              "      <td>-0.145460</td>\n",
              "      <td>0.244862</td>\n",
              "      <td>-0.262510</td>\n",
              "      <td>-0.360127</td>\n",
              "      <td>-0.275615</td>\n",
              "      <td>0.378289</td>\n",
              "      <td>-0.155435</td>\n",
              "      <td>0.109086</td>\n",
              "      <td>-0.039534</td>\n",
              "      <td>0.141743</td>\n",
              "      <td>-0.549235</td>\n",
              "      <td>-0.714113</td>\n",
              "      <td>0.039331</td>\n",
              "      <td>0.465423</td>\n",
              "      <td>0.331048</td>\n",
              "      <td>-0.495501</td>\n",
              "    </tr>\n",
              "    <tr>\n",
              "      <th>'Round Midnight (1986)</th>\n",
              "      <td>0.251241</td>\n",
              "      <td>-0.004923</td>\n",
              "      <td>-0.014241</td>\n",
              "      <td>0.287649</td>\n",
              "      <td>0.065665</td>\n",
              "      <td>0.025887</td>\n",
              "      <td>-0.049832</td>\n",
              "      <td>-0.037585</td>\n",
              "      <td>-0.109669</td>\n",
              "      <td>0.009839</td>\n",
              "      <td>0.095526</td>\n",
              "      <td>-0.007104</td>\n",
              "      <td>0.119049</td>\n",
              "      <td>-0.073798</td>\n",
              "      <td>0.055350</td>\n",
              "      <td>0.004353</td>\n",
              "      <td>-0.018081</td>\n",
              "      <td>0.034489</td>\n",
              "      <td>0.019104</td>\n",
              "      <td>-0.058578</td>\n",
              "      <td>-0.157414</td>\n",
              "      <td>0.190593</td>\n",
              "      <td>-0.097249</td>\n",
              "      <td>-0.060733</td>\n",
              "      <td>-0.018332</td>\n",
              "      <td>0.104173</td>\n",
              "      <td>-0.337051</td>\n",
              "      <td>-0.147936</td>\n",
              "      <td>0.085979</td>\n",
              "      <td>-0.013145</td>\n",
              "      <td>0.047208</td>\n",
              "      <td>-0.146235</td>\n",
              "      <td>0.017429</td>\n",
              "      <td>-0.067910</td>\n",
              "      <td>0.143509</td>\n",
              "      <td>0.058496</td>\n",
              "      <td>0.089807</td>\n",
              "      <td>0.292739</td>\n",
              "      <td>-0.300751</td>\n",
              "      <td>-0.299873</td>\n",
              "      <td>...</td>\n",
              "      <td>-0.199033</td>\n",
              "      <td>0.199219</td>\n",
              "      <td>-0.190517</td>\n",
              "      <td>-0.512887</td>\n",
              "      <td>0.211102</td>\n",
              "      <td>0.287574</td>\n",
              "      <td>0.197198</td>\n",
              "      <td>-0.136634</td>\n",
              "      <td>0.182852</td>\n",
              "      <td>-0.242428</td>\n",
              "      <td>0.241203</td>\n",
              "      <td>-0.000643</td>\n",
              "      <td>-0.140585</td>\n",
              "      <td>-0.073703</td>\n",
              "      <td>0.079985</td>\n",
              "      <td>-0.808519</td>\n",
              "      <td>-0.103291</td>\n",
              "      <td>-0.267997</td>\n",
              "      <td>0.083042</td>\n",
              "      <td>0.303722</td>\n",
              "      <td>0.200440</td>\n",
              "      <td>-0.085899</td>\n",
              "      <td>-0.256763</td>\n",
              "      <td>-0.210480</td>\n",
              "      <td>-0.477458</td>\n",
              "      <td>0.412062</td>\n",
              "      <td>0.038114</td>\n",
              "      <td>-0.272009</td>\n",
              "      <td>-0.585194</td>\n",
              "      <td>0.195130</td>\n",
              "      <td>0.024675</td>\n",
              "      <td>-0.034013</td>\n",
              "      <td>-0.097217</td>\n",
              "      <td>0.084909</td>\n",
              "      <td>-0.462536</td>\n",
              "      <td>-0.461615</td>\n",
              "      <td>-0.183775</td>\n",
              "      <td>0.504085</td>\n",
              "      <td>0.398270</td>\n",
              "      <td>-0.614020</td>\n",
              "    </tr>\n",
              "    <tr>\n",
              "      <th>'Salem's Lot (2004)</th>\n",
              "      <td>0.034917</td>\n",
              "      <td>-0.053290</td>\n",
              "      <td>-0.047510</td>\n",
              "      <td>0.007676</td>\n",
              "      <td>0.015754</td>\n",
              "      <td>0.008245</td>\n",
              "      <td>0.056561</td>\n",
              "      <td>-0.038741</td>\n",
              "      <td>-0.013135</td>\n",
              "      <td>-0.014510</td>\n",
              "      <td>-0.037724</td>\n",
              "      <td>0.020788</td>\n",
              "      <td>0.036711</td>\n",
              "      <td>0.053882</td>\n",
              "      <td>-0.031816</td>\n",
              "      <td>0.054946</td>\n",
              "      <td>0.005641</td>\n",
              "      <td>-0.020028</td>\n",
              "      <td>0.000033</td>\n",
              "      <td>-0.057778</td>\n",
              "      <td>-0.025554</td>\n",
              "      <td>0.037857</td>\n",
              "      <td>-0.025042</td>\n",
              "      <td>-0.023207</td>\n",
              "      <td>0.035165</td>\n",
              "      <td>0.125726</td>\n",
              "      <td>-0.083375</td>\n",
              "      <td>-0.007886</td>\n",
              "      <td>0.040073</td>\n",
              "      <td>0.016162</td>\n",
              "      <td>0.005050</td>\n",
              "      <td>-0.035833</td>\n",
              "      <td>-0.048714</td>\n",
              "      <td>-0.028962</td>\n",
              "      <td>0.031440</td>\n",
              "      <td>0.103690</td>\n",
              "      <td>-0.033948</td>\n",
              "      <td>0.036682</td>\n",
              "      <td>-0.054417</td>\n",
              "      <td>-0.121545</td>\n",
              "      <td>...</td>\n",
              "      <td>-0.058998</td>\n",
              "      <td>0.167023</td>\n",
              "      <td>-0.134970</td>\n",
              "      <td>0.017367</td>\n",
              "      <td>0.164430</td>\n",
              "      <td>-0.121418</td>\n",
              "      <td>-0.038177</td>\n",
              "      <td>0.037973</td>\n",
              "      <td>-0.018260</td>\n",
              "      <td>-0.026080</td>\n",
              "      <td>-0.037697</td>\n",
              "      <td>-0.018105</td>\n",
              "      <td>-0.059919</td>\n",
              "      <td>0.019911</td>\n",
              "      <td>-0.029388</td>\n",
              "      <td>-0.129314</td>\n",
              "      <td>0.022772</td>\n",
              "      <td>-0.096327</td>\n",
              "      <td>0.004787</td>\n",
              "      <td>-0.137062</td>\n",
              "      <td>0.050376</td>\n",
              "      <td>0.035508</td>\n",
              "      <td>-0.039028</td>\n",
              "      <td>-0.085886</td>\n",
              "      <td>-0.123273</td>\n",
              "      <td>0.088000</td>\n",
              "      <td>0.038645</td>\n",
              "      <td>0.017041</td>\n",
              "      <td>-0.073702</td>\n",
              "      <td>-0.089403</td>\n",
              "      <td>0.123562</td>\n",
              "      <td>-0.094248</td>\n",
              "      <td>0.039213</td>\n",
              "      <td>0.147660</td>\n",
              "      <td>-0.016094</td>\n",
              "      <td>0.023093</td>\n",
              "      <td>-0.090781</td>\n",
              "      <td>-0.031343</td>\n",
              "      <td>-0.037166</td>\n",
              "      <td>-0.039197</td>\n",
              "    </tr>\n",
              "    <tr>\n",
              "      <th>'Til There Was You (1997)</th>\n",
              "      <td>0.084489</td>\n",
              "      <td>-0.152986</td>\n",
              "      <td>-0.101740</td>\n",
              "      <td>0.062782</td>\n",
              "      <td>-0.071308</td>\n",
              "      <td>-0.046116</td>\n",
              "      <td>0.169115</td>\n",
              "      <td>-0.065405</td>\n",
              "      <td>0.036329</td>\n",
              "      <td>-0.066424</td>\n",
              "      <td>-0.119291</td>\n",
              "      <td>0.100500</td>\n",
              "      <td>0.053559</td>\n",
              "      <td>0.108829</td>\n",
              "      <td>-0.023901</td>\n",
              "      <td>0.032054</td>\n",
              "      <td>-0.015816</td>\n",
              "      <td>-0.012736</td>\n",
              "      <td>-0.021081</td>\n",
              "      <td>-0.025966</td>\n",
              "      <td>0.032673</td>\n",
              "      <td>0.058422</td>\n",
              "      <td>0.019357</td>\n",
              "      <td>0.087135</td>\n",
              "      <td>0.068493</td>\n",
              "      <td>0.183342</td>\n",
              "      <td>-0.139497</td>\n",
              "      <td>0.092544</td>\n",
              "      <td>0.171047</td>\n",
              "      <td>0.005183</td>\n",
              "      <td>0.014290</td>\n",
              "      <td>-0.056412</td>\n",
              "      <td>-0.045341</td>\n",
              "      <td>-0.017715</td>\n",
              "      <td>0.013414</td>\n",
              "      <td>0.077922</td>\n",
              "      <td>-0.010125</td>\n",
              "      <td>0.070566</td>\n",
              "      <td>-0.163496</td>\n",
              "      <td>-0.104749</td>\n",
              "      <td>...</td>\n",
              "      <td>-0.078046</td>\n",
              "      <td>0.273305</td>\n",
              "      <td>-0.067373</td>\n",
              "      <td>0.205023</td>\n",
              "      <td>0.091676</td>\n",
              "      <td>-0.137929</td>\n",
              "      <td>-0.058546</td>\n",
              "      <td>-0.001781</td>\n",
              "      <td>-0.076608</td>\n",
              "      <td>-0.097128</td>\n",
              "      <td>-0.047318</td>\n",
              "      <td>-0.287852</td>\n",
              "      <td>-0.140931</td>\n",
              "      <td>0.017501</td>\n",
              "      <td>0.096078</td>\n",
              "      <td>0.082759</td>\n",
              "      <td>-0.290609</td>\n",
              "      <td>0.119876</td>\n",
              "      <td>-0.036572</td>\n",
              "      <td>-0.026898</td>\n",
              "      <td>0.043503</td>\n",
              "      <td>0.033598</td>\n",
              "      <td>-0.105767</td>\n",
              "      <td>-0.120234</td>\n",
              "      <td>-0.187601</td>\n",
              "      <td>0.017189</td>\n",
              "      <td>0.280222</td>\n",
              "      <td>-0.021896</td>\n",
              "      <td>-0.343794</td>\n",
              "      <td>-0.330840</td>\n",
              "      <td>-0.049056</td>\n",
              "      <td>0.037260</td>\n",
              "      <td>0.107266</td>\n",
              "      <td>0.396556</td>\n",
              "      <td>0.135031</td>\n",
              "      <td>0.204450</td>\n",
              "      <td>-0.110453</td>\n",
              "      <td>0.206762</td>\n",
              "      <td>-0.029707</td>\n",
              "      <td>-0.096313</td>\n",
              "    </tr>\n",
              "  </tbody>\n",
              "</table>\n",
              "<p>5 rows × 100 columns</p>\n",
              "</div>"
            ],
            "text/plain": [
              "                                               0         1   ...        98        99\n",
              "'71 (2014)                               0.555182  0.809224  ...  0.028259  0.060969\n",
              "'Hellboy': The Seeds of Creation (2004)  0.234890  0.048631  ...  0.331048 -0.495501\n",
              "'Round Midnight (1986)                   0.251241 -0.004923  ...  0.398270 -0.614020\n",
              "'Salem's Lot (2004)                      0.034917 -0.053290  ... -0.037166 -0.039197\n",
              "'Til There Was You (1997)                0.084489 -0.152986  ... -0.029707 -0.096313\n",
              "\n",
              "[5 rows x 100 columns]"
            ]
          },
          "metadata": {
            "tags": []
          },
          "execution_count": 161
        }
      ]
    },
    {
      "cell_type": "markdown",
      "metadata": {
        "id": "Dgu1XTqT92nN"
      },
      "source": [
        "## Comparing above two"
      ]
    },
    {
      "cell_type": "code",
      "metadata": {
        "colab": {
          "base_uri": "https://localhost:8080/"
        },
        "id": "m8AGdOtONKNC",
        "outputId": "99a645a7-54dc-42b7-eed9-6abf3c2a9256"
      },
      "source": [
        "# checking latent matrix1 with Toy Story\n",
        "\n",
        "latent_matrix1_df.loc['Toy Story (1995)']"
      ],
      "execution_count": 162,
      "outputs": [
        {
          "output_type": "execute_result",
          "data": {
            "text/plain": [
              "0      0.127145\n",
              "1      0.038424\n",
              "2      0.184619\n",
              "3     -0.158875\n",
              "4      0.040615\n",
              "         ...   \n",
              "995   -0.034601\n",
              "996   -0.015412\n",
              "997    0.029030\n",
              "998   -0.014403\n",
              "999   -0.007718\n",
              "Name: Toy Story (1995), Length: 1000, dtype: float64"
            ]
          },
          "metadata": {
            "tags": []
          },
          "execution_count": 162
        }
      ]
    },
    {
      "cell_type": "code",
      "metadata": {
        "colab": {
          "base_uri": "https://localhost:8080/"
        },
        "id": "xEXDBQHrNENi",
        "outputId": "12ae6cb5-424a-4237-fba4-d6c0545bde99"
      },
      "source": [
        "# checking latent matrix2 with Toy Story\n",
        "\n",
        "latent_matrix2_df.loc['Toy Story (1995)']"
      ],
      "execution_count": 163,
      "outputs": [
        {
          "output_type": "execute_result",
          "data": {
            "text/plain": [
              "0     37.651948\n",
              "1     -6.387467\n",
              "2     14.981186\n",
              "3      0.295178\n",
              "4     -1.890588\n",
              "        ...    \n",
              "95    -2.267125\n",
              "96    -2.414471\n",
              "97    -3.198952\n",
              "98    -0.281000\n",
              "99    -0.790751\n",
              "Name: Toy Story (1995), Length: 100, dtype: float64"
            ]
          },
          "metadata": {
            "tags": []
          },
          "execution_count": 163
        }
      ]
    },
    {
      "cell_type": "code",
      "metadata": {
        "colab": {
          "base_uri": "https://localhost:8080/"
        },
        "id": "eItjdLxRNeGA",
        "outputId": "94d81335-c0c7-42d2-c42d-0bd25dfb3f9d"
      },
      "source": [
        "# checking cosine similarity of latent matrix1 with Toy Story\n",
        "\n",
        "cosine_similarity(latent_matrix1_df, np.array(latent_matrix1_df.loc['Toy Story (1995)']).reshape(1, -1))"
      ],
      "execution_count": 164,
      "outputs": [
        {
          "output_type": "execute_result",
          "data": {
            "text/plain": [
              "array([[-0.00078012],\n",
              "       [ 0.13990437],\n",
              "       [-0.00383022],\n",
              "       ...,\n",
              "       [ 0.00403638],\n",
              "       [ 0.03720768],\n",
              "       [ 0.02239602]])"
            ]
          },
          "metadata": {
            "tags": []
          },
          "execution_count": 164
        }
      ]
    },
    {
      "cell_type": "markdown",
      "metadata": {
        "id": "jncfvzhLuC9P"
      },
      "source": [
        "Now finding similarity for the movie Batman Begins."
      ]
    },
    {
      "cell_type": "code",
      "metadata": {
        "id": "HjaiUMKvE4z9"
      },
      "source": [
        "# taking latent vectors for Batman Begins\n",
        "content = np.array(latent_matrix1_df.loc['Batman Begins (2005)']).reshape(1, -1)            # content based\n",
        "collaborative = np.array(latent_matrix2_df.loc['Batman Begins (2005)']).reshape(1, -1)      # collaborative based\n",
        "\n",
        "# finding similartity of Batman Begins with the others in the list\n",
        "score_1 = cosine_similarity(latent_matrix1_df, content).reshape(-1)\n",
        "score_2 = cosine_similarity(latent_matrix2_df, collaborative).reshape(-1)\n",
        "\n",
        "# finding average score of both content and collaborative \n",
        "average = ((score_1 + score_2)/2)\n",
        "\n",
        "# forming data frame\n",
        "scoresdict = {'content': score_1 , 'collaborative': score_2, 'average': average} \n",
        "similar = pd.DataFrame(scoresdict, index = latent_matrix1_df.index)"
      ],
      "execution_count": 165,
      "outputs": []
    },
    {
      "cell_type": "code",
      "metadata": {
        "colab": {
          "base_uri": "https://localhost:8080/",
          "height": 370
        },
        "id": "5ruUmm1u8flh",
        "outputId": "7607ac1d-ee63-40b1-a646-2cfb9d4f1069"
      },
      "source": [
        "# sort on basis of content column \n",
        "similar.sort_values('content', ascending=False, inplace=True)\n",
        "\n",
        "similar[1:].head(11)    # restricting to first 10 movies"
      ],
      "execution_count": 166,
      "outputs": [
        {
          "output_type": "execute_result",
          "data": {
            "text/html": [
              "<div>\n",
              "<style scoped>\n",
              "    .dataframe tbody tr th:only-of-type {\n",
              "        vertical-align: middle;\n",
              "    }\n",
              "\n",
              "    .dataframe tbody tr th {\n",
              "        vertical-align: top;\n",
              "    }\n",
              "\n",
              "    .dataframe thead th {\n",
              "        text-align: right;\n",
              "    }\n",
              "</style>\n",
              "<table border=\"1\" class=\"dataframe\">\n",
              "  <thead>\n",
              "    <tr style=\"text-align: right;\">\n",
              "      <th></th>\n",
              "      <th>content</th>\n",
              "      <th>collaborative</th>\n",
              "      <th>average</th>\n",
              "    </tr>\n",
              "  </thead>\n",
              "  <tbody>\n",
              "    <tr>\n",
              "      <th>Batman (1966)</th>\n",
              "      <td>0.671195</td>\n",
              "      <td>0.142446</td>\n",
              "      <td>0.406820</td>\n",
              "    </tr>\n",
              "    <tr>\n",
              "      <th>Batman: Mystery of the Batwoman (2003)</th>\n",
              "      <td>0.637891</td>\n",
              "      <td>0.139871</td>\n",
              "      <td>0.388881</td>\n",
              "    </tr>\n",
              "    <tr>\n",
              "      <th>Batman: Assault on Arkham (2014)</th>\n",
              "      <td>0.608765</td>\n",
              "      <td>0.139871</td>\n",
              "      <td>0.374318</td>\n",
              "    </tr>\n",
              "    <tr>\n",
              "      <th>Batman (1989)</th>\n",
              "      <td>0.589502</td>\n",
              "      <td>0.370713</td>\n",
              "      <td>0.480108</td>\n",
              "    </tr>\n",
              "    <tr>\n",
              "      <th>Batman: Year One (2011)</th>\n",
              "      <td>0.576331</td>\n",
              "      <td>0.198561</td>\n",
              "      <td>0.387446</td>\n",
              "    </tr>\n",
              "    <tr>\n",
              "      <th>Batman: The Killing Joke (2016)</th>\n",
              "      <td>0.553558</td>\n",
              "      <td>0.139871</td>\n",
              "      <td>0.346714</td>\n",
              "    </tr>\n",
              "    <tr>\n",
              "      <th>Batman Beyond: Return of the Joker (2000)</th>\n",
              "      <td>0.532563</td>\n",
              "      <td>0.181293</td>\n",
              "      <td>0.356928</td>\n",
              "    </tr>\n",
              "    <tr>\n",
              "      <th>Batman: Gotham Knight (2008)</th>\n",
              "      <td>0.529343</td>\n",
              "      <td>0.198634</td>\n",
              "      <td>0.363989</td>\n",
              "    </tr>\n",
              "    <tr>\n",
              "      <th>Batman &amp; Robin (1997)</th>\n",
              "      <td>0.521151</td>\n",
              "      <td>0.382452</td>\n",
              "      <td>0.451802</td>\n",
              "    </tr>\n",
              "    <tr>\n",
              "      <th>Batman Returns (1992)</th>\n",
              "      <td>0.504782</td>\n",
              "      <td>0.414907</td>\n",
              "      <td>0.459845</td>\n",
              "    </tr>\n",
              "    <tr>\n",
              "      <th>Need for Speed (2014)</th>\n",
              "      <td>0.458096</td>\n",
              "      <td>0.141630</td>\n",
              "      <td>0.299863</td>\n",
              "    </tr>\n",
              "  </tbody>\n",
              "</table>\n",
              "</div>"
            ],
            "text/plain": [
              "                                            content  collaborative   average\n",
              "Batman (1966)                              0.671195       0.142446  0.406820\n",
              "Batman: Mystery of the Batwoman (2003)     0.637891       0.139871  0.388881\n",
              "Batman: Assault on Arkham (2014)           0.608765       0.139871  0.374318\n",
              "Batman (1989)                              0.589502       0.370713  0.480108\n",
              "Batman: Year One (2011)                    0.576331       0.198561  0.387446\n",
              "Batman: The Killing Joke (2016)            0.553558       0.139871  0.346714\n",
              "Batman Beyond: Return of the Joker (2000)  0.532563       0.181293  0.356928\n",
              "Batman: Gotham Knight (2008)               0.529343       0.198634  0.363989\n",
              "Batman & Robin (1997)                      0.521151       0.382452  0.451802\n",
              "Batman Returns (1992)                      0.504782       0.414907  0.459845\n",
              "Need for Speed (2014)                      0.458096       0.141630  0.299863"
            ]
          },
          "metadata": {
            "tags": []
          },
          "execution_count": 166
        }
      ]
    },
    {
      "cell_type": "code",
      "metadata": {
        "colab": {
          "base_uri": "https://localhost:8080/",
          "height": 370
        },
        "id": "qr5pGFnA9E9T",
        "outputId": "b376c16f-202f-437a-c3f1-b4c0a03c6932"
      },
      "source": [
        "# sort on basis of collaborative column \n",
        "similar.sort_values('collaborative', ascending=False, inplace=True)\n",
        "\n",
        "similar[1:].head(11)"
      ],
      "execution_count": 167,
      "outputs": [
        {
          "output_type": "execute_result",
          "data": {
            "text/html": [
              "<div>\n",
              "<style scoped>\n",
              "    .dataframe tbody tr th:only-of-type {\n",
              "        vertical-align: middle;\n",
              "    }\n",
              "\n",
              "    .dataframe tbody tr th {\n",
              "        vertical-align: top;\n",
              "    }\n",
              "\n",
              "    .dataframe thead th {\n",
              "        text-align: right;\n",
              "    }\n",
              "</style>\n",
              "<table border=\"1\" class=\"dataframe\">\n",
              "  <thead>\n",
              "    <tr style=\"text-align: right;\">\n",
              "      <th></th>\n",
              "      <th>content</th>\n",
              "      <th>collaborative</th>\n",
              "      <th>average</th>\n",
              "    </tr>\n",
              "  </thead>\n",
              "  <tbody>\n",
              "    <tr>\n",
              "      <th>V for Vendetta (2006)</th>\n",
              "      <td>0.408510</td>\n",
              "      <td>0.827567</td>\n",
              "      <td>0.618039</td>\n",
              "    </tr>\n",
              "    <tr>\n",
              "      <th>Dark Knight, The (2008)</th>\n",
              "      <td>0.211862</td>\n",
              "      <td>0.813589</td>\n",
              "      <td>0.512726</td>\n",
              "    </tr>\n",
              "    <tr>\n",
              "      <th>Pirates of the Caribbean: The Curse of the Black Pearl (2003)</th>\n",
              "      <td>0.037230</td>\n",
              "      <td>0.804868</td>\n",
              "      <td>0.421049</td>\n",
              "    </tr>\n",
              "    <tr>\n",
              "      <th>Iron Man (2008)</th>\n",
              "      <td>0.064718</td>\n",
              "      <td>0.796666</td>\n",
              "      <td>0.430692</td>\n",
              "    </tr>\n",
              "    <tr>\n",
              "      <th>Kill Bill: Vol. 1 (2003)</th>\n",
              "      <td>0.103897</td>\n",
              "      <td>0.788545</td>\n",
              "      <td>0.446221</td>\n",
              "    </tr>\n",
              "    <tr>\n",
              "      <th>300 (2007)</th>\n",
              "      <td>0.400991</td>\n",
              "      <td>0.772508</td>\n",
              "      <td>0.586749</td>\n",
              "    </tr>\n",
              "    <tr>\n",
              "      <th>Kill Bill: Vol. 2 (2004)</th>\n",
              "      <td>0.059394</td>\n",
              "      <td>0.770443</td>\n",
              "      <td>0.414919</td>\n",
              "    </tr>\n",
              "    <tr>\n",
              "      <th>Sin City (2005)</th>\n",
              "      <td>0.121047</td>\n",
              "      <td>0.769941</td>\n",
              "      <td>0.445494</td>\n",
              "    </tr>\n",
              "    <tr>\n",
              "      <th>Prestige, The (2006)</th>\n",
              "      <td>-0.002827</td>\n",
              "      <td>0.769216</td>\n",
              "      <td>0.383194</td>\n",
              "    </tr>\n",
              "    <tr>\n",
              "      <th>Incredibles, The (2004)</th>\n",
              "      <td>0.028651</td>\n",
              "      <td>0.764918</td>\n",
              "      <td>0.396784</td>\n",
              "    </tr>\n",
              "    <tr>\n",
              "      <th>Lord of the Rings: The Return of the King, The (2003)</th>\n",
              "      <td>0.023330</td>\n",
              "      <td>0.764866</td>\n",
              "      <td>0.394098</td>\n",
              "    </tr>\n",
              "  </tbody>\n",
              "</table>\n",
              "</div>"
            ],
            "text/plain": [
              "                                                     content  ...   average\n",
              "V for Vendetta (2006)                               0.408510  ...  0.618039\n",
              "Dark Knight, The (2008)                             0.211862  ...  0.512726\n",
              "Pirates of the Caribbean: The Curse of the Blac...  0.037230  ...  0.421049\n",
              "Iron Man (2008)                                     0.064718  ...  0.430692\n",
              "Kill Bill: Vol. 1 (2003)                            0.103897  ...  0.446221\n",
              "300 (2007)                                          0.400991  ...  0.586749\n",
              "Kill Bill: Vol. 2 (2004)                            0.059394  ...  0.414919\n",
              "Sin City (2005)                                     0.121047  ...  0.445494\n",
              "Prestige, The (2006)                               -0.002827  ...  0.383194\n",
              "Incredibles, The (2004)                             0.028651  ...  0.396784\n",
              "Lord of the Rings: The Return of the King, The ...  0.023330  ...  0.394098\n",
              "\n",
              "[11 rows x 3 columns]"
            ]
          },
          "metadata": {
            "tags": []
          },
          "execution_count": 167
        }
      ]
    },
    {
      "cell_type": "code",
      "metadata": {
        "colab": {
          "base_uri": "https://localhost:8080/",
          "height": 370
        },
        "id": "oxSZhWLy75uq",
        "outputId": "f7da5b7e-0fd0-4e99-aa68-72432fe50d1f"
      },
      "source": [
        "# sort on basis of average column \n",
        "similar.sort_values('average', ascending=False, inplace=True)\n",
        "\n",
        "similar[1:].head(11)"
      ],
      "execution_count": 168,
      "outputs": [
        {
          "output_type": "execute_result",
          "data": {
            "text/html": [
              "<div>\n",
              "<style scoped>\n",
              "    .dataframe tbody tr th:only-of-type {\n",
              "        vertical-align: middle;\n",
              "    }\n",
              "\n",
              "    .dataframe tbody tr th {\n",
              "        vertical-align: top;\n",
              "    }\n",
              "\n",
              "    .dataframe thead th {\n",
              "        text-align: right;\n",
              "    }\n",
              "</style>\n",
              "<table border=\"1\" class=\"dataframe\">\n",
              "  <thead>\n",
              "    <tr style=\"text-align: right;\">\n",
              "      <th></th>\n",
              "      <th>content</th>\n",
              "      <th>collaborative</th>\n",
              "      <th>average</th>\n",
              "    </tr>\n",
              "  </thead>\n",
              "  <tbody>\n",
              "    <tr>\n",
              "      <th>V for Vendetta (2006)</th>\n",
              "      <td>0.408510</td>\n",
              "      <td>0.827567</td>\n",
              "      <td>0.618039</td>\n",
              "    </tr>\n",
              "    <tr>\n",
              "      <th>300 (2007)</th>\n",
              "      <td>0.400991</td>\n",
              "      <td>0.772508</td>\n",
              "      <td>0.586749</td>\n",
              "    </tr>\n",
              "    <tr>\n",
              "      <th>Matrix Reloaded, The (2003)</th>\n",
              "      <td>0.373040</td>\n",
              "      <td>0.763155</td>\n",
              "      <td>0.568098</td>\n",
              "    </tr>\n",
              "    <tr>\n",
              "      <th>Matrix Revolutions, The (2003)</th>\n",
              "      <td>0.373047</td>\n",
              "      <td>0.728208</td>\n",
              "      <td>0.550627</td>\n",
              "    </tr>\n",
              "    <tr>\n",
              "      <th>Dark Knight, The (2008)</th>\n",
              "      <td>0.211862</td>\n",
              "      <td>0.813589</td>\n",
              "      <td>0.512726</td>\n",
              "    </tr>\n",
              "    <tr>\n",
              "      <th>Watchmen (2009)</th>\n",
              "      <td>0.360753</td>\n",
              "      <td>0.631113</td>\n",
              "      <td>0.495933</td>\n",
              "    </tr>\n",
              "    <tr>\n",
              "      <th>Batman (1989)</th>\n",
              "      <td>0.589502</td>\n",
              "      <td>0.370713</td>\n",
              "      <td>0.480108</td>\n",
              "    </tr>\n",
              "    <tr>\n",
              "      <th>Spider-Man 2 (2004)</th>\n",
              "      <td>0.225390</td>\n",
              "      <td>0.724209</td>\n",
              "      <td>0.474799</td>\n",
              "    </tr>\n",
              "    <tr>\n",
              "      <th>Thor (2011)</th>\n",
              "      <td>0.392844</td>\n",
              "      <td>0.530284</td>\n",
              "      <td>0.461564</td>\n",
              "    </tr>\n",
              "    <tr>\n",
              "      <th>Batman Returns (1992)</th>\n",
              "      <td>0.504782</td>\n",
              "      <td>0.414907</td>\n",
              "      <td>0.459845</td>\n",
              "    </tr>\n",
              "    <tr>\n",
              "      <th>Bourne Supremacy, The (2004)</th>\n",
              "      <td>0.174307</td>\n",
              "      <td>0.741488</td>\n",
              "      <td>0.457898</td>\n",
              "    </tr>\n",
              "  </tbody>\n",
              "</table>\n",
              "</div>"
            ],
            "text/plain": [
              "                                 content  collaborative   average\n",
              "V for Vendetta (2006)           0.408510       0.827567  0.618039\n",
              "300 (2007)                      0.400991       0.772508  0.586749\n",
              "Matrix Reloaded, The (2003)     0.373040       0.763155  0.568098\n",
              "Matrix Revolutions, The (2003)  0.373047       0.728208  0.550627\n",
              "Dark Knight, The (2008)         0.211862       0.813589  0.512726\n",
              "Watchmen (2009)                 0.360753       0.631113  0.495933\n",
              "Batman (1989)                   0.589502       0.370713  0.480108\n",
              "Spider-Man 2 (2004)             0.225390       0.724209  0.474799\n",
              "Thor (2011)                     0.392844       0.530284  0.461564\n",
              "Batman Returns (1992)           0.504782       0.414907  0.459845\n",
              "Bourne Supremacy, The (2004)    0.174307       0.741488  0.457898"
            ]
          },
          "metadata": {
            "tags": []
          },
          "execution_count": 168
        }
      ]
    },
    {
      "cell_type": "markdown",
      "metadata": {
        "id": "OgMhfMwH32D4"
      },
      "source": [
        "## Using Surprise Library"
      ]
    },
    {
      "cell_type": "markdown",
      "metadata": {
        "id": "vm9zZH79u1dV"
      },
      "source": [
        "### Using SVD"
      ]
    },
    {
      "cell_type": "code",
      "metadata": {
        "colab": {
          "base_uri": "https://localhost:8080/",
          "height": 194
        },
        "id": "BEDaTPsB52-8",
        "outputId": "1980d2fc-bff7-4a7c-b5ed-c79578891991"
      },
      "source": [
        "df_rating.head()"
      ],
      "execution_count": 169,
      "outputs": [
        {
          "output_type": "execute_result",
          "data": {
            "text/html": [
              "<div>\n",
              "<style scoped>\n",
              "    .dataframe tbody tr th:only-of-type {\n",
              "        vertical-align: middle;\n",
              "    }\n",
              "\n",
              "    .dataframe tbody tr th {\n",
              "        vertical-align: top;\n",
              "    }\n",
              "\n",
              "    .dataframe thead th {\n",
              "        text-align: right;\n",
              "    }\n",
              "</style>\n",
              "<table border=\"1\" class=\"dataframe\">\n",
              "  <thead>\n",
              "    <tr style=\"text-align: right;\">\n",
              "      <th></th>\n",
              "      <th>userid</th>\n",
              "      <th>movieid</th>\n",
              "      <th>rating</th>\n",
              "      <th>timestamp</th>\n",
              "    </tr>\n",
              "  </thead>\n",
              "  <tbody>\n",
              "    <tr>\n",
              "      <th>0</th>\n",
              "      <td>1</td>\n",
              "      <td>1</td>\n",
              "      <td>4.0</td>\n",
              "      <td>964982703</td>\n",
              "    </tr>\n",
              "    <tr>\n",
              "      <th>1</th>\n",
              "      <td>1</td>\n",
              "      <td>3</td>\n",
              "      <td>4.0</td>\n",
              "      <td>964981247</td>\n",
              "    </tr>\n",
              "    <tr>\n",
              "      <th>2</th>\n",
              "      <td>1</td>\n",
              "      <td>6</td>\n",
              "      <td>4.0</td>\n",
              "      <td>964982224</td>\n",
              "    </tr>\n",
              "    <tr>\n",
              "      <th>3</th>\n",
              "      <td>1</td>\n",
              "      <td>47</td>\n",
              "      <td>5.0</td>\n",
              "      <td>964983815</td>\n",
              "    </tr>\n",
              "    <tr>\n",
              "      <th>4</th>\n",
              "      <td>1</td>\n",
              "      <td>50</td>\n",
              "      <td>5.0</td>\n",
              "      <td>964982931</td>\n",
              "    </tr>\n",
              "  </tbody>\n",
              "</table>\n",
              "</div>"
            ],
            "text/plain": [
              "   userid  movieid  rating  timestamp\n",
              "0       1        1     4.0  964982703\n",
              "1       1        3     4.0  964981247\n",
              "2       1        6     4.0  964982224\n",
              "3       1       47     5.0  964983815\n",
              "4       1       50     5.0  964982931"
            ]
          },
          "metadata": {
            "tags": []
          },
          "execution_count": 169
        }
      ]
    },
    {
      "cell_type": "code",
      "metadata": {
        "colab": {
          "base_uri": "https://localhost:8080/"
        },
        "id": "3zYUAo7D55Ta",
        "outputId": "75a41e55-df95-4cc3-f237-50f6a1ee7508"
      },
      "source": [
        "df_rating.shape"
      ],
      "execution_count": 170,
      "outputs": [
        {
          "output_type": "execute_result",
          "data": {
            "text/plain": [
              "(100836, 4)"
            ]
          },
          "metadata": {
            "tags": []
          },
          "execution_count": 170
        }
      ]
    },
    {
      "cell_type": "code",
      "metadata": {
        "id": "iXzagyizBRa_"
      },
      "source": [
        "reader = Reader()\n",
        "data = Dataset.load_from_df(df_rating[['userid', 'movieid', 'rating']], reader)"
      ],
      "execution_count": 171,
      "outputs": []
    },
    {
      "cell_type": "code",
      "metadata": {
        "id": "XiF24eSSnGZm",
        "colab": {
          "base_uri": "https://localhost:8080/"
        },
        "outputId": "21124d54-a70e-4ea6-fbac-34206bb6520e"
      },
      "source": [
        "data.__dict__['raw_ratings'][:5]"
      ],
      "execution_count": 172,
      "outputs": [
        {
          "output_type": "execute_result",
          "data": {
            "text/plain": [
              "[(1, 1, 4.0, None),\n",
              " (1, 3, 4.0, None),\n",
              " (1, 6, 4.0, None),\n",
              " (1, 47, 5.0, None),\n",
              " (1, 50, 5.0, None)]"
            ]
          },
          "metadata": {
            "tags": []
          },
          "execution_count": 172
        }
      ]
    },
    {
      "cell_type": "code",
      "metadata": {
        "colab": {
          "base_uri": "https://localhost:8080/"
        },
        "id": "mh6o9WT8BRWO",
        "outputId": "2972f17a-e388-438b-cebc-82cb9f706ebc"
      },
      "source": [
        "svd = SVD()         # using SVD\n",
        "cross_validate(svd, data, measures=['RMSE', 'MAE'], cv=5, verbose=True)    # run 5-fold cross-validation and then print results"
      ],
      "execution_count": 173,
      "outputs": [
        {
          "output_type": "stream",
          "text": [
            "Evaluating RMSE, MAE of algorithm SVD on 5 split(s).\n",
            "\n",
            "                  Fold 1  Fold 2  Fold 3  Fold 4  Fold 5  Mean    Std     \n",
            "RMSE (testset)    0.8778  0.8715  0.8569  0.8726  0.8823  0.8722  0.0086  \n",
            "MAE (testset)     0.6743  0.6720  0.6588  0.6692  0.6791  0.6707  0.0068  \n",
            "Fit time          5.01    4.98    4.85    4.92    4.86    4.92    0.06    \n",
            "Test time         0.37    0.16    0.28    0.16    0.40    0.28    0.10    \n"
          ],
          "name": "stdout"
        },
        {
          "output_type": "execute_result",
          "data": {
            "text/plain": [
              "{'fit_time': (5.010252952575684,\n",
              "  4.981172561645508,\n",
              "  4.848177433013916,\n",
              "  4.921552658081055,\n",
              "  4.858302593231201),\n",
              " 'test_mae': array([0.67426376, 0.6719679 , 0.65879056, 0.66924771, 0.67907301]),\n",
              " 'test_rmse': array([0.87784689, 0.87154908, 0.8568863 , 0.87264358, 0.88227499]),\n",
              " 'test_time': (0.3746352195739746,\n",
              "  0.1642894744873047,\n",
              "  0.27777910232543945,\n",
              "  0.16406488418579102,\n",
              "  0.40070533752441406)}"
            ]
          },
          "metadata": {
            "tags": []
          },
          "execution_count": 173
        }
      ]
    },
    {
      "cell_type": "code",
      "metadata": {
        "colab": {
          "base_uri": "https://localhost:8080/"
        },
        "id": "vrkC22WnBRfH",
        "outputId": "78255eb8-0d60-48c1-9aea-51acdef9959b"
      },
      "source": [
        "trainset = data.build_full_trainset()\n",
        "svd.fit(trainset)"
      ],
      "execution_count": 174,
      "outputs": [
        {
          "output_type": "execute_result",
          "data": {
            "text/plain": [
              "<surprise.prediction_algorithms.matrix_factorization.SVD at 0x7f0cda486050>"
            ]
          },
          "metadata": {
            "tags": []
          },
          "execution_count": 174
        }
      ]
    },
    {
      "cell_type": "code",
      "metadata": {
        "colab": {
          "base_uri": "https://localhost:8080/",
          "height": 663
        },
        "id": "EP17edAkgxW-",
        "outputId": "8f610088-02dc-4453-8ebb-08336fc02434"
      },
      "source": [
        "df_rating[df_rating['userid'] == 26]"
      ],
      "execution_count": 175,
      "outputs": [
        {
          "output_type": "execute_result",
          "data": {
            "text/html": [
              "<div>\n",
              "<style scoped>\n",
              "    .dataframe tbody tr th:only-of-type {\n",
              "        vertical-align: middle;\n",
              "    }\n",
              "\n",
              "    .dataframe tbody tr th {\n",
              "        vertical-align: top;\n",
              "    }\n",
              "\n",
              "    .dataframe thead th {\n",
              "        text-align: right;\n",
              "    }\n",
              "</style>\n",
              "<table border=\"1\" class=\"dataframe\">\n",
              "  <thead>\n",
              "    <tr style=\"text-align: right;\">\n",
              "      <th></th>\n",
              "      <th>userid</th>\n",
              "      <th>movieid</th>\n",
              "      <th>rating</th>\n",
              "      <th>timestamp</th>\n",
              "    </tr>\n",
              "  </thead>\n",
              "  <tbody>\n",
              "    <tr>\n",
              "      <th>4038</th>\n",
              "      <td>26</td>\n",
              "      <td>10</td>\n",
              "      <td>3.0</td>\n",
              "      <td>836950403</td>\n",
              "    </tr>\n",
              "    <tr>\n",
              "      <th>4039</th>\n",
              "      <td>26</td>\n",
              "      <td>34</td>\n",
              "      <td>3.0</td>\n",
              "      <td>836950483</td>\n",
              "    </tr>\n",
              "    <tr>\n",
              "      <th>4040</th>\n",
              "      <td>26</td>\n",
              "      <td>47</td>\n",
              "      <td>4.0</td>\n",
              "      <td>836950431</td>\n",
              "    </tr>\n",
              "    <tr>\n",
              "      <th>4041</th>\n",
              "      <td>26</td>\n",
              "      <td>150</td>\n",
              "      <td>3.0</td>\n",
              "      <td>836950245</td>\n",
              "    </tr>\n",
              "    <tr>\n",
              "      <th>4042</th>\n",
              "      <td>26</td>\n",
              "      <td>153</td>\n",
              "      <td>3.0</td>\n",
              "      <td>836950286</td>\n",
              "    </tr>\n",
              "    <tr>\n",
              "      <th>4043</th>\n",
              "      <td>26</td>\n",
              "      <td>165</td>\n",
              "      <td>4.0</td>\n",
              "      <td>836950286</td>\n",
              "    </tr>\n",
              "    <tr>\n",
              "      <th>4044</th>\n",
              "      <td>26</td>\n",
              "      <td>185</td>\n",
              "      <td>3.0</td>\n",
              "      <td>836950403</td>\n",
              "    </tr>\n",
              "    <tr>\n",
              "      <th>4045</th>\n",
              "      <td>26</td>\n",
              "      <td>208</td>\n",
              "      <td>2.0</td>\n",
              "      <td>836950403</td>\n",
              "    </tr>\n",
              "    <tr>\n",
              "      <th>4046</th>\n",
              "      <td>26</td>\n",
              "      <td>225</td>\n",
              "      <td>3.0</td>\n",
              "      <td>836950483</td>\n",
              "    </tr>\n",
              "    <tr>\n",
              "      <th>4047</th>\n",
              "      <td>26</td>\n",
              "      <td>288</td>\n",
              "      <td>3.0</td>\n",
              "      <td>836950431</td>\n",
              "    </tr>\n",
              "    <tr>\n",
              "      <th>4048</th>\n",
              "      <td>26</td>\n",
              "      <td>296</td>\n",
              "      <td>4.0</td>\n",
              "      <td>836950245</td>\n",
              "    </tr>\n",
              "    <tr>\n",
              "      <th>4049</th>\n",
              "      <td>26</td>\n",
              "      <td>300</td>\n",
              "      <td>3.0</td>\n",
              "      <td>836950431</td>\n",
              "    </tr>\n",
              "    <tr>\n",
              "      <th>4050</th>\n",
              "      <td>26</td>\n",
              "      <td>344</td>\n",
              "      <td>3.0</td>\n",
              "      <td>836950286</td>\n",
              "    </tr>\n",
              "    <tr>\n",
              "      <th>4051</th>\n",
              "      <td>26</td>\n",
              "      <td>349</td>\n",
              "      <td>3.0</td>\n",
              "      <td>836950286</td>\n",
              "    </tr>\n",
              "    <tr>\n",
              "      <th>4052</th>\n",
              "      <td>26</td>\n",
              "      <td>356</td>\n",
              "      <td>3.0</td>\n",
              "      <td>836950483</td>\n",
              "    </tr>\n",
              "    <tr>\n",
              "      <th>4053</th>\n",
              "      <td>26</td>\n",
              "      <td>380</td>\n",
              "      <td>3.0</td>\n",
              "      <td>836950245</td>\n",
              "    </tr>\n",
              "    <tr>\n",
              "      <th>4054</th>\n",
              "      <td>26</td>\n",
              "      <td>434</td>\n",
              "      <td>2.0</td>\n",
              "      <td>836950379</td>\n",
              "    </tr>\n",
              "    <tr>\n",
              "      <th>4055</th>\n",
              "      <td>26</td>\n",
              "      <td>454</td>\n",
              "      <td>4.0</td>\n",
              "      <td>836950483</td>\n",
              "    </tr>\n",
              "    <tr>\n",
              "      <th>4056</th>\n",
              "      <td>26</td>\n",
              "      <td>457</td>\n",
              "      <td>4.0</td>\n",
              "      <td>836950379</td>\n",
              "    </tr>\n",
              "    <tr>\n",
              "      <th>4057</th>\n",
              "      <td>26</td>\n",
              "      <td>592</td>\n",
              "      <td>4.0</td>\n",
              "      <td>836950245</td>\n",
              "    </tr>\n",
              "    <tr>\n",
              "      <th>4058</th>\n",
              "      <td>26</td>\n",
              "      <td>593</td>\n",
              "      <td>4.0</td>\n",
              "      <td>836950379</td>\n",
              "    </tr>\n",
              "  </tbody>\n",
              "</table>\n",
              "</div>"
            ],
            "text/plain": [
              "      userid  movieid  rating  timestamp\n",
              "4038      26       10     3.0  836950403\n",
              "4039      26       34     3.0  836950483\n",
              "4040      26       47     4.0  836950431\n",
              "4041      26      150     3.0  836950245\n",
              "4042      26      153     3.0  836950286\n",
              "4043      26      165     4.0  836950286\n",
              "4044      26      185     3.0  836950403\n",
              "4045      26      208     2.0  836950403\n",
              "4046      26      225     3.0  836950483\n",
              "4047      26      288     3.0  836950431\n",
              "4048      26      296     4.0  836950245\n",
              "4049      26      300     3.0  836950431\n",
              "4050      26      344     3.0  836950286\n",
              "4051      26      349     3.0  836950286\n",
              "4052      26      356     3.0  836950483\n",
              "4053      26      380     3.0  836950245\n",
              "4054      26      434     2.0  836950379\n",
              "4055      26      454     4.0  836950483\n",
              "4056      26      457     4.0  836950379\n",
              "4057      26      592     4.0  836950245\n",
              "4058      26      593     4.0  836950379"
            ]
          },
          "metadata": {
            "tags": []
          },
          "execution_count": 175
        }
      ]
    },
    {
      "cell_type": "code",
      "metadata": {
        "colab": {
          "base_uri": "https://localhost:8080/"
        },
        "id": "Y7Kk_bSrg7T-",
        "outputId": "51de0bec-e2d0-4b64-ac89-ca48b1a9204a"
      },
      "source": [
        "# checking predition for movieid 400 by giving userid, movieid\n",
        "\n",
        "svd.predict(26, 400)        "
      ],
      "execution_count": 176,
      "outputs": [
        {
          "output_type": "execute_result",
          "data": {
            "text/plain": [
              "Prediction(uid=26, iid=400, r_ui=None, est=3.251065197676609, details={'was_impossible': False})"
            ]
          },
          "metadata": {
            "tags": []
          },
          "execution_count": 176
        }
      ]
    },
    {
      "cell_type": "markdown",
      "metadata": {
        "id": "9-OgQ5NA3-2u"
      },
      "source": [
        "SVD gives predition of 3.23 by user 26 for movieid 400."
      ]
    },
    {
      "cell_type": "markdown",
      "metadata": {
        "id": "iVZAL2Ea4Y2b"
      },
      "source": [
        "### Using KNN Basic"
      ]
    },
    {
      "cell_type": "code",
      "metadata": {
        "colab": {
          "base_uri": "https://localhost:8080/"
        },
        "id": "MFQ5vJmKklFw",
        "outputId": "39dbe9ac-c302-4902-8322-90793c2299f9"
      },
      "source": [
        "knn = KNNBasic()         # using KNN Basic\n",
        "cross_validate(knn, data, measures=['RMSE', 'MAE'], cv=5, verbose=True)    # run 5-fold cross-validation and then print results"
      ],
      "execution_count": 177,
      "outputs": [
        {
          "output_type": "stream",
          "text": [
            "Computing the msd similarity matrix...\n",
            "Done computing similarity matrix.\n",
            "Computing the msd similarity matrix...\n",
            "Done computing similarity matrix.\n",
            "Computing the msd similarity matrix...\n",
            "Done computing similarity matrix.\n",
            "Computing the msd similarity matrix...\n",
            "Done computing similarity matrix.\n",
            "Computing the msd similarity matrix...\n",
            "Done computing similarity matrix.\n",
            "Evaluating RMSE, MAE of algorithm KNNBasic on 5 split(s).\n",
            "\n",
            "                  Fold 1  Fold 2  Fold 3  Fold 4  Fold 5  Mean    Std     \n",
            "RMSE (testset)    0.9486  0.9502  0.9374  0.9452  0.9509  0.9464  0.0049  \n",
            "MAE (testset)     0.7270  0.7292  0.7191  0.7231  0.7299  0.7257  0.0041  \n",
            "Fit time          0.11    0.15    0.15    0.19    0.15    0.15    0.03    \n",
            "Test time         1.60    2.00    1.66    1.86    1.59    1.74    0.16    \n"
          ],
          "name": "stdout"
        },
        {
          "output_type": "execute_result",
          "data": {
            "text/plain": [
              "{'fit_time': (0.10540032386779785,\n",
              "  0.14530515670776367,\n",
              "  0.15422534942626953,\n",
              "  0.18900823593139648,\n",
              "  0.14513278007507324),\n",
              " 'test_mae': array([0.72700265, 0.7292376 , 0.71907286, 0.72310429, 0.72993288]),\n",
              " 'test_rmse': array([0.94856239, 0.95016861, 0.93737474, 0.94516794, 0.95087616]),\n",
              " 'test_time': (1.6029789447784424,\n",
              "  2.0039079189300537,\n",
              "  1.6581122875213623,\n",
              "  1.8563079833984375,\n",
              "  1.586005687713623)}"
            ]
          },
          "metadata": {
            "tags": []
          },
          "execution_count": 177
        }
      ]
    },
    {
      "cell_type": "code",
      "metadata": {
        "colab": {
          "base_uri": "https://localhost:8080/"
        },
        "id": "85JLPiAjkxzK",
        "outputId": "f69ce9ad-3dcf-49d1-9812-10dea6822a72"
      },
      "source": [
        "trainset = data.build_full_trainset()\n",
        "knn.fit(trainset)"
      ],
      "execution_count": 178,
      "outputs": [
        {
          "output_type": "stream",
          "text": [
            "Computing the msd similarity matrix...\n",
            "Done computing similarity matrix.\n"
          ],
          "name": "stdout"
        },
        {
          "output_type": "execute_result",
          "data": {
            "text/plain": [
              "<surprise.prediction_algorithms.knns.KNNBasic at 0x7f0cda440b90>"
            ]
          },
          "metadata": {
            "tags": []
          },
          "execution_count": 178
        }
      ]
    },
    {
      "cell_type": "code",
      "metadata": {
        "colab": {
          "base_uri": "https://localhost:8080/"
        },
        "id": "-TKne-lwk3iN",
        "outputId": "201fe744-7696-47f6-8ed1-725ec9283f51"
      },
      "source": [
        "knn.predict(26, 400)"
      ],
      "execution_count": 179,
      "outputs": [
        {
          "output_type": "execute_result",
          "data": {
            "text/plain": [
              "Prediction(uid=26, iid=400, r_ui=None, est=3.501556983616962, details={'was_impossible': True, 'reason': 'User and/or item is unknown.'})"
            ]
          },
          "metadata": {
            "tags": []
          },
          "execution_count": 179
        }
      ]
    },
    {
      "cell_type": "markdown",
      "metadata": {
        "id": "qJ40sOG34h3I"
      },
      "source": [
        "KNN Basic gives predition of 3.50 by user 26 for movieid 400."
      ]
    },
    {
      "cell_type": "markdown",
      "metadata": {
        "id": "kxAgsN-w4oRM"
      },
      "source": [
        "### Using NMF"
      ]
    },
    {
      "cell_type": "code",
      "metadata": {
        "colab": {
          "base_uri": "https://localhost:8080/"
        },
        "id": "bKZkcxNyldvy",
        "outputId": "5237e0f0-8b11-4496-ce74-ad7469c4fb61"
      },
      "source": [
        "nmf = NMF()         # using NMF\n",
        "cross_validate(nmf, data, measures=['RMSE', 'MAE'], cv=5, verbose=True)    # run 5-fold cross-validation and then print results"
      ],
      "execution_count": 180,
      "outputs": [
        {
          "output_type": "stream",
          "text": [
            "Evaluating RMSE, MAE of algorithm NMF on 5 split(s).\n",
            "\n",
            "                  Fold 1  Fold 2  Fold 3  Fold 4  Fold 5  Mean    Std     \n",
            "RMSE (testset)    0.9259  0.9131  0.9130  0.9223  0.9240  0.9197  0.0055  \n",
            "MAE (testset)     0.7101  0.6986  0.7003  0.7083  0.7105  0.7056  0.0051  \n",
            "Fit time          6.40    6.86    6.60    6.74    6.59    6.64    0.15    \n",
            "Test time         0.16    0.17    0.16    0.15    0.27    0.18    0.05    \n"
          ],
          "name": "stdout"
        },
        {
          "output_type": "execute_result",
          "data": {
            "text/plain": [
              "{'fit_time': (6.402575254440308,\n",
              "  6.858999967575073,\n",
              "  6.60153341293335,\n",
              "  6.744157075881958,\n",
              "  6.585355281829834),\n",
              " 'test_mae': array([0.71007688, 0.69855478, 0.70034495, 0.70829086, 0.71053343]),\n",
              " 'test_rmse': array([0.92593219, 0.91309808, 0.91300488, 0.92234615, 0.92398129]),\n",
              " 'test_time': (0.1611018180847168,\n",
              "  0.1686556339263916,\n",
              "  0.1596510410308838,\n",
              "  0.146193265914917,\n",
              "  0.2743499279022217)}"
            ]
          },
          "metadata": {
            "tags": []
          },
          "execution_count": 180
        }
      ]
    },
    {
      "cell_type": "code",
      "metadata": {
        "colab": {
          "base_uri": "https://localhost:8080/"
        },
        "id": "EFkFrUHGldv2",
        "outputId": "374fe166-1a9a-4c55-804f-b075a3e7a095"
      },
      "source": [
        "trainset = data.build_full_trainset()\n",
        "nmf.fit(trainset)"
      ],
      "execution_count": 181,
      "outputs": [
        {
          "output_type": "execute_result",
          "data": {
            "text/plain": [
              "<surprise.prediction_algorithms.matrix_factorization.NMF at 0x7f0cda493950>"
            ]
          },
          "metadata": {
            "tags": []
          },
          "execution_count": 181
        }
      ]
    },
    {
      "cell_type": "code",
      "metadata": {
        "colab": {
          "base_uri": "https://localhost:8080/"
        },
        "id": "VDtnL02Yldv4",
        "outputId": "eee0af8b-38ad-48c0-8ba5-bbd738cea37f"
      },
      "source": [
        "nmf.predict(26, 400)"
      ],
      "execution_count": 182,
      "outputs": [
        {
          "output_type": "execute_result",
          "data": {
            "text/plain": [
              "Prediction(uid=26, iid=400, r_ui=None, est=3.501556983616962, details={'was_impossible': True, 'reason': 'User and item are unknown.'})"
            ]
          },
          "metadata": {
            "tags": []
          },
          "execution_count": 182
        }
      ]
    },
    {
      "cell_type": "markdown",
      "metadata": {
        "id": "SRz0Nq-t4xzs"
      },
      "source": [
        "NMF gives predition of 3.50 by user 26 for movieid 400."
      ]
    },
    {
      "cell_type": "markdown",
      "metadata": {
        "id": "ArlB0cvN6yOH"
      },
      "source": [
        "### Using KNN Basic to get recommendations"
      ]
    },
    {
      "cell_type": "code",
      "metadata": {
        "colab": {
          "base_uri": "https://localhost:8080/"
        },
        "id": "bjytdune6KMl",
        "outputId": "bb6953e6-e6b6-43e9-adfd-5bbef75a20db"
      },
      "source": [
        "len(data.__dict__['raw_ratings'])"
      ],
      "execution_count": 183,
      "outputs": [
        {
          "output_type": "execute_result",
          "data": {
            "text/plain": [
              "100836"
            ]
          },
          "metadata": {
            "tags": []
          },
          "execution_count": 183
        }
      ]
    },
    {
      "cell_type": "code",
      "metadata": {
        "colab": {
          "base_uri": "https://localhost:8080/"
        },
        "id": "8fObi2FTnGhH",
        "outputId": "1f3e8b7c-8b5d-4758-dd31-28fc18509ae3"
      },
      "source": [
        "train_ratings, test_ratings = train_test_split(data, test_size=0.2)\n",
        "print(\"Size of trainset: \", train_ratings.n_ratings)\n",
        "print(\"Size of testset: \", len(test_ratings))"
      ],
      "execution_count": 184,
      "outputs": [
        {
          "output_type": "stream",
          "text": [
            "Size of trainset:  80668\n",
            "Size of testset:  20168\n"
          ],
          "name": "stdout"
        }
      ]
    },
    {
      "cell_type": "code",
      "metadata": {
        "colab": {
          "base_uri": "https://localhost:8080/"
        },
        "id": "NoxyaReznWDi",
        "outputId": "e5c69f01-0b9f-4f3c-fe0d-7f80b44eb7a2"
      },
      "source": [
        "knn.fit(train_ratings)"
      ],
      "execution_count": 185,
      "outputs": [
        {
          "output_type": "stream",
          "text": [
            "Computing the msd similarity matrix...\n",
            "Done computing similarity matrix.\n"
          ],
          "name": "stdout"
        },
        {
          "output_type": "execute_result",
          "data": {
            "text/plain": [
              "<surprise.prediction_algorithms.knns.KNNBasic at 0x7f0cda440b90>"
            ]
          },
          "metadata": {
            "tags": []
          },
          "execution_count": 185
        }
      ]
    },
    {
      "cell_type": "code",
      "metadata": {
        "colab": {
          "base_uri": "https://localhost:8080/"
        },
        "id": "yyVNNX42oE8d",
        "outputId": "abad6b3e-e4a3-4902-e646-c04e973b7005"
      },
      "source": [
        "train_predictions = knn.test(train_ratings.build_testset())\n",
        "test_predictions = knn.test(test_ratings)\n",
        "\n",
        "print(\"RMSE on training data : \", accuracy.rmse(train_predictions, verbose = False))\n",
        "print(\"RMSE on test data: \", accuracy.rmse(test_predictions, verbose = False))"
      ],
      "execution_count": 186,
      "outputs": [
        {
          "output_type": "stream",
          "text": [
            "RMSE on training data :  0.7131881055805687\n",
            "RMSE on test data:  0.9383635589976073\n"
          ],
          "name": "stdout"
        }
      ]
    },
    {
      "cell_type": "code",
      "metadata": {
        "colab": {
          "base_uri": "https://localhost:8080/"
        },
        "id": "-57NhDcepDad",
        "outputId": "8bb9ad7f-c798-4697-b5aa-80909904f9ae"
      },
      "source": [
        "train_predictions[:5]"
      ],
      "execution_count": 187,
      "outputs": [
        {
          "output_type": "execute_result",
          "data": {
            "text/plain": [
              "[Prediction(uid=338, iid=122916, r_ui=1.0, est=3.2157150270969246, details={'actual_k': 14, 'was_impossible': False}),\n",
              " Prediction(uid=338, iid=175569, r_ui=1.5, est=2.574148002465729, details={'actual_k': 4, 'was_impossible': False}),\n",
              " Prediction(uid=338, iid=177593, r_ui=5.0, est=4.752227921173553, details={'actual_k': 6, 'was_impossible': False}),\n",
              " Prediction(uid=338, iid=174053, r_ui=5.0, est=4.999999999999999, details={'actual_k': 3, 'was_impossible': False}),\n",
              " Prediction(uid=338, iid=8784, r_ui=4.0, est=3.7789590434475797, details={'actual_k': 39, 'was_impossible': False})]"
            ]
          },
          "metadata": {
            "tags": []
          },
          "execution_count": 187
        }
      ]
    },
    {
      "cell_type": "code",
      "metadata": {
        "colab": {
          "base_uri": "https://localhost:8080/"
        },
        "id": "VZntxgAio9Jf",
        "outputId": "28fe1fcb-2eea-472b-d703-de3699a7b60a"
      },
      "source": [
        "test_predictions[:5]"
      ],
      "execution_count": 188,
      "outputs": [
        {
          "output_type": "execute_result",
          "data": {
            "text/plain": [
              "[Prediction(uid=599, iid=610, r_ui=3.5, est=3.4382133104674084, details={'actual_k': 29, 'was_impossible': False}),\n",
              " Prediction(uid=247, iid=5618, r_ui=3.5, est=4.258636177227405, details={'actual_k': 40, 'was_impossible': False}),\n",
              " Prediction(uid=603, iid=3521, r_ui=4.0, est=3.5163250944137414, details={'actual_k': 5, 'was_impossible': False}),\n",
              " Prediction(uid=448, iid=134859, r_ui=3.5, est=3.5002479297862847, details={'was_impossible': True, 'reason': 'User and/or item is unknown.'}),\n",
              " Prediction(uid=23, iid=1274, r_ui=4.0, est=3.7293247833942202, details={'actual_k': 29, 'was_impossible': False})]"
            ]
          },
          "metadata": {
            "tags": []
          },
          "execution_count": 188
        }
      ]
    },
    {
      "cell_type": "code",
      "metadata": {
        "colab": {
          "base_uri": "https://localhost:8080/"
        },
        "id": "iZKrzST1o1uK",
        "outputId": "081b1cf5-66f1-451c-fc46-694e4a088184"
      },
      "source": [
        "def top5movies(userid, predictions, n=5):\n",
        "    predict_ratings = {}\n",
        "    \n",
        "    for uid, iid, r_ui, est, _ in predictions:          # loop for getting predictions for the user\n",
        "        if (uid==userid):\n",
        "            predict_ratings[iid] = est\n",
        "    predict_ratings = sorted(predict_ratings.items(), key=lambda kv: kv[1], reverse=True)[:n]       # return tuples of (movieid, predicted rating)\n",
        "    top_movies = [i[0] for i in predict_ratings]          # return list of movieids\n",
        "    top_movies = [str(i) for i in top_movies]             # return list of movieids as string\n",
        "    print('Recommended movies for user {} :'.format(userid))\n",
        "    print()\n",
        "    print(df_movies[df_movies['movieid'].isin(top_movies)]['title'].to_string(index=False))\n",
        "\n",
        "top5movies(450, test_predictions)"
      ],
      "execution_count": 189,
      "outputs": [
        {
          "output_type": "stream",
          "text": [
            "Recommended movies for user 450 :\n",
            "\n",
            "                      Braveheart (1995)\n",
            "                     Taxi Driver (1976)\n",
            "              North by Northwest (1959)\n",
            " One Flew Over the Cuckoo's Nest (1975)\n",
            "             Saving Private Ryan (1998)\n"
          ],
          "name": "stdout"
        }
      ]
    },
    {
      "cell_type": "markdown",
      "metadata": {
        "id": "8FAjmGog-I-7"
      },
      "source": [
        "Recommending top 5 movies for user 400, after getting its predicted ratings based on other users."
      ]
    }
  ]
}